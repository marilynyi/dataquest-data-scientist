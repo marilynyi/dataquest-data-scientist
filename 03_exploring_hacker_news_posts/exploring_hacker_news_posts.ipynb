{
 "cells": [
  {
   "cell_type": "markdown",
   "id": "b0780ba3",
   "metadata": {},
   "source": [
    "# Exploring Hacker News Posts"
   ]
  },
  {
   "cell_type": "markdown",
   "id": "38d0a4b1",
   "metadata": {},
   "source": [
    "**Scenario**: Hacker News is a popular site in technology and startup circles where user-submitted stories in the form of \"posts\" receive votes and comments, similar to reddit. We've received a downsampled dataset with approximately 20,000 rows.\n",
    "\n",
    "The descriptions of the columns are:\n",
    "\n",
    "- `id`: the unique identifier from Hacker News for the post\n",
    "- `title`: the title of the post\n",
    "- `url`: the URL that the posts links to, if the post has a URL\n",
    "- `num_points`: the number of points the post acquired, calculated as the total number of upvotes minus the total number of downvotes\n",
    "- `num_comments`: the number of comments on the post\n",
    "- `author`: the username of the person who submitted the post\n",
    "- `created_at`: the date and time of the post's submission\n",
    "\n",
    "We're specifically interested in posts with titles that begin with either `Ask HN` or `Show HN`. Users submit `Ask HN` posts to ask the Hacker News community a specific question. Likewise, users submit `Show HN` posts to show the Hacker News community a project, product, or just something interesting."
   ]
  },
  {
   "cell_type": "markdown",
   "id": "0fa2810e",
   "metadata": {},
   "source": [
    "**Goal**: We want to compare the two types of posts to answer the following questions.\n",
    "- Do `Ask HN` or `Show HN` receive more comments on average?\n",
    "- Do posts created at a certain time receive more comments on average?"
   ]
  },
  {
   "cell_type": "markdown",
   "id": "6bd59633",
   "metadata": {},
   "source": [
    "**Summary of Results:**\n",
    "- `Ask HN` posts receive more comments on average (14.04 comments) than `Show HN` posts (10.32 comments).\n",
    "- Evaluating the hours of activity for all types of posts and Hacker News in general, the afternoon, namely 2-3 PM, is the most optimal time to create a post in order to attract the most number of comments."
   ]
  },
  {
   "cell_type": "markdown",
   "id": "29d80c57",
   "metadata": {},
   "source": [
    "## **Table of Contents**\n",
    "- [Import the data](#Importing-the-data)\n",
    "- [Remove headers from data](#Remove-headers-from-data)\n",
    "- [Extract Ask HN and Show HN posts](#Extract-Ask-HN-and-Show-HN-posts)\n",
    "- [Calculate average number of comments for Ask HN and Show HN posts](#Calculate-average-number-of-comments-for-Ask-HN-and-Show-HN-posts)\n",
    "- [Find the number of Ask HN posts and comments by hour created](#Find-the-number-of-Ask-HN-posts-and-comments-by-hour-created)\n",
    "- [Calculate the average number of comments for Ask HN posts by hour](#Calculate-the-average-number-of-comments-for-Ask-HN-posts-by-hour)\n",
    "- [Visualize average number of comments in Ask HN posts by hour](#Visualize-average-number-of-comments-in-Ask-HN-posts-by-hour) \n",
    "- [Visualize average number of comments in Show HN posts by hour](#Visualize-average-number-of-comments-in-Show-HN-posts-by-hour) \n",
    "- [Visualize average number of comments in Other HN posts by hour](#Visualize-average-number-of-comments-in-Other-HN-posts-by-hour) \n",
    "- [Conclusion](#Conclusion)"
   ]
  },
  {
   "cell_type": "markdown",
   "id": "bfcda846",
   "metadata": {},
   "source": [
    "## Import the data"
   ]
  },
  {
   "cell_type": "markdown",
   "id": "c86cc7f6",
   "metadata": {},
   "source": [
    "We read the `hacker_news.csv` file into this note as a list."
   ]
  },
  {
   "cell_type": "code",
   "execution_count": 1,
   "id": "034b7e65",
   "metadata": {},
   "outputs": [],
   "source": [
    "from csv import reader\n",
    "from pprint import pprint\n",
    "opened_file = open(\"hacker_news.csv\")\n",
    "read_file = reader(opened_file)\n",
    "hn = list(read_file)"
   ]
  },
  {
   "cell_type": "markdown",
   "id": "9b21b87e",
   "metadata": {},
   "source": [
    "## Remove headers from data"
   ]
  },
  {
   "cell_type": "markdown",
   "id": "09e3f0b8",
   "metadata": {},
   "source": [
    "The data header is separated as its own list in a variable called `hn_headers` while the rest of the data is instantiated in the variable `hn`.\n",
    "\n",
    "We print `hn_headers` and `hn` to view the contents of the data header and the first 5 rows of the data, respectively. To shorten the code, list comprehension is used instead of a `for` loop."
   ]
  },
  {
   "cell_type": "markdown",
   "id": "6995bdf3",
   "metadata": {},
   "source": [
    "For ease in analysis, the list of header titles and their corresponding indices are listed below.\n",
    "| Header | Index |\n",
    "|:--     | :--   |\n",
    "| `id` | 0 |\n",
    "| `title` | 1 |\n",
    "| `url` | 2 |\n",
    "| `num_points` | 3 |\n",
    "| `num_comments` | 4 |\n",
    "| `author` | 5 |\n",
    "| `created_at` | 6 |"
   ]
  },
  {
   "cell_type": "code",
   "execution_count": 2,
   "id": "019bb551",
   "metadata": {},
   "outputs": [
    {
     "name": "stdout",
     "output_type": "stream",
     "text": [
      "['id', 'title', 'url', 'num_points', 'num_comments', 'author', 'created_at']\n",
      "\n",
      "\n",
      "['12224879', 'Interactive Dynamic Video', 'http://www.interactivedynamicvideo.com/', '386', '52', 'ne0phyte', '8/4/2016 11:52']\n",
      "['10975351', 'How to Use Open Source and Shut the Fuck Up at the Same Time', 'http://hueniverse.com/2016/01/26/how-to-use-open-source-and-shut-the-fuck-up-at-the-same-time/', '39', '10', 'josep2', '1/26/2016 19:30']\n",
      "['11964716', \"Florida DJs May Face Felony for April Fools' Water Joke\", 'http://www.thewire.com/entertainment/2013/04/florida-djs-april-fools-water-joke/63798/', '2', '1', 'vezycash', '6/23/2016 22:20']\n",
      "['11919867', 'Technology ventures: From Idea to Enterprise', 'https://www.amazon.com/Technology-Ventures-Enterprise-Thomas-Byers/dp/0073523429', '3', '1', 'hswarna', '6/17/2016 0:01']\n",
      "['10301696', 'Note by Note: The Making of Steinway L1037 (2007)', 'http://www.nytimes.com/2007/11/07/movies/07stein.html?_r=0', '8', '2', 'walterbell', '9/30/2015 4:12']\n"
     ]
    }
   ],
   "source": [
    "hn_headers = hn[0]\n",
    "hn = hn[1:]\n",
    "\n",
    "print(hn_headers)\n",
    "print(\"\\n\")\n",
    "print(*hn[:5], sep=\"\\n\")"
   ]
  },
  {
   "cell_type": "markdown",
   "id": "46cf721a",
   "metadata": {},
   "source": [
    "## Extract Ask HN and Show HN posts"
   ]
  },
  {
   "cell_type": "markdown",
   "id": "5a99e6d7",
   "metadata": {},
   "source": [
    "Since there are three different categories of posts for our purpose of this analysis, namely `Ask HN`, `Show HN`, and `Other`, we aim to house them in three separate lists. `Ask HN` and `Show HN` posts will have titles that start with those words so we extract these posts using the `.startswith()` string method. To account for capitalization variations that users may make, we convert the titles into lowercase using the `.lower()` function."
   ]
  },
  {
   "cell_type": "code",
   "execution_count": 3,
   "id": "86133c78",
   "metadata": {},
   "outputs": [],
   "source": [
    "ask_hn = []\n",
    "show_hn = []\n",
    "other_hn = []\n",
    "\n",
    "for post in hn:\n",
    "    title = post[1]\n",
    "    if title.lower().startswith(\"ask hn\"):\n",
    "        ask_hn.append(post)\n",
    "    elif title.lower().startswith(\"show hn\"):\n",
    "        show_hn.append(post)\n",
    "    else:\n",
    "        other_hn.append(post)"
   ]
  },
  {
   "cell_type": "markdown",
   "id": "a3c0b5e6",
   "metadata": {},
   "source": [
    "Below we see a sample of each of the three lists that have been created."
   ]
  },
  {
   "cell_type": "code",
   "execution_count": 4,
   "id": "145d6373",
   "metadata": {},
   "outputs": [
    {
     "name": "stdout",
     "output_type": "stream",
     "text": [
      "Ask HN sample posts:\n",
      "['12296411', 'Ask HN: How to improve my personal website?', '', '2', '6', 'ahmedbaracat', '8/16/2016 9:55']\n",
      "['10610020', 'Ask HN: Am I the only one outraged by Twitter shutting down share counts?', '', '28', '29', 'tkfx', '11/22/2015 13:43']\n",
      "['11610310', 'Ask HN: Aby recent changes to CSS that broke mobile?', '', '1', '1', 'polskibus', '5/2/2016 10:14']\n",
      "\n",
      "Show HN sample posts:\n",
      "['10627194', 'Show HN: Wio Link  ESP8266 Based Web of Things Hardware Development Platform', 'https://iot.seeed.cc', '26', '22', 'kfihihc', '11/25/2015 14:03']\n",
      "['10646440', 'Show HN: Something pointless I made', 'http://dn.ht/picklecat/', '747', '102', 'dhotson', '11/29/2015 22:46']\n",
      "['11590768', 'Show HN: Shanhu.io, a programming playground powered by e8vm', 'https://shanhu.io', '1', '1', 'h8liu', '4/28/2016 18:05']\n",
      "\n",
      "Other HN sample posts:\n",
      "['12224879', 'Interactive Dynamic Video', 'http://www.interactivedynamicvideo.com/', '386', '52', 'ne0phyte', '8/4/2016 11:52']\n",
      "['10975351', 'How to Use Open Source and Shut the Fuck Up at the Same Time', 'http://hueniverse.com/2016/01/26/how-to-use-open-source-and-shut-the-fuck-up-at-the-same-time/', '39', '10', 'josep2', '1/26/2016 19:30']\n",
      "['11964716', \"Florida DJs May Face Felony for April Fools' Water Joke\", 'http://www.thewire.com/entertainment/2013/04/florida-djs-april-fools-water-joke/63798/', '2', '1', 'vezycash', '6/23/2016 22:20']\n"
     ]
    }
   ],
   "source": [
    "print(\"Ask HN sample posts:\")\n",
    "print(*ask_hn[:3], sep=\"\\n\")\n",
    "print(\"\\nShow HN sample posts:\")\n",
    "print(*show_hn[:3], sep=\"\\n\")\n",
    "print(\"\\nOther HN sample posts:\")\n",
    "print(*other_hn[:3], sep=\"\\n\")"
   ]
  },
  {
   "cell_type": "markdown",
   "id": "5d2f25e3",
   "metadata": {},
   "source": [
    "The `len` function is used on each of the `ask_hn`, `show_hn` and `other_hn` lists to get the number of posts for each category."
   ]
  },
  {
   "cell_type": "code",
   "execution_count": 5,
   "id": "de4da030",
   "metadata": {},
   "outputs": [
    {
     "name": "stdout",
     "output_type": "stream",
     "text": [
      "Number of Ask HN posts: 1,744\n",
      "Number of Show HN posts: 1,162\n",
      "Number of Other HN posts: 17,194\n"
     ]
    }
   ],
   "source": [
    "print(f\"Number of Ask HN posts: {len(ask_hn):,}\")\n",
    "print(f\"Number of Show HN posts: {len(show_hn):,}\")\n",
    "print(f\"Number of Other HN posts: {len(other_hn):,}\")"
   ]
  },
  {
   "cell_type": "markdown",
   "id": "377fc8de",
   "metadata": {},
   "source": [
    "## Calculate average number of comments for Ask HN and Show HN posts"
   ]
  },
  {
   "cell_type": "markdown",
   "id": "7b4faa59",
   "metadata": {},
   "source": [
    "We create a function to calculate the average number of comments for a particular category in the dataset, whether that is `Ask HN` or `Show HN`. "
   ]
  },
  {
   "cell_type": "code",
   "execution_count": 6,
   "id": "868a5ef2",
   "metadata": {},
   "outputs": [],
   "source": [
    "def avg_comment_tot(dataset):\n",
    "    comment_tot = 0\n",
    "    \n",
    "    for row in dataset:\n",
    "        comment = int(row[4])\n",
    "        comment_tot += comment\n",
    "\n",
    "    avg_comment_tot = comment_tot/len(dataset)\n",
    "    return round(avg_comment_tot, 2)"
   ]
  },
  {
   "cell_type": "code",
   "execution_count": 7,
   "id": "6653d691",
   "metadata": {},
   "outputs": [
    {
     "name": "stdout",
     "output_type": "stream",
     "text": [
      "Average number of comments on Ask HN posts: 14.04\n"
     ]
    }
   ],
   "source": [
    "dataset = ask_hn\n",
    "print(f\"Average number of comments on Ask HN posts: {avg_comment_tot(dataset)}\")"
   ]
  },
  {
   "cell_type": "markdown",
   "id": "6850358f",
   "metadata": {},
   "source": [
    "Then we apply these calculations similarly for `Show HN` posts."
   ]
  },
  {
   "cell_type": "code",
   "execution_count": 8,
   "id": "2fa7fc67",
   "metadata": {},
   "outputs": [
    {
     "name": "stdout",
     "output_type": "stream",
     "text": [
      "Average number of comments on Show HN posts: 10.32\n"
     ]
    }
   ],
   "source": [
    "dataset = show_hn\n",
    "print(f\"Average number of comments on Show HN posts: {avg_comment_tot(dataset)}\")"
   ]
  },
  {
   "cell_type": "markdown",
   "id": "b4aefe31",
   "metadata": {},
   "source": [
    "On average, the `Ask HN` posts receive more comments than the `Show HN` posts. "
   ]
  },
  {
   "cell_type": "markdown",
   "id": "6622a2a9",
   "metadata": {},
   "source": [
    "For completeness, we also calculate the average number of comments on `Other HN` posts."
   ]
  },
  {
   "cell_type": "code",
   "execution_count": 9,
   "id": "2288e171",
   "metadata": {},
   "outputs": [
    {
     "name": "stdout",
     "output_type": "stream",
     "text": [
      "Average number of comments on Other HN posts: 26.87\n"
     ]
    }
   ],
   "source": [
    "dataset = other_hn\n",
    "print(f\"Average number of comments on Other HN posts: {avg_comment_tot(dataset)}\")"
   ]
  },
  {
   "cell_type": "markdown",
   "id": "4cbfdebc",
   "metadata": {},
   "source": [
    "## Find the number of Ask HN posts and comments by hour created"
   ]
  },
  {
   "cell_type": "markdown",
   "id": "603d9c16",
   "metadata": {},
   "source": [
    "We explore `Ask HN` posts more deeply since both its number of posts and average number of comments per post is higher than those of `Show HN` posts.\n",
    "\n",
    "Here we are interested in the following:\n",
    "- The number of `Ask HN` posts created in each hour of the day, along with the number of comments received\n",
    "- The average number of comments `Ask HN` posts receive by hour created\n",
    "\n",
    "We import the `datetime` module. Then for each `Ask HN` post, we store the creation datetime and number of comments as a list in an empty list called `result_list`."
   ]
  },
  {
   "cell_type": "code",
   "execution_count": 10,
   "id": "54fc6dfd",
   "metadata": {},
   "outputs": [],
   "source": [
    "from datetime import datetime"
   ]
  },
  {
   "cell_type": "code",
   "execution_count": 11,
   "id": "07a51f2e",
   "metadata": {},
   "outputs": [],
   "source": [
    "def posts_total(dataset):\n",
    "    result_list = []\n",
    "\n",
    "    for row in dataset:\n",
    "        created_at = row[6]\n",
    "        comment_tot = int(row[4])\n",
    "        result_list.append([created_at, comment_tot])\n",
    "    \n",
    "    return result_list"
   ]
  },
  {
   "cell_type": "markdown",
   "id": "ce190852",
   "metadata": {},
   "source": [
    "Below is the output of the first three rows of this new list `result_list`."
   ]
  },
  {
   "cell_type": "code",
   "execution_count": 12,
   "id": "bcc5475b",
   "metadata": {},
   "outputs": [
    {
     "name": "stdout",
     "output_type": "stream",
     "text": [
      "[['8/16/2016 9:55', 6], ['11/22/2015 13:43', 29], ['5/2/2016 10:14', 1]]\n"
     ]
    }
   ],
   "source": [
    "dataset = ask_hn[:3]\n",
    "print(posts_total(dataset))"
   ]
  },
  {
   "cell_type": "markdown",
   "id": "ec00bff4",
   "metadata": {},
   "source": [
    "For each datetime, we are interested in the hour of the day so we loop over this list to extract the number of posts created by hour and number of comments by hour."
   ]
  },
  {
   "cell_type": "code",
   "execution_count": 13,
   "id": "7ec74bf1",
   "metadata": {},
   "outputs": [],
   "source": [
    "def posts_and_comments_by_hour(dataset):\n",
    "    result_list = posts_total(dataset)\n",
    "    posts_by_hour = {}\n",
    "    comments_by_hour = {}\n",
    "    for row in result_list:\n",
    "        created_at, comment_tot = row\n",
    "        created_at = datetime.strptime(created_at, \"%m/%d/%Y %H:%M\")\n",
    "        hour_created = created_at.strftime(\"%H\")\n",
    "        if hour_created not in posts_by_hour:\n",
    "            posts_by_hour[hour_created] = 1\n",
    "        else:\n",
    "            posts_by_hour[hour_created] += 1\n",
    "        if hour_created not in comments_by_hour:\n",
    "            comments_by_hour[hour_created] = comment_tot\n",
    "        else:\n",
    "            comments_by_hour[hour_created] += comment_tot\n",
    "    \n",
    "    return posts_by_hour, comments_by_hour"
   ]
  },
  {
   "cell_type": "code",
   "execution_count": 14,
   "id": "159425ad",
   "metadata": {
    "scrolled": true
   },
   "outputs": [],
   "source": [
    "dataset = ask_hn\n",
    "posts_by_hour, comments_by_hour = posts_and_comments_by_hour(dataset)"
   ]
  },
  {
   "cell_type": "markdown",
   "id": "fcd9dd18",
   "metadata": {},
   "source": [
    "The number of `Ask HN` posts by hour is listed in the output for the dictionary `ask_by_hour` below."
   ]
  },
  {
   "cell_type": "code",
   "execution_count": 15,
   "id": "c74bba87",
   "metadata": {
    "scrolled": false
   },
   "outputs": [
    {
     "name": "stdout",
     "output_type": "stream",
     "text": [
      "{'09': 45, '13': 85, '10': 59, '14': 107, '16': 108, '23': 68, '12': 73, '17': 100, '15': 116, '21': 109, '20': 80, '02': 58, '18': 109, '03': 54, '05': 46, '19': 110, '01': 60, '22': 71, '08': 48, '04': 47, '00': 55, '06': 44, '07': 34, '11': 58}\n"
     ]
    }
   ],
   "source": [
    "print(posts_by_hour)"
   ]
  },
  {
   "cell_type": "markdown",
   "id": "9b8a39b8",
   "metadata": {},
   "source": [
    "Similarly, the total number of comments by hour is listed in the output for the dictionary `ask_comment_by_hour` below."
   ]
  },
  {
   "cell_type": "code",
   "execution_count": 16,
   "id": "4d039f99",
   "metadata": {},
   "outputs": [
    {
     "name": "stdout",
     "output_type": "stream",
     "text": [
      "{'09': 251, '13': 1253, '10': 793, '14': 1416, '16': 1814, '23': 543, '12': 687, '17': 1146, '15': 4477, '21': 1745, '20': 1722, '02': 1381, '18': 1439, '03': 421, '05': 464, '19': 1188, '01': 683, '22': 479, '08': 492, '04': 337, '00': 447, '06': 397, '07': 267, '11': 641}\n"
     ]
    }
   ],
   "source": [
    "print(comments_by_hour)"
   ]
  },
  {
   "cell_type": "markdown",
   "id": "b57a88ac",
   "metadata": {},
   "source": [
    "## Calculate the average number of comments for Ask HN posts by hour"
   ]
  },
  {
   "cell_type": "markdown",
   "id": "d771099f",
   "metadata": {},
   "source": [
    "To find the average number of comments for `Ask HN` posts by hour, we loop over the number of posts by hour and the number of comments by hour. Since the hours created are in the same order for both dictionaries, we select the `ask_by_hour` at random to pull in the total_comments by hour from the `ask_comment_by_hour` dictionary and loop by hour. The second element of the `ask_by_hour` dictionary is the number of `Ask HN` posts so we can use that calculate the average number of comments by hour. For a cleaner display, the output is rounded to two decimals. We then sort the `avg_per_hour` list by hour."
   ]
  },
  {
   "cell_type": "code",
   "execution_count": 17,
   "id": "2fa919f1",
   "metadata": {},
   "outputs": [],
   "source": [
    "def average_comments_by_hour():\n",
    "    avg_comments_by_hour = []\n",
    "    \n",
    "    for hour, posts in posts_by_hour.items():\n",
    "        comment_tot = comments_by_hour[hour]\n",
    "        avg_comment = round(comment_tot / posts, 2)\n",
    "        avg = [hour, avg_comment]\n",
    "        avg_comments_by_hour.append(avg)\n",
    "\n",
    "    avg_comments_by_hour = sorted(avg_comments_by_hour)\n",
    "    return avg_comments_by_hour"
   ]
  },
  {
   "cell_type": "code",
   "execution_count": 18,
   "id": "3add1a0c",
   "metadata": {},
   "outputs": [
    {
     "name": "stdout",
     "output_type": "stream",
     "text": [
      "[['00', 8.13], ['01', 11.38], ['02', 23.81], ['03', 7.8], ['04', 7.17], ['05', 10.09], ['06', 9.02], ['07', 7.85], ['08', 10.25], ['09', 5.58], ['10', 13.44], ['11', 11.05], ['12', 9.41], ['13', 14.74], ['14', 13.23], ['15', 38.59], ['16', 16.8], ['17', 11.46], ['18', 13.2], ['19', 10.8], ['20', 21.52], ['21', 16.01], ['22', 6.75], ['23', 7.99]]\n"
     ]
    }
   ],
   "source": [
    "avg_comments_by_hour = average_comments_by_hour()\n",
    "print(avg_comments_by_hour)"
   ]
  },
  {
   "cell_type": "markdown",
   "id": "3823342b",
   "metadata": {},
   "source": [
    "### Spot checking calculation"
   ]
  },
  {
   "cell_type": "markdown",
   "id": "bad2690e",
   "metadata": {},
   "source": [
    "We can spot check the first three hours to ensure the calculation has been performed correctly. The output of `8.13, 11.38, and 23.81` comments per hour for the hours `'00', '01', '02'`, respectively, match the averages calculated above."
   ]
  },
  {
   "cell_type": "code",
   "execution_count": 19,
   "id": "137650ec",
   "metadata": {},
   "outputs": [
    {
     "name": "stdout",
     "output_type": "stream",
     "text": [
      "For the 55 posts made at the 0 o'clock hour, there were 447 total comments, resulting in 8.13 average comments per post.\n",
      "For the 60 posts made at the 1 o'clock hour, there were 683 total comments, resulting in 11.38 average comments per post.\n",
      "For the 58 posts made at the 2 o'clock hour, there were 1381 total comments, resulting in 23.81 average comments per post.\n"
     ]
    }
   ],
   "source": [
    "def calculate_average(hour):\n",
    "    comments = comments_by_hour[hour]\n",
    "    posts = posts_by_hour[hour]\n",
    "    average = round(comments / posts, 2)\n",
    "    return comments, posts, average\n",
    "\n",
    "hour = '00'\n",
    "comments, posts, average = calculate_average(hour)\n",
    "print(f\"For the {posts} posts made at the {int(hour)} o'clock hour, there were {comments} total comments, resulting in {average} average comments per post.\")\n",
    "\n",
    "hour = '01'\n",
    "comments, posts, average = calculate_average(hour)\n",
    "print(f\"For the {posts} posts made at the {int(hour)} o'clock hour, there were {comments} total comments, resulting in {average} average comments per post.\")\n",
    "\n",
    "hour = '02'\n",
    "comments, posts, average = calculate_average(hour)\n",
    "print(f\"For the {posts} posts made at the {int(hour)} o'clock hour, there were {comments} total comments, resulting in {average} average comments per post.\")"
   ]
  },
  {
   "cell_type": "markdown",
   "id": "80140b15",
   "metadata": {},
   "source": [
    "## Visualize average number of comments in Ask HN posts by hour"
   ]
  },
  {
   "cell_type": "markdown",
   "id": "aa67f6a2",
   "metadata": {},
   "source": [
    "We can visualize the results in a more graphical form to see the averages by hour."
   ]
  },
  {
   "cell_type": "code",
   "execution_count": 20,
   "id": "59538ddb",
   "metadata": {},
   "outputs": [],
   "source": [
    "import matplotlib.pyplot as plt\n",
    "import numpy as np"
   ]
  },
  {
   "cell_type": "code",
   "execution_count": 21,
   "id": "1ec75d05",
   "metadata": {},
   "outputs": [
    {
     "data": {
      "image/png": "[encoded data removed]",
      "text/plain": [
       "<Figure size 640x480 with 1 Axes>"
      ]
     },
     "metadata": {},
     "output_type": "display_data"
    }
   ],
   "source": [
    "dataset = ask_hn\n",
    "\n",
    "posts_by_hour, comments_by_hour = posts_and_comments_by_hour(dataset)\n",
    "avg_comments_by_hour = average_comments_by_hour()\n",
    "\n",
    "hours = []\n",
    "avgs = []\n",
    "for hour, avg in avg_comments_by_hour:\n",
    "    hours.append(hour)\n",
    "    avgs.append(avg)\n",
    "\n",
    "x = np.array(hours)\n",
    "y = np.array(avgs)\n",
    "plt.bar(x,y)\n",
    "plt.title(\"Average Number of Comments for Ask HN Posts Created by Hour\")\n",
    "plt.xlabel(\"Hours\")\n",
    "plt.ylabel(\"Average number of comments\")\n",
    "plt.show()"
   ]
  },
  {
   "cell_type": "markdown",
   "id": "fc8e9df6",
   "metadata": {},
   "source": [
    "From the bar chart above, `Ask HN` posts created at 3 PM had the highest activity, followed by those created at 8 PM and 2 AM.\n",
    "\n",
    "To view all averages in descending order, we sort the `comments_per_hour` list."
   ]
  },
  {
   "cell_type": "code",
   "execution_count": 22,
   "id": "f5252f00",
   "metadata": {},
   "outputs": [
    {
     "name": "stdout",
     "output_type": "stream",
     "text": [
      "[['15', 38.59],\n",
      " ['02', 23.81],\n",
      " ['20', 21.52],\n",
      " ['16', 16.8],\n",
      " ['21', 16.01],\n",
      " ['13', 14.74],\n",
      " ['10', 13.44],\n",
      " ['14', 13.23],\n",
      " ['18', 13.2],\n",
      " ['17', 11.46],\n",
      " ['01', 11.38],\n",
      " ['11', 11.05],\n",
      " ['19', 10.8],\n",
      " ['08', 10.25],\n",
      " ['05', 10.09],\n",
      " ['12', 9.41],\n",
      " ['06', 9.02],\n",
      " ['00', 8.13],\n",
      " ['23', 7.99],\n",
      " ['07', 7.85],\n",
      " ['03', 7.8],\n",
      " ['04', 7.17],\n",
      " ['22', 6.75],\n",
      " ['09', 5.58]]\n"
     ]
    }
   ],
   "source": [
    "comments_per_hour = sorted(avg_comments_by_hour, key=lambda x:x[1], reverse=True)\n",
    "pprint(comments_per_hour)"
   ]
  },
  {
   "cell_type": "markdown",
   "id": "7d9cc926",
   "metadata": {},
   "source": [
    "## Visualize average number of comments in Show HN posts by hour"
   ]
  },
  {
   "cell_type": "markdown",
   "id": "5feee18d",
   "metadata": {},
   "source": [
    "We want to know if the hours of peak activity identified above are specific to `Ask HN` posts or if the `Show HN` and `Other HN` posts resemble a similar pattern."
   ]
  },
  {
   "cell_type": "code",
   "execution_count": 23,
   "id": "26df757b",
   "metadata": {
    "scrolled": false
   },
   "outputs": [
    {
     "data": {
      "image/png": "[encoded data removed]",
      "text/plain": [
       "<Figure size 640x480 with 1 Axes>"
      ]
     },
     "metadata": {},
     "output_type": "display_data"
    }
   ],
   "source": [
    "dataset = show_hn\n",
    "\n",
    "posts_by_hour, comments_by_hour = posts_and_comments_by_hour(dataset)\n",
    "avg_comments_by_hour = average_comments_by_hour()\n",
    "\n",
    "hours = []\n",
    "avgs = []\n",
    "for hour, avg in avg_comments_by_hour:\n",
    "    hours.append(hour)\n",
    "    avgs.append(avg)\n",
    "\n",
    "x = np.array(hours)\n",
    "y = np.array(avgs)\n",
    "plt.bar(x,y)\n",
    "plt.title(\"Average Number of Comments for Show HN Posts Created by Hour\")\n",
    "plt.xlabel(\"Hours\")\n",
    "plt.ylabel(\"Average number of comments\")\n",
    "plt.show()"
   ]
  },
  {
   "cell_type": "markdown",
   "id": "ce6c7c73",
   "metadata": {},
   "source": [
    "One discernable pattern with `Show HN` posts is that users tend not to comment as frequently on posts created in the early morning hours, namely between 2 AM and 8 AM. Activity peaks slightly higher at midnight and 6 PM."
   ]
  },
  {
   "cell_type": "markdown",
   "id": "19abc3dd",
   "metadata": {},
   "source": [
    "## Visualize average number of comments in Other HN posts by hour"
   ]
  },
  {
   "cell_type": "markdown",
   "id": "9cc3b482",
   "metadata": {},
   "source": [
    "Finally, because most users create posts or make comments in neither the `Ask HN` and `Show HN` categories, we want to see how the general userbase of Hacker News likes to consume the content."
   ]
  },
  {
   "cell_type": "code",
   "execution_count": 24,
   "id": "7501d140",
   "metadata": {
    "scrolled": false
   },
   "outputs": [
    {
     "data": {
      "image/png": "[encoded data removed]",
      "text/plain": [
       "<Figure size 640x480 with 1 Axes>"
      ]
     },
     "metadata": {},
     "output_type": "display_data"
    }
   ],
   "source": [
    "dataset = other_hn\n",
    "\n",
    "posts_by_hour, comments_by_hour = posts_and_comments_by_hour(dataset)\n",
    "avg_comments_by_hour = average_comments_by_hour()\n",
    "\n",
    "hours = []\n",
    "avgs = []\n",
    "for hour, avg in avg_comments_by_hour:\n",
    "    hours.append(hour)\n",
    "    avgs.append(avg)\n",
    "\n",
    "x = np.array(hours)\n",
    "y = np.array(avgs)\n",
    "plt.bar(x,y)\n",
    "plt.title(\"Average Number of Comments for Other HN Posts Created by Hour\")\n",
    "plt.xlabel(\"Hours\")\n",
    "plt.ylabel(\"Average number of comments\")\n",
    "plt.show()"
   ]
  },
  {
   "cell_type": "code",
   "execution_count": 25,
   "id": "400fa025",
   "metadata": {},
   "outputs": [
    {
     "data": {
      "image/png": "[encoded data removed]",
      "text/plain": [
       "<Figure size 640x480 with 1 Axes>"
      ]
     },
     "metadata": {},
     "output_type": "display_data"
    }
   ],
   "source": [
    "dataset = hn\n",
    "\n",
    "posts_by_hour, comments_by_hour = posts_and_comments_by_hour(dataset)\n",
    "avg_comments_by_hour = average_comments_by_hour()\n",
    "\n",
    "hours = []\n",
    "avgs = []\n",
    "for hour, avg in avg_comments_by_hour:\n",
    "    hours.append(hour)\n",
    "    avgs.append(avg)\n",
    "\n",
    "x = np.array(hours)\n",
    "y = np.array(avgs)\n",
    "plt.bar(x,y)\n",
    "plt.title(\"Average Number of Comments for All HN Posts Created by Hour\")\n",
    "plt.xlabel(\"Hours\")\n",
    "plt.ylabel(\"Average number of comments\")\n",
    "plt.show()"
   ]
  },
  {
   "cell_type": "markdown",
   "id": "c4131253",
   "metadata": {},
   "source": [
    "There does not appear to be a discernable pattern as to what hours of the day posts are created to attract comment activity for `Other HN` posts and posts on Hacker News in general. Posts created between 2-4 PM however seem to slightly peak in activity compared to other times of the day."
   ]
  },
  {
   "cell_type": "markdown",
   "id": "22a3783f",
   "metadata": {},
   "source": [
    "## Conclusion"
   ]
  },
  {
   "cell_type": "markdown",
   "id": "f5e61d6e",
   "metadata": {},
   "source": [
    "On average, `Ask HN` posts receive more comments (14.04 comments) than `Show HN` (10.32 comments). `Ask HN` posts that are created at 3 PM, 2 AM, and 8 PM saw the highest average number of comments per post at 38.59, 23.81, and 21.52 comments, respectively. However, this appears to be specific to `Ask HN` posts. `Show HN` posts created in the early morning appeared to have slightly less activity than other times of the day, but not discernably so. `Other HN` posts created at a certain hour appeared to have no more or less activity compared to any other time of the day.\n",
    "\n",
    "Hacker News is dominated by a sheer number of `Other HN` posts (17,194) versus `Ask HN` posts (1,744) and `Show HN` posts (1,162). For a user wanting to get the most eyes, and potentially responses, on a question they'd like to ask the Hacker News community, the most optimal time to create a post is in the afternoon, namely 3 PM. For `Show HN` posts, activity peaked for posts created at midnight and 6 PM but not by much. \n",
    "\n",
    "Evaluating the hours of activity for all types of posts and Hacker News in general, the afternoon, namely 2-3 PM, seems like the most optimal time post in order to attract the most number of comments."
   ]
  },
  {
   "cell_type": "code",
   "execution_count": null,
   "id": "fb8c9d86",
   "metadata": {},
   "outputs": [],
   "source": []
  }
 ],
 "metadata": {
  "kernelspec": {
   "display_name": "Python 3 (ipykernel)",
   "language": "python",
   "name": "python3"
  },
  "language_info": {
   "codemirror_mode": {
    "name": "ipython",
    "version": 3
   },
   "file_extension": ".py",
   "mimetype": "text/x-python",
   "name": "python",
   "nbconvert_exporter": "python",
   "pygments_lexer": "ipython3",
   "version": "3.11.3"
  }
 },
 "nbformat": 4,
 "nbformat_minor": 5
}
