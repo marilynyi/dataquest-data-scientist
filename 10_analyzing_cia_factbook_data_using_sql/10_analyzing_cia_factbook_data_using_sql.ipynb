{
 "cells": [
  {
   "cell_type": "markdown",
   "id": "58d12863",
   "metadata": {},
   "source": [
    "## Introduction"
   ]
  },
  {
   "cell_type": "markdown",
   "id": "68070894",
   "metadata": {},
   "source": [
    "We first connect our Jupyter Notebook to the database file."
   ]
  },
  {
   "cell_type": "code",
   "execution_count": 1,
   "id": "de179616",
   "metadata": {},
   "outputs": [],
   "source": [
    "%%capture\n",
    "%load_ext sql\n",
    "%sql sqlite:///factbook.db"
   ]
  },
  {
   "cell_type": "markdown",
   "id": "35014f7e",
   "metadata": {},
   "source": [
    "## Overview of the Data"
   ]
  },
  {
   "cell_type": "code",
   "execution_count": 2,
   "id": "3d5c82bb",
   "metadata": {},
   "outputs": [
    {
     "name": "stdout",
     "output_type": "stream",
     "text": [
      " * sqlite:///factbook.db\n",
      "Done.\n"
     ]
    },
    {
     "data": {
      "text/html": [
       "<table>\n",
       "    <thead>\n",
       "        <tr>\n",
       "            <th>type</th>\n",
       "            <th>name</th>\n",
       "            <th>tbl_name</th>\n",
       "            <th>rootpage</th>\n",
       "            <th>sql</th>\n",
       "        </tr>\n",
       "    </thead>\n",
       "    <tbody>\n",
       "        <tr>\n",
       "            <td>table</td>\n",
       "            <td>sqlite_sequence</td>\n",
       "            <td>sqlite_sequence</td>\n",
       "            <td>3</td>\n",
       "            <td>CREATE TABLE sqlite_sequence(name,seq)</td>\n",
       "        </tr>\n",
       "        <tr>\n",
       "            <td>table</td>\n",
       "            <td>facts</td>\n",
       "            <td>facts</td>\n",
       "            <td>47</td>\n",
       "            <td>CREATE TABLE &quot;facts&quot; (&quot;id&quot; INTEGER PRIMARY KEY AUTOINCREMENT NOT NULL, &quot;code&quot; varchar(255) NOT NULL, &quot;name&quot; varchar(255) NOT NULL, &quot;area&quot; integer, &quot;area_land&quot; integer, &quot;area_water&quot; integer, &quot;population&quot; integer, &quot;population_growth&quot; float, &quot;birth_rate&quot; float, &quot;death_rate&quot; float, &quot;migration_rate&quot; float, is_a_country BOOL<br>    DEFAULT 1)</td>\n",
       "        </tr>\n",
       "    </tbody>\n",
       "</table>"
      ],
      "text/plain": [
       "[('table', 'sqlite_sequence', 'sqlite_sequence', 3, 'CREATE TABLE sqlite_sequence(name,seq)'),\n",
       " ('table', 'facts', 'facts', 47, 'CREATE TABLE \"facts\" (\"id\" INTEGER PRIMARY KEY AUTOINCREMENT NOT NULL, \"code\" varchar(255) NOT NULL, \"name\" varchar(255) NOT NULL, \"area\" integer, \"a ... (38 characters truncated) ... r, \"population\" integer, \"population_growth\" float, \"birth_rate\" float, \"death_rate\" float, \"migration_rate\" float, is_a_country BOOL\\n    DEFAULT 1)')]"
      ]
     },
     "execution_count": 2,
     "metadata": {},
     "output_type": "execute_result"
    }
   ],
   "source": [
    "%%sql\n",
    "SELECT * \n",
    "  FROM sqlite_master\n",
    " WHERE type='table';"
   ]
  },
  {
   "cell_type": "markdown",
   "id": "d47b6626",
   "metadata": {},
   "source": [
    "To get an understanding of what the data and columns look like, we print the first five lines of the database."
   ]
  },
  {
   "cell_type": "code",
   "execution_count": 3,
   "id": "3015200b",
   "metadata": {},
   "outputs": [
    {
     "name": "stdout",
     "output_type": "stream",
     "text": [
      " * sqlite:///factbook.db\n",
      "Done.\n"
     ]
    },
    {
     "data": {
      "text/plain": [
       "[]"
      ]
     },
     "execution_count": 3,
     "metadata": {},
     "output_type": "execute_result"
    }
   ],
   "source": [
    "%%sql\n",
    "ALTER TABLE facts\n",
    "DROP is_a_country"
   ]
  },
  {
   "cell_type": "code",
   "execution_count": 4,
   "id": "96192928",
   "metadata": {},
   "outputs": [
    {
     "name": "stdout",
     "output_type": "stream",
     "text": [
      " * sqlite:///factbook.db\n",
      "Done.\n"
     ]
    },
    {
     "data": {
      "text/html": [
       "<table>\n",
       "    <thead>\n",
       "        <tr>\n",
       "            <th>COUNT(*)</th>\n",
       "        </tr>\n",
       "    </thead>\n",
       "    <tbody>\n",
       "        <tr>\n",
       "            <td>261</td>\n",
       "        </tr>\n",
       "    </tbody>\n",
       "</table>"
      ],
      "text/plain": [
       "[(261,)]"
      ]
     },
     "execution_count": 4,
     "metadata": {},
     "output_type": "execute_result"
    }
   ],
   "source": [
    "%%sql\n",
    "SELECT COUNT(*)\n",
    "  FROM facts"
   ]
  },
  {
   "cell_type": "markdown",
   "id": "5356d904",
   "metadata": {},
   "source": [
    "There are 261 rows in this database, a lot more than the number of official countries."
   ]
  },
  {
   "cell_type": "code",
   "execution_count": 5,
   "id": "2e3fa941",
   "metadata": {},
   "outputs": [
    {
     "name": "stdout",
     "output_type": "stream",
     "text": [
      " * sqlite:///factbook.db\n",
      "Done.\n"
     ]
    },
    {
     "data": {
      "text/html": [
       "<table>\n",
       "    <thead>\n",
       "        <tr>\n",
       "            <th>id</th>\n",
       "            <th>code</th>\n",
       "            <th>name</th>\n",
       "            <th>area</th>\n",
       "            <th>area_land</th>\n",
       "            <th>area_water</th>\n",
       "            <th>population</th>\n",
       "            <th>population_growth</th>\n",
       "            <th>birth_rate</th>\n",
       "            <th>death_rate</th>\n",
       "            <th>migration_rate</th>\n",
       "        </tr>\n",
       "    </thead>\n",
       "    <tbody>\n",
       "        <tr>\n",
       "            <td>1</td>\n",
       "            <td>af</td>\n",
       "            <td>Afghanistan</td>\n",
       "            <td>652230</td>\n",
       "            <td>652230</td>\n",
       "            <td>0</td>\n",
       "            <td>32564342</td>\n",
       "            <td>2.32</td>\n",
       "            <td>38.57</td>\n",
       "            <td>13.89</td>\n",
       "            <td>1.51</td>\n",
       "        </tr>\n",
       "        <tr>\n",
       "            <td>2</td>\n",
       "            <td>al</td>\n",
       "            <td>Albania</td>\n",
       "            <td>28748</td>\n",
       "            <td>27398</td>\n",
       "            <td>1350</td>\n",
       "            <td>3029278</td>\n",
       "            <td>0.3</td>\n",
       "            <td>12.92</td>\n",
       "            <td>6.58</td>\n",
       "            <td>3.3</td>\n",
       "        </tr>\n",
       "        <tr>\n",
       "            <td>3</td>\n",
       "            <td>ag</td>\n",
       "            <td>Algeria</td>\n",
       "            <td>2381741</td>\n",
       "            <td>2381741</td>\n",
       "            <td>0</td>\n",
       "            <td>39542166</td>\n",
       "            <td>1.84</td>\n",
       "            <td>23.67</td>\n",
       "            <td>4.31</td>\n",
       "            <td>0.92</td>\n",
       "        </tr>\n",
       "        <tr>\n",
       "            <td>4</td>\n",
       "            <td>an</td>\n",
       "            <td>Andorra</td>\n",
       "            <td>468</td>\n",
       "            <td>468</td>\n",
       "            <td>0</td>\n",
       "            <td>85580</td>\n",
       "            <td>0.12</td>\n",
       "            <td>8.13</td>\n",
       "            <td>6.96</td>\n",
       "            <td>0.0</td>\n",
       "        </tr>\n",
       "        <tr>\n",
       "            <td>5</td>\n",
       "            <td>ao</td>\n",
       "            <td>Angola</td>\n",
       "            <td>1246700</td>\n",
       "            <td>1246700</td>\n",
       "            <td>0</td>\n",
       "            <td>19625353</td>\n",
       "            <td>2.78</td>\n",
       "            <td>38.78</td>\n",
       "            <td>11.49</td>\n",
       "            <td>0.46</td>\n",
       "        </tr>\n",
       "    </tbody>\n",
       "</table>"
      ],
      "text/plain": [
       "[(1, 'af', 'Afghanistan', 652230, 652230, 0, 32564342, 2.32, 38.57, 13.89, 1.51),\n",
       " (2, 'al', 'Albania', 28748, 27398, 1350, 3029278, 0.3, 12.92, 6.58, 3.3),\n",
       " (3, 'ag', 'Algeria', 2381741, 2381741, 0, 39542166, 1.84, 23.67, 4.31, 0.92),\n",
       " (4, 'an', 'Andorra', 468, 468, 0, 85580, 0.12, 8.13, 6.96, 0.0),\n",
       " (5, 'ao', 'Angola', 1246700, 1246700, 0, 19625353, 2.78, 38.78, 11.49, 0.46)]"
      ]
     },
     "execution_count": 5,
     "metadata": {},
     "output_type": "execute_result"
    }
   ],
   "source": [
    "%%sql\n",
    "SELECT *\n",
    "  FROM facts\n",
    " LIMIT 5;"
   ]
  },
  {
   "cell_type": "markdown",
   "id": "3fedd2c2",
   "metadata": {},
   "source": [
    "## Summary Statistics"
   ]
  },
  {
   "cell_type": "markdown",
   "id": "121642a2",
   "metadata": {},
   "source": [
    "Here are the descriptions for some of the columns:\n",
    "- `name` - the name of the country\n",
    "- `area` - the country's total area (both land and water)\n",
    "- `area_land` - the country's land area in square kilometers\n",
    "- `area_water` - the country's water area in square kilometers\n",
    "- `population` - the country's population\n",
    "- `population_growth` - the country's population growth as a percentage\n",
    "- `birth_rate` - the country's birth rate, or the number of births per year per 1,000 people\n",
    "- `death_rate` - the country's death rate, or the number of deaths per year per 1,000 people"
   ]
  },
  {
   "cell_type": "markdown",
   "id": "e7eb4ec6",
   "metadata": {},
   "source": [
    "We start by finding the following:\n",
    "- minimum population\n",
    "- maximum population\n",
    "- minimum population growth\n",
    "- maximum population growth"
   ]
  },
  {
   "cell_type": "code",
   "execution_count": 6,
   "id": "f1a24262",
   "metadata": {},
   "outputs": [
    {
     "name": "stdout",
     "output_type": "stream",
     "text": [
      " * sqlite:///factbook.db\n",
      "Done.\n"
     ]
    },
    {
     "data": {
      "text/html": [
       "<table>\n",
       "    <thead>\n",
       "        <tr>\n",
       "            <th>min_population</th>\n",
       "            <th>max_population</th>\n",
       "            <th>min_population_growth</th>\n",
       "            <th>max_population_growth</th>\n",
       "        </tr>\n",
       "    </thead>\n",
       "    <tbody>\n",
       "        <tr>\n",
       "            <td>0</td>\n",
       "            <td>7256490011</td>\n",
       "            <td>0.0</td>\n",
       "            <td>4.02</td>\n",
       "        </tr>\n",
       "    </tbody>\n",
       "</table>"
      ],
      "text/plain": [
       "[(0, 7256490011, 0.0, 4.02)]"
      ]
     },
     "execution_count": 6,
     "metadata": {},
     "output_type": "execute_result"
    }
   ],
   "source": [
    "%%sql\n",
    "SELECT min(population) AS min_population,\n",
    "       max(population) AS max_population,\n",
    "       min(population_growth) AS min_population_growth,\n",
    "       max(population_growth) AS max_population_growth\n",
    "  FROM facts"
   ]
  },
  {
   "cell_type": "markdown",
   "id": "adbd65b2",
   "metadata": {},
   "source": [
    "The maximum population of 7,256,490,011 people is not currently feasible for one country. We also want to know what country or countries are showing zero population count in our data."
   ]
  },
  {
   "cell_type": "markdown",
   "id": "706b955f",
   "metadata": {},
   "source": [
    "## Cleaning the Data"
   ]
  },
  {
   "cell_type": "markdown",
   "id": "329f0c37",
   "metadata": {},
   "source": [
    "From later stages, a few observations were made. There are rows for the major oceans, the world in total, and various inhabitable islands with no provided population count. We want to remove these from our analysis."
   ]
  },
  {
   "cell_type": "markdown",
   "id": "cade18ec",
   "metadata": {},
   "source": [
    "### World"
   ]
  },
  {
   "cell_type": "code",
   "execution_count": 7,
   "id": "d08fa874",
   "metadata": {},
   "outputs": [
    {
     "name": "stdout",
     "output_type": "stream",
     "text": [
      " * sqlite:///factbook.db\n",
      "Done.\n"
     ]
    },
    {
     "data": {
      "text/html": [
       "<table>\n",
       "    <thead>\n",
       "        <tr>\n",
       "            <th>name</th>\n",
       "        </tr>\n",
       "    </thead>\n",
       "    <tbody>\n",
       "        <tr>\n",
       "            <td>World</td>\n",
       "        </tr>\n",
       "    </tbody>\n",
       "</table>"
      ],
      "text/plain": [
       "[('World',)]"
      ]
     },
     "execution_count": 7,
     "metadata": {},
     "output_type": "execute_result"
    }
   ],
   "source": [
    "%%sql\n",
    "SELECT name\n",
    "  FROM facts\n",
    " WHERE population = (SELECT max(population) \n",
    "                       FROM facts)"
   ]
  },
  {
   "cell_type": "markdown",
   "id": "ee88d9b6",
   "metadata": {},
   "source": [
    "The dataset has a row specific to the entire 'World' which explains the 7.26 billion people as its population. We'll want to remove the `World` line to look at the data by country."
   ]
  },
  {
   "cell_type": "markdown",
   "id": "d13b1f3a",
   "metadata": {},
   "source": [
    "### Oceans and Small Inhabitable Islands"
   ]
  },
  {
   "cell_type": "code",
   "execution_count": 8,
   "id": "b4f9ee3f",
   "metadata": {},
   "outputs": [
    {
     "name": "stdout",
     "output_type": "stream",
     "text": [
      " * sqlite:///factbook.db\n",
      "Done.\n"
     ]
    },
    {
     "data": {
      "text/html": [
       "<table>\n",
       "    <thead>\n",
       "        <tr>\n",
       "            <th>id</th>\n",
       "            <th>code</th>\n",
       "            <th>name</th>\n",
       "            <th>area</th>\n",
       "            <th>area_land</th>\n",
       "            <th>area_water</th>\n",
       "            <th>population</th>\n",
       "            <th>population_growth</th>\n",
       "            <th>birth_rate</th>\n",
       "            <th>death_rate</th>\n",
       "            <th>migration_rate</th>\n",
       "        </tr>\n",
       "    </thead>\n",
       "    <tbody>\n",
       "        <tr>\n",
       "            <td>198</td>\n",
       "            <td>at</td>\n",
       "            <td>Ashmore and Cartier Islands</td>\n",
       "            <td>5</td>\n",
       "            <td>5</td>\n",
       "            <td>0</td>\n",
       "            <td>None</td>\n",
       "            <td>None</td>\n",
       "            <td>None</td>\n",
       "            <td>None</td>\n",
       "            <td>None</td>\n",
       "        </tr>\n",
       "        <tr>\n",
       "            <td>201</td>\n",
       "            <td>cr</td>\n",
       "            <td>Coral Sea Islands</td>\n",
       "            <td>3</td>\n",
       "            <td>3</td>\n",
       "            <td>0</td>\n",
       "            <td>None</td>\n",
       "            <td>None</td>\n",
       "            <td>None</td>\n",
       "            <td>None</td>\n",
       "            <td>None</td>\n",
       "        </tr>\n",
       "        <tr>\n",
       "            <td>202</td>\n",
       "            <td>hm</td>\n",
       "            <td>Heard Island and McDonald Islands</td>\n",
       "            <td>412</td>\n",
       "            <td>412</td>\n",
       "            <td>0</td>\n",
       "            <td>None</td>\n",
       "            <td>None</td>\n",
       "            <td>None</td>\n",
       "            <td>None</td>\n",
       "            <td>None</td>\n",
       "        </tr>\n",
       "        <tr>\n",
       "            <td>208</td>\n",
       "            <td>ip</td>\n",
       "            <td>Clipperton Island</td>\n",
       "            <td>6</td>\n",
       "            <td>6</td>\n",
       "            <td>0</td>\n",
       "            <td>None</td>\n",
       "            <td>None</td>\n",
       "            <td>None</td>\n",
       "            <td>None</td>\n",
       "            <td>None</td>\n",
       "        </tr>\n",
       "        <tr>\n",
       "            <td>210</td>\n",
       "            <td>fs</td>\n",
       "            <td>French Southern and Antarctic Lands</td>\n",
       "            <td>None</td>\n",
       "            <td>None</td>\n",
       "            <td>None</td>\n",
       "            <td>None</td>\n",
       "            <td>None</td>\n",
       "            <td>None</td>\n",
       "            <td>None</td>\n",
       "            <td>None</td>\n",
       "        </tr>\n",
       "    </tbody>\n",
       "</table>"
      ],
      "text/plain": [
       "[(198, 'at', 'Ashmore and Cartier Islands', 5, 5, 0, None, None, None, None, None),\n",
       " (201, 'cr', 'Coral Sea Islands', 3, 3, 0, None, None, None, None, None),\n",
       " (202, 'hm', 'Heard Island and McDonald Islands', 412, 412, 0, None, None, None, None, None),\n",
       " (208, 'ip', 'Clipperton Island', 6, 6, 0, None, None, None, None, None),\n",
       " (210, 'fs', 'French Southern and Antarctic Lands', None, None, None, None, None, None, None, None)]"
      ]
     },
     "execution_count": 8,
     "metadata": {},
     "output_type": "execute_result"
    }
   ],
   "source": [
    "%%sql\n",
    "SELECT *\n",
    "  FROM facts\n",
    " ORDER BY population \n",
    " LIMIT 5;"
   ]
  },
  {
   "cell_type": "markdown",
   "id": "f30508d7",
   "metadata": {},
   "source": [
    "## Identifying non-Countries"
   ]
  },
  {
   "cell_type": "code",
   "execution_count": 9,
   "id": "bc456178",
   "metadata": {
    "scrolled": true
   },
   "outputs": [
    {
     "name": "stdout",
     "output_type": "stream",
     "text": [
      " * sqlite:///factbook.db\n",
      "Done.\n"
     ]
    },
    {
     "data": {
      "text/plain": [
       "[]"
      ]
     },
     "execution_count": 9,
     "metadata": {},
     "output_type": "execute_result"
    }
   ],
   "source": [
    "%%sql\n",
    "ALTER TABLE facts\n",
    "        ADD is_a_country BOOL\n",
    "    DEFAULT 1"
   ]
  },
  {
   "cell_type": "code",
   "execution_count": 10,
   "id": "73ced948",
   "metadata": {},
   "outputs": [
    {
     "name": "stdout",
     "output_type": "stream",
     "text": [
      " * sqlite:///factbook.db\n",
      "Done.\n"
     ]
    },
    {
     "data": {
      "text/html": [
       "<table>\n",
       "    <thead>\n",
       "        <tr>\n",
       "            <th>id</th>\n",
       "            <th>code</th>\n",
       "            <th>name</th>\n",
       "            <th>area</th>\n",
       "            <th>area_land</th>\n",
       "            <th>area_water</th>\n",
       "            <th>population</th>\n",
       "            <th>population_growth</th>\n",
       "            <th>birth_rate</th>\n",
       "            <th>death_rate</th>\n",
       "            <th>migration_rate</th>\n",
       "            <th>is_a_country</th>\n",
       "        </tr>\n",
       "    </thead>\n",
       "    <tbody>\n",
       "        <tr>\n",
       "            <td>190</td>\n",
       "            <td>vt</td>\n",
       "            <td>Holy See (Vatican City)</td>\n",
       "            <td>0</td>\n",
       "            <td>0</td>\n",
       "            <td>0</td>\n",
       "            <td>842</td>\n",
       "            <td>0.0</td>\n",
       "            <td>None</td>\n",
       "            <td>None</td>\n",
       "            <td>None</td>\n",
       "            <td>1</td>\n",
       "        </tr>\n",
       "        <tr>\n",
       "            <td>197</td>\n",
       "            <td>ee</td>\n",
       "            <td>European Union</td>\n",
       "            <td>4324782</td>\n",
       "            <td>None</td>\n",
       "            <td>None</td>\n",
       "            <td>513949445</td>\n",
       "            <td>0.25</td>\n",
       "            <td>10.2</td>\n",
       "            <td>10.2</td>\n",
       "            <td>2.5</td>\n",
       "            <td>1</td>\n",
       "        </tr>\n",
       "        <tr>\n",
       "            <td>261</td>\n",
       "            <td>xx</td>\n",
       "            <td>World</td>\n",
       "            <td>None</td>\n",
       "            <td>None</td>\n",
       "            <td>None</td>\n",
       "            <td>7256490011</td>\n",
       "            <td>1.08</td>\n",
       "            <td>18.6</td>\n",
       "            <td>7.8</td>\n",
       "            <td>None</td>\n",
       "            <td>1</td>\n",
       "        </tr>\n",
       "    </tbody>\n",
       "</table>"
      ],
      "text/plain": [
       "[(190, 'vt', 'Holy See (Vatican City)', 0, 0, 0, 842, 0.0, None, None, None, 1),\n",
       " (197, 'ee', 'European Union', 4324782, None, None, 513949445, 0.25, 10.2, 10.2, 2.5, 1),\n",
       " (261, 'xx', 'World', None, None, None, 7256490011, 1.08, 18.6, 7.8, None, 1)]"
      ]
     },
     "execution_count": 10,
     "metadata": {},
     "output_type": "execute_result"
    }
   ],
   "source": [
    "%%sql\n",
    "SELECT *\n",
    "  FROM facts\n",
    " WHERE name IN ('World', 'Holy See (Vatican City)','European Union')"
   ]
  },
  {
   "cell_type": "code",
   "execution_count": 11,
   "id": "5fbf6113",
   "metadata": {
    "scrolled": true
   },
   "outputs": [
    {
     "name": "stdout",
     "output_type": "stream",
     "text": [
      " * sqlite:///factbook.db\n",
      "22 rows affected.\n"
     ]
    },
    {
     "data": {
      "text/plain": [
       "[]"
      ]
     },
     "execution_count": 11,
     "metadata": {},
     "output_type": "execute_result"
    }
   ],
   "source": [
    "%%sql\n",
    "UPDATE facts\n",
    "   SET is_a_country = 0\n",
    " WHERE population IS NULL\n",
    "--     OR (population IS NOT NULL \n",
    "--         AND population_growth IS NULL \n",
    "--        AND birth_rate IS NULL \n",
    "--        AND death_rate IS NULL)\n",
    "    OR name IN ('World', 'Holy See (Vatican City)', 'European Union')"
   ]
  },
  {
   "cell_type": "code",
   "execution_count": 12,
   "id": "dbf64324",
   "metadata": {},
   "outputs": [
    {
     "name": "stdout",
     "output_type": "stream",
     "text": [
      " * sqlite:///factbook.db\n",
      "1 rows affected.\n"
     ]
    },
    {
     "data": {
      "text/plain": [
       "[]"
      ]
     },
     "execution_count": 12,
     "metadata": {},
     "output_type": "execute_result"
    }
   ],
   "source": [
    "%%sql\n",
    "UPDATE facts \n",
    "   SET area = 25, area_land = 25\n",
    " WHERE name = 'Saint Barthelemy'"
   ]
  },
  {
   "cell_type": "markdown",
   "id": "2f5e4bff",
   "metadata": {},
   "source": [
    "Saint Barthelemy has an area of 25 square km but is erroneously shown with a null value."
   ]
  },
  {
   "cell_type": "code",
   "execution_count": 13,
   "id": "ba0ceec6",
   "metadata": {
    "scrolled": true
   },
   "outputs": [
    {
     "name": "stdout",
     "output_type": "stream",
     "text": [
      " * sqlite:///factbook.db\n",
      "Done.\n"
     ]
    },
    {
     "data": {
      "text/html": [
       "<table>\n",
       "    <thead>\n",
       "        <tr>\n",
       "            <th>id</th>\n",
       "            <th>code</th>\n",
       "            <th>name</th>\n",
       "            <th>area</th>\n",
       "            <th>area_land</th>\n",
       "            <th>area_water</th>\n",
       "            <th>population</th>\n",
       "            <th>population_growth</th>\n",
       "            <th>birth_rate</th>\n",
       "            <th>death_rate</th>\n",
       "            <th>migration_rate</th>\n",
       "            <th>is_a_country</th>\n",
       "        </tr>\n",
       "    </thead>\n",
       "    <tbody>\n",
       "    </tbody>\n",
       "</table>"
      ],
      "text/plain": [
       "[]"
      ]
     },
     "execution_count": 13,
     "metadata": {},
     "output_type": "execute_result"
    }
   ],
   "source": [
    "%%sql\n",
    "SELECT * FROM facts\n",
    "WHERE is_a_country = 1\n",
    "  AND (area IS NULL OR area_land IS NULL)"
   ]
  },
  {
   "cell_type": "markdown",
   "id": "8ccf430e",
   "metadata": {},
   "source": [
    "It doesn't make sense for a location to have land area but not area. We fill in the blanks by totaling land area and water area when appropriate or setting the land area equal to the area and vice versa if one is not provided."
   ]
  },
  {
   "cell_type": "code",
   "execution_count": 14,
   "id": "f63887b0",
   "metadata": {},
   "outputs": [
    {
     "name": "stdout",
     "output_type": "stream",
     "text": [
      " * sqlite:///factbook.db\n",
      "2 rows affected.\n"
     ]
    },
    {
     "data": {
      "text/plain": [
       "[]"
      ]
     },
     "execution_count": 14,
     "metadata": {},
     "output_type": "execute_result"
    }
   ],
   "source": [
    "%%sql\n",
    "UPDATE facts \n",
    "   SET area = area_land + area_water WHERE name IN ('Chad', 'Niger')"
   ]
  },
  {
   "cell_type": "code",
   "execution_count": 15,
   "id": "f8679ace",
   "metadata": {},
   "outputs": [
    {
     "name": "stdout",
     "output_type": "stream",
     "text": [
      " * sqlite:///factbook.db\n",
      "1 rows affected.\n"
     ]
    },
    {
     "data": {
      "text/plain": [
       "[]"
      ]
     },
     "execution_count": 15,
     "metadata": {},
     "output_type": "execute_result"
    }
   ],
   "source": [
    "%%sql\n",
    "UPDATE facts\n",
    "   SET area_land = area - area_water WHERE name IN ('Ethiopia')"
   ]
  },
  {
   "cell_type": "code",
   "execution_count": 16,
   "id": "4cc2feee",
   "metadata": {},
   "outputs": [
    {
     "name": "stdout",
     "output_type": "stream",
     "text": [
      " * sqlite:///factbook.db\n",
      "4 rows affected.\n"
     ]
    },
    {
     "data": {
      "text/plain": [
       "[]"
      ]
     },
     "execution_count": 16,
     "metadata": {},
     "output_type": "execute_result"
    }
   ],
   "source": [
    "%%sql\n",
    "UPDATE facts\n",
    "   SET area_land = area WHERE name IN ('South Sudan', 'Sudan', 'Akrotiri', 'Dhekelia')"
   ]
  },
  {
   "cell_type": "code",
   "execution_count": 17,
   "id": "2ab0cfae",
   "metadata": {},
   "outputs": [
    {
     "name": "stdout",
     "output_type": "stream",
     "text": [
      " * sqlite:///factbook.db\n",
      "1 rows affected.\n"
     ]
    },
    {
     "data": {
      "text/plain": [
       "[]"
      ]
     },
     "execution_count": 17,
     "metadata": {},
     "output_type": "execute_result"
    }
   ],
   "source": [
    "%%sql\n",
    "UPDATE facts\n",
    "  SET area = area_land WHERE name IN ('Antarctica')"
   ]
  },
  {
   "cell_type": "code",
   "execution_count": 18,
   "id": "8dac09a7",
   "metadata": {},
   "outputs": [
    {
     "name": "stdout",
     "output_type": "stream",
     "text": [
      " * sqlite:///factbook.db\n",
      "Done.\n"
     ]
    },
    {
     "data": {
      "text/html": [
       "<table>\n",
       "    <thead>\n",
       "        <tr>\n",
       "            <th>COUNT(*)</th>\n",
       "        </tr>\n",
       "    </thead>\n",
       "    <tbody>\n",
       "        <tr>\n",
       "            <td>239</td>\n",
       "        </tr>\n",
       "    </tbody>\n",
       "</table>"
      ],
      "text/plain": [
       "[(239,)]"
      ]
     },
     "execution_count": 18,
     "metadata": {},
     "output_type": "execute_result"
    }
   ],
   "source": [
    "%%sql\n",
    "SELECT COUNT(*) FROM facts\n",
    "WHERE is_a_country = 1"
   ]
  },
  {
   "cell_type": "markdown",
   "id": "b0f8876a",
   "metadata": {},
   "source": [
    "We removed the most obvious locations like `World`, `Vatican City` and `European Union` as well as sparse islands and main oceans that are not countries. While there are far less countries than the 239 locations we narrowed the analysis down to, we now have a dataset with locations that are either countries or territories inhabited by people."
   ]
  },
  {
   "cell_type": "code",
   "execution_count": 19,
   "id": "ad0be0fd",
   "metadata": {
    "scrolled": true
   },
   "outputs": [
    {
     "name": "stdout",
     "output_type": "stream",
     "text": [
      " * sqlite:///factbook.db\n",
      "Done.\n"
     ]
    },
    {
     "data": {
      "text/html": [
       "<table>\n",
       "    <thead>\n",
       "        <tr>\n",
       "            <th>id</th>\n",
       "            <th>code</th>\n",
       "            <th>name</th>\n",
       "            <th>area</th>\n",
       "            <th>area_land</th>\n",
       "            <th>area_water</th>\n",
       "            <th>population</th>\n",
       "            <th>population_growth</th>\n",
       "            <th>birth_rate</th>\n",
       "            <th>death_rate</th>\n",
       "            <th>migration_rate</th>\n",
       "            <th>is_a_country</th>\n",
       "        </tr>\n",
       "    </thead>\n",
       "    <tbody>\n",
       "        <tr>\n",
       "            <td>126</td>\n",
       "            <td>nz</td>\n",
       "            <td>New Zealand</td>\n",
       "            <td>267710</td>\n",
       "            <td>267710</td>\n",
       "            <td>None</td>\n",
       "            <td>4438393</td>\n",
       "            <td>0.82</td>\n",
       "            <td>13.33</td>\n",
       "            <td>7.36</td>\n",
       "            <td>2.21</td>\n",
       "            <td>1</td>\n",
       "        </tr>\n",
       "        <tr>\n",
       "            <td>162</td>\n",
       "            <td>od</td>\n",
       "            <td>South Sudan</td>\n",
       "            <td>644329</td>\n",
       "            <td>644329</td>\n",
       "            <td>None</td>\n",
       "            <td>12042910</td>\n",
       "            <td>4.02</td>\n",
       "            <td>36.91</td>\n",
       "            <td>8.18</td>\n",
       "            <td>11.47</td>\n",
       "            <td>1</td>\n",
       "        </tr>\n",
       "        <tr>\n",
       "            <td>165</td>\n",
       "            <td>su</td>\n",
       "            <td>Sudan</td>\n",
       "            <td>1861484</td>\n",
       "            <td>1861484</td>\n",
       "            <td>None</td>\n",
       "            <td>36108853</td>\n",
       "            <td>1.72</td>\n",
       "            <td>29.19</td>\n",
       "            <td>7.66</td>\n",
       "            <td>4.29</td>\n",
       "            <td>1</td>\n",
       "        </tr>\n",
       "        <tr>\n",
       "            <td>207</td>\n",
       "            <td>gl</td>\n",
       "            <td>Greenland</td>\n",
       "            <td>2166086</td>\n",
       "            <td>2166086</td>\n",
       "            <td>None</td>\n",
       "            <td>57733</td>\n",
       "            <td>0.0</td>\n",
       "            <td>14.48</td>\n",
       "            <td>8.49</td>\n",
       "            <td>5.98</td>\n",
       "            <td>1</td>\n",
       "        </tr>\n",
       "        <tr>\n",
       "            <td>212</td>\n",
       "            <td>tb</td>\n",
       "            <td>Saint Barthelemy</td>\n",
       "            <td>25</td>\n",
       "            <td>25</td>\n",
       "            <td>None</td>\n",
       "            <td>7237</td>\n",
       "            <td>None</td>\n",
       "            <td>None</td>\n",
       "            <td>None</td>\n",
       "            <td>None</td>\n",
       "            <td>1</td>\n",
       "        </tr>\n",
       "        <tr>\n",
       "            <td>213</td>\n",
       "            <td>rn</td>\n",
       "            <td>Saint Martin</td>\n",
       "            <td>54</td>\n",
       "            <td>54</td>\n",
       "            <td>None</td>\n",
       "            <td>31754</td>\n",
       "            <td>None</td>\n",
       "            <td>None</td>\n",
       "            <td>None</td>\n",
       "            <td>None</td>\n",
       "            <td>1</td>\n",
       "        </tr>\n",
       "        <tr>\n",
       "            <td>225</td>\n",
       "            <td>ax</td>\n",
       "            <td>Akrotiri</td>\n",
       "            <td>123</td>\n",
       "            <td>123</td>\n",
       "            <td>None</td>\n",
       "            <td>15700</td>\n",
       "            <td>None</td>\n",
       "            <td>None</td>\n",
       "            <td>None</td>\n",
       "            <td>None</td>\n",
       "            <td>1</td>\n",
       "        </tr>\n",
       "        <tr>\n",
       "            <td>231</td>\n",
       "            <td>dx</td>\n",
       "            <td>Dhekelia</td>\n",
       "            <td>130</td>\n",
       "            <td>130</td>\n",
       "            <td>None</td>\n",
       "            <td>15700</td>\n",
       "            <td>None</td>\n",
       "            <td>None</td>\n",
       "            <td>None</td>\n",
       "            <td>None</td>\n",
       "            <td>1</td>\n",
       "        </tr>\n",
       "        <tr>\n",
       "            <td>250</td>\n",
       "            <td>ay</td>\n",
       "            <td>Antarctica</td>\n",
       "            <td>280000</td>\n",
       "            <td>280000</td>\n",
       "            <td>None</td>\n",
       "            <td>0</td>\n",
       "            <td>None</td>\n",
       "            <td>None</td>\n",
       "            <td>None</td>\n",
       "            <td>None</td>\n",
       "            <td>1</td>\n",
       "        </tr>\n",
       "    </tbody>\n",
       "</table>"
      ],
      "text/plain": [
       "[(126, 'nz', 'New Zealand', 267710, 267710, None, 4438393, 0.82, 13.33, 7.36, 2.21, 1),\n",
       " (162, 'od', 'South Sudan', 644329, 644329, None, 12042910, 4.02, 36.91, 8.18, 11.47, 1),\n",
       " (165, 'su', 'Sudan', 1861484, 1861484, None, 36108853, 1.72, 29.19, 7.66, 4.29, 1),\n",
       " (207, 'gl', 'Greenland', 2166086, 2166086, None, 57733, 0.0, 14.48, 8.49, 5.98, 1),\n",
       " (212, 'tb', 'Saint Barthelemy', 25, 25, None, 7237, None, None, None, None, 1),\n",
       " (213, 'rn', 'Saint Martin', 54, 54, None, 31754, None, None, None, None, 1),\n",
       " (225, 'ax', 'Akrotiri', 123, 123, None, 15700, None, None, None, None, 1),\n",
       " (231, 'dx', 'Dhekelia', 130, 130, None, 15700, None, None, None, None, 1),\n",
       " (250, 'ay', 'Antarctica', 280000, 280000, None, 0, None, None, None, None, 1)]"
      ]
     },
     "execution_count": 19,
     "metadata": {},
     "output_type": "execute_result"
    }
   ],
   "source": [
    "%%sql\n",
    "SELECT * FROM facts\n",
    "WHERE is_a_country = 1 AND area_water IS NULL"
   ]
  },
  {
   "cell_type": "markdown",
   "id": "a0ac2277",
   "metadata": {},
   "source": [
    "## Exploring Outliers"
   ]
  },
  {
   "cell_type": "code",
   "execution_count": 20,
   "id": "acec4cd9",
   "metadata": {},
   "outputs": [
    {
     "name": "stdout",
     "output_type": "stream",
     "text": [
      " * sqlite:///factbook.db\n",
      "Done.\n"
     ]
    },
    {
     "data": {
      "text/html": [
       "<table>\n",
       "    <thead>\n",
       "        <tr>\n",
       "            <th>name</th>\n",
       "        </tr>\n",
       "    </thead>\n",
       "    <tbody>\n",
       "        <tr>\n",
       "            <td>Antarctica</td>\n",
       "        </tr>\n",
       "    </tbody>\n",
       "</table>"
      ],
      "text/plain": [
       "[('Antarctica',)]"
      ]
     },
     "execution_count": 20,
     "metadata": {},
     "output_type": "execute_result"
    }
   ],
   "source": [
    "%%sql\n",
    "SELECT name\n",
    "  FROM facts\n",
    " WHERE population = (SELECT min(population) \n",
    "                       FROM facts)\n",
    "   AND is_a_country = 1"
   ]
  },
  {
   "cell_type": "markdown",
   "id": "f16542fc",
   "metadata": {},
   "source": [
    "It makes sense that Antartica would show a zero population count."
   ]
  },
  {
   "cell_type": "code",
   "execution_count": 21,
   "id": "5b4d330a",
   "metadata": {
    "scrolled": false
   },
   "outputs": [
    {
     "name": "stdout",
     "output_type": "stream",
     "text": [
      " * sqlite:///factbook.db\n",
      "Done.\n"
     ]
    },
    {
     "data": {
      "text/html": [
       "<table>\n",
       "    <thead>\n",
       "        <tr>\n",
       "            <th>min_population</th>\n",
       "            <th>max_population</th>\n",
       "            <th>min_population_growth</th>\n",
       "            <th>max_population_growth</th>\n",
       "        </tr>\n",
       "    </thead>\n",
       "    <tbody>\n",
       "        <tr>\n",
       "            <td>0</td>\n",
       "            <td>1367485388</td>\n",
       "            <td>0.0</td>\n",
       "            <td>4.02</td>\n",
       "        </tr>\n",
       "    </tbody>\n",
       "</table>"
      ],
      "text/plain": [
       "[(0, 1367485388, 0.0, 4.02)]"
      ]
     },
     "execution_count": 21,
     "metadata": {},
     "output_type": "execute_result"
    }
   ],
   "source": [
    "%%sql\n",
    "SELECT min(population) AS min_population,\n",
    "       max(population) AS max_population,\n",
    "       min(population_growth) AS min_population_growth,\n",
    "       max(population_growth) AS max_population_growth\n",
    "  FROM facts\n",
    " WHERE is_a_country = 1"
   ]
  },
  {
   "cell_type": "markdown",
   "id": "2e411aee",
   "metadata": {},
   "source": [
    "The new maximum population count is now 1,367,485,388 people."
   ]
  },
  {
   "cell_type": "code",
   "execution_count": 22,
   "id": "3ce3a927",
   "metadata": {},
   "outputs": [
    {
     "name": "stdout",
     "output_type": "stream",
     "text": [
      " * sqlite:///factbook.db\n",
      "Done.\n"
     ]
    },
    {
     "data": {
      "text/html": [
       "<table>\n",
       "    <thead>\n",
       "        <tr>\n",
       "            <th>name</th>\n",
       "        </tr>\n",
       "    </thead>\n",
       "    <tbody>\n",
       "        <tr>\n",
       "            <td>China</td>\n",
       "        </tr>\n",
       "    </tbody>\n",
       "</table>"
      ],
      "text/plain": [
       "[('China',)]"
      ]
     },
     "execution_count": 22,
     "metadata": {},
     "output_type": "execute_result"
    }
   ],
   "source": [
    "%%sql\n",
    "SELECT name\n",
    "  FROM facts\n",
    " WHERE population = (SELECT max(population) \n",
    "                       FROM facts WHERE is_a_country = 1)"
   ]
  },
  {
   "cell_type": "markdown",
   "id": "393cf1ae",
   "metadata": {},
   "source": [
    "We see that the country with the highest population count is China."
   ]
  },
  {
   "cell_type": "markdown",
   "id": "40466643",
   "metadata": {},
   "source": [
    "## Finding Densely Populated Countries"
   ]
  },
  {
   "cell_type": "markdown",
   "id": "fdc89457",
   "metadata": {},
   "source": [
    "We would like to know the most densely populated countries. In order to do that, we have to set a baseline comparison so we calculate what the average population and average area size are for all the countries."
   ]
  },
  {
   "cell_type": "code",
   "execution_count": 23,
   "id": "e63d2f7b",
   "metadata": {
    "scrolled": true
   },
   "outputs": [
    {
     "name": "stdout",
     "output_type": "stream",
     "text": [
      " * sqlite:///factbook.db\n",
      "Done.\n"
     ]
    },
    {
     "data": {
      "text/html": [
       "<table>\n",
       "    <thead>\n",
       "        <tr>\n",
       "            <th>avg_population</th>\n",
       "            <th>avg_area_land</th>\n",
       "            <th>avg_population_density</th>\n",
       "        </tr>\n",
       "    </thead>\n",
       "    <tbody>\n",
       "        <tr>\n",
       "            <td>30362060.07</td>\n",
       "            <td>552661.45</td>\n",
       "            <td>54.94</td>\n",
       "        </tr>\n",
       "    </tbody>\n",
       "</table>"
      ],
      "text/plain": [
       "[(30362060.07, 552661.45, 54.94)]"
      ]
     },
     "execution_count": 23,
     "metadata": {},
     "output_type": "execute_result"
    }
   ],
   "source": [
    "%%sql\n",
    "SELECT ROUND(AVG(population), 2) AS avg_population, \n",
    "       ROUND(AVG(area_land), 2) AS avg_area_land,\n",
    "       ROUND(CAST(AVG(population) AS FLOAT) / AVG(area_land), 2) AS avg_population_density\n",
    "  FROM facts\n",
    " WHERE is_a_country = 1"
   ]
  },
  {
   "cell_type": "markdown",
   "id": "6add0087",
   "metadata": {},
   "source": [
    "The average population count is 30,362,060 people and the average land area is 552,661 square kilometers.\n",
    "\n",
    "We calculate the average population density to be 54.94 persons per square kilometers."
   ]
  },
  {
   "cell_type": "code",
   "execution_count": 24,
   "id": "ebd9922f",
   "metadata": {
    "scrolled": true
   },
   "outputs": [
    {
     "name": "stdout",
     "output_type": "stream",
     "text": [
      " * sqlite:///factbook.db\n",
      "Done.\n"
     ]
    },
    {
     "data": {
      "text/html": [
       "<table>\n",
       "    <thead>\n",
       "        <tr>\n",
       "            <th>name</th>\n",
       "            <th>population_density</th>\n",
       "            <th>area_land</th>\n",
       "        </tr>\n",
       "    </thead>\n",
       "    <tbody>\n",
       "        <tr>\n",
       "            <td>Macau</td>\n",
       "            <td>21168.96</td>\n",
       "            <td>28</td>\n",
       "        </tr>\n",
       "        <tr>\n",
       "            <td>Monaco</td>\n",
       "            <td>15267.5</td>\n",
       "            <td>2</td>\n",
       "        </tr>\n",
       "        <tr>\n",
       "            <td>Singapore</td>\n",
       "            <td>8259.78</td>\n",
       "            <td>687</td>\n",
       "        </tr>\n",
       "        <tr>\n",
       "            <td>Hong Kong</td>\n",
       "            <td>6655.27</td>\n",
       "            <td>1073</td>\n",
       "        </tr>\n",
       "        <tr>\n",
       "            <td>Gaza Strip</td>\n",
       "            <td>5191.82</td>\n",
       "            <td>360</td>\n",
       "        </tr>\n",
       "    </tbody>\n",
       "</table>"
      ],
      "text/plain": [
       "[('Macau', 21168.96, 28),\n",
       " ('Monaco', 15267.5, 2),\n",
       " ('Singapore', 8259.78, 687),\n",
       " ('Hong Kong', 6655.27, 1073),\n",
       " ('Gaza Strip', 5191.82, 360)]"
      ]
     },
     "execution_count": 24,
     "metadata": {},
     "output_type": "execute_result"
    }
   ],
   "source": [
    "%%sql\n",
    "SELECT name, \n",
    "       ROUND(CAST(population AS FLOAT)/area_land, 2) AS population_density,\n",
    "       area_land\n",
    "  FROM facts\n",
    " ORDER BY population_density DESC \n",
    " LIMIT 5;"
   ]
  },
  {
   "cell_type": "code",
   "execution_count": 25,
   "id": "ccbb659b",
   "metadata": {},
   "outputs": [
    {
     "data": {
      "text/plain": [
       "385.29304696032034"
      ]
     },
     "execution_count": 25,
     "metadata": {},
     "output_type": "execute_result"
    }
   ],
   "source": [
    "21168/54.94"
   ]
  },
  {
   "cell_type": "code",
   "execution_count": 26,
   "id": "b82e1f34",
   "metadata": {},
   "outputs": [
    {
     "data": {
      "text/plain": [
       "277.8849654168184"
      ]
     },
     "execution_count": 26,
     "metadata": {},
     "output_type": "execute_result"
    }
   ],
   "source": [
    "15267/54.94"
   ]
  },
  {
   "cell_type": "markdown",
   "id": "aa46db71",
   "metadata": {},
   "source": [
    "The most crowded country is Macau, with a population density 385 times the average. Monaco comes in second with 278 times the average."
   ]
  },
  {
   "cell_type": "code",
   "execution_count": 27,
   "id": "ec612748",
   "metadata": {},
   "outputs": [
    {
     "name": "stdout",
     "output_type": "stream",
     "text": [
      " * sqlite:///factbook.db\n",
      "Done.\n"
     ]
    },
    {
     "data": {
      "text/html": [
       "<table>\n",
       "    <thead>\n",
       "        <tr>\n",
       "            <th>name</th>\n",
       "            <th>population_density</th>\n",
       "            <th>area_land</th>\n",
       "        </tr>\n",
       "    </thead>\n",
       "    <tbody>\n",
       "        <tr>\n",
       "            <td>Antarctica</td>\n",
       "            <td>0.0</td>\n",
       "            <td>280000</td>\n",
       "        </tr>\n",
       "        <tr>\n",
       "            <td>Greenland</td>\n",
       "            <td>0.03</td>\n",
       "            <td>2166086</td>\n",
       "        </tr>\n",
       "        <tr>\n",
       "            <td>Svalbard</td>\n",
       "            <td>0.03</td>\n",
       "            <td>62045</td>\n",
       "        </tr>\n",
       "        <tr>\n",
       "            <td>Falkland Islands (Islas Malvinas)</td>\n",
       "            <td>0.28</td>\n",
       "            <td>12173</td>\n",
       "        </tr>\n",
       "        <tr>\n",
       "            <td>Pitcairn Islands</td>\n",
       "            <td>1.02</td>\n",
       "            <td>47</td>\n",
       "        </tr>\n",
       "    </tbody>\n",
       "</table>"
      ],
      "text/plain": [
       "[('Antarctica', 0.0, 280000),\n",
       " ('Greenland', 0.03, 2166086),\n",
       " ('Svalbard', 0.03, 62045),\n",
       " ('Falkland Islands (Islas Malvinas)', 0.28, 12173),\n",
       " ('Pitcairn Islands', 1.02, 47)]"
      ]
     },
     "execution_count": 27,
     "metadata": {},
     "output_type": "execute_result"
    }
   ],
   "source": [
    "%%sql\n",
    "SELECT name,\n",
    "       ROUND(CAST(population AS FLOAT)/area_land, 2) AS population_density,\n",
    "       area_land\n",
    "  FROM facts\n",
    " WHERE is_a_country = 1\n",
    " ORDER BY population_density  \n",
    " LIMIT 5;"
   ]
  },
  {
   "cell_type": "markdown",
   "id": "ce7c9792",
   "metadata": {},
   "source": [
    "The least densely populated countries are Antartica, Greenland and Svalbard. Antartica does not have a native population. 80% of Greenland is covered in inhabitable permanent ice sheets while Svalbard is made up of 400 partially inhabitable islands."
   ]
  },
  {
   "cell_type": "markdown",
   "id": "40eccf53",
   "metadata": {},
   "source": [
    "## Finding Countries with High Population-to-Area Ratio "
   ]
  },
  {
   "cell_type": "markdown",
   "id": "8da9f1cc",
   "metadata": {},
   "source": [
    "We want to see if countries are densely populated because of geographic reasons, whether the land area cannot meet the population demand."
   ]
  },
  {
   "cell_type": "code",
   "execution_count": 28,
   "id": "a810d667",
   "metadata": {
    "scrolled": true
   },
   "outputs": [
    {
     "name": "stdout",
     "output_type": "stream",
     "text": [
      " * sqlite:///factbook.db\n",
      "Done.\n"
     ]
    },
    {
     "data": {
      "text/html": [
       "<table>\n",
       "    <thead>\n",
       "        <tr>\n",
       "            <th>name</th>\n",
       "            <th>population_to_area</th>\n",
       "            <th>area</th>\n",
       "            <th>area_land</th>\n",
       "        </tr>\n",
       "    </thead>\n",
       "    <tbody>\n",
       "        <tr>\n",
       "            <td>Macau</td>\n",
       "            <td>21168</td>\n",
       "            <td>28</td>\n",
       "            <td>28</td>\n",
       "        </tr>\n",
       "        <tr>\n",
       "            <td>Monaco</td>\n",
       "            <td>15267</td>\n",
       "            <td>2</td>\n",
       "            <td>2</td>\n",
       "        </tr>\n",
       "        <tr>\n",
       "            <td>Singapore</td>\n",
       "            <td>8141</td>\n",
       "            <td>697</td>\n",
       "            <td>687</td>\n",
       "        </tr>\n",
       "        <tr>\n",
       "            <td>Hong Kong</td>\n",
       "            <td>6445</td>\n",
       "            <td>1108</td>\n",
       "            <td>1073</td>\n",
       "        </tr>\n",
       "        <tr>\n",
       "            <td>Gaza Strip</td>\n",
       "            <td>5191</td>\n",
       "            <td>360</td>\n",
       "            <td>360</td>\n",
       "        </tr>\n",
       "    </tbody>\n",
       "</table>"
      ],
      "text/plain": [
       "[('Macau', 21168, 28, 28),\n",
       " ('Monaco', 15267, 2, 2),\n",
       " ('Singapore', 8141, 697, 687),\n",
       " ('Hong Kong', 6445, 1108, 1073),\n",
       " ('Gaza Strip', 5191, 360, 360)]"
      ]
     },
     "execution_count": 28,
     "metadata": {},
     "output_type": "execute_result"
    }
   ],
   "source": [
    "%%sql\n",
    "SELECT name,\n",
    "       population/area as population_to_area,\n",
    "       area,\n",
    "       area_land\n",
    "  FROM facts\n",
    " WHERE is_a_country = 1\n",
    " GROUP BY name\n",
    " ORDER BY population_to_area DESC\n",
    " LIMIT 5;"
   ]
  },
  {
   "cell_type": "markdown",
   "id": "09873e42",
   "metadata": {
    "scrolled": true
   },
   "source": [
    "The top five most densely populated (highest population-to-land-area) countries are also the countries with the highest population-to-area ratios. This is due to the land area for these countries being close to, if not the same, as the total area. We note that a few of these are not countries, so we refer to them as locations."
   ]
  },
  {
   "cell_type": "markdown",
   "id": "302b949e",
   "metadata": {},
   "source": [
    "## Finding Countries with the Largest Population"
   ]
  },
  {
   "cell_type": "code",
   "execution_count": 29,
   "id": "a6406c08",
   "metadata": {
    "scrolled": true
   },
   "outputs": [
    {
     "name": "stdout",
     "output_type": "stream",
     "text": [
      " * sqlite:///factbook.db\n",
      "Done.\n"
     ]
    },
    {
     "data": {
      "text/html": [
       "<table>\n",
       "    <thead>\n",
       "        <tr>\n",
       "            <th>name</th>\n",
       "            <th>population</th>\n",
       "            <th>population_growth</th>\n",
       "        </tr>\n",
       "    </thead>\n",
       "    <tbody>\n",
       "        <tr>\n",
       "            <td>China</td>\n",
       "            <td>1367485388</td>\n",
       "            <td>0.45</td>\n",
       "        </tr>\n",
       "        <tr>\n",
       "            <td>India</td>\n",
       "            <td>1251695584</td>\n",
       "            <td>1.22</td>\n",
       "        </tr>\n",
       "        <tr>\n",
       "            <td>United States</td>\n",
       "            <td>321368864</td>\n",
       "            <td>0.78</td>\n",
       "        </tr>\n",
       "        <tr>\n",
       "            <td>Indonesia</td>\n",
       "            <td>255993674</td>\n",
       "            <td>0.92</td>\n",
       "        </tr>\n",
       "        <tr>\n",
       "            <td>Brazil</td>\n",
       "            <td>204259812</td>\n",
       "            <td>0.77</td>\n",
       "        </tr>\n",
       "    </tbody>\n",
       "</table>"
      ],
      "text/plain": [
       "[('China', 1367485388, 0.45),\n",
       " ('India', 1251695584, 1.22),\n",
       " ('United States', 321368864, 0.78),\n",
       " ('Indonesia', 255993674, 0.92),\n",
       " ('Brazil', 204259812, 0.77)]"
      ]
     },
     "execution_count": 29,
     "metadata": {},
     "output_type": "execute_result"
    }
   ],
   "source": [
    "%%sql\n",
    "SELECT name, \n",
    "       population,\n",
    "       population_growth\n",
    "  FROM facts\n",
    " WHERE is_a_country = 1\n",
    " ORDER BY population DESC \n",
    " LIMIT 5;"
   ]
  },
  {
   "cell_type": "markdown",
   "id": "824b65bc",
   "metadata": {},
   "source": [
    "The five countries with the most people (in order) are China, India, the EU, United States, and Indonesia."
   ]
  },
  {
   "cell_type": "markdown",
   "id": "08f977fd",
   "metadata": {},
   "source": [
    "## Finding Countries with the Highest Growth Rate"
   ]
  },
  {
   "cell_type": "code",
   "execution_count": 30,
   "id": "bf92844e",
   "metadata": {
    "scrolled": true
   },
   "outputs": [
    {
     "name": "stdout",
     "output_type": "stream",
     "text": [
      " * sqlite:///factbook.db\n",
      "Done.\n"
     ]
    },
    {
     "data": {
      "text/html": [
       "<table>\n",
       "    <thead>\n",
       "        <tr>\n",
       "            <th>name</th>\n",
       "            <th>population_growth</th>\n",
       "            <th>population</th>\n",
       "        </tr>\n",
       "    </thead>\n",
       "    <tbody>\n",
       "        <tr>\n",
       "            <td>South Sudan</td>\n",
       "            <td>4.02</td>\n",
       "            <td>12042910</td>\n",
       "        </tr>\n",
       "        <tr>\n",
       "            <td>Malawi</td>\n",
       "            <td>3.32</td>\n",
       "            <td>17964697</td>\n",
       "        </tr>\n",
       "        <tr>\n",
       "            <td>Burundi</td>\n",
       "            <td>3.28</td>\n",
       "            <td>10742276</td>\n",
       "        </tr>\n",
       "        <tr>\n",
       "            <td>Niger</td>\n",
       "            <td>3.25</td>\n",
       "            <td>18045729</td>\n",
       "        </tr>\n",
       "        <tr>\n",
       "            <td>Uganda</td>\n",
       "            <td>3.24</td>\n",
       "            <td>37101745</td>\n",
       "        </tr>\n",
       "    </tbody>\n",
       "</table>"
      ],
      "text/plain": [
       "[('South Sudan', 4.02, 12042910),\n",
       " ('Malawi', 3.32, 17964697),\n",
       " ('Burundi', 3.28, 10742276),\n",
       " ('Niger', 3.25, 18045729),\n",
       " ('Uganda', 3.24, 37101745)]"
      ]
     },
     "execution_count": 30,
     "metadata": {},
     "output_type": "execute_result"
    }
   ],
   "source": [
    "%%sql\n",
    "SELECT name, \n",
    "       population_growth,\n",
    "       population\n",
    "  FROM facts\n",
    " WHERE is_a_country = 1\n",
    " ORDER BY population_growth DESC \n",
    " LIMIT 5;"
   ]
  },
  {
   "cell_type": "markdown",
   "id": "f3c072e8",
   "metadata": {},
   "source": [
    "The five countries with the highest growth rate people (in order) are South Sudan, Malawi, Burundi, Niger, and Uganda."
   ]
  },
  {
   "cell_type": "markdown",
   "id": "ea139aac",
   "metadata": {},
   "source": [
    "## Finding Countries with Highest Ratios of Land to Water"
   ]
  },
  {
   "cell_type": "code",
   "execution_count": 31,
   "id": "14ec0f6c",
   "metadata": {},
   "outputs": [
    {
     "name": "stdout",
     "output_type": "stream",
     "text": [
      " * sqlite:///factbook.db\n",
      "Done.\n"
     ]
    },
    {
     "data": {
      "text/html": [
       "<table>\n",
       "    <thead>\n",
       "        <tr>\n",
       "            <th>name</th>\n",
       "            <th>area_land</th>\n",
       "            <th>area_water</th>\n",
       "            <th>land_to_water_ratio</th>\n",
       "        </tr>\n",
       "    </thead>\n",
       "    <tbody>\n",
       "        <tr>\n",
       "            <td>Bosnia and Herzegovina</td>\n",
       "            <td>51187</td>\n",
       "            <td>10</td>\n",
       "            <td>5118.7</td>\n",
       "        </tr>\n",
       "        <tr>\n",
       "            <td>Niger</td>\n",
       "            <td>1266700</td>\n",
       "            <td>300</td>\n",
       "            <td>4222.333333333333</td>\n",
       "        </tr>\n",
       "        <tr>\n",
       "            <td>Morocco</td>\n",
       "            <td>446300</td>\n",
       "            <td>250</td>\n",
       "            <td>1785.2</td>\n",
       "        </tr>\n",
       "        <tr>\n",
       "            <td>Guinea</td>\n",
       "            <td>245717</td>\n",
       "            <td>140</td>\n",
       "            <td>1755.1214285714286</td>\n",
       "        </tr>\n",
       "        <tr>\n",
       "            <td>Costa Rica</td>\n",
       "            <td>51060</td>\n",
       "            <td>40</td>\n",
       "            <td>1276.5</td>\n",
       "        </tr>\n",
       "    </tbody>\n",
       "</table>"
      ],
      "text/plain": [
       "[('Bosnia and Herzegovina', 51187, 10, 5118.7),\n",
       " ('Niger', 1266700, 300, 4222.333333333333),\n",
       " ('Morocco', 446300, 250, 1785.2),\n",
       " ('Guinea', 245717, 140, 1755.1214285714286),\n",
       " ('Costa Rica', 51060, 40, 1276.5)]"
      ]
     },
     "execution_count": 31,
     "metadata": {},
     "output_type": "execute_result"
    }
   ],
   "source": [
    "%%sql\n",
    "SELECT name, \n",
    "       area_land,\n",
    "       area_water,\n",
    "       CAST(area_land AS FLOAT)/area_water AS land_to_water_ratio\n",
    "  FROM facts\n",
    " WHERE is_a_country = 1\n",
    " ORDER BY land_to_water_ratio DESC \n",
    " LIMIT 5;"
   ]
  },
  {
   "cell_type": "markdown",
   "id": "34636a69",
   "metadata": {},
   "source": [
    "Note that while the above are the top five countries with the highest land-to-water ratio, it does not necessarily mean they are landlocked. Bosnia and Herzegovina has a unique geography in that most of its land closest to the shoreline is occupied by Croatia, making it almost landlocked. Niger, Morocco, and Guinea all have coastlines with a sizeable access to the Atlantic Ocean. Costa Rica is almost entirely surrounded by ocean."
   ]
  },
  {
   "cell_type": "markdown",
   "id": "01bbb00f",
   "metadata": {},
   "source": [
    "## Finding Countries with Lowest Ratios of Land to Water"
   ]
  },
  {
   "cell_type": "code",
   "execution_count": 32,
   "id": "6fb96e80",
   "metadata": {
    "scrolled": true
   },
   "outputs": [
    {
     "name": "stdout",
     "output_type": "stream",
     "text": [
      " * sqlite:///factbook.db\n",
      "Done.\n"
     ]
    },
    {
     "data": {
      "text/html": [
       "<table>\n",
       "    <thead>\n",
       "        <tr>\n",
       "            <th>name</th>\n",
       "            <th>area_land</th>\n",
       "            <th>area_water</th>\n",
       "            <th>land_to_water_ratio</th>\n",
       "        </tr>\n",
       "    </thead>\n",
       "    <tbody>\n",
       "        <tr>\n",
       "            <td>Algeria</td>\n",
       "            <td>2381741</td>\n",
       "            <td>0</td>\n",
       "            <td>None</td>\n",
       "        </tr>\n",
       "        <tr>\n",
       "            <td>Saudi Arabia</td>\n",
       "            <td>2149690</td>\n",
       "            <td>0</td>\n",
       "            <td>None</td>\n",
       "        </tr>\n",
       "        <tr>\n",
       "            <td>Libya</td>\n",
       "            <td>1759540</td>\n",
       "            <td>0</td>\n",
       "            <td>None</td>\n",
       "        </tr>\n",
       "        <tr>\n",
       "            <td>Angola</td>\n",
       "            <td>1246700</td>\n",
       "            <td>0</td>\n",
       "            <td>None</td>\n",
       "        </tr>\n",
       "        <tr>\n",
       "            <td>Mauritania</td>\n",
       "            <td>1030700</td>\n",
       "            <td>0</td>\n",
       "            <td>None</td>\n",
       "        </tr>\n",
       "    </tbody>\n",
       "</table>"
      ],
      "text/plain": [
       "[('Algeria', 2381741, 0, None),\n",
       " ('Saudi Arabia', 2149690, 0, None),\n",
       " ('Libya', 1759540, 0, None),\n",
       " ('Angola', 1246700, 0, None),\n",
       " ('Mauritania', 1030700, 0, None)]"
      ]
     },
     "execution_count": 32,
     "metadata": {},
     "output_type": "execute_result"
    }
   ],
   "source": [
    "%%sql\n",
    "SELECT name, \n",
    "       area_land,\n",
    "       area_water,\n",
    "       CAST(area_land AS FLOAT)/area_water AS land_to_water_ratio\n",
    "  FROM facts\n",
    " WHERE is_a_country = 1\n",
    "   AND area_water IS NOT NULL\n",
    " ORDER BY land_to_water_ratio, area_land DESC\n",
    " LIMIT 5;"
   ]
  },
  {
   "cell_type": "markdown",
   "id": "6d3886a5",
   "metadata": {},
   "source": [
    "The countries made up only of land (in descending order by land area) are Algeria, Saudi Arabia, Libya, Angola, and Mauritania. As expected, these are located in desert regions."
   ]
  },
  {
   "cell_type": "markdown",
   "id": "d8ef833f",
   "metadata": {},
   "source": [
    "## What countries will add the most people to their populations next year?"
   ]
  },
  {
   "cell_type": "code",
   "execution_count": 33,
   "id": "3281fd84",
   "metadata": {},
   "outputs": [
    {
     "name": "stdout",
     "output_type": "stream",
     "text": [
      " * sqlite:///factbook.db\n",
      "Done.\n"
     ]
    },
    {
     "data": {
      "text/html": [
       "<table>\n",
       "    <thead>\n",
       "        <tr>\n",
       "            <th>name</th>\n",
       "            <th>population</th>\n",
       "            <th>population_growth</th>\n",
       "            <th>annual_growth</th>\n",
       "        </tr>\n",
       "    </thead>\n",
       "    <tbody>\n",
       "        <tr>\n",
       "            <td>India</td>\n",
       "            <td>1251695584</td>\n",
       "            <td>1.22</td>\n",
       "            <td>15270686</td>\n",
       "        </tr>\n",
       "        <tr>\n",
       "            <td>China</td>\n",
       "            <td>1367485388</td>\n",
       "            <td>0.45</td>\n",
       "            <td>6153684</td>\n",
       "        </tr>\n",
       "        <tr>\n",
       "            <td>Nigeria</td>\n",
       "            <td>181562056</td>\n",
       "            <td>2.45</td>\n",
       "            <td>4448270</td>\n",
       "        </tr>\n",
       "        <tr>\n",
       "            <td>Pakistan</td>\n",
       "            <td>199085847</td>\n",
       "            <td>1.46</td>\n",
       "            <td>2906653</td>\n",
       "        </tr>\n",
       "        <tr>\n",
       "            <td>Ethiopia</td>\n",
       "            <td>99465819</td>\n",
       "            <td>2.89</td>\n",
       "            <td>2874562</td>\n",
       "        </tr>\n",
       "    </tbody>\n",
       "</table>"
      ],
      "text/plain": [
       "[('India', 1251695584, 1.22, 15270686),\n",
       " ('China', 1367485388, 0.45, 6153684),\n",
       " ('Nigeria', 181562056, 2.45, 4448270),\n",
       " ('Pakistan', 199085847, 1.46, 2906653),\n",
       " ('Ethiopia', 99465819, 2.89, 2874562)]"
      ]
     },
     "execution_count": 33,
     "metadata": {},
     "output_type": "execute_result"
    }
   ],
   "source": [
    "%%sql\n",
    "SELECT name, \n",
    "       population,\n",
    "       population_growth,\n",
    "       CAST(population*population_growth/100 AS INT) AS annual_growth\n",
    "  FROM facts\n",
    " WHERE is_a_country = 1\n",
    " ORDER BY annual_growth DESC\n",
    " LIMIT 5;"
   ]
  },
  {
   "cell_type": "markdown",
   "id": "8ab1f117",
   "metadata": {},
   "source": [
    "While the countries listed above do not have the highest population growth rates, both China and India are ranked one and two out of the countries with the highest population with over 1 billion people each. We can expect to see India add 15 million people next year, as many as the total expected population growth of China, Nigeria, Pakistan, and Ethiopia combined."
   ]
  },
  {
   "cell_type": "markdown",
   "id": "43c556df",
   "metadata": {},
   "source": [
    "## What countries have a natural decrease?"
   ]
  },
  {
   "cell_type": "code",
   "execution_count": 34,
   "id": "d0a66447",
   "metadata": {},
   "outputs": [
    {
     "name": "stdout",
     "output_type": "stream",
     "text": [
      " * sqlite:///factbook.db\n",
      "Done.\n"
     ]
    },
    {
     "data": {
      "text/html": [
       "<table>\n",
       "    <thead>\n",
       "        <tr>\n",
       "            <th>name</th>\n",
       "            <th>birth_rate</th>\n",
       "            <th>death_rate</th>\n",
       "        </tr>\n",
       "    </thead>\n",
       "    <tbody>\n",
       "        <tr>\n",
       "            <td>Ukraine</td>\n",
       "            <td>10.72</td>\n",
       "            <td>14.46</td>\n",
       "        </tr>\n",
       "        <tr>\n",
       "            <td>Bulgaria</td>\n",
       "            <td>8.92</td>\n",
       "            <td>14.44</td>\n",
       "        </tr>\n",
       "        <tr>\n",
       "            <td>Latvia</td>\n",
       "            <td>10.0</td>\n",
       "            <td>14.31</td>\n",
       "        </tr>\n",
       "        <tr>\n",
       "            <td>Lithuania</td>\n",
       "            <td>10.1</td>\n",
       "            <td>14.27</td>\n",
       "        </tr>\n",
       "        <tr>\n",
       "            <td>Russia</td>\n",
       "            <td>11.6</td>\n",
       "            <td>13.69</td>\n",
       "        </tr>\n",
       "        <tr>\n",
       "            <td>Serbia</td>\n",
       "            <td>9.08</td>\n",
       "            <td>13.66</td>\n",
       "        </tr>\n",
       "        <tr>\n",
       "            <td>Belarus</td>\n",
       "            <td>10.7</td>\n",
       "            <td>13.36</td>\n",
       "        </tr>\n",
       "        <tr>\n",
       "            <td>Hungary</td>\n",
       "            <td>9.16</td>\n",
       "            <td>12.73</td>\n",
       "        </tr>\n",
       "        <tr>\n",
       "            <td>Moldova</td>\n",
       "            <td>12.0</td>\n",
       "            <td>12.59</td>\n",
       "        </tr>\n",
       "        <tr>\n",
       "            <td>Estonia</td>\n",
       "            <td>10.51</td>\n",
       "            <td>12.4</td>\n",
       "        </tr>\n",
       "    </tbody>\n",
       "</table>"
      ],
      "text/plain": [
       "[('Ukraine', 10.72, 14.46),\n",
       " ('Bulgaria', 8.92, 14.44),\n",
       " ('Latvia', 10.0, 14.31),\n",
       " ('Lithuania', 10.1, 14.27),\n",
       " ('Russia', 11.6, 13.69),\n",
       " ('Serbia', 9.08, 13.66),\n",
       " ('Belarus', 10.7, 13.36),\n",
       " ('Hungary', 9.16, 12.73),\n",
       " ('Moldova', 12.0, 12.59),\n",
       " ('Estonia', 10.51, 12.4)]"
      ]
     },
     "execution_count": 34,
     "metadata": {},
     "output_type": "execute_result"
    }
   ],
   "source": [
    "%%sql\n",
    "SELECT name, \n",
    "       birth_rate,\n",
    "       death_rate\n",
    "  FROM facts\n",
    " WHERE is_a_country = 1\n",
    "   AND death_rate > birth_rate\n",
    " ORDER BY death_rate DESC\n",
    " LIMIT 10;"
   ]
  },
  {
   "cell_type": "markdown",
   "id": "d5e48748",
   "metadata": {},
   "source": [
    "## What countries have a natural increase?"
   ]
  },
  {
   "cell_type": "markdown",
   "id": "e64ab3c1",
   "metadata": {},
   "source": [
    "It appears that many European countries are afflicted with natural decrease, the highest being Ukraine, Bulgaria, Latvia, Lithuania, and Russia."
   ]
  },
  {
   "cell_type": "code",
   "execution_count": 35,
   "id": "ff95f1f4",
   "metadata": {},
   "outputs": [
    {
     "name": "stdout",
     "output_type": "stream",
     "text": [
      " * sqlite:///factbook.db\n",
      "Done.\n"
     ]
    },
    {
     "data": {
      "text/html": [
       "<table>\n",
       "    <thead>\n",
       "        <tr>\n",
       "            <th>name</th>\n",
       "            <th>birth_rate</th>\n",
       "            <th>death_rate</th>\n",
       "        </tr>\n",
       "    </thead>\n",
       "    <tbody>\n",
       "        <tr>\n",
       "            <td>Niger</td>\n",
       "            <td>45.45</td>\n",
       "            <td>12.42</td>\n",
       "        </tr>\n",
       "        <tr>\n",
       "            <td>Mali</td>\n",
       "            <td>44.99</td>\n",
       "            <td>12.89</td>\n",
       "        </tr>\n",
       "        <tr>\n",
       "            <td>Uganda</td>\n",
       "            <td>43.79</td>\n",
       "            <td>10.69</td>\n",
       "        </tr>\n",
       "        <tr>\n",
       "            <td>Zambia</td>\n",
       "            <td>42.13</td>\n",
       "            <td>12.67</td>\n",
       "        </tr>\n",
       "        <tr>\n",
       "            <td>Burkina Faso</td>\n",
       "            <td>42.03</td>\n",
       "            <td>11.72</td>\n",
       "        </tr>\n",
       "        <tr>\n",
       "            <td>Burundi</td>\n",
       "            <td>42.01</td>\n",
       "            <td>9.27</td>\n",
       "        </tr>\n",
       "        <tr>\n",
       "            <td>Malawi</td>\n",
       "            <td>41.56</td>\n",
       "            <td>8.41</td>\n",
       "        </tr>\n",
       "        <tr>\n",
       "            <td>Somalia</td>\n",
       "            <td>40.45</td>\n",
       "            <td>13.62</td>\n",
       "        </tr>\n",
       "        <tr>\n",
       "            <td>Angola</td>\n",
       "            <td>38.78</td>\n",
       "            <td>11.49</td>\n",
       "        </tr>\n",
       "        <tr>\n",
       "            <td>Mozambique</td>\n",
       "            <td>38.58</td>\n",
       "            <td>12.1</td>\n",
       "        </tr>\n",
       "    </tbody>\n",
       "</table>"
      ],
      "text/plain": [
       "[('Niger', 45.45, 12.42),\n",
       " ('Mali', 44.99, 12.89),\n",
       " ('Uganda', 43.79, 10.69),\n",
       " ('Zambia', 42.13, 12.67),\n",
       " ('Burkina Faso', 42.03, 11.72),\n",
       " ('Burundi', 42.01, 9.27),\n",
       " ('Malawi', 41.56, 8.41),\n",
       " ('Somalia', 40.45, 13.62),\n",
       " ('Angola', 38.78, 11.49),\n",
       " ('Mozambique', 38.58, 12.1)]"
      ]
     },
     "execution_count": 35,
     "metadata": {},
     "output_type": "execute_result"
    }
   ],
   "source": [
    "%%sql\n",
    "SELECT name, \n",
    "       birth_rate,\n",
    "       death_rate\n",
    "  FROM facts\n",
    " WHERE is_a_country = 1\n",
    "   AND death_rate < birth_rate\n",
    " ORDER BY birth_rate DESC\n",
    " LIMIT 10;"
   ]
  },
  {
   "cell_type": "markdown",
   "id": "f7d4c9cb",
   "metadata": {},
   "source": [
    "It appears that many African countries are afflicted with natural increase, the highest being Niger, Mali, Uganda, Zambia, and Burkina Faso."
   ]
  },
  {
   "cell_type": "code",
   "execution_count": null,
   "id": "0e69633f",
   "metadata": {},
   "outputs": [],
   "source": []
  }
 ],
 "metadata": {
  "kernelspec": {
   "display_name": "Python 3 (ipykernel)",
   "language": "python",
   "name": "python3"
  },
  "language_info": {
   "codemirror_mode": {
    "name": "ipython",
    "version": 3
   },
   "file_extension": ".py",
   "mimetype": "text/x-python",
   "name": "python",
   "nbconvert_exporter": "python",
   "pygments_lexer": "ipython3",
   "version": "3.11.3"
  }
 },
 "nbformat": 4,
 "nbformat_minor": 5
}
