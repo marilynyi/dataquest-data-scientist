{
 "cells": [
  {
   "cell_type": "markdown",
   "metadata": {},
   "source": [
    "# Mobile App for Lottery Addiction"
   ]
  },
  {
   "cell_type": "markdown",
   "metadata": {},
   "source": [
    "## Introduction"
   ]
  },
  {
   "cell_type": "markdown",
   "metadata": {},
   "source": [
    "### Scenario\n",
    "\n",
    ">Many people start playing the lottery for fun, but for some this activity turns into a habit which eventually escalates into addiction. Like other compulsive gamblers, lottery addicts soon begin spending from their savings and loans, accumulate debts, and eventually engage in desperate behaviors like theft.\n",
    ">\n",
    ">A medical institute that aims to prevent and treat gambling addictions wants to build a dedicated mobile app to help lottery addicts better estimate their chances of winning. The institute has a team of engineers that will build the app, but they need us to create the logical core of the app and calculate probabilities.\n",
    "\n",
    "\\- From Dataquest's guided project [introduction](https://app.dataquest.io/c/65/m/382/guided-project%3A-mobile-app-for-lottery-addiction/1/introduction?path=2&slug=data-scientist&version=1)"
   ]
  },
  {
   "cell_type": "markdown",
   "metadata": {},
   "source": [
    "### Goal\n",
    "\n",
    ">For the first version of the app, they want us to focus on the [6/49 lottery](https://en.wikipedia.org/wiki/Lotto_6/49) and build functions that enable users to answer questions like:\n",
    ">\n",
    ">- What is the probability of winning the big prize with a single ticket?\n",
    ">- What is the probability of winning the big prize if we play 40 different tickets (or any other number)?\n",
    ">- What is the probability of having at least five (or four, or three, or two) winning numbers on a single ticket?\n",
    ">\n",
    ">The institute also wants us to consider historical data coming from the national 6/49 lottery game in Canada. The [data set from Kaggle](https://www.kaggle.com/datasets/datascienceai/lottery-dataset) has data for 3,665 drawings, dating from 1982 to 2018.\n",
    "\n",
    "\\- From Dataquest's guided project [introduction](https://app.dataquest.io/c/65/m/382/guided-project%3A-mobile-app-for-lottery-addiction/1/introduction?path=2&slug=data-scientist&version=1)"
   ]
  },
  {
   "cell_type": "markdown",
   "metadata": {},
   "source": [
    "### Result\n",
    "\n",
    "The 6/49 Lottery has a fixed jackpot amount of \\\\$5 million with six matching numbers. Because the 6/49 is a Canadian lottery, the winnings are non-taxable so the winner takes home the full amount. Each ticket costs \\\\$3. The odds of winning jackpot is 1 in 13,983,816 or 0.0000071511%. Using historical winning numbers neither improves nor worsens the odds; the same with using Quick Pick versus manually choosing numbers.\n",
    "\n",
    "The odds of winning drastically improves to 1 in 13 if one purchases one million tickets which equates to a cost of \\\\$3 million and net profit of \\\\$2 million assuming one sole winner. Compare this to a more reasonable purchase amount of 40 tickets which costs \\\\$120 and decreases the odds of winning to 1 in 349,595. Based on individual risk threshold and disposable income level, one can \"game\" the system by purchasing more tickets to increase the odds. There is also the risk of sharing the prize with other potential winners which may remove net profit altogether.\n",
    "\n",
    "Prizes are also available if 2, 3, 4, or 5 numbers match the winning numbers. The odds of matching the winning numbers are listed below.\n",
    "\n",
    "| Match | Odds |\n",
    "| :--: | :-- |\n",
    "| 2 | 1 in 7 |\n",
    "| 3 | 1 in 56 |\n",
    "| 4 | 1 in 1,032 |\n",
    "| 5 | 1 in 54,200 |\n",
    "| 6 | 1 in 13,983,816 |"
   ]
  },
  {
   "cell_type": "markdown",
   "metadata": {},
   "source": [
    "## One-ticket Probability"
   ]
  },
  {
   "cell_type": "markdown",
   "metadata": {},
   "source": [
    ">\n",
    ">We discussed with the engineering team of the medical institute, and they told us we need to be aware of the following details when we write the function:\n",
    ">\n",
    ">- Inside the app, the user inputs six different numbers from 1 to 49.\n",
    ">- Under the hood, the six numbers will come as a Python list, which will serve as the single input to our function.\n",
    ">- The engineering team wants the function to print the probability value in a friendly way — in a way that people without any probability training are able to understand.\n",
    "\n",
    "\\- From the guided project's ['One-ticket Probability' section](https://app.dataquest.io/c/65/m/382/guided-project%3A-mobile-app-for-lottery-addiction/3/one-ticket-probability?path=2&slug=data-scientist&version=1)"
   ]
  },
  {
   "cell_type": "markdown",
   "metadata": {},
   "source": [
    "### Total number of combinations for a six-number lottery ticket"
   ]
  },
  {
   "cell_type": "code",
   "execution_count": 1,
   "metadata": {},
   "outputs": [],
   "source": [
    "def combinations(n, k):\n",
    "    def factorial(x):\n",
    "        n_fact = 1\n",
    "        for i in range(1, x+1):\n",
    "            n_fact *= i\n",
    "        return n_fact\n",
    "    return factorial(n)/(factorial(k)*factorial(n-k))"
   ]
  },
  {
   "cell_type": "code",
   "execution_count": 2,
   "metadata": {},
   "outputs": [
    {
     "name": "stdout",
     "output_type": "stream",
     "text": [
      "13,983,816\n"
     ]
    }
   ],
   "source": [
    "num_combos = combinations(49,6)\n",
    "print(f\"{num_combos:,.0f}\")"
   ]
  },
  {
   "cell_type": "code",
   "execution_count": 3,
   "metadata": {},
   "outputs": [
    {
     "name": "stdout",
     "output_type": "stream",
     "text": [
      "0.0000071511\n"
     ]
    }
   ],
   "source": [
    "print(f\"{1/num_combos*100:.10f}\")"
   ]
  },
  {
   "cell_type": "markdown",
   "metadata": {},
   "source": [
    "There are 49 possible numbers, and six numbers are sampled without replacement. The chance of winning the lottery with one ticket is 1 in 13,983,816 or 0.0000071511%.\n",
    "\n",
    "To give you an idea of how slim these odds are, the [chance of getting struck by lightning](https://historydaily.org/lightning-doesnt-strike-twiceit-strikes-seven-times) is 1 in 960,000. In other words, it is almost 15 times more likely that you are hit with a lightning strike than winning the lottery."
   ]
  },
  {
   "cell_type": "markdown",
   "metadata": {},
   "source": [
    "### Quick Pick numbers"
   ]
  },
  {
   "cell_type": "markdown",
   "metadata": {},
   "source": [
    "The user can choose their own six numbers on the selection slip or draw six Quick Pick random numbers. Below we simulate drawing random numbers using Quick Pick."
   ]
  },
  {
   "cell_type": "code",
   "execution_count": 4,
   "metadata": {},
   "outputs": [],
   "source": [
    "import random\n",
    "\n",
    "def quick_pick():\n",
    "    quick_pick_numbers = []\n",
    "    rand_num = random.randint(1,50)\n",
    "    while len(quick_pick_numbers)<6:\n",
    "        rand_num = random.randint(1,50)\n",
    "        if rand_num not in quick_pick_numbers:\n",
    "            quick_pick_numbers.append(rand_num)\n",
    "    return sorted(quick_pick_numbers)"
   ]
  },
  {
   "cell_type": "code",
   "execution_count": 5,
   "metadata": {},
   "outputs": [
    {
     "name": "stdout",
     "output_type": "stream",
     "text": [
      "[9, 11, 21, 26, 43, 45]\n"
     ]
    }
   ],
   "source": [
    "quick_pick_nums = quick_pick()\n",
    "print(quick_pick_nums)"
   ]
  },
  {
   "cell_type": "markdown",
   "metadata": {},
   "source": [
    "### Odds of winning with Quick Pick versus selecting numbers"
   ]
  },
  {
   "cell_type": "markdown",
   "metadata": {},
   "source": [
    "The odds of winning by using Quick Pick to generate random numbers versus manually selecting numbers are the same:"
   ]
  },
  {
   "cell_type": "code",
   "execution_count": 6,
   "metadata": {},
   "outputs": [],
   "source": [
    "def one_ticket_probability(player_numbers):\n",
    "    combos = combinations(49, len(player_numbers))\n",
    "    proportion = 1/combos\n",
    "    print(f\"Your chance to win the jackpot with {player_numbers} is {proportion*100:.10f}%, or 1 in {int(combos):,}.\")"
   ]
  },
  {
   "cell_type": "code",
   "execution_count": 7,
   "metadata": {},
   "outputs": [
    {
     "name": "stdout",
     "output_type": "stream",
     "text": [
      "Your chance to win the jackpot with [9, 11, 21, 26, 43, 45] is 0.0000071511%, or 1 in 13,983,816.\n"
     ]
    }
   ],
   "source": [
    "quick_pick = one_ticket_probability(quick_pick_nums)"
   ]
  },
  {
   "cell_type": "code",
   "execution_count": 8,
   "metadata": {},
   "outputs": [
    {
     "name": "stdout",
     "output_type": "stream",
     "text": [
      "Your chance to win the jackpot with [2, 5, 7, 8, 32, 41] is 0.0000071511%, or 1 in 13,983,816.\n"
     ]
    }
   ],
   "source": [
    "selection_slip = one_ticket_probability([2, 5, 7, 8, 32, 41])"
   ]
  },
  {
   "cell_type": "markdown",
   "metadata": {},
   "source": [
    "## Historical Data Check for Canada Lottery"
   ]
  },
  {
   "cell_type": "code",
   "execution_count": 9,
   "metadata": {},
   "outputs": [],
   "source": [
    "import pandas as pd\n",
    "\n",
    "dataset = pd.read_csv(\"649.csv\")"
   ]
  },
  {
   "cell_type": "code",
   "execution_count": 10,
   "metadata": {},
   "outputs": [
    {
     "data": {
      "text/html": [
       "<div>\n",
       "<style scoped>\n",
       "    .dataframe tbody tr th:only-of-type {\n",
       "        vertical-align: middle;\n",
       "    }\n",
       "\n",
       "    .dataframe tbody tr th {\n",
       "        vertical-align: top;\n",
       "    }\n",
       "\n",
       "    .dataframe thead th {\n",
       "        text-align: right;\n",
       "    }\n",
       "</style>\n",
       "<table border=\"1\" class=\"dataframe\">\n",
       "  <thead>\n",
       "    <tr style=\"text-align: right;\">\n",
       "      <th></th>\n",
       "      <th>PRODUCT</th>\n",
       "      <th>DRAW NUMBER</th>\n",
       "      <th>SEQUENCE NUMBER</th>\n",
       "      <th>DRAW DATE</th>\n",
       "      <th>NUMBER DRAWN 1</th>\n",
       "      <th>NUMBER DRAWN 2</th>\n",
       "      <th>NUMBER DRAWN 3</th>\n",
       "      <th>NUMBER DRAWN 4</th>\n",
       "      <th>NUMBER DRAWN 5</th>\n",
       "      <th>NUMBER DRAWN 6</th>\n",
       "      <th>BONUS NUMBER</th>\n",
       "    </tr>\n",
       "  </thead>\n",
       "  <tbody>\n",
       "    <tr>\n",
       "      <th>0</th>\n",
       "      <td>649</td>\n",
       "      <td>1</td>\n",
       "      <td>0</td>\n",
       "      <td>6/12/1982</td>\n",
       "      <td>3</td>\n",
       "      <td>11</td>\n",
       "      <td>12</td>\n",
       "      <td>14</td>\n",
       "      <td>41</td>\n",
       "      <td>43</td>\n",
       "      <td>13</td>\n",
       "    </tr>\n",
       "    <tr>\n",
       "      <th>1</th>\n",
       "      <td>649</td>\n",
       "      <td>2</td>\n",
       "      <td>0</td>\n",
       "      <td>6/19/1982</td>\n",
       "      <td>8</td>\n",
       "      <td>33</td>\n",
       "      <td>36</td>\n",
       "      <td>37</td>\n",
       "      <td>39</td>\n",
       "      <td>41</td>\n",
       "      <td>9</td>\n",
       "    </tr>\n",
       "    <tr>\n",
       "      <th>2</th>\n",
       "      <td>649</td>\n",
       "      <td>3</td>\n",
       "      <td>0</td>\n",
       "      <td>6/26/1982</td>\n",
       "      <td>1</td>\n",
       "      <td>6</td>\n",
       "      <td>23</td>\n",
       "      <td>24</td>\n",
       "      <td>27</td>\n",
       "      <td>39</td>\n",
       "      <td>34</td>\n",
       "    </tr>\n",
       "  </tbody>\n",
       "</table>\n",
       "</div>"
      ],
      "text/plain": [
       "   PRODUCT  DRAW NUMBER  SEQUENCE NUMBER  DRAW DATE  NUMBER DRAWN 1  \\\n",
       "0      649            1                0  6/12/1982               3   \n",
       "1      649            2                0  6/19/1982               8   \n",
       "2      649            3                0  6/26/1982               1   \n",
       "\n",
       "   NUMBER DRAWN 2  NUMBER DRAWN 3  NUMBER DRAWN 4  NUMBER DRAWN 5  \\\n",
       "0              11              12              14              41   \n",
       "1              33              36              37              39   \n",
       "2               6              23              24              27   \n",
       "\n",
       "   NUMBER DRAWN 6  BONUS NUMBER  \n",
       "0              43            13  \n",
       "1              41             9  \n",
       "2              39            34  "
      ]
     },
     "execution_count": 10,
     "metadata": {},
     "output_type": "execute_result"
    }
   ],
   "source": [
    "dataset.head(3)"
   ]
  },
  {
   "cell_type": "code",
   "execution_count": 11,
   "metadata": {},
   "outputs": [
    {
     "data": {
      "text/html": [
       "<div>\n",
       "<style scoped>\n",
       "    .dataframe tbody tr th:only-of-type {\n",
       "        vertical-align: middle;\n",
       "    }\n",
       "\n",
       "    .dataframe tbody tr th {\n",
       "        vertical-align: top;\n",
       "    }\n",
       "\n",
       "    .dataframe thead th {\n",
       "        text-align: right;\n",
       "    }\n",
       "</style>\n",
       "<table border=\"1\" class=\"dataframe\">\n",
       "  <thead>\n",
       "    <tr style=\"text-align: right;\">\n",
       "      <th></th>\n",
       "      <th>PRODUCT</th>\n",
       "      <th>DRAW NUMBER</th>\n",
       "      <th>SEQUENCE NUMBER</th>\n",
       "      <th>DRAW DATE</th>\n",
       "      <th>NUMBER DRAWN 1</th>\n",
       "      <th>NUMBER DRAWN 2</th>\n",
       "      <th>NUMBER DRAWN 3</th>\n",
       "      <th>NUMBER DRAWN 4</th>\n",
       "      <th>NUMBER DRAWN 5</th>\n",
       "      <th>NUMBER DRAWN 6</th>\n",
       "      <th>BONUS NUMBER</th>\n",
       "    </tr>\n",
       "  </thead>\n",
       "  <tbody>\n",
       "    <tr>\n",
       "      <th>3662</th>\n",
       "      <td>649</td>\n",
       "      <td>3589</td>\n",
       "      <td>0</td>\n",
       "      <td>6/13/2018</td>\n",
       "      <td>6</td>\n",
       "      <td>22</td>\n",
       "      <td>24</td>\n",
       "      <td>31</td>\n",
       "      <td>32</td>\n",
       "      <td>34</td>\n",
       "      <td>16</td>\n",
       "    </tr>\n",
       "    <tr>\n",
       "      <th>3663</th>\n",
       "      <td>649</td>\n",
       "      <td>3590</td>\n",
       "      <td>0</td>\n",
       "      <td>6/16/2018</td>\n",
       "      <td>2</td>\n",
       "      <td>15</td>\n",
       "      <td>21</td>\n",
       "      <td>31</td>\n",
       "      <td>38</td>\n",
       "      <td>49</td>\n",
       "      <td>8</td>\n",
       "    </tr>\n",
       "    <tr>\n",
       "      <th>3664</th>\n",
       "      <td>649</td>\n",
       "      <td>3591</td>\n",
       "      <td>0</td>\n",
       "      <td>6/20/2018</td>\n",
       "      <td>14</td>\n",
       "      <td>24</td>\n",
       "      <td>31</td>\n",
       "      <td>35</td>\n",
       "      <td>37</td>\n",
       "      <td>48</td>\n",
       "      <td>17</td>\n",
       "    </tr>\n",
       "  </tbody>\n",
       "</table>\n",
       "</div>"
      ],
      "text/plain": [
       "      PRODUCT  DRAW NUMBER  SEQUENCE NUMBER  DRAW DATE  NUMBER DRAWN 1  \\\n",
       "3662      649         3589                0  6/13/2018               6   \n",
       "3663      649         3590                0  6/16/2018               2   \n",
       "3664      649         3591                0  6/20/2018              14   \n",
       "\n",
       "      NUMBER DRAWN 2  NUMBER DRAWN 3  NUMBER DRAWN 4  NUMBER DRAWN 5  \\\n",
       "3662              22              24              31              32   \n",
       "3663              15              21              31              38   \n",
       "3664              24              31              35              37   \n",
       "\n",
       "      NUMBER DRAWN 6  BONUS NUMBER  \n",
       "3662              34            16  \n",
       "3663              49             8  \n",
       "3664              48            17  "
      ]
     },
     "execution_count": 11,
     "metadata": {},
     "output_type": "execute_result"
    }
   ],
   "source": [
    "dataset.tail(3)"
   ]
  },
  {
   "cell_type": "markdown",
   "metadata": {},
   "source": [
    "As noted in the Introduction, the dataset spans draws between 1982 and 2018. There are 3,665 rows. Fulfilling one of the objectives requested by the engineering team, we store each row of numbers drawn into a list."
   ]
  },
  {
   "cell_type": "code",
   "execution_count": 12,
   "metadata": {},
   "outputs": [],
   "source": [
    "def extract_numbers(index):\n",
    "    index = index[4:10]\n",
    "    index = set(index.values)\n",
    "    return index   "
   ]
  },
  {
   "cell_type": "code",
   "execution_count": 13,
   "metadata": {},
   "outputs": [
    {
     "data": {
      "text/plain": [
       "0    {3, 41, 11, 12, 43, 14}\n",
       "1    {33, 36, 37, 39, 8, 41}\n",
       "2     {1, 6, 39, 23, 24, 27}\n",
       "3     {3, 9, 10, 43, 13, 20}\n",
       "4    {34, 5, 14, 47, 21, 31}\n",
       "dtype: object"
      ]
     },
     "execution_count": 13,
     "metadata": {},
     "output_type": "execute_result"
    }
   ],
   "source": [
    "winning_numbers = dataset.apply(extract_numbers, axis=1)\n",
    "winning_numbers.head()"
   ]
  },
  {
   "cell_type": "code",
   "execution_count": 14,
   "metadata": {},
   "outputs": [],
   "source": [
    "def check_historical_occurrence(player_numbers, winning_numbers):\n",
    "    player_numbers_set = set(player_numbers)\n",
    "    check_occurrence = player_numbers_set == winning_numbers\n",
    "    n_occurrences = check_occurrence.sum()\n",
    "    string_time = \"time\" if n_occurrences == 1 else \"times\"\n",
    "    \n",
    "    if n_occurrences == 0:\n",
    "        print(f\"Your numbers {player_numbers} have never won the lottery in the past.\")\n",
    "    else:\n",
    "        print(f\"Your numbers {player_numbers} have won {n_occurrences} {string_time} in the past.\")"
   ]
  },
  {
   "cell_type": "code",
   "execution_count": 15,
   "metadata": {},
   "outputs": [
    {
     "name": "stdout",
     "output_type": "stream",
     "text": [
      "Your numbers [3, 6, 19, 24, 46, 48] have never won the lottery in the past.\n"
     ]
    }
   ],
   "source": [
    "player_test1_numbers = [3, 6, 19, 24, 46, 48]\n",
    "check_historical_occurrence(player_test1_numbers, winning_numbers)"
   ]
  },
  {
   "cell_type": "code",
   "execution_count": 16,
   "metadata": {},
   "outputs": [
    {
     "name": "stdout",
     "output_type": "stream",
     "text": [
      "Your numbers [2, 3, 15, 23, 41, 46] have won 1 time in the past.\n"
     ]
    }
   ],
   "source": [
    "player_test2_numbers = [2, 3, 15, 23, 41, 46]\n",
    "check_historical_occurrence(player_test2_numbers, winning_numbers)"
   ]
  },
  {
   "cell_type": "markdown",
   "metadata": {},
   "source": [
    "Using historical winning numbers neither increases nor decreases the probability of winning future lotteries. The odds are still 1 in 13,983,816:"
   ]
  },
  {
   "cell_type": "code",
   "execution_count": 17,
   "metadata": {},
   "outputs": [
    {
     "name": "stdout",
     "output_type": "stream",
     "text": [
      "Your chance to win the jackpot with [3, 6, 19, 24, 46, 48] is 0.0000071511%, or 1 in 13,983,816.\n",
      "Your chance to win the jackpot with [2, 3, 15, 23, 41, 46] is 0.0000071511%, or 1 in 13,983,816.\n"
     ]
    }
   ],
   "source": [
    "one_ticket_probability(player_test1_numbers)\n",
    "one_ticket_probability(player_test2_numbers)"
   ]
  },
  {
   "cell_type": "markdown",
   "metadata": {},
   "source": [
    "## Multi-ticket Probability"
   ]
  },
  {
   "cell_type": "markdown",
   "metadata": {},
   "source": [
    ">Lottery addicts usually play more than one ticket on a single drawing, thinking that this might increase their chances of winning significantly. Our purpose is to help them better estimate their chances of winning.\n",
    ">\n",
    ">We've talked with the engineering team and they gave us the following information:\n",
    ">\n",
    ">- The user will input the number of different tickets they want to play (without inputting the specific combinations they intend to play).\n",
    ">- Our function will see an integer between 1 and 13,983,816 (the maximum number of different tickets).\n",
    ">- The function should print information about the probability of winning the big prize depending on the number of different tickets played.\n",
    "\n",
    "\\- From the guided project's ['Multi-ticket Probability' section](https://app.dataquest.io/c/65/m/382/guided-project%3A-mobile-app-for-lottery-addiction/6/multi-ticket-probability)"
   ]
  },
  {
   "cell_type": "code",
   "execution_count": 18,
   "metadata": {},
   "outputs": [],
   "source": [
    "def multi_ticket_probability(number_of_tickets):\n",
    "    combos = combinations(49, 6)\n",
    "    proportion = number_of_tickets/combos\n",
    "    string_ticket = \"ticket\" if number_of_tickets == 1 else \"tickets\"\n",
    "    print(f\"Your chance to win the jackpot with {number_of_tickets:,} {string_ticket} is {proportion*100:.10f}%, or 1 in {int(combos/number_of_tickets):,}.\")"
   ]
  },
  {
   "cell_type": "code",
   "execution_count": 19,
   "metadata": {},
   "outputs": [
    {
     "name": "stdout",
     "output_type": "stream",
     "text": [
      "Your chance to win the jackpot with 1 ticket is 0.0000071511%, or 1 in 13,983,816.\n",
      "Your chance to win the jackpot with 2 tickets is 0.0000143022%, or 1 in 6,991,908.\n",
      "Your chance to win the jackpot with 3 tickets is 0.0000214534%, or 1 in 4,661,272.\n",
      "Your chance to win the jackpot with 4 tickets is 0.0000286045%, or 1 in 3,495,954.\n",
      "Your chance to win the jackpot with 5 tickets is 0.0000357556%, or 1 in 2,796,763.\n",
      "Your chance to win the jackpot with 10 tickets is 0.0000715112%, or 1 in 1,398,381.\n",
      "Your chance to win the jackpot with 40 tickets is 0.0002860450%, or 1 in 349,595.\n",
      "Your chance to win the jackpot with 100 tickets is 0.0007151124%, or 1 in 139,838.\n",
      "Your chance to win the jackpot with 10,000 tickets is 0.0715112384%, or 1 in 1,398.\n",
      "Your chance to win the jackpot with 1,000,000 tickets is 7.1511238420%, or 1 in 13.\n",
      "Your chance to win the jackpot with 6,991,908 tickets is 50.0000000000%, or 1 in 2.\n",
      "Your chance to win the jackpot with 13,983,816 tickets is 100.0000000000%, or 1 in 1.\n"
     ]
    }
   ],
   "source": [
    "test_ticket_counts = [1, 2, 3, 4, 5, 10, 40, 100, 10_000, 1_000_000, 6_991_908, 13_983_816]\n",
    "\n",
    "for test_ticket_count in test_ticket_counts:\n",
    "    multi_ticket_probability(test_ticket_count)"
   ]
  },
  {
   "cell_type": "markdown",
   "metadata": {},
   "source": [
    "## Cost to Win"
   ]
  },
  {
   "cell_type": "markdown",
   "metadata": {},
   "source": [
    "Lottery winnings are not taxable in Canada. The jackpot for the 6/49 lottery (having all six winning numbers) equates to fixed prize of \\\\$5 million. With one 6/49 lottery ticket costing \\\\$3, we determine the maximum number of tickets we would need to purchase for a net gain at various risk thresholds and assuming you are the sole winner. There is no limit to how many tickets you can purchase but you run the risk of sharing the prize in the case of other winners."
   ]
  },
  {
   "cell_type": "code",
   "execution_count": 20,
   "metadata": {},
   "outputs": [],
   "source": [
    "def profit(desired_net_amount):\n",
    "    ticket_cost = 3\n",
    "    prize_amount = 5000000\n",
    "    net_cost = prize_amount-desired_net_amount\n",
    "    if net_cost <= 0:\n",
    "        print(\"Your desired profit is not achievable.\")\n",
    "    else:\n",
    "        number_of_tickets = net_cost // ticket_cost\n",
    "        string_ticket = \"ticket\" if number_of_tickets == 1 else \"tickets\"\n",
    "        print(f\"The cost to win the jackpot with a net profit of ${desired_net_amount:,} is ${(ticket_cost * number_of_tickets):,} ({number_of_tickets:,} {string_ticket}).\")\n",
    "        multi_ticket_probability(number_of_tickets)"
   ]
  },
  {
   "cell_type": "code",
   "execution_count": 21,
   "metadata": {},
   "outputs": [
    {
     "name": "stdout",
     "output_type": "stream",
     "text": [
      "The cost to win the jackpot with a net profit of $1 is $4,999,998 (1,666,666 tickets).\n",
      "Your chance to win the jackpot with 1,666,666 tickets is 11.9185349693%, or 1 in 8.\n",
      "----------------------------------------------------------------------------------------------------\n",
      "The cost to win the jackpot with a net profit of $500,000 is $4,500,000 (1,500,000 tickets).\n",
      "Your chance to win the jackpot with 1,500,000 tickets is 10.7266857630%, or 1 in 9.\n",
      "----------------------------------------------------------------------------------------------------\n",
      "The cost to win the jackpot with a net profit of $1,000,000 is $3,999,999 (1,333,333 tickets).\n",
      "Your chance to win the jackpot with 1,333,333 tickets is 9.5348294057%, or 1 in 10.\n",
      "----------------------------------------------------------------------------------------------------\n",
      "The cost to win the jackpot with a net profit of $2,000,000 is $3,000,000 (1,000,000 tickets).\n",
      "Your chance to win the jackpot with 1,000,000 tickets is 7.1511238420%, or 1 in 13.\n",
      "----------------------------------------------------------------------------------------------------\n",
      "The cost to win the jackpot with a net profit of $3,000,000 is $1,999,998 (666,666 tickets).\n",
      "Your chance to win the jackpot with 666,666 tickets is 4.7674111273%, or 1 in 20.\n",
      "----------------------------------------------------------------------------------------------------\n",
      "The cost to win the jackpot with a net profit of $4,000,000 is $999,999 (333,333 tickets).\n",
      "Your chance to win the jackpot with 333,333 tickets is 2.3837055636%, or 1 in 41.\n",
      "----------------------------------------------------------------------------------------------------\n",
      "The cost to win the jackpot with a net profit of $4,500,000 is $499,998 (166,666 tickets).\n",
      "Your chance to win the jackpot with 166,666 tickets is 1.1918492063%, or 1 in 83.\n",
      "----------------------------------------------------------------------------------------------------\n",
      "The cost to win the jackpot with a net profit of $4,999,997 is $3 (1 ticket).\n",
      "Your chance to win the jackpot with 1 ticket is 0.0000071511%, or 1 in 13,983,816.\n",
      "----------------------------------------------------------------------------------------------------\n"
     ]
    }
   ],
   "source": [
    "test_desired_profit_amounts = [1, 500_000, 1_000_000, 2_000_000, 3_000_000, 4_000_000, 4_500_000, 4_999_997]\n",
    "\n",
    "for test_desired_profit in test_desired_profit_amounts:\n",
    "    profit(test_desired_profit)\n",
    "    print(f\"{'-'*100}\")"
   ]
  },
  {
   "cell_type": "markdown",
   "metadata": {},
   "source": [
    "## Less Winning Numbers"
   ]
  },
  {
   "cell_type": "markdown",
   "metadata": {},
   "source": [
    ">In most 6/49 lotteries there are smaller prizes if a player's ticket match two, three, four, or five of the six numbers drawn. As a consequence, the users might be interested in knowing the probability of having two, three, four, or five winning numbers.\n",
    ">\n",
    ">These are the engineering details we'll need to be aware of:\n",
    ">\n",
    ">- Inside the app, the user inputs:\n",
    ">   - six different numbers from 1 to 49; and\n",
    ">   - an integer between 2 and 5 that represents the number of winning numbers expected\n",
    ">- Our function prints information about the probability of having the inputted number of winning numbers.\n",
    "\n",
    "\\- From the guided project's ['Less Winning Numbers' section](https://app.dataquest.io/c/65/m/382/guided-project%3A-mobile-app-for-lottery-addiction/7/less-winning-numbers-function?path=2&slug=data-scientist&version=1)"
   ]
  },
  {
   "cell_type": "code",
   "execution_count": 22,
   "metadata": {},
   "outputs": [],
   "source": [
    "def probability_less_6(count_winning_numbers):\n",
    "    successful_outcomes = combinations(6, count_winning_numbers) * combinations(43, 6 - count_winning_numbers)\n",
    "    combos = combinations(49, 6)\n",
    "    proportion = successful_outcomes/combos\n",
    "    print(f\"The chance of your ticket having {count_winning_numbers} winning numbers is {proportion*100:.5f}%, or 1 in {int(combos/successful_outcomes):,}.\")"
   ]
  },
  {
   "cell_type": "code",
   "execution_count": 23,
   "metadata": {},
   "outputs": [
    {
     "name": "stdout",
     "output_type": "stream",
     "text": [
      "The chance of your ticket having 2 winning numbers is 13.23780%, or 1 in 7.\n",
      "The chance of your ticket having 3 winning numbers is 1.76504%, or 1 in 56.\n",
      "The chance of your ticket having 4 winning numbers is 0.09686%, or 1 in 1,032.\n",
      "The chance of your ticket having 5 winning numbers is 0.00184%, or 1 in 54,200.\n"
     ]
    }
   ],
   "source": [
    "test_count_winning_numbers = [2, 3, 4, 5]\n",
    "for test_count in test_count_winning_numbers:\n",
    "    probability_less_6(test_count)"
   ]
  }
 ],
 "metadata": {
  "kernelspec": {
   "display_name": "Python 3",
   "language": "python",
   "name": "python3"
  },
  "language_info": {
   "codemirror_mode": {
    "name": "ipython",
    "version": 3
   },
   "file_extension": ".py",
   "mimetype": "text/x-python",
   "name": "python",
   "nbconvert_exporter": "python",
   "pygments_lexer": "ipython3",
   "version": "3.11.3"
  },
  "orig_nbformat": 4
 },
 "nbformat": 4,
 "nbformat_minor": 2
}
