{
 "cells": [
  {
   "cell_type": "markdown",
   "id": "15dbd6a8",
   "metadata": {},
   "source": [
    "# Clean and Analyze Employee Exit Surveys"
   ]
  },
  {
   "cell_type": "markdown",
   "id": "c2846eb0",
   "metadata": {},
   "source": [
    "## Scenario"
   ]
  },
  {
   "cell_type": "markdown",
   "id": "5f4c92b8",
   "metadata": {},
   "source": [
    "We receive exit surveys from employees of the Department of Education, Training and Employment (DETE) and the Technical and Further Education (TAFE) institute in Queensland, Australia. Slight modifications to the original datasets have been made, i.e. the encoding has been changed from `cp1252` to `UTF-8`."
   ]
  },
  {
   "cell_type": "markdown",
   "id": "b230ea58",
   "metadata": {},
   "source": [
    "## Goal"
   ]
  },
  {
   "cell_type": "markdown",
   "id": "4d47efdb",
   "metadata": {},
   "source": [
    "We play the role of data analyst and pretend our stakeholders want to know the following:\n",
    "\n",
    "- Are employees who only worked for the institutes for a short period of time resigning due to some kind of dissatisfaction? What about employees who have been there longer?\n",
    "- Are younger employees resigning due to some kind of dissatisfaction? What about older employees?"
   ]
  },
  {
   "cell_type": "markdown",
   "id": "3f2fcfac",
   "metadata": {},
   "source": [
    "## Results"
   ]
  },
  {
   "cell_type": "markdown",
   "id": "d46eaada",
   "metadata": {},
   "source": [
    "The primary reason for an employee who exited from either DETE or TAFE was resignation due to job dissatisfaction.\n",
    "\n",
    "27% of those who resigned due to job dissatisfaction were between 40-50 years old, followed by those in their 30-40s (21%) and 20-30s (20%). It would appear that those in the older population were more satisfied since the second most frequent reason for leaving a company was retirement.\n",
    "\n",
    "Tenure also had an impact as most dissatisfied employees who left the company worked at either institute for less than 4 years. This pattern decreases as the number of service years goes up."
   ]
  },
  {
   "cell_type": "markdown",
   "id": "635b76b5",
   "metadata": {},
   "source": [
    "## Importing the libraries"
   ]
  },
  {
   "cell_type": "code",
   "execution_count": 1,
   "id": "27888756",
   "metadata": {},
   "outputs": [],
   "source": [
    "import numpy as np\n",
    "import pandas as pd\n",
    "import matplotlib.pyplot as plt\n",
    "import warnings\n",
    "\n",
    "warnings.filterwarnings(\"ignore\")\n",
    "%matplotlib inline"
   ]
  },
  {
   "cell_type": "markdown",
   "id": "b32e42a3",
   "metadata": {},
   "source": [
    "## Importing the dataset"
   ]
  },
  {
   "cell_type": "code",
   "execution_count": 2,
   "id": "df42da9a",
   "metadata": {},
   "outputs": [],
   "source": [
    "dete_data = pd.read_csv(\"dete_survey.csv\")\n",
    "tafe_data = pd.read_csv(\"tafe_survey.csv\")"
   ]
  },
  {
   "cell_type": "markdown",
   "id": "6534acb4",
   "metadata": {},
   "source": [
    "## Exploring the dataset"
   ]
  },
  {
   "cell_type": "code",
   "execution_count": 3,
   "id": "d12db46b",
   "metadata": {},
   "outputs": [
    {
     "name": "stdout",
     "output_type": "stream",
     "text": [
      "<class 'pandas.core.frame.DataFrame'>\n",
      "RangeIndex: 822 entries, 0 to 821\n",
      "Data columns (total 56 columns):\n",
      " #   Column                               Non-Null Count  Dtype \n",
      "---  ------                               --------------  ----- \n",
      " 0   ID                                   822 non-null    int64 \n",
      " 1   SeparationType                       822 non-null    object\n",
      " 2   Cease Date                           822 non-null    object\n",
      " 3   DETE Start Date                      822 non-null    object\n",
      " 4   Role Start Date                      822 non-null    object\n",
      " 5   Position                             817 non-null    object\n",
      " 6   Classification                       455 non-null    object\n",
      " 7   Region                               822 non-null    object\n",
      " 8   Business Unit                        126 non-null    object\n",
      " 9   Employment Status                    817 non-null    object\n",
      " 10  Career move to public sector         822 non-null    bool  \n",
      " 11  Career move to private sector        822 non-null    bool  \n",
      " 12  Interpersonal conflicts              822 non-null    bool  \n",
      " 13  Job dissatisfaction                  822 non-null    bool  \n",
      " 14  Dissatisfaction with the department  822 non-null    bool  \n",
      " 15  Physical work environment            822 non-null    bool  \n",
      " 16  Lack of recognition                  822 non-null    bool  \n",
      " 17  Lack of job security                 822 non-null    bool  \n",
      " 18  Work location                        822 non-null    bool  \n",
      " 19  Employment conditions                822 non-null    bool  \n",
      " 20  Maternity/family                     822 non-null    bool  \n",
      " 21  Relocation                           822 non-null    bool  \n",
      " 22  Study/Travel                         822 non-null    bool  \n",
      " 23  Ill Health                           822 non-null    bool  \n",
      " 24  Traumatic incident                   822 non-null    bool  \n",
      " 25  Work life balance                    822 non-null    bool  \n",
      " 26  Workload                             822 non-null    bool  \n",
      " 27  None of the above                    822 non-null    bool  \n",
      " 28  Professional Development             808 non-null    object\n",
      " 29  Opportunities for promotion          735 non-null    object\n",
      " 30  Staff morale                         816 non-null    object\n",
      " 31  Workplace issue                      788 non-null    object\n",
      " 32  Physical environment                 817 non-null    object\n",
      " 33  Worklife balance                     815 non-null    object\n",
      " 34  Stress and pressure support          810 non-null    object\n",
      " 35  Performance of supervisor            813 non-null    object\n",
      " 36  Peer support                         812 non-null    object\n",
      " 37  Initiative                           813 non-null    object\n",
      " 38  Skills                               811 non-null    object\n",
      " 39  Coach                                767 non-null    object\n",
      " 40  Career Aspirations                   746 non-null    object\n",
      " 41  Feedback                             792 non-null    object\n",
      " 42  Further PD                           768 non-null    object\n",
      " 43  Communication                        814 non-null    object\n",
      " 44  My say                               812 non-null    object\n",
      " 45  Information                          816 non-null    object\n",
      " 46  Kept informed                        813 non-null    object\n",
      " 47  Wellness programs                    766 non-null    object\n",
      " 48  Health & Safety                      793 non-null    object\n",
      " 49  Gender                               798 non-null    object\n",
      " 50  Age                                  811 non-null    object\n",
      " 51  Aboriginal                           16 non-null     object\n",
      " 52  Torres Strait                        3 non-null      object\n",
      " 53  South Sea                            7 non-null      object\n",
      " 54  Disability                           23 non-null     object\n",
      " 55  NESB                                 32 non-null     object\n",
      "dtypes: bool(18), int64(1), object(37)\n",
      "memory usage: 258.6+ KB\n",
      "None\n"
     ]
    }
   ],
   "source": [
    "print(dete_data.info())"
   ]
  },
  {
   "cell_type": "code",
   "execution_count": 4,
   "id": "f059112c",
   "metadata": {},
   "outputs": [
    {
     "name": "stdout",
     "output_type": "stream",
     "text": [
      "<class 'pandas.core.frame.DataFrame'>\n",
      "RangeIndex: 702 entries, 0 to 701\n",
      "Data columns (total 72 columns):\n",
      " #   Column                                                                                                                                                         Non-Null Count  Dtype  \n",
      "---  ------                                                                                                                                                         --------------  -----  \n",
      " 0   Record ID                                                                                                                                                      702 non-null    float64\n",
      " 1   Institute                                                                                                                                                      702 non-null    object \n",
      " 2   WorkArea                                                                                                                                                       702 non-null    object \n",
      " 3   CESSATION YEAR                                                                                                                                                 695 non-null    float64\n",
      " 4   Reason for ceasing employment                                                                                                                                  701 non-null    object \n",
      " 5   Contributing Factors. Career Move - Public Sector                                                                                                              437 non-null    object \n",
      " 6   Contributing Factors. Career Move - Private Sector                                                                                                             437 non-null    object \n",
      " 7   Contributing Factors. Career Move - Self-employment                                                                                                            437 non-null    object \n",
      " 8   Contributing Factors. Ill Health                                                                                                                               437 non-null    object \n",
      " 9   Contributing Factors. Maternity/Family                                                                                                                         437 non-null    object \n",
      " 10  Contributing Factors. Dissatisfaction                                                                                                                          437 non-null    object \n",
      " 11  Contributing Factors. Job Dissatisfaction                                                                                                                      437 non-null    object \n",
      " 12  Contributing Factors. Interpersonal Conflict                                                                                                                   437 non-null    object \n",
      " 13  Contributing Factors. Study                                                                                                                                    437 non-null    object \n",
      " 14  Contributing Factors. Travel                                                                                                                                   437 non-null    object \n",
      " 15  Contributing Factors. Other                                                                                                                                    437 non-null    object \n",
      " 16  Contributing Factors. NONE                                                                                                                                     437 non-null    object \n",
      " 17  Main Factor. Which of these was the main factor for leaving?                                                                                                   113 non-null    object \n",
      " 18  InstituteViews. Topic:1. I feel the senior leadership had a clear vision and direction                                                                         608 non-null    object \n",
      " 19  InstituteViews. Topic:2. I was given access to skills training to help me do my job better                                                                     613 non-null    object \n",
      " 20  InstituteViews. Topic:3. I was given adequate opportunities for personal development                                                                           610 non-null    object \n",
      " 21  InstituteViews. Topic:4. I was given adequate opportunities for promotion within %Institute]Q25LBL%                                                            608 non-null    object \n",
      " 22  InstituteViews. Topic:5. I felt the salary for the job was right for the responsibilities I had                                                                615 non-null    object \n",
      " 23  InstituteViews. Topic:6. The organisation recognised when staff did good work                                                                                  607 non-null    object \n",
      " 24  InstituteViews. Topic:7. Management was generally supportive of me                                                                                             614 non-null    object \n",
      " 25  InstituteViews. Topic:8. Management was generally supportive of my team                                                                                        608 non-null    object \n",
      " 26  InstituteViews. Topic:9. I was kept informed of the changes in the organisation which would affect me                                                          610 non-null    object \n",
      " 27  InstituteViews. Topic:10. Staff morale was positive within the Institute                                                                                       602 non-null    object \n",
      " 28  InstituteViews. Topic:11. If I had a workplace issue it was dealt with quickly                                                                                 601 non-null    object \n",
      " 29  InstituteViews. Topic:12. If I had a workplace issue it was dealt with efficiently                                                                             597 non-null    object \n",
      " 30  InstituteViews. Topic:13. If I had a workplace issue it was dealt with discreetly                                                                              601 non-null    object \n",
      " 31  WorkUnitViews. Topic:14. I was satisfied with the quality of the management and supervision within my work unit                                                609 non-null    object \n",
      " 32  WorkUnitViews. Topic:15. I worked well with my colleagues                                                                                                      605 non-null    object \n",
      " 33  WorkUnitViews. Topic:16. My job was challenging and interesting                                                                                                607 non-null    object \n",
      " 34  WorkUnitViews. Topic:17. I was encouraged to use my initiative in the course of my work                                                                        610 non-null    object \n",
      " 35  WorkUnitViews. Topic:18. I had sufficient contact with other people in my job                                                                                  613 non-null    object \n",
      " 36  WorkUnitViews. Topic:19. I was given adequate support and co-operation by my peers to enable me to do my job                                                   609 non-null    object \n",
      " 37  WorkUnitViews. Topic:20. I was able to use the full range of my skills in my job                                                                               609 non-null    object \n",
      " 38  WorkUnitViews. Topic:21. I was able to use the full range of my abilities in my job. ; Category:Level of Agreement; Question:YOUR VIEWS ABOUT YOUR WORK UNIT]  608 non-null    object \n",
      " 39  WorkUnitViews. Topic:22. I was able to use the full range of my knowledge in my job                                                                            608 non-null    object \n",
      " 40  WorkUnitViews. Topic:23. My job provided sufficient variety                                                                                                    611 non-null    object \n",
      " 41  WorkUnitViews. Topic:24. I was able to cope with the level of stress and pressure in my job                                                                    610 non-null    object \n",
      " 42  WorkUnitViews. Topic:25. My job allowed me to balance the demands of work and family to my satisfaction                                                        611 non-null    object \n",
      " 43  WorkUnitViews. Topic:26. My supervisor gave me adequate personal recognition and feedback on my performance                                                    606 non-null    object \n",
      " 44  WorkUnitViews. Topic:27. My working environment was satisfactory e.g. sufficient space, good lighting, suitable seating and working area                       610 non-null    object \n",
      " 45  WorkUnitViews. Topic:28. I was given the opportunity to mentor and coach others in order for me to pass on my skills and knowledge prior to my cessation date  609 non-null    object \n",
      " 46  WorkUnitViews. Topic:29. There was adequate communication between staff in my unit                                                                             603 non-null    object \n",
      " 47  WorkUnitViews. Topic:30. Staff morale was positive within my work unit                                                                                         606 non-null    object \n",
      " 48  Induction. Did you undertake Workplace Induction?                                                                                                              619 non-null    object \n",
      " 49  InductionInfo. Topic:Did you undertake a Corporate Induction?                                                                                                  432 non-null    object \n",
      " 50  InductionInfo. Topic:Did you undertake a Institute Induction?                                                                                                  483 non-null    object \n",
      " 51  InductionInfo. Topic: Did you undertake Team Induction?                                                                                                        440 non-null    object \n",
      " 52  InductionInfo. Face to Face Topic:Did you undertake a Corporate Induction; Category:How it was conducted?                                                      555 non-null    object \n",
      " 53  InductionInfo. On-line Topic:Did you undertake a Corporate Induction; Category:How it was conducted?                                                           555 non-null    object \n",
      " 54  InductionInfo. Induction Manual Topic:Did you undertake a Corporate Induction?                                                                                 555 non-null    object \n",
      " 55  InductionInfo. Face to Face Topic:Did you undertake a Institute Induction?                                                                                     530 non-null    object \n",
      " 56  InductionInfo. On-line Topic:Did you undertake a Institute Induction?                                                                                          555 non-null    object \n",
      " 57  InductionInfo. Induction Manual Topic:Did you undertake a Institute Induction?                                                                                 553 non-null    object \n",
      " 58  InductionInfo. Face to Face Topic: Did you undertake Team Induction; Category?                                                                                 555 non-null    object \n",
      " 59  InductionInfo. On-line Topic: Did you undertake Team Induction?process you undertook and how it was conducted.]                                                555 non-null    object \n",
      " 60  InductionInfo. Induction Manual Topic: Did you undertake Team Induction?                                                                                       555 non-null    object \n",
      " 61  Workplace. Topic:Did you and your Manager develop a Performance and Professional Development Plan (PPDP)?                                                      608 non-null    object \n",
      " 62  Workplace. Topic:Does your workplace promote a work culture free from all forms of unlawful discrimination?                                                    594 non-null    object \n",
      " 63  Workplace. Topic:Does your workplace promote and practice the principles of employment equity?                                                                 587 non-null    object \n",
      " 64  Workplace. Topic:Does your workplace value the diversity of its employees?                                                                                     586 non-null    object \n",
      " 65  Workplace. Topic:Would you recommend the Institute as an employer to others?                                                                                   581 non-null    object \n",
      " 66  Gender. What is your Gender?                                                                                                                                   596 non-null    object \n",
      " 67  CurrentAge. Current Age                                                                                                                                        596 non-null    object \n",
      " 68  Employment Type. Employment Type                                                                                                                               596 non-null    object \n",
      " 69  Classification. Classification                                                                                                                                 596 non-null    object \n",
      " 70  LengthofServiceOverall. Overall Length of Service at Institute (in years)                                                                                      596 non-null    object \n",
      " 71  LengthofServiceCurrent. Length of Service at current workplace (in years)                                                                                      596 non-null    object \n",
      "dtypes: float64(2), object(70)\n",
      "memory usage: 395.0+ KB\n",
      "None\n"
     ]
    }
   ],
   "source": [
    "print(tafe_data.info())"
   ]
  },
  {
   "cell_type": "code",
   "execution_count": 5,
   "id": "fc5a9ab7",
   "metadata": {},
   "outputs": [
    {
     "data": {
      "text/plain": [
       "Torres Strait                          819\n",
       "South Sea                              815\n",
       "Aboriginal                             806\n",
       "Disability                             799\n",
       "NESB                                   790\n",
       "Business Unit                          696\n",
       "Classification                         367\n",
       "Opportunities for promotion             87\n",
       "Career Aspirations                      76\n",
       "Wellness programs                       56\n",
       "Coach                                   55\n",
       "Further PD                              54\n",
       "Workplace issue                         34\n",
       "Feedback                                30\n",
       "Health & Safety                         29\n",
       "Gender                                  24\n",
       "Professional Development                14\n",
       "Stress and pressure support             12\n",
       "Skills                                  11\n",
       "Age                                     11\n",
       "Peer support                            10\n",
       "My say                                  10\n",
       "Initiative                               9\n",
       "Performance of supervisor                9\n",
       "Kept informed                            9\n",
       "Communication                            8\n",
       "Worklife balance                         7\n",
       "Staff morale                             6\n",
       "Information                              6\n",
       "Employment Status                        5\n",
       "Physical environment                     5\n",
       "Position                                 5\n",
       "Job dissatisfaction                      0\n",
       "Career move to public sector             0\n",
       "Region                                   0\n",
       "Role Start Date                          0\n",
       "Career move to private sector            0\n",
       "DETE Start Date                          0\n",
       "Cease Date                               0\n",
       "Interpersonal conflicts                  0\n",
       "Lack of job security                     0\n",
       "Dissatisfaction with the department      0\n",
       "Work location                            0\n",
       "Physical work environment                0\n",
       "Lack of recognition                      0\n",
       "SeparationType                           0\n",
       "None of the above                        0\n",
       "Workload                                 0\n",
       "Work life balance                        0\n",
       "Traumatic incident                       0\n",
       "Ill Health                               0\n",
       "Study/Travel                             0\n",
       "Relocation                               0\n",
       "Maternity/family                         0\n",
       "Employment conditions                    0\n",
       "ID                                       0\n",
       "dtype: int64"
      ]
     },
     "execution_count": 5,
     "metadata": {},
     "output_type": "execute_result"
    }
   ],
   "source": [
    "dete_nulls = dete_data.isnull().sum()\n",
    "dete_nulls.sort_values(ascending=False)"
   ]
  },
  {
   "cell_type": "code",
   "execution_count": 6,
   "id": "39b025c3",
   "metadata": {},
   "outputs": [
    {
     "data": {
      "text/plain": [
       "Main Factor. Which of these was the main factor for leaving?     589\n",
       "InductionInfo. Topic:Did you undertake a Corporate Induction?    270\n",
       "Contributing Factors. Travel                                     265\n",
       "Contributing Factors. Other                                      265\n",
       "Contributing Factors. Career Move - Public Sector                265\n",
       "                                                                ... \n",
       "CESSATION YEAR                                                     7\n",
       "Reason for ceasing employment                                      1\n",
       "Institute                                                          0\n",
       "WorkArea                                                           0\n",
       "Record ID                                                          0\n",
       "Length: 72, dtype: int64"
      ]
     },
     "execution_count": 6,
     "metadata": {},
     "output_type": "execute_result"
    }
   ],
   "source": [
    "tafe_nulls = tafe_data.isnull().sum()\n",
    "tafe_nulls.sort_values(ascending=False)"
   ]
  },
  {
   "cell_type": "code",
   "execution_count": 7,
   "id": "e8f09d6c",
   "metadata": {
    "scrolled": true
   },
   "outputs": [
    {
     "data": {
      "text/plain": [
       "Index(['ID', 'SeparationType', 'Cease Date', 'DETE Start Date',\n",
       "       'Role Start Date', 'Position', 'Classification', 'Region',\n",
       "       'Business Unit', 'Employment Status', 'Career move to public sector',\n",
       "       'Career move to private sector', 'Interpersonal conflicts',\n",
       "       'Job dissatisfaction', 'Dissatisfaction with the department',\n",
       "       'Physical work environment', 'Lack of recognition',\n",
       "       'Lack of job security', 'Work location', 'Employment conditions',\n",
       "       'Maternity/family', 'Relocation', 'Study/Travel', 'Ill Health',\n",
       "       'Traumatic incident', 'Work life balance', 'Workload',\n",
       "       'None of the above', 'Professional Development',\n",
       "       'Opportunities for promotion', 'Staff morale', 'Workplace issue',\n",
       "       'Physical environment', 'Worklife balance',\n",
       "       'Stress and pressure support', 'Performance of supervisor',\n",
       "       'Peer support', 'Initiative', 'Skills', 'Coach', 'Career Aspirations',\n",
       "       'Feedback', 'Further PD', 'Communication', 'My say', 'Information',\n",
       "       'Kept informed', 'Wellness programs', 'Health & Safety', 'Gender',\n",
       "       'Age', 'Aboriginal', 'Torres Strait', 'South Sea', 'Disability',\n",
       "       'NESB'],\n",
       "      dtype='object')"
      ]
     },
     "execution_count": 7,
     "metadata": {},
     "output_type": "execute_result"
    }
   ],
   "source": [
    "dete_data.columns"
   ]
  },
  {
   "cell_type": "code",
   "execution_count": 8,
   "id": "d270c3f2",
   "metadata": {},
   "outputs": [
    {
     "data": {
      "text/plain": [
       "Index(['Record ID', 'Institute', 'WorkArea', 'CESSATION YEAR',\n",
       "       'Reason for ceasing employment',\n",
       "       'Contributing Factors. Career Move - Public Sector ',\n",
       "       'Contributing Factors. Career Move - Private Sector ',\n",
       "       'Contributing Factors. Career Move - Self-employment',\n",
       "       'Contributing Factors. Ill Health',\n",
       "       'Contributing Factors. Maternity/Family',\n",
       "       'Contributing Factors. Dissatisfaction',\n",
       "       'Contributing Factors. Job Dissatisfaction',\n",
       "       'Contributing Factors. Interpersonal Conflict',\n",
       "       'Contributing Factors. Study', 'Contributing Factors. Travel',\n",
       "       'Contributing Factors. Other', 'Contributing Factors. NONE',\n",
       "       'Main Factor. Which of these was the main factor for leaving?',\n",
       "       'InstituteViews. Topic:1. I feel the senior leadership had a clear vision and direction',\n",
       "       'InstituteViews. Topic:2. I was given access to skills training to help me do my job better',\n",
       "       'InstituteViews. Topic:3. I was given adequate opportunities for personal development',\n",
       "       'InstituteViews. Topic:4. I was given adequate opportunities for promotion within %Institute]Q25LBL%',\n",
       "       'InstituteViews. Topic:5. I felt the salary for the job was right for the responsibilities I had',\n",
       "       'InstituteViews. Topic:6. The organisation recognised when staff did good work',\n",
       "       'InstituteViews. Topic:7. Management was generally supportive of me',\n",
       "       'InstituteViews. Topic:8. Management was generally supportive of my team',\n",
       "       'InstituteViews. Topic:9. I was kept informed of the changes in the organisation which would affect me',\n",
       "       'InstituteViews. Topic:10. Staff morale was positive within the Institute',\n",
       "       'InstituteViews. Topic:11. If I had a workplace issue it was dealt with quickly',\n",
       "       'InstituteViews. Topic:12. If I had a workplace issue it was dealt with efficiently',\n",
       "       'InstituteViews. Topic:13. If I had a workplace issue it was dealt with discreetly',\n",
       "       'WorkUnitViews. Topic:14. I was satisfied with the quality of the management and supervision within my work unit',\n",
       "       'WorkUnitViews. Topic:15. I worked well with my colleagues',\n",
       "       'WorkUnitViews. Topic:16. My job was challenging and interesting',\n",
       "       'WorkUnitViews. Topic:17. I was encouraged to use my initiative in the course of my work',\n",
       "       'WorkUnitViews. Topic:18. I had sufficient contact with other people in my job',\n",
       "       'WorkUnitViews. Topic:19. I was given adequate support and co-operation by my peers to enable me to do my job',\n",
       "       'WorkUnitViews. Topic:20. I was able to use the full range of my skills in my job',\n",
       "       'WorkUnitViews. Topic:21. I was able to use the full range of my abilities in my job. ; Category:Level of Agreement; Question:YOUR VIEWS ABOUT YOUR WORK UNIT]',\n",
       "       'WorkUnitViews. Topic:22. I was able to use the full range of my knowledge in my job',\n",
       "       'WorkUnitViews. Topic:23. My job provided sufficient variety',\n",
       "       'WorkUnitViews. Topic:24. I was able to cope with the level of stress and pressure in my job',\n",
       "       'WorkUnitViews. Topic:25. My job allowed me to balance the demands of work and family to my satisfaction',\n",
       "       'WorkUnitViews. Topic:26. My supervisor gave me adequate personal recognition and feedback on my performance',\n",
       "       'WorkUnitViews. Topic:27. My working environment was satisfactory e.g. sufficient space, good lighting, suitable seating and working area',\n",
       "       'WorkUnitViews. Topic:28. I was given the opportunity to mentor and coach others in order for me to pass on my skills and knowledge prior to my cessation date',\n",
       "       'WorkUnitViews. Topic:29. There was adequate communication between staff in my unit',\n",
       "       'WorkUnitViews. Topic:30. Staff morale was positive within my work unit',\n",
       "       'Induction. Did you undertake Workplace Induction?',\n",
       "       'InductionInfo. Topic:Did you undertake a Corporate Induction?',\n",
       "       'InductionInfo. Topic:Did you undertake a Institute Induction?',\n",
       "       'InductionInfo. Topic: Did you undertake Team Induction?',\n",
       "       'InductionInfo. Face to Face Topic:Did you undertake a Corporate Induction; Category:How it was conducted?',\n",
       "       'InductionInfo. On-line Topic:Did you undertake a Corporate Induction; Category:How it was conducted?',\n",
       "       'InductionInfo. Induction Manual Topic:Did you undertake a Corporate Induction?',\n",
       "       'InductionInfo. Face to Face Topic:Did you undertake a Institute Induction?',\n",
       "       'InductionInfo. On-line Topic:Did you undertake a Institute Induction?',\n",
       "       'InductionInfo. Induction Manual Topic:Did you undertake a Institute Induction?',\n",
       "       'InductionInfo. Face to Face Topic: Did you undertake Team Induction; Category?',\n",
       "       'InductionInfo. On-line Topic: Did you undertake Team Induction?process you undertook and how it was conducted.]',\n",
       "       'InductionInfo. Induction Manual Topic: Did you undertake Team Induction?',\n",
       "       'Workplace. Topic:Did you and your Manager develop a Performance and Professional Development Plan (PPDP)?',\n",
       "       'Workplace. Topic:Does your workplace promote a work culture free from all forms of unlawful discrimination?',\n",
       "       'Workplace. Topic:Does your workplace promote and practice the principles of employment equity?',\n",
       "       'Workplace. Topic:Does your workplace value the diversity of its employees?',\n",
       "       'Workplace. Topic:Would you recommend the Institute as an employer to others?',\n",
       "       'Gender. What is your Gender?', 'CurrentAge. Current Age',\n",
       "       'Employment Type. Employment Type', 'Classification. Classification',\n",
       "       'LengthofServiceOverall. Overall Length of Service at Institute (in years)',\n",
       "       'LengthofServiceCurrent. Length of Service at current workplace (in years)'],\n",
       "      dtype='object')"
      ]
     },
     "execution_count": 8,
     "metadata": {},
     "output_type": "execute_result"
    }
   ],
   "source": [
    "tafe_data.columns"
   ]
  },
  {
   "cell_type": "code",
   "execution_count": 9,
   "id": "39b86ead",
   "metadata": {},
   "outputs": [
    {
     "data": {
      "text/html": [
       "<div>\n",
       "<style scoped>\n",
       "    .dataframe tbody tr th:only-of-type {\n",
       "        vertical-align: middle;\n",
       "    }\n",
       "\n",
       "    .dataframe tbody tr th {\n",
       "        vertical-align: top;\n",
       "    }\n",
       "\n",
       "    .dataframe thead th {\n",
       "        text-align: right;\n",
       "    }\n",
       "</style>\n",
       "<table border=\"1\" class=\"dataframe\">\n",
       "  <thead>\n",
       "    <tr style=\"text-align: right;\">\n",
       "      <th></th>\n",
       "      <th>ID</th>\n",
       "      <th>SeparationType</th>\n",
       "      <th>Cease Date</th>\n",
       "      <th>DETE Start Date</th>\n",
       "      <th>Role Start Date</th>\n",
       "      <th>Position</th>\n",
       "      <th>Classification</th>\n",
       "      <th>Region</th>\n",
       "      <th>Business Unit</th>\n",
       "      <th>Employment Status</th>\n",
       "      <th>...</th>\n",
       "      <th>Kept informed</th>\n",
       "      <th>Wellness programs</th>\n",
       "      <th>Health &amp; Safety</th>\n",
       "      <th>Gender</th>\n",
       "      <th>Age</th>\n",
       "      <th>Aboriginal</th>\n",
       "      <th>Torres Strait</th>\n",
       "      <th>South Sea</th>\n",
       "      <th>Disability</th>\n",
       "      <th>NESB</th>\n",
       "    </tr>\n",
       "  </thead>\n",
       "  <tbody>\n",
       "    <tr>\n",
       "      <th>0</th>\n",
       "      <td>1</td>\n",
       "      <td>Ill Health Retirement</td>\n",
       "      <td>08/2012</td>\n",
       "      <td>1984</td>\n",
       "      <td>2004</td>\n",
       "      <td>Public Servant</td>\n",
       "      <td>A01-A04</td>\n",
       "      <td>Central Office</td>\n",
       "      <td>Corporate Strategy and Peformance</td>\n",
       "      <td>Permanent Full-time</td>\n",
       "      <td>...</td>\n",
       "      <td>N</td>\n",
       "      <td>N</td>\n",
       "      <td>N</td>\n",
       "      <td>Male</td>\n",
       "      <td>56-60</td>\n",
       "      <td>NaN</td>\n",
       "      <td>NaN</td>\n",
       "      <td>NaN</td>\n",
       "      <td>NaN</td>\n",
       "      <td>Yes</td>\n",
       "    </tr>\n",
       "    <tr>\n",
       "      <th>1</th>\n",
       "      <td>2</td>\n",
       "      <td>Voluntary Early Retirement (VER)</td>\n",
       "      <td>08/2012</td>\n",
       "      <td>Not Stated</td>\n",
       "      <td>Not Stated</td>\n",
       "      <td>Public Servant</td>\n",
       "      <td>AO5-AO7</td>\n",
       "      <td>Central Office</td>\n",
       "      <td>Corporate Strategy and Peformance</td>\n",
       "      <td>Permanent Full-time</td>\n",
       "      <td>...</td>\n",
       "      <td>N</td>\n",
       "      <td>N</td>\n",
       "      <td>N</td>\n",
       "      <td>Male</td>\n",
       "      <td>56-60</td>\n",
       "      <td>NaN</td>\n",
       "      <td>NaN</td>\n",
       "      <td>NaN</td>\n",
       "      <td>NaN</td>\n",
       "      <td>NaN</td>\n",
       "    </tr>\n",
       "    <tr>\n",
       "      <th>2</th>\n",
       "      <td>3</td>\n",
       "      <td>Voluntary Early Retirement (VER)</td>\n",
       "      <td>05/2012</td>\n",
       "      <td>2011</td>\n",
       "      <td>2011</td>\n",
       "      <td>Schools Officer</td>\n",
       "      <td>NaN</td>\n",
       "      <td>Central Office</td>\n",
       "      <td>Education Queensland</td>\n",
       "      <td>Permanent Full-time</td>\n",
       "      <td>...</td>\n",
       "      <td>N</td>\n",
       "      <td>N</td>\n",
       "      <td>N</td>\n",
       "      <td>Male</td>\n",
       "      <td>61 or older</td>\n",
       "      <td>NaN</td>\n",
       "      <td>NaN</td>\n",
       "      <td>NaN</td>\n",
       "      <td>NaN</td>\n",
       "      <td>NaN</td>\n",
       "    </tr>\n",
       "    <tr>\n",
       "      <th>3</th>\n",
       "      <td>4</td>\n",
       "      <td>Resignation-Other reasons</td>\n",
       "      <td>05/2012</td>\n",
       "      <td>2005</td>\n",
       "      <td>2006</td>\n",
       "      <td>Teacher</td>\n",
       "      <td>Primary</td>\n",
       "      <td>Central Queensland</td>\n",
       "      <td>NaN</td>\n",
       "      <td>Permanent Full-time</td>\n",
       "      <td>...</td>\n",
       "      <td>A</td>\n",
       "      <td>N</td>\n",
       "      <td>A</td>\n",
       "      <td>Female</td>\n",
       "      <td>36-40</td>\n",
       "      <td>NaN</td>\n",
       "      <td>NaN</td>\n",
       "      <td>NaN</td>\n",
       "      <td>NaN</td>\n",
       "      <td>NaN</td>\n",
       "    </tr>\n",
       "    <tr>\n",
       "      <th>4</th>\n",
       "      <td>5</td>\n",
       "      <td>Age Retirement</td>\n",
       "      <td>05/2012</td>\n",
       "      <td>1970</td>\n",
       "      <td>1989</td>\n",
       "      <td>Head of Curriculum/Head of Special Education</td>\n",
       "      <td>NaN</td>\n",
       "      <td>South East</td>\n",
       "      <td>NaN</td>\n",
       "      <td>Permanent Full-time</td>\n",
       "      <td>...</td>\n",
       "      <td>N</td>\n",
       "      <td>A</td>\n",
       "      <td>M</td>\n",
       "      <td>Female</td>\n",
       "      <td>61 or older</td>\n",
       "      <td>NaN</td>\n",
       "      <td>NaN</td>\n",
       "      <td>NaN</td>\n",
       "      <td>NaN</td>\n",
       "      <td>NaN</td>\n",
       "    </tr>\n",
       "  </tbody>\n",
       "</table>\n",
       "<p>5 rows × 56 columns</p>\n",
       "</div>"
      ],
      "text/plain": [
       "   ID                    SeparationType Cease Date DETE Start Date  \\\n",
       "0   1             Ill Health Retirement    08/2012            1984   \n",
       "1   2  Voluntary Early Retirement (VER)    08/2012      Not Stated   \n",
       "2   3  Voluntary Early Retirement (VER)    05/2012            2011   \n",
       "3   4         Resignation-Other reasons    05/2012            2005   \n",
       "4   5                    Age Retirement    05/2012            1970   \n",
       "\n",
       "  Role Start Date                                      Position  \\\n",
       "0            2004                                Public Servant   \n",
       "1      Not Stated                                Public Servant   \n",
       "2            2011                               Schools Officer   \n",
       "3            2006                                       Teacher   \n",
       "4            1989  Head of Curriculum/Head of Special Education   \n",
       "\n",
       "  Classification              Region                      Business Unit  \\\n",
       "0        A01-A04      Central Office  Corporate Strategy and Peformance   \n",
       "1        AO5-AO7      Central Office  Corporate Strategy and Peformance   \n",
       "2            NaN      Central Office               Education Queensland   \n",
       "3        Primary  Central Queensland                                NaN   \n",
       "4            NaN          South East                                NaN   \n",
       "\n",
       "     Employment Status  ...  Kept informed  Wellness programs  \\\n",
       "0  Permanent Full-time  ...              N                  N   \n",
       "1  Permanent Full-time  ...              N                  N   \n",
       "2  Permanent Full-time  ...              N                  N   \n",
       "3  Permanent Full-time  ...              A                  N   \n",
       "4  Permanent Full-time  ...              N                  A   \n",
       "\n",
       "   Health & Safety  Gender          Age  Aboriginal  Torres Strait  South Sea  \\\n",
       "0                N    Male        56-60         NaN            NaN        NaN   \n",
       "1                N    Male        56-60         NaN            NaN        NaN   \n",
       "2                N    Male  61 or older         NaN            NaN        NaN   \n",
       "3                A  Female        36-40         NaN            NaN        NaN   \n",
       "4                M  Female  61 or older         NaN            NaN        NaN   \n",
       "\n",
       "   Disability  NESB  \n",
       "0         NaN   Yes  \n",
       "1         NaN   NaN  \n",
       "2         NaN   NaN  \n",
       "3         NaN   NaN  \n",
       "4         NaN   NaN  \n",
       "\n",
       "[5 rows x 56 columns]"
      ]
     },
     "execution_count": 9,
     "metadata": {},
     "output_type": "execute_result"
    }
   ],
   "source": [
    "dete_data.head()"
   ]
  },
  {
   "cell_type": "code",
   "execution_count": 10,
   "id": "4d0c6f50",
   "metadata": {
    "scrolled": true
   },
   "outputs": [
    {
     "data": {
      "text/html": [
       "<div>\n",
       "<style scoped>\n",
       "    .dataframe tbody tr th:only-of-type {\n",
       "        vertical-align: middle;\n",
       "    }\n",
       "\n",
       "    .dataframe tbody tr th {\n",
       "        vertical-align: top;\n",
       "    }\n",
       "\n",
       "    .dataframe thead th {\n",
       "        text-align: right;\n",
       "    }\n",
       "</style>\n",
       "<table border=\"1\" class=\"dataframe\">\n",
       "  <thead>\n",
       "    <tr style=\"text-align: right;\">\n",
       "      <th></th>\n",
       "      <th>Record ID</th>\n",
       "      <th>Institute</th>\n",
       "      <th>WorkArea</th>\n",
       "      <th>CESSATION YEAR</th>\n",
       "      <th>Reason for ceasing employment</th>\n",
       "      <th>Contributing Factors. Career Move - Public Sector</th>\n",
       "      <th>Contributing Factors. Career Move - Private Sector</th>\n",
       "      <th>Contributing Factors. Career Move - Self-employment</th>\n",
       "      <th>Contributing Factors. Ill Health</th>\n",
       "      <th>Contributing Factors. Maternity/Family</th>\n",
       "      <th>...</th>\n",
       "      <th>Workplace. Topic:Does your workplace promote a work culture free from all forms of unlawful discrimination?</th>\n",
       "      <th>Workplace. Topic:Does your workplace promote and practice the principles of employment equity?</th>\n",
       "      <th>Workplace. Topic:Does your workplace value the diversity of its employees?</th>\n",
       "      <th>Workplace. Topic:Would you recommend the Institute as an employer to others?</th>\n",
       "      <th>Gender. What is your Gender?</th>\n",
       "      <th>CurrentAge. Current Age</th>\n",
       "      <th>Employment Type. Employment Type</th>\n",
       "      <th>Classification. Classification</th>\n",
       "      <th>LengthofServiceOverall. Overall Length of Service at Institute (in years)</th>\n",
       "      <th>LengthofServiceCurrent. Length of Service at current workplace (in years)</th>\n",
       "    </tr>\n",
       "  </thead>\n",
       "  <tbody>\n",
       "    <tr>\n",
       "      <th>0</th>\n",
       "      <td>6.341330e+17</td>\n",
       "      <td>Southern Queensland Institute of TAFE</td>\n",
       "      <td>Non-Delivery (corporate)</td>\n",
       "      <td>2010.0</td>\n",
       "      <td>Contract Expired</td>\n",
       "      <td>NaN</td>\n",
       "      <td>NaN</td>\n",
       "      <td>NaN</td>\n",
       "      <td>NaN</td>\n",
       "      <td>NaN</td>\n",
       "      <td>...</td>\n",
       "      <td>Yes</td>\n",
       "      <td>Yes</td>\n",
       "      <td>Yes</td>\n",
       "      <td>Yes</td>\n",
       "      <td>Female</td>\n",
       "      <td>26  30</td>\n",
       "      <td>Temporary Full-time</td>\n",
       "      <td>Administration (AO)</td>\n",
       "      <td>1-2</td>\n",
       "      <td>1-2</td>\n",
       "    </tr>\n",
       "    <tr>\n",
       "      <th>1</th>\n",
       "      <td>6.341337e+17</td>\n",
       "      <td>Mount Isa Institute of TAFE</td>\n",
       "      <td>Non-Delivery (corporate)</td>\n",
       "      <td>2010.0</td>\n",
       "      <td>Retirement</td>\n",
       "      <td>-</td>\n",
       "      <td>-</td>\n",
       "      <td>-</td>\n",
       "      <td>-</td>\n",
       "      <td>-</td>\n",
       "      <td>...</td>\n",
       "      <td>Yes</td>\n",
       "      <td>Yes</td>\n",
       "      <td>Yes</td>\n",
       "      <td>Yes</td>\n",
       "      <td>NaN</td>\n",
       "      <td>NaN</td>\n",
       "      <td>NaN</td>\n",
       "      <td>NaN</td>\n",
       "      <td>NaN</td>\n",
       "      <td>NaN</td>\n",
       "    </tr>\n",
       "    <tr>\n",
       "      <th>2</th>\n",
       "      <td>6.341388e+17</td>\n",
       "      <td>Mount Isa Institute of TAFE</td>\n",
       "      <td>Delivery (teaching)</td>\n",
       "      <td>2010.0</td>\n",
       "      <td>Retirement</td>\n",
       "      <td>-</td>\n",
       "      <td>-</td>\n",
       "      <td>-</td>\n",
       "      <td>-</td>\n",
       "      <td>-</td>\n",
       "      <td>...</td>\n",
       "      <td>Yes</td>\n",
       "      <td>Yes</td>\n",
       "      <td>Yes</td>\n",
       "      <td>Yes</td>\n",
       "      <td>NaN</td>\n",
       "      <td>NaN</td>\n",
       "      <td>NaN</td>\n",
       "      <td>NaN</td>\n",
       "      <td>NaN</td>\n",
       "      <td>NaN</td>\n",
       "    </tr>\n",
       "    <tr>\n",
       "      <th>3</th>\n",
       "      <td>6.341399e+17</td>\n",
       "      <td>Mount Isa Institute of TAFE</td>\n",
       "      <td>Non-Delivery (corporate)</td>\n",
       "      <td>2010.0</td>\n",
       "      <td>Resignation</td>\n",
       "      <td>-</td>\n",
       "      <td>-</td>\n",
       "      <td>-</td>\n",
       "      <td>-</td>\n",
       "      <td>-</td>\n",
       "      <td>...</td>\n",
       "      <td>Yes</td>\n",
       "      <td>Yes</td>\n",
       "      <td>Yes</td>\n",
       "      <td>Yes</td>\n",
       "      <td>NaN</td>\n",
       "      <td>NaN</td>\n",
       "      <td>NaN</td>\n",
       "      <td>NaN</td>\n",
       "      <td>NaN</td>\n",
       "      <td>NaN</td>\n",
       "    </tr>\n",
       "    <tr>\n",
       "      <th>4</th>\n",
       "      <td>6.341466e+17</td>\n",
       "      <td>Southern Queensland Institute of TAFE</td>\n",
       "      <td>Delivery (teaching)</td>\n",
       "      <td>2010.0</td>\n",
       "      <td>Resignation</td>\n",
       "      <td>-</td>\n",
       "      <td>Career Move - Private Sector</td>\n",
       "      <td>-</td>\n",
       "      <td>-</td>\n",
       "      <td>-</td>\n",
       "      <td>...</td>\n",
       "      <td>Yes</td>\n",
       "      <td>Yes</td>\n",
       "      <td>Yes</td>\n",
       "      <td>Yes</td>\n",
       "      <td>Male</td>\n",
       "      <td>41  45</td>\n",
       "      <td>Permanent Full-time</td>\n",
       "      <td>Teacher (including LVT)</td>\n",
       "      <td>3-4</td>\n",
       "      <td>3-4</td>\n",
       "    </tr>\n",
       "  </tbody>\n",
       "</table>\n",
       "<p>5 rows × 72 columns</p>\n",
       "</div>"
      ],
      "text/plain": [
       "      Record ID                              Institute  \\\n",
       "0  6.341330e+17  Southern Queensland Institute of TAFE   \n",
       "1  6.341337e+17            Mount Isa Institute of TAFE   \n",
       "2  6.341388e+17            Mount Isa Institute of TAFE   \n",
       "3  6.341399e+17            Mount Isa Institute of TAFE   \n",
       "4  6.341466e+17  Southern Queensland Institute of TAFE   \n",
       "\n",
       "                   WorkArea  CESSATION YEAR Reason for ceasing employment  \\\n",
       "0  Non-Delivery (corporate)          2010.0              Contract Expired   \n",
       "1  Non-Delivery (corporate)          2010.0                    Retirement   \n",
       "2       Delivery (teaching)          2010.0                    Retirement   \n",
       "3  Non-Delivery (corporate)          2010.0                   Resignation   \n",
       "4       Delivery (teaching)          2010.0                   Resignation   \n",
       "\n",
       "  Contributing Factors. Career Move - Public Sector   \\\n",
       "0                                                NaN   \n",
       "1                                                  -   \n",
       "2                                                  -   \n",
       "3                                                  -   \n",
       "4                                                  -   \n",
       "\n",
       "  Contributing Factors. Career Move - Private Sector   \\\n",
       "0                                                NaN    \n",
       "1                                                  -    \n",
       "2                                                  -    \n",
       "3                                                  -    \n",
       "4                       Career Move - Private Sector    \n",
       "\n",
       "  Contributing Factors. Career Move - Self-employment  \\\n",
       "0                                                NaN    \n",
       "1                                                  -    \n",
       "2                                                  -    \n",
       "3                                                  -    \n",
       "4                                                  -    \n",
       "\n",
       "  Contributing Factors. Ill Health Contributing Factors. Maternity/Family  \\\n",
       "0                              NaN                                    NaN   \n",
       "1                                -                                      -   \n",
       "2                                -                                      -   \n",
       "3                                -                                      -   \n",
       "4                                -                                      -   \n",
       "\n",
       "   ...  \\\n",
       "0  ...   \n",
       "1  ...   \n",
       "2  ...   \n",
       "3  ...   \n",
       "4  ...   \n",
       "\n",
       "  Workplace. Topic:Does your workplace promote a work culture free from all forms of unlawful discrimination?  \\\n",
       "0                                                Yes                                                            \n",
       "1                                                Yes                                                            \n",
       "2                                                Yes                                                            \n",
       "3                                                Yes                                                            \n",
       "4                                                Yes                                                            \n",
       "\n",
       "  Workplace. Topic:Does your workplace promote and practice the principles of employment equity?  \\\n",
       "0                                                Yes                                               \n",
       "1                                                Yes                                               \n",
       "2                                                Yes                                               \n",
       "3                                                Yes                                               \n",
       "4                                                Yes                                               \n",
       "\n",
       "  Workplace. Topic:Does your workplace value the diversity of its employees?  \\\n",
       "0                                                Yes                           \n",
       "1                                                Yes                           \n",
       "2                                                Yes                           \n",
       "3                                                Yes                           \n",
       "4                                                Yes                           \n",
       "\n",
       "  Workplace. Topic:Would you recommend the Institute as an employer to others?  \\\n",
       "0                                                Yes                             \n",
       "1                                                Yes                             \n",
       "2                                                Yes                             \n",
       "3                                                Yes                             \n",
       "4                                                Yes                             \n",
       "\n",
       "  Gender. What is your Gender? CurrentAge. Current Age  \\\n",
       "0                       Female                  26  30   \n",
       "1                          NaN                     NaN   \n",
       "2                          NaN                     NaN   \n",
       "3                          NaN                     NaN   \n",
       "4                         Male                  41  45   \n",
       "\n",
       "  Employment Type. Employment Type Classification. Classification  \\\n",
       "0              Temporary Full-time            Administration (AO)   \n",
       "1                              NaN                            NaN   \n",
       "2                              NaN                            NaN   \n",
       "3                              NaN                            NaN   \n",
       "4              Permanent Full-time        Teacher (including LVT)   \n",
       "\n",
       "  LengthofServiceOverall. Overall Length of Service at Institute (in years)  \\\n",
       "0                                                1-2                          \n",
       "1                                                NaN                          \n",
       "2                                                NaN                          \n",
       "3                                                NaN                          \n",
       "4                                                3-4                          \n",
       "\n",
       "  LengthofServiceCurrent. Length of Service at current workplace (in years)  \n",
       "0                                                1-2                         \n",
       "1                                                NaN                         \n",
       "2                                                NaN                         \n",
       "3                                                NaN                         \n",
       "4                                                3-4                         \n",
       "\n",
       "[5 rows x 72 columns]"
      ]
     },
     "execution_count": 10,
     "metadata": {},
     "output_type": "execute_result"
    }
   ],
   "source": [
    "tafe_data.head()"
   ]
  },
  {
   "cell_type": "code",
   "execution_count": 11,
   "id": "b27d473b",
   "metadata": {},
   "outputs": [
    {
     "data": {
      "text/plain": [
       "SeparationType\n",
       "Age Retirement                          285\n",
       "Resignation-Other reasons               150\n",
       "Resignation-Other employer               91\n",
       "Resignation-Move overseas/interstate     70\n",
       "Voluntary Early Retirement (VER)         67\n",
       "Ill Health Retirement                    61\n",
       "Other                                    49\n",
       "Contract Expired                         34\n",
       "Termination                              15\n",
       "Name: count, dtype: int64"
      ]
     },
     "execution_count": 11,
     "metadata": {},
     "output_type": "execute_result"
    }
   ],
   "source": [
    "dete_data[\"SeparationType\"].value_counts()"
   ]
  },
  {
   "cell_type": "code",
   "execution_count": 12,
   "id": "baa7014c",
   "metadata": {},
   "outputs": [
    {
     "data": {
      "text/plain": [
       "Reason for ceasing employment\n",
       "Resignation                 340\n",
       "Contract Expired            127\n",
       "Retrenchment/ Redundancy    104\n",
       "Retirement                   82\n",
       "Transfer                     25\n",
       "Termination                  23\n",
       "Name: count, dtype: int64"
      ]
     },
     "execution_count": 12,
     "metadata": {},
     "output_type": "execute_result"
    }
   ],
   "source": [
    "tafe_data[\"Reason for ceasing employment\"].value_counts()"
   ]
  },
  {
   "cell_type": "markdown",
   "id": "1663926d",
   "metadata": {},
   "source": [
    "**DETE Data**:\n",
    "The DETE data is succinct in terms of column names. It has 822 rows and 56 columns. Some columns like 'DETE Start Date' and 'Role Start Date' have NaN values that are written as 'Not Stated'.\n",
    "\n",
    "**TAFE Data**:\n",
    "The TAFE data will need cleaning as the column names are structured questions. These will need to be renamed into brief keywords. This data has 702 rows and 72 columns. Some columns have NaN values that are written with a '-'.\n",
    "\n",
    "The datasets have a large amount of columns that we will disregard. Consolidating the three resignation types in the DETE dataset, it looks like the primary reason for employment separation is `resignation` at both DETE and TAFE. `Retirement` comes close at DETE so we may want to see if the average age is higher than that at TAFE."
   ]
  },
  {
   "cell_type": "code",
   "execution_count": 13,
   "id": "6a6ad658",
   "metadata": {},
   "outputs": [
    {
     "data": {
      "text/plain": [
       "Gender  SeparationType                      \n",
       "Female  Age Retirement                          192\n",
       "        Resignation-Other reasons               121\n",
       "Male    Age Retirement                           83\n",
       "Female  Resignation-Other employer               64\n",
       "        Resignation-Move overseas/interstate     48\n",
       "        Voluntary Early Retirement (VER)         44\n",
       "        Ill Health Retirement                    40\n",
       "        Other                                    39\n",
       "Male    Resignation-Other employer               26\n",
       "        Resignation-Other reasons                26\n",
       "        Voluntary Early Retirement (VER)         21\n",
       "        Ill Health Retirement                    19\n",
       "Female  Contract Expired                         18\n",
       "Male    Resignation-Move overseas/interstate     17\n",
       "        Contract Expired                         16\n",
       "        Other                                     9\n",
       "        Termination                               8\n",
       "Female  Termination                               7\n",
       "Name: count, dtype: int64"
      ]
     },
     "execution_count": 13,
     "metadata": {},
     "output_type": "execute_result"
    }
   ],
   "source": [
    "dete_data[[\"Gender\", \"SeparationType\"]].value_counts()"
   ]
  },
  {
   "cell_type": "code",
   "execution_count": 14,
   "id": "73e612d7",
   "metadata": {},
   "outputs": [
    {
     "data": {
      "text/plain": [
       "Gender. What is your Gender?  Reason for ceasing employment\n",
       "Female                        Resignation                      191\n",
       "Male                          Resignation                       99\n",
       "Female                        Contract Expired                  81\n",
       "                              Retrenchment/ Redundancy          45\n",
       "Male                          Retrenchment/ Redundancy          43\n",
       "Female                        Retirement                        37\n",
       "Male                          Retirement                        33\n",
       "                              Contract Expired                  26\n",
       "Female                        Termination                       19\n",
       "                              Transfer                          16\n",
       "Male                          Transfer                           4\n",
       "                              Termination                        2\n",
       "Name: count, dtype: int64"
      ]
     },
     "execution_count": 14,
     "metadata": {},
     "output_type": "execute_result"
    }
   ],
   "source": [
    "tafe_data[[\"Gender. What is your Gender?\",\"Reason for ceasing employment\"]].value_counts()"
   ]
  },
  {
   "cell_type": "markdown",
   "id": "fa59406a",
   "metadata": {},
   "source": [
    "More females than males leave the companies with the highest reason being resignation. This either may indicate a higher population of females at the companies or job cultures and/or work environments negatively impacting females."
   ]
  },
  {
   "cell_type": "markdown",
   "id": "0ee0a9ad",
   "metadata": {},
   "source": [
    "## Cleaning the data"
   ]
  },
  {
   "cell_type": "markdown",
   "id": "fca8362c",
   "metadata": {},
   "source": [
    "We saw that the 'DETE Start Date' and 'Role Start Date' columns at a glance in the DETE dataset wrote NaN values as `Not Stated`. We'll rewrite these in as `NaN` so that the values are properly analyzed."
   ]
  },
  {
   "cell_type": "code",
   "execution_count": 15,
   "id": "81e1d7a7",
   "metadata": {},
   "outputs": [],
   "source": [
    "dete_survey = pd.read_csv(\"dete_survey.csv\", na_values=\"Not Stated\")"
   ]
  },
  {
   "cell_type": "markdown",
   "id": "adb77377",
   "metadata": {},
   "source": [
    "There are survey questions that appear to be redundant or have a large amount of NaN values. These include the columns in indices 28-48 and 51-55. We'll remove these."
   ]
  },
  {
   "cell_type": "code",
   "execution_count": 16,
   "id": "3c241a8f",
   "metadata": {},
   "outputs": [],
   "source": [
    "dete_survey_updated = dete_survey.drop(dete_survey.columns[28:49], axis=1)\n",
    "dete_survey_updated = dete_survey_updated.iloc[:,:-5]"
   ]
  },
  {
   "cell_type": "code",
   "execution_count": 17,
   "id": "22dc2db9",
   "metadata": {},
   "outputs": [
    {
     "data": {
      "text/html": [
       "<div>\n",
       "<style scoped>\n",
       "    .dataframe tbody tr th:only-of-type {\n",
       "        vertical-align: middle;\n",
       "    }\n",
       "\n",
       "    .dataframe tbody tr th {\n",
       "        vertical-align: top;\n",
       "    }\n",
       "\n",
       "    .dataframe thead th {\n",
       "        text-align: right;\n",
       "    }\n",
       "</style>\n",
       "<table border=\"1\" class=\"dataframe\">\n",
       "  <thead>\n",
       "    <tr style=\"text-align: right;\">\n",
       "      <th></th>\n",
       "      <th>ID</th>\n",
       "      <th>SeparationType</th>\n",
       "      <th>Cease Date</th>\n",
       "      <th>DETE Start Date</th>\n",
       "      <th>Role Start Date</th>\n",
       "      <th>Position</th>\n",
       "      <th>Classification</th>\n",
       "      <th>Region</th>\n",
       "      <th>Business Unit</th>\n",
       "      <th>Employment Status</th>\n",
       "      <th>...</th>\n",
       "      <th>Maternity/family</th>\n",
       "      <th>Relocation</th>\n",
       "      <th>Study/Travel</th>\n",
       "      <th>Ill Health</th>\n",
       "      <th>Traumatic incident</th>\n",
       "      <th>Work life balance</th>\n",
       "      <th>Workload</th>\n",
       "      <th>None of the above</th>\n",
       "      <th>Gender</th>\n",
       "      <th>Age</th>\n",
       "    </tr>\n",
       "  </thead>\n",
       "  <tbody>\n",
       "    <tr>\n",
       "      <th>0</th>\n",
       "      <td>1</td>\n",
       "      <td>Ill Health Retirement</td>\n",
       "      <td>08/2012</td>\n",
       "      <td>1984.0</td>\n",
       "      <td>2004.0</td>\n",
       "      <td>Public Servant</td>\n",
       "      <td>A01-A04</td>\n",
       "      <td>Central Office</td>\n",
       "      <td>Corporate Strategy and Peformance</td>\n",
       "      <td>Permanent Full-time</td>\n",
       "      <td>...</td>\n",
       "      <td>False</td>\n",
       "      <td>False</td>\n",
       "      <td>False</td>\n",
       "      <td>False</td>\n",
       "      <td>False</td>\n",
       "      <td>False</td>\n",
       "      <td>False</td>\n",
       "      <td>True</td>\n",
       "      <td>Male</td>\n",
       "      <td>56-60</td>\n",
       "    </tr>\n",
       "    <tr>\n",
       "      <th>1</th>\n",
       "      <td>2</td>\n",
       "      <td>Voluntary Early Retirement (VER)</td>\n",
       "      <td>08/2012</td>\n",
       "      <td>NaN</td>\n",
       "      <td>NaN</td>\n",
       "      <td>Public Servant</td>\n",
       "      <td>AO5-AO7</td>\n",
       "      <td>Central Office</td>\n",
       "      <td>Corporate Strategy and Peformance</td>\n",
       "      <td>Permanent Full-time</td>\n",
       "      <td>...</td>\n",
       "      <td>False</td>\n",
       "      <td>False</td>\n",
       "      <td>False</td>\n",
       "      <td>False</td>\n",
       "      <td>False</td>\n",
       "      <td>False</td>\n",
       "      <td>False</td>\n",
       "      <td>False</td>\n",
       "      <td>Male</td>\n",
       "      <td>56-60</td>\n",
       "    </tr>\n",
       "    <tr>\n",
       "      <th>2</th>\n",
       "      <td>3</td>\n",
       "      <td>Voluntary Early Retirement (VER)</td>\n",
       "      <td>05/2012</td>\n",
       "      <td>2011.0</td>\n",
       "      <td>2011.0</td>\n",
       "      <td>Schools Officer</td>\n",
       "      <td>NaN</td>\n",
       "      <td>Central Office</td>\n",
       "      <td>Education Queensland</td>\n",
       "      <td>Permanent Full-time</td>\n",
       "      <td>...</td>\n",
       "      <td>False</td>\n",
       "      <td>False</td>\n",
       "      <td>False</td>\n",
       "      <td>False</td>\n",
       "      <td>False</td>\n",
       "      <td>False</td>\n",
       "      <td>False</td>\n",
       "      <td>True</td>\n",
       "      <td>Male</td>\n",
       "      <td>61 or older</td>\n",
       "    </tr>\n",
       "    <tr>\n",
       "      <th>3</th>\n",
       "      <td>4</td>\n",
       "      <td>Resignation-Other reasons</td>\n",
       "      <td>05/2012</td>\n",
       "      <td>2005.0</td>\n",
       "      <td>2006.0</td>\n",
       "      <td>Teacher</td>\n",
       "      <td>Primary</td>\n",
       "      <td>Central Queensland</td>\n",
       "      <td>NaN</td>\n",
       "      <td>Permanent Full-time</td>\n",
       "      <td>...</td>\n",
       "      <td>False</td>\n",
       "      <td>False</td>\n",
       "      <td>False</td>\n",
       "      <td>False</td>\n",
       "      <td>False</td>\n",
       "      <td>False</td>\n",
       "      <td>False</td>\n",
       "      <td>False</td>\n",
       "      <td>Female</td>\n",
       "      <td>36-40</td>\n",
       "    </tr>\n",
       "    <tr>\n",
       "      <th>4</th>\n",
       "      <td>5</td>\n",
       "      <td>Age Retirement</td>\n",
       "      <td>05/2012</td>\n",
       "      <td>1970.0</td>\n",
       "      <td>1989.0</td>\n",
       "      <td>Head of Curriculum/Head of Special Education</td>\n",
       "      <td>NaN</td>\n",
       "      <td>South East</td>\n",
       "      <td>NaN</td>\n",
       "      <td>Permanent Full-time</td>\n",
       "      <td>...</td>\n",
       "      <td>False</td>\n",
       "      <td>False</td>\n",
       "      <td>False</td>\n",
       "      <td>False</td>\n",
       "      <td>False</td>\n",
       "      <td>True</td>\n",
       "      <td>False</td>\n",
       "      <td>False</td>\n",
       "      <td>Female</td>\n",
       "      <td>61 or older</td>\n",
       "    </tr>\n",
       "  </tbody>\n",
       "</table>\n",
       "<p>5 rows × 30 columns</p>\n",
       "</div>"
      ],
      "text/plain": [
       "   ID                    SeparationType Cease Date  DETE Start Date  \\\n",
       "0   1             Ill Health Retirement    08/2012           1984.0   \n",
       "1   2  Voluntary Early Retirement (VER)    08/2012              NaN   \n",
       "2   3  Voluntary Early Retirement (VER)    05/2012           2011.0   \n",
       "3   4         Resignation-Other reasons    05/2012           2005.0   \n",
       "4   5                    Age Retirement    05/2012           1970.0   \n",
       "\n",
       "   Role Start Date                                      Position  \\\n",
       "0           2004.0                                Public Servant   \n",
       "1              NaN                                Public Servant   \n",
       "2           2011.0                               Schools Officer   \n",
       "3           2006.0                                       Teacher   \n",
       "4           1989.0  Head of Curriculum/Head of Special Education   \n",
       "\n",
       "  Classification              Region                      Business Unit  \\\n",
       "0        A01-A04      Central Office  Corporate Strategy and Peformance   \n",
       "1        AO5-AO7      Central Office  Corporate Strategy and Peformance   \n",
       "2            NaN      Central Office               Education Queensland   \n",
       "3        Primary  Central Queensland                                NaN   \n",
       "4            NaN          South East                                NaN   \n",
       "\n",
       "     Employment Status  ...  Maternity/family  Relocation  Study/Travel  \\\n",
       "0  Permanent Full-time  ...             False       False         False   \n",
       "1  Permanent Full-time  ...             False       False         False   \n",
       "2  Permanent Full-time  ...             False       False         False   \n",
       "3  Permanent Full-time  ...             False       False         False   \n",
       "4  Permanent Full-time  ...             False       False         False   \n",
       "\n",
       "   Ill Health  Traumatic incident  Work life balance  Workload  \\\n",
       "0       False               False              False     False   \n",
       "1       False               False              False     False   \n",
       "2       False               False              False     False   \n",
       "3       False               False              False     False   \n",
       "4       False               False               True     False   \n",
       "\n",
       "   None of the above  Gender          Age  \n",
       "0               True    Male        56-60  \n",
       "1              False    Male        56-60  \n",
       "2               True    Male  61 or older  \n",
       "3              False  Female        36-40  \n",
       "4              False  Female  61 or older  \n",
       "\n",
       "[5 rows x 30 columns]"
      ]
     },
     "execution_count": 17,
     "metadata": {},
     "output_type": "execute_result"
    }
   ],
   "source": [
    "dete_survey_updated.head()"
   ]
  },
  {
   "cell_type": "markdown",
   "id": "fbc5f857",
   "metadata": {},
   "source": [
    "The TAFE dataset has a large number of survey questions for which the employee did not provide answers to. We remove all these columns except for the ones pertaining to contributing factors."
   ]
  },
  {
   "cell_type": "code",
   "execution_count": 18,
   "id": "8ccc1c44",
   "metadata": {},
   "outputs": [],
   "source": [
    "tafe_survey_updated = tafe_data.drop(tafe_data.columns[17:66], axis=1)"
   ]
  },
  {
   "cell_type": "code",
   "execution_count": 19,
   "id": "98499a52",
   "metadata": {},
   "outputs": [
    {
     "data": {
      "text/html": [
       "<div>\n",
       "<style scoped>\n",
       "    .dataframe tbody tr th:only-of-type {\n",
       "        vertical-align: middle;\n",
       "    }\n",
       "\n",
       "    .dataframe tbody tr th {\n",
       "        vertical-align: top;\n",
       "    }\n",
       "\n",
       "    .dataframe thead th {\n",
       "        text-align: right;\n",
       "    }\n",
       "</style>\n",
       "<table border=\"1\" class=\"dataframe\">\n",
       "  <thead>\n",
       "    <tr style=\"text-align: right;\">\n",
       "      <th></th>\n",
       "      <th>Record ID</th>\n",
       "      <th>Institute</th>\n",
       "      <th>WorkArea</th>\n",
       "      <th>CESSATION YEAR</th>\n",
       "      <th>Reason for ceasing employment</th>\n",
       "      <th>Contributing Factors. Career Move - Public Sector</th>\n",
       "      <th>Contributing Factors. Career Move - Private Sector</th>\n",
       "      <th>Contributing Factors. Career Move - Self-employment</th>\n",
       "      <th>Contributing Factors. Ill Health</th>\n",
       "      <th>Contributing Factors. Maternity/Family</th>\n",
       "      <th>...</th>\n",
       "      <th>Contributing Factors. Study</th>\n",
       "      <th>Contributing Factors. Travel</th>\n",
       "      <th>Contributing Factors. Other</th>\n",
       "      <th>Contributing Factors. NONE</th>\n",
       "      <th>Gender. What is your Gender?</th>\n",
       "      <th>CurrentAge. Current Age</th>\n",
       "      <th>Employment Type. Employment Type</th>\n",
       "      <th>Classification. Classification</th>\n",
       "      <th>LengthofServiceOverall. Overall Length of Service at Institute (in years)</th>\n",
       "      <th>LengthofServiceCurrent. Length of Service at current workplace (in years)</th>\n",
       "    </tr>\n",
       "  </thead>\n",
       "  <tbody>\n",
       "    <tr>\n",
       "      <th>0</th>\n",
       "      <td>6.341330e+17</td>\n",
       "      <td>Southern Queensland Institute of TAFE</td>\n",
       "      <td>Non-Delivery (corporate)</td>\n",
       "      <td>2010.0</td>\n",
       "      <td>Contract Expired</td>\n",
       "      <td>NaN</td>\n",
       "      <td>NaN</td>\n",
       "      <td>NaN</td>\n",
       "      <td>NaN</td>\n",
       "      <td>NaN</td>\n",
       "      <td>...</td>\n",
       "      <td>NaN</td>\n",
       "      <td>NaN</td>\n",
       "      <td>NaN</td>\n",
       "      <td>NaN</td>\n",
       "      <td>Female</td>\n",
       "      <td>26  30</td>\n",
       "      <td>Temporary Full-time</td>\n",
       "      <td>Administration (AO)</td>\n",
       "      <td>1-2</td>\n",
       "      <td>1-2</td>\n",
       "    </tr>\n",
       "    <tr>\n",
       "      <th>1</th>\n",
       "      <td>6.341337e+17</td>\n",
       "      <td>Mount Isa Institute of TAFE</td>\n",
       "      <td>Non-Delivery (corporate)</td>\n",
       "      <td>2010.0</td>\n",
       "      <td>Retirement</td>\n",
       "      <td>-</td>\n",
       "      <td>-</td>\n",
       "      <td>-</td>\n",
       "      <td>-</td>\n",
       "      <td>-</td>\n",
       "      <td>...</td>\n",
       "      <td>-</td>\n",
       "      <td>Travel</td>\n",
       "      <td>-</td>\n",
       "      <td>-</td>\n",
       "      <td>NaN</td>\n",
       "      <td>NaN</td>\n",
       "      <td>NaN</td>\n",
       "      <td>NaN</td>\n",
       "      <td>NaN</td>\n",
       "      <td>NaN</td>\n",
       "    </tr>\n",
       "    <tr>\n",
       "      <th>2</th>\n",
       "      <td>6.341388e+17</td>\n",
       "      <td>Mount Isa Institute of TAFE</td>\n",
       "      <td>Delivery (teaching)</td>\n",
       "      <td>2010.0</td>\n",
       "      <td>Retirement</td>\n",
       "      <td>-</td>\n",
       "      <td>-</td>\n",
       "      <td>-</td>\n",
       "      <td>-</td>\n",
       "      <td>-</td>\n",
       "      <td>...</td>\n",
       "      <td>-</td>\n",
       "      <td>-</td>\n",
       "      <td>-</td>\n",
       "      <td>NONE</td>\n",
       "      <td>NaN</td>\n",
       "      <td>NaN</td>\n",
       "      <td>NaN</td>\n",
       "      <td>NaN</td>\n",
       "      <td>NaN</td>\n",
       "      <td>NaN</td>\n",
       "    </tr>\n",
       "    <tr>\n",
       "      <th>3</th>\n",
       "      <td>6.341399e+17</td>\n",
       "      <td>Mount Isa Institute of TAFE</td>\n",
       "      <td>Non-Delivery (corporate)</td>\n",
       "      <td>2010.0</td>\n",
       "      <td>Resignation</td>\n",
       "      <td>-</td>\n",
       "      <td>-</td>\n",
       "      <td>-</td>\n",
       "      <td>-</td>\n",
       "      <td>-</td>\n",
       "      <td>...</td>\n",
       "      <td>-</td>\n",
       "      <td>Travel</td>\n",
       "      <td>-</td>\n",
       "      <td>-</td>\n",
       "      <td>NaN</td>\n",
       "      <td>NaN</td>\n",
       "      <td>NaN</td>\n",
       "      <td>NaN</td>\n",
       "      <td>NaN</td>\n",
       "      <td>NaN</td>\n",
       "    </tr>\n",
       "    <tr>\n",
       "      <th>4</th>\n",
       "      <td>6.341466e+17</td>\n",
       "      <td>Southern Queensland Institute of TAFE</td>\n",
       "      <td>Delivery (teaching)</td>\n",
       "      <td>2010.0</td>\n",
       "      <td>Resignation</td>\n",
       "      <td>-</td>\n",
       "      <td>Career Move - Private Sector</td>\n",
       "      <td>-</td>\n",
       "      <td>-</td>\n",
       "      <td>-</td>\n",
       "      <td>...</td>\n",
       "      <td>-</td>\n",
       "      <td>-</td>\n",
       "      <td>-</td>\n",
       "      <td>-</td>\n",
       "      <td>Male</td>\n",
       "      <td>41  45</td>\n",
       "      <td>Permanent Full-time</td>\n",
       "      <td>Teacher (including LVT)</td>\n",
       "      <td>3-4</td>\n",
       "      <td>3-4</td>\n",
       "    </tr>\n",
       "  </tbody>\n",
       "</table>\n",
       "<p>5 rows × 23 columns</p>\n",
       "</div>"
      ],
      "text/plain": [
       "      Record ID                              Institute  \\\n",
       "0  6.341330e+17  Southern Queensland Institute of TAFE   \n",
       "1  6.341337e+17            Mount Isa Institute of TAFE   \n",
       "2  6.341388e+17            Mount Isa Institute of TAFE   \n",
       "3  6.341399e+17            Mount Isa Institute of TAFE   \n",
       "4  6.341466e+17  Southern Queensland Institute of TAFE   \n",
       "\n",
       "                   WorkArea  CESSATION YEAR Reason for ceasing employment  \\\n",
       "0  Non-Delivery (corporate)          2010.0              Contract Expired   \n",
       "1  Non-Delivery (corporate)          2010.0                    Retirement   \n",
       "2       Delivery (teaching)          2010.0                    Retirement   \n",
       "3  Non-Delivery (corporate)          2010.0                   Resignation   \n",
       "4       Delivery (teaching)          2010.0                   Resignation   \n",
       "\n",
       "  Contributing Factors. Career Move - Public Sector   \\\n",
       "0                                                NaN   \n",
       "1                                                  -   \n",
       "2                                                  -   \n",
       "3                                                  -   \n",
       "4                                                  -   \n",
       "\n",
       "  Contributing Factors. Career Move - Private Sector   \\\n",
       "0                                                NaN    \n",
       "1                                                  -    \n",
       "2                                                  -    \n",
       "3                                                  -    \n",
       "4                       Career Move - Private Sector    \n",
       "\n",
       "  Contributing Factors. Career Move - Self-employment  \\\n",
       "0                                                NaN    \n",
       "1                                                  -    \n",
       "2                                                  -    \n",
       "3                                                  -    \n",
       "4                                                  -    \n",
       "\n",
       "  Contributing Factors. Ill Health Contributing Factors. Maternity/Family  \\\n",
       "0                              NaN                                    NaN   \n",
       "1                                -                                      -   \n",
       "2                                -                                      -   \n",
       "3                                -                                      -   \n",
       "4                                -                                      -   \n",
       "\n",
       "   ... Contributing Factors. Study Contributing Factors. Travel  \\\n",
       "0  ...                         NaN                          NaN   \n",
       "1  ...                           -                       Travel   \n",
       "2  ...                           -                            -   \n",
       "3  ...                           -                       Travel   \n",
       "4  ...                           -                            -   \n",
       "\n",
       "  Contributing Factors. Other Contributing Factors. NONE  \\\n",
       "0                         NaN                        NaN   \n",
       "1                           -                          -   \n",
       "2                           -                       NONE   \n",
       "3                           -                          -   \n",
       "4                           -                          -   \n",
       "\n",
       "  Gender. What is your Gender? CurrentAge. Current Age  \\\n",
       "0                       Female                  26  30   \n",
       "1                          NaN                     NaN   \n",
       "2                          NaN                     NaN   \n",
       "3                          NaN                     NaN   \n",
       "4                         Male                  41  45   \n",
       "\n",
       "  Employment Type. Employment Type Classification. Classification  \\\n",
       "0              Temporary Full-time            Administration (AO)   \n",
       "1                              NaN                            NaN   \n",
       "2                              NaN                            NaN   \n",
       "3                              NaN                            NaN   \n",
       "4              Permanent Full-time        Teacher (including LVT)   \n",
       "\n",
       "  LengthofServiceOverall. Overall Length of Service at Institute (in years)  \\\n",
       "0                                                1-2                          \n",
       "1                                                NaN                          \n",
       "2                                                NaN                          \n",
       "3                                                NaN                          \n",
       "4                                                3-4                          \n",
       "\n",
       "  LengthofServiceCurrent. Length of Service at current workplace (in years)  \n",
       "0                                                1-2                         \n",
       "1                                                NaN                         \n",
       "2                                                NaN                         \n",
       "3                                                NaN                         \n",
       "4                                                3-4                         \n",
       "\n",
       "[5 rows x 23 columns]"
      ]
     },
     "execution_count": 19,
     "metadata": {},
     "output_type": "execute_result"
    }
   ],
   "source": [
    "tafe_survey_updated.head()"
   ]
  },
  {
   "cell_type": "markdown",
   "id": "87916a62",
   "metadata": {},
   "source": [
    "## Cleaning column names"
   ]
  },
  {
   "cell_type": "markdown",
   "id": "2b79f4a7",
   "metadata": {},
   "source": [
    "The DETE and TAFE datasets contain many of the same information but their columns are labeled differently. To eventually be able to merge these datasets, we want to standardize the column names. First, we take an inventory of columns we want to keep in each dataset.\n",
    "\n",
    "\n",
    "| dete_survey | tafe_survey | Definition |\n",
    "| :-------- | :------- | :------ |\n",
    "| ID | Record ID | ID used to identify the employee<br>- starts at 1 for DETE<br>- starts with [6][0-9]{17} (18 digits) for TAFE |\n",
    "| SeparationType | Reason for ceasing employment | The reason why the employee's employment ended |\n",
    "| Cease Date | CESSATION YEAR | The date or year the employee's employment ended |\n",
    "| DETE Start Date | | The year the employee started at DETE |\n",
    "| | Lengthof Service Overall. Overall Length of Service at Institute (in years) | The employment duration of the employee at TAFE |\n",
    "| Age | CurrentAge. Current Age | The employee's age |\n",
    "| Gender | Gender. What is your Gender? | The employee's gender|\n",
    "| Employment Status | Employment Type. Employment Type | The employee's employment type |\n"
   ]
  },
  {
   "cell_type": "markdown",
   "id": "7c37c810",
   "metadata": {},
   "source": [
    "In the DETE dataset, we apply the following transformations to the column names:\n",
    "- Change to lowercase\n",
    "- Strip off whitespace\n",
    "- Replace spaces with underscores\n",
    "- Manually change column names"
   ]
  },
  {
   "cell_type": "code",
   "execution_count": 20,
   "id": "81bc1aca",
   "metadata": {},
   "outputs": [],
   "source": [
    "dete_survey_updated.columns = dete_survey_updated.columns.str.replace(\" \", \"_\").str.lower().str.strip()"
   ]
  },
  {
   "cell_type": "code",
   "execution_count": 21,
   "id": "db9c1b5c",
   "metadata": {},
   "outputs": [],
   "source": [
    "dete_survey_updated = dete_survey_updated.rename({\n",
    "    \"none_of_the_above\": \"no_factor_provided\",\n",
    "    \n",
    "}, axis=1)"
   ]
  },
  {
   "cell_type": "code",
   "execution_count": 22,
   "id": "bf025b4c",
   "metadata": {},
   "outputs": [
    {
     "data": {
      "text/plain": [
       "Index(['id', 'separationtype', 'cease_date', 'dete_start_date',\n",
       "       'role_start_date', 'position', 'classification', 'region',\n",
       "       'business_unit', 'employment_status', 'career_move_to_public_sector',\n",
       "       'career_move_to_private_sector', 'interpersonal_conflicts',\n",
       "       'job_dissatisfaction', 'dissatisfaction_with_the_department',\n",
       "       'physical_work_environment', 'lack_of_recognition',\n",
       "       'lack_of_job_security', 'work_location', 'employment_conditions',\n",
       "       'maternity/family', 'relocation', 'study/travel', 'ill_health',\n",
       "       'traumatic_incident', 'work_life_balance', 'workload',\n",
       "       'no_factor_provided', 'gender', 'age'],\n",
       "      dtype='object')"
      ]
     },
     "execution_count": 22,
     "metadata": {},
     "output_type": "execute_result"
    }
   ],
   "source": [
    "dete_survey_updated.columns"
   ]
  },
  {
   "cell_type": "markdown",
   "id": "5c34866d",
   "metadata": {},
   "source": [
    "In the DETE survey, we want to consolidate the three resignation categories into one called 'Resignation'."
   ]
  },
  {
   "cell_type": "code",
   "execution_count": 23,
   "id": "2eecb37f",
   "metadata": {},
   "outputs": [
    {
     "data": {
      "text/plain": [
       "separationtype\n",
       "Age Retirement                          285\n",
       "Resignation-Other reasons               150\n",
       "Resignation-Other employer               91\n",
       "Resignation-Move overseas/interstate     70\n",
       "Voluntary Early Retirement (VER)         67\n",
       "Ill Health Retirement                    61\n",
       "Other                                    49\n",
       "Contract Expired                         34\n",
       "Termination                              15\n",
       "Name: count, dtype: int64"
      ]
     },
     "execution_count": 23,
     "metadata": {},
     "output_type": "execute_result"
    }
   ],
   "source": [
    "dete_survey_updated[\"separationtype\"].value_counts()"
   ]
  },
  {
   "cell_type": "code",
   "execution_count": 24,
   "id": "80af2357",
   "metadata": {},
   "outputs": [],
   "source": [
    "dete_survey_updated[\"separationtype\"] = dete_survey_updated[\"separationtype\"].str.replace(\"-Other reasons\", \"\").str.replace(\"-Other employer\", \"\").str.replace(\"-Move overseas/interstate\", \"\")"
   ]
  },
  {
   "cell_type": "code",
   "execution_count": 25,
   "id": "d2044080",
   "metadata": {},
   "outputs": [
    {
     "data": {
      "text/plain": [
       "separationtype\n",
       "Resignation                         311\n",
       "Age Retirement                      285\n",
       "Voluntary Early Retirement (VER)     67\n",
       "Ill Health Retirement                61\n",
       "Other                                49\n",
       "Contract Expired                     34\n",
       "Termination                          15\n",
       "Name: count, dtype: int64"
      ]
     },
     "execution_count": 25,
     "metadata": {},
     "output_type": "execute_result"
    }
   ],
   "source": [
    "dete_survey_updated[\"separationtype\"].value_counts()"
   ]
  },
  {
   "cell_type": "markdown",
   "id": "bacbc3a2",
   "metadata": {},
   "source": [
    "In the TAFE dataset, we apply the following transformations to the column names:\n",
    "- Remove noisy redundant words\n",
    "- Manually change columns that contain similar data to DETE to lowercase\n",
    "- Strip off whitespace"
   ]
  },
  {
   "cell_type": "code",
   "execution_count": 26,
   "id": "8181ba1b",
   "metadata": {},
   "outputs": [],
   "source": [
    "tafe_survey_updated.columns = tafe_survey_updated.columns.str.replace(\"Contributing Factors. \", \"\")"
   ]
  },
  {
   "cell_type": "code",
   "execution_count": 27,
   "id": "9903b9e1",
   "metadata": {},
   "outputs": [],
   "source": [
    "tafe_survey_updated = tafe_survey_updated.rename({\n",
    "    \"Record ID\": \"id\", \n",
    "    \"Reason for ceasing employment\": \"separationtype\",\n",
    "    \"Career Move - Public Sector \": \"career_move_to_public_sector\",\n",
    "    \"Career Move - Private Sector \": \"career_move_to_private_sector\",\n",
    "    \"Career Move - Self-employment\": \"career_move_to_self_employment\",\n",
    "    \"Interpersonal Conflict\": \"interpersonal_conflicts\",\n",
    "    \"CESSATION YEAR\": \"cease_date\",\n",
    "    \"LengthofServiceOverall. Overall Length of Service at Institute (in years)\": \"length_service\",\n",
    "    \"CurrentAge. Current Age\": \"age\",\n",
    "    \"Gender. What is your Gender?\": \"gender\",\n",
    "    \"Employment Type. Employment Type\": \"employment_status\",\n",
    "    \"Classification. Classification\": \"classification\",\n",
    "    \"LengthofServiceCurrent. Length of Service at current workplace (in years)\": \"length_service_current\",\n",
    "    \"NONE\": \"no_factor_provided\"\n",
    "}, axis=1)\n",
    "\n",
    "tafe_survey_updated.columns = tafe_survey_updated.columns.str.lower().str.strip().str.replace(\" \", \"_\")"
   ]
  },
  {
   "cell_type": "code",
   "execution_count": 28,
   "id": "00dfddcb",
   "metadata": {},
   "outputs": [
    {
     "data": {
      "text/plain": [
       "Index(['id', 'institute', 'workarea', 'cease_date', 'separationtype',\n",
       "       'career_move_to_public_sector', 'career_move_to_private_sector',\n",
       "       'career_move_to_self_employment', 'ill_health', 'maternity/family',\n",
       "       'dissatisfaction', 'job_dissatisfaction', 'interpersonal_conflicts',\n",
       "       'study', 'travel', 'other', 'no_factor_provided', 'gender', 'age',\n",
       "       'employment_status', 'classification', 'length_service',\n",
       "       'length_service_current'],\n",
       "      dtype='object')"
      ]
     },
     "execution_count": 28,
     "metadata": {},
     "output_type": "execute_result"
    }
   ],
   "source": [
    "tafe_survey_updated.columns"
   ]
  },
  {
   "cell_type": "markdown",
   "id": "6c0f494b",
   "metadata": {},
   "source": [
    "## Filtering the data to resignations only"
   ]
  },
  {
   "cell_type": "markdown",
   "id": "63e7355e",
   "metadata": {},
   "source": [
    "Recall the company separation distribution for each company."
   ]
  },
  {
   "cell_type": "code",
   "execution_count": 29,
   "id": "b6b8bf35",
   "metadata": {},
   "outputs": [
    {
     "data": {
      "text/plain": [
       "separationtype\n",
       "Resignation                         311\n",
       "Age Retirement                      285\n",
       "Voluntary Early Retirement (VER)     67\n",
       "Ill Health Retirement                61\n",
       "Other                                49\n",
       "Contract Expired                     34\n",
       "Termination                          15\n",
       "Name: count, dtype: int64"
      ]
     },
     "execution_count": 29,
     "metadata": {},
     "output_type": "execute_result"
    }
   ],
   "source": [
    "dete_survey_updated[\"separationtype\"].value_counts()"
   ]
  },
  {
   "cell_type": "code",
   "execution_count": 30,
   "id": "a91bab07",
   "metadata": {},
   "outputs": [
    {
     "data": {
      "text/plain": [
       "separationtype\n",
       "Resignation                 340\n",
       "Contract Expired            127\n",
       "Retrenchment/ Redundancy    104\n",
       "Retirement                   82\n",
       "Transfer                     25\n",
       "Termination                  23\n",
       "Name: count, dtype: int64"
      ]
     },
     "execution_count": 30,
     "metadata": {},
     "output_type": "execute_result"
    }
   ],
   "source": [
    "tafe_survey_updated[\"separationtype\"].value_counts()"
   ]
  },
  {
   "cell_type": "markdown",
   "id": "4e5c8b4e",
   "metadata": {},
   "source": [
    "At both DETE and TAFE, the primary reason an employee leaves the company is resignation. We'll want to explore this in more depth by focusing on only the resignations."
   ]
  },
  {
   "cell_type": "code",
   "execution_count": 31,
   "id": "27936a7a",
   "metadata": {},
   "outputs": [],
   "source": [
    "dete_resignations = dete_survey_updated[dete_survey_updated[\"separationtype\"] == \"Resignation\"].copy()\n",
    "tafe_resignations = tafe_survey_updated[tafe_survey_updated[\"separationtype\"] == \"Resignation\"].copy()"
   ]
  },
  {
   "cell_type": "markdown",
   "id": "8bc0ed5a",
   "metadata": {},
   "source": [
    "## Verifying the data"
   ]
  },
  {
   "cell_type": "markdown",
   "id": "70ef3d72",
   "metadata": {},
   "source": [
    "We don't want to assume all the information in the datasets we've been provided are correct. As these are exit surveys, we focus on verifying whether the employment start and end dates are reasonable."
   ]
  },
  {
   "cell_type": "code",
   "execution_count": 32,
   "id": "8af8d53f",
   "metadata": {},
   "outputs": [
    {
     "data": {
      "text/plain": [
       "cease_date\n",
       "2012       126\n",
       "2013        74\n",
       "01/2014     22\n",
       "12/2013     17\n",
       "06/2013     14\n",
       "09/2013     11\n",
       "07/2013      9\n",
       "11/2013      9\n",
       "10/2013      6\n",
       "08/2013      4\n",
       "05/2012      2\n",
       "05/2013      2\n",
       "07/2012      1\n",
       "2010         1\n",
       "09/2010      1\n",
       "07/2006      1\n",
       "Name: count, dtype: int64"
      ]
     },
     "execution_count": 32,
     "metadata": {},
     "output_type": "execute_result"
    }
   ],
   "source": [
    "dete_resignations[\"cease_date\"].value_counts()"
   ]
  },
  {
   "cell_type": "code",
   "execution_count": 33,
   "id": "2ba13ea3",
   "metadata": {},
   "outputs": [
    {
     "data": {
      "text/plain": [
       "cease_date\n",
       "2006.0      1\n",
       "2010.0      2\n",
       "2014.0     22\n",
       "2012.0    129\n",
       "2013.0    146\n",
       "Name: count, dtype: int64"
      ]
     },
     "execution_count": 33,
     "metadata": {},
     "output_type": "execute_result"
    }
   ],
   "source": [
    "dete_resignations[\"cease_date\"] = dete_resignations[\"cease_date\"].str.split(\"/\").str[-1]\n",
    "dete_resignations[\"cease_date\"] = dete_resignations[\"cease_date\"].astype(\"float\")\n",
    "\n",
    "dete_resignations[\"cease_date\"].value_counts().sort_values()"
   ]
  },
  {
   "cell_type": "code",
   "execution_count": 34,
   "id": "84541e2b",
   "metadata": {},
   "outputs": [
    {
     "data": {
      "text/plain": [
       "dete_start_date\n",
       "1987.0     1\n",
       "1975.0     1\n",
       "1984.0     1\n",
       "1971.0     1\n",
       "1973.0     1\n",
       "1972.0     1\n",
       "1963.0     1\n",
       "1977.0     1\n",
       "1982.0     1\n",
       "1974.0     2\n",
       "1983.0     2\n",
       "1976.0     2\n",
       "1985.0     3\n",
       "2001.0     3\n",
       "1986.0     3\n",
       "1995.0     4\n",
       "1988.0     4\n",
       "1991.0     4\n",
       "1989.0     4\n",
       "1993.0     5\n",
       "1980.0     5\n",
       "1990.0     5\n",
       "1997.0     5\n",
       "2002.0     6\n",
       "1998.0     6\n",
       "1996.0     6\n",
       "1992.0     6\n",
       "2003.0     6\n",
       "1994.0     6\n",
       "1999.0     8\n",
       "2000.0     9\n",
       "2013.0    10\n",
       "2006.0    13\n",
       "2009.0    13\n",
       "2004.0    14\n",
       "2005.0    15\n",
       "2010.0    17\n",
       "2007.0    21\n",
       "2012.0    21\n",
       "2008.0    22\n",
       "2011.0    24\n",
       "Name: count, dtype: int64"
      ]
     },
     "execution_count": 34,
     "metadata": {},
     "output_type": "execute_result"
    }
   ],
   "source": [
    "dete_resignations[\"dete_start_date\"].value_counts().sort_values()"
   ]
  },
  {
   "cell_type": "code",
   "execution_count": 35,
   "id": "f41873d8",
   "metadata": {},
   "outputs": [
    {
     "data": {
      "text/plain": [
       "cease_date\n",
       "2009.0      2\n",
       "2013.0     55\n",
       "2010.0     68\n",
       "2012.0     94\n",
       "2011.0    116\n",
       "Name: count, dtype: int64"
      ]
     },
     "execution_count": 35,
     "metadata": {},
     "output_type": "execute_result"
    }
   ],
   "source": [
    "tafe_resignations[\"cease_date\"].value_counts().sort_values()"
   ]
  },
  {
   "cell_type": "markdown",
   "id": "0899cbf7",
   "metadata": {},
   "source": [
    "As this data was gathered by only the employees who submitted an exit survey, we see that the earliest separation year for DETE is 2006. There was no data for years 2007, 2008, 2009, and 2011 between 2006 and 2014. Further analysis will need to be made as to whether the company adopted a different exit survey strategy as this may be more plausible than having years where employee attrition due to resignation was truly zero.\n",
    "\n",
    "On the other hand, we have exit survey data for resigned employees in all years between 2009 and 2013 for TAFE.\n",
    "\n",
    "We also see that the numbers have increased over the years for both companies. This can be attributed to company growth and further analysis will need to be performed based on the company's annual population to see whether the attrition rate due to resignation increased. "
   ]
  },
  {
   "cell_type": "markdown",
   "id": "f8f9a86d",
   "metadata": {},
   "source": [
    "## Creating a new column"
   ]
  },
  {
   "cell_type": "markdown",
   "id": "571cd951",
   "metadata": {},
   "source": [
    "**One of our goals is to understand if employees who were at the company for a short period of time are resigning due to job dissatisfaction and explore what impacts those who've been at the company longer.**"
   ]
  },
  {
   "cell_type": "markdown",
   "id": "d1298be8",
   "metadata": {},
   "source": [
    "The TAFE dataset has a `length_service` column which we also want to add to the DETE dataset."
   ]
  },
  {
   "cell_type": "code",
   "execution_count": 36,
   "id": "9479f3b9",
   "metadata": {},
   "outputs": [],
   "source": [
    "dete_resignations[\"length_service\"] = dete_resignations[\"cease_date\"] - dete_resignations[\"dete_start_date\"]"
   ]
  },
  {
   "cell_type": "code",
   "execution_count": 37,
   "id": "c412b319",
   "metadata": {},
   "outputs": [
    {
     "data": {
      "text/plain": [
       "3      7.0\n",
       "5     18.0\n",
       "8      3.0\n",
       "9     15.0\n",
       "11     3.0\n",
       "Name: length_service, dtype: float64"
      ]
     },
     "execution_count": 37,
     "metadata": {},
     "output_type": "execute_result"
    }
   ],
   "source": [
    "dete_resignations[\"length_service\"].head()"
   ]
  },
  {
   "cell_type": "markdown",
   "id": "1ab4c03a",
   "metadata": {},
   "source": [
    "## Identifying dissatisfied employees"
   ]
  },
  {
   "cell_type": "code",
   "execution_count": 38,
   "id": "c88528e9",
   "metadata": {},
   "outputs": [
    {
     "data": {
      "text/plain": [
       "dissatisfaction\n",
       "-                                         277\n",
       "Contributing Factors. Dissatisfaction      55\n",
       "NaN                                         8\n",
       "Name: count, dtype: int64"
      ]
     },
     "execution_count": 38,
     "metadata": {},
     "output_type": "execute_result"
    }
   ],
   "source": [
    "tafe_resignations[\"dissatisfaction\"].value_counts(dropna=False)"
   ]
  },
  {
   "cell_type": "code",
   "execution_count": 39,
   "id": "01c39551",
   "metadata": {},
   "outputs": [
    {
     "data": {
      "text/plain": [
       "job_dissatisfaction\n",
       "-                      270\n",
       "Job Dissatisfaction     62\n",
       "NaN                      8\n",
       "Name: count, dtype: int64"
      ]
     },
     "execution_count": 39,
     "metadata": {},
     "output_type": "execute_result"
    }
   ],
   "source": [
    "tafe_resignations[\"job_dissatisfaction\"].value_counts(dropna=False)"
   ]
  },
  {
   "cell_type": "markdown",
   "id": "0a93557c",
   "metadata": {},
   "source": [
    "We refactor the values to boolean if `-` or the `contributing factor` is provided."
   ]
  },
  {
   "cell_type": "code",
   "execution_count": 40,
   "id": "c0f70d70",
   "metadata": {},
   "outputs": [],
   "source": [
    "def update_factor(x):\n",
    "    if x == '-':\n",
    "        return False\n",
    "    elif pd.isnull(x):\n",
    "        return np.nan\n",
    "    else:\n",
    "        return True"
   ]
  },
  {
   "cell_type": "code",
   "execution_count": 41,
   "id": "fc095e4e",
   "metadata": {},
   "outputs": [],
   "source": [
    "# Group up 'dissatisfaction' and 'job_dissatisfaction' into one column: 'dissatisfied'\n",
    "tafe_resignations[\"dissatisfied\"] = tafe_resignations[[\"dissatisfaction\", \"job_dissatisfaction\"]].applymap(update_factor).any(axis=1, skipna=False)\n",
    "\n",
    "# Group up 'study' and 'travel' similar to DETE dataset column: 'study/travel'\n",
    "tafe_resignations[\"study/travel\"] = tafe_resignations[[\"study\", \"travel\"]].applymap(update_factor).any(axis=1, skipna=False)"
   ]
  },
  {
   "cell_type": "code",
   "execution_count": 42,
   "id": "3fc2b6e4",
   "metadata": {},
   "outputs": [],
   "source": [
    "# Convert the rest of the contributing factors for TAFE into boolean\n",
    "\n",
    "TAFE_contribs = ['career_move_to_public_sector', \n",
    "                 'career_move_to_private_sector',\n",
    "                 'career_move_to_self_employment', \n",
    "                 'ill_health', \n",
    "                 'maternity/family',\n",
    "                 'dissatisfaction', \n",
    "                 'job_dissatisfaction', \n",
    "                 'interpersonal_conflicts',\n",
    "                 'other',\n",
    "                 'no_factor_provided', \n",
    "                ]\n",
    "for columnName in TAFE_contribs:\n",
    "    tafe_resignations[columnName] = tafe_resignations[columnName].apply(update_factor).any(skipna=False)"
   ]
  },
  {
   "cell_type": "code",
   "execution_count": 43,
   "id": "c66bea2f",
   "metadata": {},
   "outputs": [
    {
     "data": {
      "text/html": [
       "<div>\n",
       "<style scoped>\n",
       "    .dataframe tbody tr th:only-of-type {\n",
       "        vertical-align: middle;\n",
       "    }\n",
       "\n",
       "    .dataframe tbody tr th {\n",
       "        vertical-align: top;\n",
       "    }\n",
       "\n",
       "    .dataframe thead th {\n",
       "        text-align: right;\n",
       "    }\n",
       "</style>\n",
       "<table border=\"1\" class=\"dataframe\">\n",
       "  <thead>\n",
       "    <tr style=\"text-align: right;\">\n",
       "      <th></th>\n",
       "      <th>id</th>\n",
       "      <th>institute</th>\n",
       "      <th>workarea</th>\n",
       "      <th>cease_date</th>\n",
       "      <th>separationtype</th>\n",
       "      <th>career_move_to_public_sector</th>\n",
       "      <th>career_move_to_private_sector</th>\n",
       "      <th>career_move_to_self_employment</th>\n",
       "      <th>ill_health</th>\n",
       "      <th>maternity/family</th>\n",
       "      <th>...</th>\n",
       "      <th>other</th>\n",
       "      <th>no_factor_provided</th>\n",
       "      <th>gender</th>\n",
       "      <th>age</th>\n",
       "      <th>employment_status</th>\n",
       "      <th>classification</th>\n",
       "      <th>length_service</th>\n",
       "      <th>length_service_current</th>\n",
       "      <th>dissatisfied</th>\n",
       "      <th>study/travel</th>\n",
       "    </tr>\n",
       "  </thead>\n",
       "  <tbody>\n",
       "    <tr>\n",
       "      <th>3</th>\n",
       "      <td>6.341399e+17</td>\n",
       "      <td>Mount Isa Institute of TAFE</td>\n",
       "      <td>Non-Delivery (corporate)</td>\n",
       "      <td>2010.0</td>\n",
       "      <td>Resignation</td>\n",
       "      <td>True</td>\n",
       "      <td>True</td>\n",
       "      <td>True</td>\n",
       "      <td>True</td>\n",
       "      <td>True</td>\n",
       "      <td>...</td>\n",
       "      <td>True</td>\n",
       "      <td>True</td>\n",
       "      <td>NaN</td>\n",
       "      <td>NaN</td>\n",
       "      <td>NaN</td>\n",
       "      <td>NaN</td>\n",
       "      <td>NaN</td>\n",
       "      <td>NaN</td>\n",
       "      <td>False</td>\n",
       "      <td>True</td>\n",
       "    </tr>\n",
       "    <tr>\n",
       "      <th>4</th>\n",
       "      <td>6.341466e+17</td>\n",
       "      <td>Southern Queensland Institute of TAFE</td>\n",
       "      <td>Delivery (teaching)</td>\n",
       "      <td>2010.0</td>\n",
       "      <td>Resignation</td>\n",
       "      <td>True</td>\n",
       "      <td>True</td>\n",
       "      <td>True</td>\n",
       "      <td>True</td>\n",
       "      <td>True</td>\n",
       "      <td>...</td>\n",
       "      <td>True</td>\n",
       "      <td>True</td>\n",
       "      <td>Male</td>\n",
       "      <td>41  45</td>\n",
       "      <td>Permanent Full-time</td>\n",
       "      <td>Teacher (including LVT)</td>\n",
       "      <td>3-4</td>\n",
       "      <td>3-4</td>\n",
       "      <td>False</td>\n",
       "      <td>False</td>\n",
       "    </tr>\n",
       "    <tr>\n",
       "      <th>5</th>\n",
       "      <td>6.341475e+17</td>\n",
       "      <td>Southern Queensland Institute of TAFE</td>\n",
       "      <td>Delivery (teaching)</td>\n",
       "      <td>2010.0</td>\n",
       "      <td>Resignation</td>\n",
       "      <td>True</td>\n",
       "      <td>True</td>\n",
       "      <td>True</td>\n",
       "      <td>True</td>\n",
       "      <td>True</td>\n",
       "      <td>...</td>\n",
       "      <td>True</td>\n",
       "      <td>True</td>\n",
       "      <td>Female</td>\n",
       "      <td>56 or older</td>\n",
       "      <td>Contract/casual</td>\n",
       "      <td>Teacher (including LVT)</td>\n",
       "      <td>7-10</td>\n",
       "      <td>7-10</td>\n",
       "      <td>False</td>\n",
       "      <td>False</td>\n",
       "    </tr>\n",
       "    <tr>\n",
       "      <th>6</th>\n",
       "      <td>6.341520e+17</td>\n",
       "      <td>Barrier Reef Institute of TAFE</td>\n",
       "      <td>Non-Delivery (corporate)</td>\n",
       "      <td>2010.0</td>\n",
       "      <td>Resignation</td>\n",
       "      <td>True</td>\n",
       "      <td>True</td>\n",
       "      <td>True</td>\n",
       "      <td>True</td>\n",
       "      <td>True</td>\n",
       "      <td>...</td>\n",
       "      <td>True</td>\n",
       "      <td>True</td>\n",
       "      <td>Male</td>\n",
       "      <td>20 or younger</td>\n",
       "      <td>Temporary Full-time</td>\n",
       "      <td>Administration (AO)</td>\n",
       "      <td>3-4</td>\n",
       "      <td>3-4</td>\n",
       "      <td>False</td>\n",
       "      <td>False</td>\n",
       "    </tr>\n",
       "    <tr>\n",
       "      <th>7</th>\n",
       "      <td>6.341537e+17</td>\n",
       "      <td>Southern Queensland Institute of TAFE</td>\n",
       "      <td>Delivery (teaching)</td>\n",
       "      <td>2010.0</td>\n",
       "      <td>Resignation</td>\n",
       "      <td>True</td>\n",
       "      <td>True</td>\n",
       "      <td>True</td>\n",
       "      <td>True</td>\n",
       "      <td>True</td>\n",
       "      <td>...</td>\n",
       "      <td>True</td>\n",
       "      <td>True</td>\n",
       "      <td>Male</td>\n",
       "      <td>46  50</td>\n",
       "      <td>Permanent Full-time</td>\n",
       "      <td>Teacher (including LVT)</td>\n",
       "      <td>3-4</td>\n",
       "      <td>3-4</td>\n",
       "      <td>False</td>\n",
       "      <td>False</td>\n",
       "    </tr>\n",
       "  </tbody>\n",
       "</table>\n",
       "<p>5 rows × 25 columns</p>\n",
       "</div>"
      ],
      "text/plain": [
       "             id                              institute  \\\n",
       "3  6.341399e+17            Mount Isa Institute of TAFE   \n",
       "4  6.341466e+17  Southern Queensland Institute of TAFE   \n",
       "5  6.341475e+17  Southern Queensland Institute of TAFE   \n",
       "6  6.341520e+17         Barrier Reef Institute of TAFE   \n",
       "7  6.341537e+17  Southern Queensland Institute of TAFE   \n",
       "\n",
       "                   workarea  cease_date separationtype  \\\n",
       "3  Non-Delivery (corporate)      2010.0    Resignation   \n",
       "4       Delivery (teaching)      2010.0    Resignation   \n",
       "5       Delivery (teaching)      2010.0    Resignation   \n",
       "6  Non-Delivery (corporate)      2010.0    Resignation   \n",
       "7       Delivery (teaching)      2010.0    Resignation   \n",
       "\n",
       "   career_move_to_public_sector  career_move_to_private_sector  \\\n",
       "3                          True                           True   \n",
       "4                          True                           True   \n",
       "5                          True                           True   \n",
       "6                          True                           True   \n",
       "7                          True                           True   \n",
       "\n",
       "   career_move_to_self_employment  ill_health  maternity/family  ...  other  \\\n",
       "3                            True        True              True  ...   True   \n",
       "4                            True        True              True  ...   True   \n",
       "5                            True        True              True  ...   True   \n",
       "6                            True        True              True  ...   True   \n",
       "7                            True        True              True  ...   True   \n",
       "\n",
       "   no_factor_provided  gender            age    employment_status  \\\n",
       "3                True     NaN            NaN                  NaN   \n",
       "4                True    Male         41  45  Permanent Full-time   \n",
       "5                True  Female    56 or older      Contract/casual   \n",
       "6                True    Male  20 or younger  Temporary Full-time   \n",
       "7                True    Male         46  50  Permanent Full-time   \n",
       "\n",
       "            classification  length_service length_service_current  \\\n",
       "3                      NaN             NaN                    NaN   \n",
       "4  Teacher (including LVT)             3-4                    3-4   \n",
       "5  Teacher (including LVT)            7-10                   7-10   \n",
       "6      Administration (AO)             3-4                    3-4   \n",
       "7  Teacher (including LVT)             3-4                    3-4   \n",
       "\n",
       "  dissatisfied study/travel  \n",
       "3        False         True  \n",
       "4        False        False  \n",
       "5        False        False  \n",
       "6        False        False  \n",
       "7        False        False  \n",
       "\n",
       "[5 rows x 25 columns]"
      ]
     },
     "execution_count": 43,
     "metadata": {},
     "output_type": "execute_result"
    }
   ],
   "source": [
    "tafe_resignations.head()"
   ]
  },
  {
   "cell_type": "markdown",
   "id": "ea8cc4df",
   "metadata": {},
   "source": [
    "We save a copy of the cleaned data into a new dataframe called `tafe_resign_updated`."
   ]
  },
  {
   "cell_type": "code",
   "execution_count": 44,
   "id": "eafd51db",
   "metadata": {},
   "outputs": [],
   "source": [
    "tafe_resign_updated = tafe_resignations.copy()"
   ]
  },
  {
   "cell_type": "code",
   "execution_count": 45,
   "id": "7c8d2ec4",
   "metadata": {},
   "outputs": [
    {
     "data": {
      "text/plain": [
       "Index(['id', 'institute', 'workarea', 'cease_date', 'separationtype',\n",
       "       'career_move_to_public_sector', 'career_move_to_private_sector',\n",
       "       'career_move_to_self_employment', 'ill_health', 'maternity/family',\n",
       "       'dissatisfaction', 'job_dissatisfaction', 'interpersonal_conflicts',\n",
       "       'study', 'travel', 'other', 'no_factor_provided', 'gender', 'age',\n",
       "       'employment_status', 'classification', 'length_service',\n",
       "       'length_service_current', 'dissatisfied', 'study/travel'],\n",
       "      dtype='object')"
      ]
     },
     "execution_count": 45,
     "metadata": {},
     "output_type": "execute_result"
    }
   ],
   "source": [
    "tafe_resign_updated.columns"
   ]
  },
  {
   "cell_type": "code",
   "execution_count": 46,
   "id": "7be4cb20",
   "metadata": {},
   "outputs": [
    {
     "data": {
      "text/plain": [
       "dissatisfied\n",
       "False    241\n",
       "True      99\n",
       "Name: count, dtype: int64"
      ]
     },
     "execution_count": 46,
     "metadata": {},
     "output_type": "execute_result"
    }
   ],
   "source": [
    "tafe_resign_updated[\"dissatisfied\"].value_counts()"
   ]
  },
  {
   "cell_type": "markdown",
   "id": "8f709210",
   "metadata": {},
   "source": [
    "We first define what job dissatisfaction might mean based on the columns in the DETE dataset. While there already exists a `job dissatisfaction` column, there are a handful of other categories that can clue one in to what other factors might have led the employee to resign due to job dissatisfaction. We'll want to identify these."
   ]
  },
  {
   "cell_type": "code",
   "execution_count": 47,
   "id": "fb40aedf",
   "metadata": {},
   "outputs": [],
   "source": [
    "dete_dissatisfied = [\"job_dissatisfaction\", \n",
    "                     \"dissatisfaction_with_the_department\", \n",
    "                     \"physical_work_environment\", \n",
    "                     \"lack_of_recognition\", \n",
    "                     \"lack_of_job_security\", \n",
    "                     \"work_location\", \n",
    "                     \"employment_conditions\", \n",
    "                     \"work_life_balance\", \n",
    "                     \"workload\"\n",
    "                    ]"
   ]
  },
  {
   "cell_type": "code",
   "execution_count": 48,
   "id": "02b654b9",
   "metadata": {},
   "outputs": [],
   "source": [
    "dete_resignations[\"dissatisfied\"] = dete_resignations[dete_dissatisfied].any(axis=1, skipna=False)"
   ]
  },
  {
   "cell_type": "code",
   "execution_count": 49,
   "id": "ba02b839",
   "metadata": {},
   "outputs": [],
   "source": [
    "dete_resign_updated = dete_resignations.copy()"
   ]
  },
  {
   "cell_type": "code",
   "execution_count": 50,
   "id": "39a722e0",
   "metadata": {},
   "outputs": [
    {
     "data": {
      "text/plain": [
       "dissatisfied\n",
       "False    162\n",
       "True     149\n",
       "Name: count, dtype: int64"
      ]
     },
     "execution_count": 50,
     "metadata": {},
     "output_type": "execute_result"
    }
   ],
   "source": [
    "dete_resign_updated[\"dissatisfied\"].value_counts()"
   ]
  },
  {
   "cell_type": "markdown",
   "id": "7cd53783",
   "metadata": {},
   "source": [
    "## Combining the data"
   ]
  },
  {
   "cell_type": "markdown",
   "id": "bcdab97b",
   "metadata": {},
   "source": [
    "Before we combine the data, we want to make sure the two datasets are clean."
   ]
  },
  {
   "cell_type": "code",
   "execution_count": 51,
   "id": "e695591f",
   "metadata": {},
   "outputs": [
    {
     "data": {
      "text/plain": [
       "Index(['id', 'separationtype', 'cease_date', 'dete_start_date',\n",
       "       'role_start_date', 'position', 'classification', 'region',\n",
       "       'business_unit', 'employment_status', 'career_move_to_public_sector',\n",
       "       'career_move_to_private_sector', 'interpersonal_conflicts',\n",
       "       'job_dissatisfaction', 'dissatisfaction_with_the_department',\n",
       "       'physical_work_environment', 'lack_of_recognition',\n",
       "       'lack_of_job_security', 'work_location', 'employment_conditions',\n",
       "       'maternity/family', 'relocation', 'study/travel', 'ill_health',\n",
       "       'traumatic_incident', 'work_life_balance', 'workload',\n",
       "       'no_factor_provided', 'gender', 'age', 'length_service',\n",
       "       'dissatisfied'],\n",
       "      dtype='object')"
      ]
     },
     "execution_count": 51,
     "metadata": {},
     "output_type": "execute_result"
    }
   ],
   "source": [
    "dete_resign_updated.columns"
   ]
  },
  {
   "cell_type": "code",
   "execution_count": 52,
   "id": "a357e85a",
   "metadata": {},
   "outputs": [
    {
     "data": {
      "text/plain": [
       "Index(['id', 'institute', 'workarea', 'cease_date', 'separationtype',\n",
       "       'career_move_to_public_sector', 'career_move_to_private_sector',\n",
       "       'career_move_to_self_employment', 'ill_health', 'maternity/family',\n",
       "       'dissatisfaction', 'job_dissatisfaction', 'interpersonal_conflicts',\n",
       "       'study', 'travel', 'other', 'no_factor_provided', 'gender', 'age',\n",
       "       'employment_status', 'classification', 'length_service',\n",
       "       'length_service_current', 'dissatisfied', 'study/travel'],\n",
       "      dtype='object')"
      ]
     },
     "execution_count": 52,
     "metadata": {},
     "output_type": "execute_result"
    }
   ],
   "source": [
    "tafe_resign_updated.columns"
   ]
  },
  {
   "cell_type": "markdown",
   "id": "da9c047f",
   "metadata": {},
   "source": [
    "We first add/update the 'institute' column so we can differentiate which dataset each row belongs to."
   ]
  },
  {
   "cell_type": "code",
   "execution_count": 53,
   "id": "dab0956c",
   "metadata": {},
   "outputs": [],
   "source": [
    "dete_resign_updated[\"institute\"] = \"DETE\"\n",
    "tafe_resign_updated[\"institute\"] = \"TAFE\""
   ]
  },
  {
   "cell_type": "markdown",
   "id": "c2ceac98",
   "metadata": {},
   "source": [
    "Then we combine the two datasets."
   ]
  },
  {
   "cell_type": "code",
   "execution_count": 54,
   "id": "56316732",
   "metadata": {},
   "outputs": [],
   "source": [
    "combined_resign = pd.concat([dete_resign_updated, tafe_resign_updated], ignore_index = True)"
   ]
  },
  {
   "cell_type": "code",
   "execution_count": 55,
   "id": "dcacb640",
   "metadata": {},
   "outputs": [
    {
     "name": "stdout",
     "output_type": "stream",
     "text": [
      "<class 'pandas.core.frame.DataFrame'>\n",
      "RangeIndex: 651 entries, 0 to 650\n",
      "Data columns (total 40 columns):\n",
      " #   Column                               Non-Null Count  Dtype  \n",
      "---  ------                               --------------  -----  \n",
      " 0   id                                   651 non-null    float64\n",
      " 1   separationtype                       651 non-null    object \n",
      " 2   cease_date                           635 non-null    float64\n",
      " 3   dete_start_date                      283 non-null    float64\n",
      " 4   role_start_date                      271 non-null    float64\n",
      " 5   position                             308 non-null    object \n",
      " 6   classification                       451 non-null    object \n",
      " 7   region                               265 non-null    object \n",
      " 8   business_unit                        32 non-null     object \n",
      " 9   employment_status                    597 non-null    object \n",
      " 10  career_move_to_public_sector         651 non-null    bool   \n",
      " 11  career_move_to_private_sector        651 non-null    bool   \n",
      " 12  interpersonal_conflicts              651 non-null    bool   \n",
      " 13  job_dissatisfaction                  651 non-null    bool   \n",
      " 14  dissatisfaction_with_the_department  311 non-null    object \n",
      " 15  physical_work_environment            311 non-null    object \n",
      " 16  lack_of_recognition                  311 non-null    object \n",
      " 17  lack_of_job_security                 311 non-null    object \n",
      " 18  work_location                        311 non-null    object \n",
      " 19  employment_conditions                311 non-null    object \n",
      " 20  maternity/family                     651 non-null    bool   \n",
      " 21  relocation                           311 non-null    object \n",
      " 22  study/travel                         651 non-null    bool   \n",
      " 23  ill_health                           651 non-null    bool   \n",
      " 24  traumatic_incident                   311 non-null    object \n",
      " 25  work_life_balance                    311 non-null    object \n",
      " 26  workload                             311 non-null    object \n",
      " 27  no_factor_provided                   651 non-null    bool   \n",
      " 28  gender                               592 non-null    object \n",
      " 29  age                                  596 non-null    object \n",
      " 30  length_service                       563 non-null    object \n",
      " 31  dissatisfied                         651 non-null    bool   \n",
      " 32  institute                            651 non-null    object \n",
      " 33  workarea                             340 non-null    object \n",
      " 34  career_move_to_self_employment       340 non-null    object \n",
      " 35  dissatisfaction                      340 non-null    object \n",
      " 36  study                                332 non-null    object \n",
      " 37  travel                               332 non-null    object \n",
      " 38  other                                340 non-null    object \n",
      " 39  length_service_current               290 non-null    object \n",
      "dtypes: bool(9), float64(4), object(27)\n",
      "memory usage: 163.5+ KB\n"
     ]
    }
   ],
   "source": [
    "combined_resign.info()"
   ]
  },
  {
   "cell_type": "markdown",
   "id": "af509ed3",
   "metadata": {},
   "source": [
    "We still have a large number of columns so we identify the columns with the most null values."
   ]
  },
  {
   "cell_type": "code",
   "execution_count": 56,
   "id": "ff9bfecc",
   "metadata": {},
   "outputs": [
    {
     "data": {
      "text/plain": [
       "id                                     651\n",
       "career_move_to_private_sector          651\n",
       "institute                              651\n",
       "dissatisfied                           651\n",
       "no_factor_provided                     651\n",
       "ill_health                             651\n",
       "study/travel                           651\n",
       "separationtype                         651\n",
       "job_dissatisfaction                    651\n",
       "interpersonal_conflicts                651\n",
       "maternity/family                       651\n",
       "career_move_to_public_sector           651\n",
       "cease_date                             635\n",
       "employment_status                      597\n",
       "age                                    596\n",
       "gender                                 592\n",
       "length_service                         563\n",
       "classification                         451\n",
       "other                                  340\n",
       "dissatisfaction                        340\n",
       "career_move_to_self_employment         340\n",
       "workarea                               340\n",
       "travel                                 332\n",
       "study                                  332\n",
       "workload                               311\n",
       "work_life_balance                      311\n",
       "traumatic_incident                     311\n",
       "relocation                             311\n",
       "employment_conditions                  311\n",
       "work_location                          311\n",
       "lack_of_job_security                   311\n",
       "lack_of_recognition                    311\n",
       "physical_work_environment              311\n",
       "dissatisfaction_with_the_department    311\n",
       "position                               308\n",
       "length_service_current                 290\n",
       "dete_start_date                        283\n",
       "role_start_date                        271\n",
       "region                                 265\n",
       "business_unit                           32\n",
       "dtype: int64"
      ]
     },
     "execution_count": 56,
     "metadata": {},
     "output_type": "execute_result"
    }
   ],
   "source": [
    "combined_resign.notnull().sum().sort_values(ascending=False)"
   ]
  },
  {
   "cell_type": "markdown",
   "id": "fe6603a6",
   "metadata": {},
   "source": [
    "It looks like the relevant columns have 500 or more non-null values so we'll drop the columns with less than that."
   ]
  },
  {
   "cell_type": "code",
   "execution_count": 57,
   "id": "b003f36f",
   "metadata": {},
   "outputs": [],
   "source": [
    "combined_resign_updated = combined_resign.dropna(thresh=500, axis=1).copy()"
   ]
  },
  {
   "cell_type": "code",
   "execution_count": 58,
   "id": "9775d3ef",
   "metadata": {},
   "outputs": [
    {
     "data": {
      "text/plain": [
       "Index(['id', 'separationtype', 'cease_date', 'employment_status',\n",
       "       'career_move_to_public_sector', 'career_move_to_private_sector',\n",
       "       'interpersonal_conflicts', 'job_dissatisfaction', 'maternity/family',\n",
       "       'study/travel', 'ill_health', 'no_factor_provided', 'gender', 'age',\n",
       "       'length_service', 'dissatisfied', 'institute'],\n",
       "      dtype='object')"
      ]
     },
     "execution_count": 58,
     "metadata": {},
     "output_type": "execute_result"
    }
   ],
   "source": [
    "combined_resign_updated.columns"
   ]
  },
  {
   "cell_type": "code",
   "execution_count": 59,
   "id": "d4988452",
   "metadata": {},
   "outputs": [
    {
     "data": {
      "text/html": [
       "<div>\n",
       "<style scoped>\n",
       "    .dataframe tbody tr th:only-of-type {\n",
       "        vertical-align: middle;\n",
       "    }\n",
       "\n",
       "    .dataframe tbody tr th {\n",
       "        vertical-align: top;\n",
       "    }\n",
       "\n",
       "    .dataframe thead th {\n",
       "        text-align: right;\n",
       "    }\n",
       "</style>\n",
       "<table border=\"1\" class=\"dataframe\">\n",
       "  <thead>\n",
       "    <tr style=\"text-align: right;\">\n",
       "      <th></th>\n",
       "      <th>id</th>\n",
       "      <th>separationtype</th>\n",
       "      <th>cease_date</th>\n",
       "      <th>employment_status</th>\n",
       "      <th>career_move_to_public_sector</th>\n",
       "      <th>career_move_to_private_sector</th>\n",
       "      <th>interpersonal_conflicts</th>\n",
       "      <th>job_dissatisfaction</th>\n",
       "      <th>maternity/family</th>\n",
       "      <th>study/travel</th>\n",
       "      <th>ill_health</th>\n",
       "      <th>no_factor_provided</th>\n",
       "      <th>gender</th>\n",
       "      <th>age</th>\n",
       "      <th>length_service</th>\n",
       "      <th>dissatisfied</th>\n",
       "      <th>institute</th>\n",
       "    </tr>\n",
       "  </thead>\n",
       "  <tbody>\n",
       "    <tr>\n",
       "      <th>0</th>\n",
       "      <td>4.0</td>\n",
       "      <td>Resignation</td>\n",
       "      <td>2012.0</td>\n",
       "      <td>Permanent Full-time</td>\n",
       "      <td>False</td>\n",
       "      <td>True</td>\n",
       "      <td>False</td>\n",
       "      <td>False</td>\n",
       "      <td>False</td>\n",
       "      <td>False</td>\n",
       "      <td>False</td>\n",
       "      <td>False</td>\n",
       "      <td>Female</td>\n",
       "      <td>36-40</td>\n",
       "      <td>7.0</td>\n",
       "      <td>False</td>\n",
       "      <td>DETE</td>\n",
       "    </tr>\n",
       "    <tr>\n",
       "      <th>1</th>\n",
       "      <td>6.0</td>\n",
       "      <td>Resignation</td>\n",
       "      <td>2012.0</td>\n",
       "      <td>Permanent Full-time</td>\n",
       "      <td>False</td>\n",
       "      <td>True</td>\n",
       "      <td>False</td>\n",
       "      <td>False</td>\n",
       "      <td>True</td>\n",
       "      <td>False</td>\n",
       "      <td>False</td>\n",
       "      <td>False</td>\n",
       "      <td>Female</td>\n",
       "      <td>41-45</td>\n",
       "      <td>18.0</td>\n",
       "      <td>True</td>\n",
       "      <td>DETE</td>\n",
       "    </tr>\n",
       "    <tr>\n",
       "      <th>2</th>\n",
       "      <td>9.0</td>\n",
       "      <td>Resignation</td>\n",
       "      <td>2012.0</td>\n",
       "      <td>Permanent Full-time</td>\n",
       "      <td>False</td>\n",
       "      <td>True</td>\n",
       "      <td>False</td>\n",
       "      <td>False</td>\n",
       "      <td>False</td>\n",
       "      <td>False</td>\n",
       "      <td>False</td>\n",
       "      <td>False</td>\n",
       "      <td>Female</td>\n",
       "      <td>31-35</td>\n",
       "      <td>3.0</td>\n",
       "      <td>False</td>\n",
       "      <td>DETE</td>\n",
       "    </tr>\n",
       "    <tr>\n",
       "      <th>3</th>\n",
       "      <td>10.0</td>\n",
       "      <td>Resignation</td>\n",
       "      <td>2012.0</td>\n",
       "      <td>Permanent Part-time</td>\n",
       "      <td>False</td>\n",
       "      <td>False</td>\n",
       "      <td>True</td>\n",
       "      <td>True</td>\n",
       "      <td>False</td>\n",
       "      <td>False</td>\n",
       "      <td>False</td>\n",
       "      <td>False</td>\n",
       "      <td>Female</td>\n",
       "      <td>46-50</td>\n",
       "      <td>15.0</td>\n",
       "      <td>True</td>\n",
       "      <td>DETE</td>\n",
       "    </tr>\n",
       "    <tr>\n",
       "      <th>4</th>\n",
       "      <td>12.0</td>\n",
       "      <td>Resignation</td>\n",
       "      <td>2012.0</td>\n",
       "      <td>Permanent Full-time</td>\n",
       "      <td>False</td>\n",
       "      <td>False</td>\n",
       "      <td>False</td>\n",
       "      <td>False</td>\n",
       "      <td>True</td>\n",
       "      <td>False</td>\n",
       "      <td>False</td>\n",
       "      <td>False</td>\n",
       "      <td>Male</td>\n",
       "      <td>31-35</td>\n",
       "      <td>3.0</td>\n",
       "      <td>False</td>\n",
       "      <td>DETE</td>\n",
       "    </tr>\n",
       "  </tbody>\n",
       "</table>\n",
       "</div>"
      ],
      "text/plain": [
       "     id separationtype  cease_date    employment_status  \\\n",
       "0   4.0    Resignation      2012.0  Permanent Full-time   \n",
       "1   6.0    Resignation      2012.0  Permanent Full-time   \n",
       "2   9.0    Resignation      2012.0  Permanent Full-time   \n",
       "3  10.0    Resignation      2012.0  Permanent Part-time   \n",
       "4  12.0    Resignation      2012.0  Permanent Full-time   \n",
       "\n",
       "   career_move_to_public_sector  career_move_to_private_sector  \\\n",
       "0                         False                           True   \n",
       "1                         False                           True   \n",
       "2                         False                           True   \n",
       "3                         False                          False   \n",
       "4                         False                          False   \n",
       "\n",
       "   interpersonal_conflicts  job_dissatisfaction  maternity/family  \\\n",
       "0                    False                False             False   \n",
       "1                    False                False              True   \n",
       "2                    False                False             False   \n",
       "3                     True                 True             False   \n",
       "4                    False                False              True   \n",
       "\n",
       "   study/travel  ill_health  no_factor_provided  gender    age length_service  \\\n",
       "0         False       False               False  Female  36-40            7.0   \n",
       "1         False       False               False  Female  41-45           18.0   \n",
       "2         False       False               False  Female  31-35            3.0   \n",
       "3         False       False               False  Female  46-50           15.0   \n",
       "4         False       False               False    Male  31-35            3.0   \n",
       "\n",
       "   dissatisfied institute  \n",
       "0         False      DETE  \n",
       "1          True      DETE  \n",
       "2         False      DETE  \n",
       "3          True      DETE  \n",
       "4         False      DETE  "
      ]
     },
     "execution_count": 59,
     "metadata": {},
     "output_type": "execute_result"
    }
   ],
   "source": [
    "combined_resign_updated.head()"
   ]
  },
  {
   "cell_type": "markdown",
   "id": "31be6b70",
   "metadata": {},
   "source": [
    "## Cleaning the combined columns"
   ]
  },
  {
   "cell_type": "code",
   "execution_count": 60,
   "id": "92a4e21a",
   "metadata": {},
   "outputs": [
    {
     "name": "stdout",
     "output_type": "stream",
     "text": [
      "[4.00000000e+00 6.00000000e+00 9.00000000e+00 1.00000000e+01\n",
      " 1.20000000e+01 1.30000000e+01 1.50000000e+01 1.70000000e+01\n",
      " 2.10000000e+01 2.20000000e+01 2.30000000e+01 2.40000000e+01\n",
      " 2.60000000e+01 2.80000000e+01 3.40000000e+01 3.50000000e+01\n",
      " 3.80000000e+01 4.00000000e+01 4.10000000e+01 4.20000000e+01\n",
      " 4.30000000e+01 4.40000000e+01 4.90000000e+01 5.10000000e+01\n",
      " 5.20000000e+01 5.60000000e+01 5.80000000e+01 6.20000000e+01\n",
      " 7.00000000e+01 7.20000000e+01 8.80000000e+01 9.10000000e+01\n",
      " 9.40000000e+01 1.00000000e+02 1.01000000e+02 1.03000000e+02\n",
      " 1.04000000e+02 1.07000000e+02 1.09000000e+02 1.12000000e+02\n",
      " 1.13000000e+02 1.15000000e+02 1.17000000e+02 1.19000000e+02\n",
      " 1.25000000e+02 1.27000000e+02 1.31000000e+02 1.33000000e+02\n",
      " 1.36000000e+02 1.39000000e+02 1.41000000e+02 1.46000000e+02\n",
      " 1.48000000e+02 1.59000000e+02 1.61000000e+02 1.65000000e+02\n",
      " 1.80000000e+02 1.84000000e+02 1.86000000e+02 1.90000000e+02\n",
      " 1.93000000e+02 1.96000000e+02 1.97000000e+02 1.98000000e+02\n",
      " 2.05000000e+02 2.06000000e+02 2.11000000e+02 2.13000000e+02\n",
      " 2.15000000e+02 2.24000000e+02 2.25000000e+02 2.29000000e+02\n",
      " 2.36000000e+02 2.48000000e+02 2.49000000e+02 2.51000000e+02\n",
      " 2.55000000e+02 2.56000000e+02 2.57000000e+02 2.58000000e+02\n",
      " 2.59000000e+02 2.60000000e+02 2.63000000e+02 2.64000000e+02\n",
      " 2.65000000e+02 2.68000000e+02 2.69000000e+02 2.70000000e+02\n",
      " 2.74000000e+02 2.75000000e+02 2.80000000e+02 2.84000000e+02\n",
      " 2.85000000e+02 2.86000000e+02 2.87000000e+02 2.89000000e+02\n",
      " 2.92000000e+02 2.94000000e+02 2.96000000e+02 2.97000000e+02\n",
      " 3.01000000e+02 3.02000000e+02 3.04000000e+02 3.05000000e+02\n",
      " 3.12000000e+02 3.13000000e+02 3.15000000e+02 3.18000000e+02\n",
      " 3.19000000e+02 3.21000000e+02 3.23000000e+02 3.25000000e+02\n",
      " 3.26000000e+02 3.27000000e+02 3.33000000e+02 3.34000000e+02\n",
      " 3.41000000e+02 3.44000000e+02 3.46000000e+02 3.48000000e+02\n",
      " 3.49000000e+02 3.55000000e+02 3.56000000e+02 3.57000000e+02\n",
      " 3.66000000e+02 3.67000000e+02 3.68000000e+02 3.72000000e+02\n",
      " 3.75000000e+02 3.76000000e+02 3.77000000e+02 3.78000000e+02\n",
      " 3.80000000e+02 3.82000000e+02 3.84000000e+02 3.89000000e+02\n",
      " 3.90000000e+02 3.91000000e+02 3.92000000e+02 3.99000000e+02\n",
      " 4.00000000e+02 4.06000000e+02 4.07000000e+02 4.08000000e+02\n",
      " 4.09000000e+02 4.10000000e+02 4.11000000e+02 4.13000000e+02\n",
      " 4.15000000e+02 4.16000000e+02 4.17000000e+02 4.18000000e+02\n",
      " 4.20000000e+02 4.24000000e+02 4.33000000e+02 4.34000000e+02\n",
      " 4.35000000e+02 4.38000000e+02 4.39000000e+02 4.40000000e+02\n",
      " 4.42000000e+02 4.50000000e+02 4.52000000e+02 4.53000000e+02\n",
      " 4.55000000e+02 4.57000000e+02 4.60000000e+02 4.62000000e+02\n",
      " 4.65000000e+02 4.67000000e+02 4.71000000e+02 4.72000000e+02\n",
      " 4.74000000e+02 4.77000000e+02 4.78000000e+02 4.79000000e+02\n",
      " 4.80000000e+02 4.82000000e+02 4.86000000e+02 4.87000000e+02\n",
      " 4.90000000e+02 4.93000000e+02 4.95000000e+02 4.96000000e+02\n",
      " 4.98000000e+02 5.00000000e+02 5.01000000e+02 5.04000000e+02\n",
      " 5.05000000e+02 5.06000000e+02 5.07000000e+02 5.18000000e+02\n",
      " 5.32000000e+02 5.34000000e+02 5.35000000e+02 5.37000000e+02\n",
      " 5.39000000e+02 5.40000000e+02 5.42000000e+02 5.44000000e+02\n",
      " 5.48000000e+02 5.51000000e+02 5.52000000e+02 5.53000000e+02\n",
      " 5.58000000e+02 5.63000000e+02 5.64000000e+02 5.69000000e+02\n",
      " 5.70000000e+02 5.72000000e+02 5.76000000e+02 5.77000000e+02\n",
      " 5.78000000e+02 5.85000000e+02 5.86000000e+02 5.87000000e+02\n",
      " 5.89000000e+02 5.90000000e+02 5.91000000e+02 5.93000000e+02\n",
      " 5.94000000e+02 6.02000000e+02 6.05000000e+02 6.08000000e+02\n",
      " 6.09000000e+02 6.11000000e+02 6.13000000e+02 6.14000000e+02\n",
      " 6.18000000e+02 6.20000000e+02 6.22000000e+02 6.24000000e+02\n",
      " 6.26000000e+02 6.27000000e+02 6.32000000e+02 6.38000000e+02\n",
      " 6.42000000e+02 6.43000000e+02 6.48000000e+02 6.50000000e+02\n",
      " 6.51000000e+02 6.52000000e+02 6.53000000e+02 6.59000000e+02\n",
      " 6.60000000e+02 6.63000000e+02 6.66000000e+02 6.68000000e+02\n",
      " 6.69000000e+02 6.71000000e+02 6.72000000e+02 6.73000000e+02\n",
      " 6.78000000e+02 6.80000000e+02 6.84000000e+02 6.85000000e+02\n",
      " 6.86000000e+02 6.87000000e+02 6.89000000e+02 6.92000000e+02\n",
      " 6.93000000e+02 6.94000000e+02 6.95000000e+02 6.96000000e+02\n",
      " 6.98000000e+02 7.00000000e+02 7.02000000e+02 7.03000000e+02\n",
      " 7.05000000e+02 7.06000000e+02 7.11000000e+02 7.14000000e+02\n",
      " 7.18000000e+02 7.26000000e+02 7.28000000e+02 7.29000000e+02\n",
      " 7.32000000e+02 7.33000000e+02 7.37000000e+02 7.39000000e+02\n",
      " 7.46000000e+02 7.49000000e+02 7.53000000e+02 7.54000000e+02\n",
      " 7.55000000e+02 7.57000000e+02 7.64000000e+02 7.68000000e+02\n",
      " 7.71000000e+02 7.72000000e+02 7.73000000e+02 7.76000000e+02\n",
      " 7.86000000e+02 7.88000000e+02 7.90000000e+02 7.91000000e+02\n",
      " 7.92000000e+02 7.93000000e+02 7.96000000e+02 7.99000000e+02\n",
      " 8.00000000e+02 8.04000000e+02 8.05000000e+02 8.06000000e+02\n",
      " 8.08000000e+02 8.09000000e+02 8.10000000e+02 8.17000000e+02\n",
      " 8.18000000e+02 8.21000000e+02 8.23000000e+02 6.34139903e+17\n",
      " 6.34146579e+17 6.34147507e+17 6.34152008e+17 6.34153745e+17\n",
      " 6.34157900e+17 6.34158812e+17 6.34158826e+17 6.34172523e+17\n",
      " 6.34172609e+17 6.34176076e+17 6.34177007e+17 6.34177053e+17\n",
      " 6.34177938e+17 6.34181973e+17 6.34182099e+17 6.34183071e+17\n",
      " 6.34184749e+17 6.34190679e+17 6.34190744e+17 6.34193418e+17\n",
      " 6.34193459e+17 6.34199394e+17 6.34200230e+17 6.34206210e+17\n",
      " 6.34207964e+17 6.34208064e+17 6.34208994e+17 6.34209003e+17\n",
      " 6.34209013e+17 6.34209028e+17 6.34209037e+17 6.34211543e+17\n",
      " 6.34213196e+17 6.34214138e+17 6.34214157e+17 6.34214849e+17\n",
      " 6.34217423e+17 6.34218493e+17 6.34219252e+17 6.34219275e+17\n",
      " 6.34220006e+17 6.34220145e+17 6.34221044e+17 6.34223513e+17\n",
      " 6.34226172e+17 6.34227185e+17 6.34227207e+17 6.34231467e+17\n",
      " 6.34241795e+17 6.34243629e+17 6.34243664e+17 6.34245134e+17\n",
      " 6.34250409e+17 6.34251116e+17 6.34251290e+17 6.34257448e+17\n",
      " 6.34259752e+17 6.34260720e+17 6.34266079e+17 6.34266939e+17\n",
      " 6.34267726e+17 6.34267874e+17 6.34268447e+17 6.34268641e+17\n",
      " 6.34269438e+17 6.34273757e+17 6.34274542e+17 6.34274566e+17\n",
      " 6.34275489e+17 6.34280720e+17 6.34281401e+17 6.34284989e+17\n",
      " 6.34285910e+17 6.34297824e+17 6.34298885e+17 6.34309981e+17\n",
      " 6.34310943e+17 6.34314358e+17 6.34316886e+17 6.34317688e+17\n",
      " 6.34322928e+17 6.34323115e+17 6.34323709e+17 6.34323806e+17\n",
      " 6.34326352e+17 6.34326378e+17 6.34326454e+17 6.34328088e+17\n",
      " 6.34328171e+17 6.34328203e+17 6.34328288e+17 6.34329805e+17\n",
      " 6.34329960e+17 6.34333279e+17 6.34346272e+17 6.34353285e+17\n",
      " 6.34356555e+17 6.34356560e+17 6.34356641e+17 6.34356731e+17\n",
      " 6.34358248e+17 6.34365143e+17 6.34365460e+17 6.34366032e+17\n",
      " 6.34370484e+17 6.34376433e+17 6.34377507e+17 6.34381135e+17\n",
      " 6.34388662e+17 6.34389476e+17 6.34395435e+17 6.34399738e+17\n",
      " 6.34407548e+17 6.34411016e+17 6.34412849e+17 6.34417865e+17\n",
      " 6.34418044e+17 6.34419660e+17 6.34419812e+17 6.34425044e+17\n",
      " 6.34429978e+17 6.34430197e+17 6.34431907e+17 6.34436080e+17\n",
      " 6.34443964e+17 6.34444676e+17 6.34454357e+17 6.34456033e+17\n",
      " 6.34456811e+17 6.34462839e+17 6.34465408e+17 6.34466339e+17\n",
      " 6.34469060e+17 6.34474120e+17 6.34480154e+17 6.34480996e+17\n",
      " 6.34487079e+17 6.34495664e+17 6.34496574e+17 6.34497559e+17\n",
      " 6.34498298e+17 6.34499253e+17 6.34508607e+17 6.34509622e+17\n",
      " 6.34515603e+17 6.34517446e+17 6.34520852e+17 6.34521642e+17\n",
      " 6.34522372e+17 6.34523410e+17 6.34526057e+17 6.34527642e+17\n",
      " 6.34541463e+17 6.34550190e+17 6.34551034e+17 6.34551070e+17\n",
      " 6.34552870e+17 6.34556300e+17 6.34557860e+17 6.34558028e+17\n",
      " 6.34558123e+17 6.34558951e+17 6.34563192e+17 6.34563905e+17\n",
      " 6.34564734e+17 6.34564738e+17 6.34565720e+17 6.34568278e+17\n",
      " 6.34568318e+17 6.34570247e+17 6.34570843e+17 6.34574339e+17\n",
      " 6.34575161e+17 6.34575413e+17 6.34576020e+17 6.34576958e+17\n",
      " 6.34577056e+17 6.34577946e+17 6.34577979e+17 6.34581174e+17\n",
      " 6.34582074e+17 6.34582156e+17 6.34589153e+17 6.34592501e+17\n",
      " 6.34592549e+17 6.34593386e+17 6.34595867e+17 6.34600285e+17\n",
      " 6.34617651e+17 6.34620134e+17 6.34623599e+17 6.34634833e+17\n",
      " 6.34635009e+17 6.34638199e+17 6.34638267e+17 6.34638274e+17\n",
      " 6.34638402e+17 6.34648745e+17 6.34648747e+17 6.34653126e+17\n",
      " 6.34662477e+17 6.34666828e+17 6.34666855e+17 6.34668612e+17\n",
      " 6.34671263e+17 6.34671297e+17 6.34674516e+17 6.34683154e+17\n",
      " 6.34683357e+17 6.34691780e+17 6.34696179e+17 6.34696327e+17\n",
      " 6.34697817e+17 6.34702359e+17 6.34702366e+17 6.34713426e+17\n",
      " 6.34722082e+17 6.34722949e+17 6.34722993e+17 6.34743600e+17\n",
      " 6.34750612e+17 6.34753385e+17 6.34760046e+17 6.34763736e+17\n",
      " 6.34774031e+17 6.34774723e+17 6.34775906e+17 6.34776478e+17\n",
      " 6.34779998e+17 6.34781625e+17 6.34781844e+17 6.34782722e+17\n",
      " 6.34786183e+17 6.34786910e+17 6.34788543e+17 6.34789422e+17\n",
      " 6.34793871e+17 6.34794640e+17 6.34794858e+17 6.34799771e+17\n",
      " 6.34800762e+17 6.34807637e+17 6.34811042e+17 6.34811064e+17\n",
      " 6.34811182e+17 6.34812806e+17 6.34812941e+17 6.34813581e+17\n",
      " 6.34816503e+17 6.34817209e+17 6.34818652e+17 6.34823974e+17\n",
      " 6.34825004e+17 6.34825079e+17 6.34825691e+17 6.34831756e+17\n",
      " 6.34837957e+17 6.34837985e+17 6.34843849e+17 6.34849101e+17\n",
      " 6.34852686e+17 6.34854316e+17 6.34854400e+17 6.34860280e+17\n",
      " 6.34866547e+17 6.34867257e+17 6.34873325e+17 6.34874538e+17\n",
      " 6.34878467e+17 6.34878467e+17 6.34880267e+17 6.34884416e+17\n",
      " 6.34886158e+17 6.34888802e+17 6.34889851e+17 6.34890472e+17\n",
      " 6.34890552e+17 6.34892337e+17 6.34892362e+17 6.34902770e+17\n",
      " 6.34903651e+17 6.34907125e+17 6.34908638e+17 6.34908832e+17\n",
      " 6.34915561e+17 6.34932865e+17 6.34933011e+17 6.34937512e+17\n",
      " 6.34938048e+17 6.34938095e+17 6.34938351e+17 6.34940601e+17\n",
      " 6.34945048e+17 6.34945136e+17 6.34951130e+17 6.34951997e+17\n",
      " 6.34958140e+17 6.34964112e+17 6.34969168e+17 6.34970182e+17\n",
      " 6.34975184e+17 6.34975203e+17 6.34976315e+17 6.34977079e+17\n",
      " 6.34982067e+17 6.34985719e+17 6.34991666e+17 6.34992694e+17\n",
      " 6.34995297e+17 6.34998529e+17 6.34999430e+17 6.35000252e+17\n",
      " 6.35005512e+17 6.35005533e+17 6.35010823e+17 6.35012420e+17\n",
      " 6.35012661e+17 6.35017508e+17 6.35019418e+17 6.35021852e+17\n",
      " 6.35025281e+17 6.35027942e+17 6.35031426e+17 6.35035655e+17\n",
      " 6.35037423e+17 6.35037454e+17 6.35040151e+17 6.35042566e+17\n",
      " 6.35047878e+17 6.35047984e+17 6.35049577e+17 6.35049586e+17\n",
      " 6.35059950e+17 6.35065177e+17 6.35065974e+17 6.35066785e+17\n",
      " 6.35067716e+17 6.35070443e+17 6.35073031e+17]\n",
      "['Resignation']\n",
      "[2012. 2013. 2010. 2014.   nan 2006. 2009. 2011.]\n",
      "['Permanent Full-time' 'Permanent Part-time' 'Temporary Part-time'\n",
      " 'Temporary Full-time' nan 'Casual' 'Contract/casual']\n",
      "[False  True]\n",
      "[ True False]\n",
      "[False  True]\n",
      "[False  True]\n",
      "[False  True]\n",
      "[False  True]\n",
      "[False  True]\n",
      "[False  True]\n",
      "['Female' 'Male' nan]\n",
      "['36-40' '41-45' '31-35' '46-50' '61 or older' '56-60' '51-55' '21-25'\n",
      " '26-30' nan '20 or younger' '41  45' '56 or older' '46  50' '36  40'\n",
      " '21  25' '31  35' '26  30']\n",
      "[7.0 18.0 3.0 15.0 14.0 5.0 nan 30.0 32.0 39.0 17.0 9.0 6.0 1.0 35.0 38.0\n",
      " 36.0 19.0 4.0 26.0 10.0 8.0 2.0 0.0 23.0 13.0 16.0 12.0 21.0 20.0 24.0\n",
      " 33.0 22.0 28.0 49.0 11.0 41.0 27.0 42.0 25.0 29.0 34.0 31.0 '3-4' '7-10'\n",
      " '1-2' 'Less than 1 year' '11-20' '5-6' 'More than 20 years']\n",
      "[False  True]\n",
      "['DETE' 'TAFE']\n"
     ]
    }
   ],
   "source": [
    "for columnName in combined_resign_updated.columns:\n",
    "    print(combined_resign_updated[columnName].unique())"
   ]
  },
  {
   "cell_type": "markdown",
   "id": "3adb6667",
   "metadata": {},
   "source": [
    "The two datasets have a few formatting differences so we need to clean those out, namely in the 'age' and 'length_service' columns."
   ]
  },
  {
   "cell_type": "markdown",
   "id": "3cb06808",
   "metadata": {},
   "source": [
    "## Cleaning the combined age column"
   ]
  },
  {
   "cell_type": "code",
   "execution_count": 61,
   "id": "cc14f8bd",
   "metadata": {
    "scrolled": true
   },
   "outputs": [
    {
     "data": {
      "text/plain": [
       "age\n",
       "51-55            71\n",
       "NaN              55\n",
       "41-45            48\n",
       "41  45           45\n",
       "46-50            42\n",
       "36-40            41\n",
       "46  50           39\n",
       "26-30            35\n",
       "21  25           33\n",
       "36  40           32\n",
       "31  35           32\n",
       "26  30           32\n",
       "21-25            29\n",
       "31-35            29\n",
       "56 or older      29\n",
       "56-60            26\n",
       "61 or older      23\n",
       "20 or younger    10\n",
       "Name: count, dtype: int64"
      ]
     },
     "execution_count": 61,
     "metadata": {},
     "output_type": "execute_result"
    }
   ],
   "source": [
    "combined_resign_updated[\"age\"].value_counts(dropna=False)"
   ]
  },
  {
   "cell_type": "markdown",
   "id": "f6255233",
   "metadata": {},
   "source": [
    "The `age` data for DETE is well-structured so we will use it as the basis for reformatting the ages in the new combined dataset."
   ]
  },
  {
   "cell_type": "code",
   "execution_count": 62,
   "id": "c71fecc7",
   "metadata": {},
   "outputs": [
    {
     "data": {
      "text/plain": [
       "array(['36-40', '41-45', '31-35', '46-50', '61 or older', '56-60',\n",
       "       '51-55', '21-25', '26-30', nan, '20 or younger'], dtype=object)"
      ]
     },
     "execution_count": 62,
     "metadata": {},
     "output_type": "execute_result"
    }
   ],
   "source": [
    "dete_resignations[\"age\"].unique()"
   ]
  },
  {
   "cell_type": "code",
   "execution_count": 63,
   "id": "9c900eaa",
   "metadata": {},
   "outputs": [
    {
     "data": {
      "text/plain": [
       "array([nan, '41  45', '56 or older', '20 or younger', '46  50', '36  40',\n",
       "       '21  25', '31  35', '26  30', '51-55'], dtype=object)"
      ]
     },
     "execution_count": 63,
     "metadata": {},
     "output_type": "execute_result"
    }
   ],
   "source": [
    "tafe_resignations[\"age\"].unique()"
   ]
  },
  {
   "cell_type": "code",
   "execution_count": 64,
   "id": "9185789f",
   "metadata": {},
   "outputs": [],
   "source": [
    "def update_age(x):\n",
    "    match x:\n",
    "        case '36-40' | '36  40' | '31-35' | '31  35':\n",
    "            x_new = '30-40'\n",
    "        case '41-45' | '46-50' | '41  45' | '46  50':\n",
    "            x_new = '40-50'\n",
    "        case '56-60' | '61 or older':\n",
    "            x_new = '56 or older'\n",
    "        case '21-25' | '26-30' | '21  25' | '26  30':\n",
    "            x_new = '20-30'\n",
    "        case _:\n",
    "            x_new = x\n",
    "    return x_new"
   ]
  },
  {
   "cell_type": "code",
   "execution_count": 65,
   "id": "20101e02",
   "metadata": {},
   "outputs": [],
   "source": [
    "combined_resign_updated[\"age\"] = combined_resign_updated[\"age\"].apply(update_age)"
   ]
  },
  {
   "cell_type": "code",
   "execution_count": 66,
   "id": "bde72f41",
   "metadata": {
    "scrolled": true
   },
   "outputs": [
    {
     "data": {
      "text/plain": [
       "age\n",
       "40-50            0.267281\n",
       "30-40            0.205837\n",
       "20-30            0.198157\n",
       "56 or older      0.119816\n",
       "51-55            0.109063\n",
       "NaN              0.084485\n",
       "20 or younger    0.015361\n",
       "Name: proportion, dtype: float64"
      ]
     },
     "execution_count": 66,
     "metadata": {},
     "output_type": "execute_result"
    }
   ],
   "source": [
    "combined_resign_updated[\"age\"].value_counts(normalize=True, dropna=False)"
   ]
  },
  {
   "cell_type": "markdown",
   "id": "c7f47f43",
   "metadata": {},
   "source": [
    "A little over a quarter of the employees who resigned from DETE or TAFE were between 40-50 years old. The population of 50 years or older employees who resigned is half that of the population between 20-40 years old. "
   ]
  },
  {
   "cell_type": "code",
   "execution_count": 67,
   "id": "083273c7",
   "metadata": {},
   "outputs": [
    {
     "data": {
      "image/png": "[encoded data removed]",
      "text/plain": [
       "<Figure size 640x480 with 1 Axes>"
      ]
     },
     "metadata": {},
     "output_type": "display_data"
    }
   ],
   "source": [
    "combined_resign_updated[\"age\"].value_counts().sort_index().plot(kind=\"barh\")\n",
    "plt.gca().invert_yaxis()"
   ]
  },
  {
   "cell_type": "markdown",
   "id": "94ea211a",
   "metadata": {},
   "source": [
    "## Cleaning the combined length of service column"
   ]
  },
  {
   "cell_type": "code",
   "execution_count": 68,
   "id": "5bbc2dd7",
   "metadata": {},
   "outputs": [
    {
     "data": {
      "text/plain": [
       "length_service\n",
       "NaN                   88\n",
       "Less than 1 year      73\n",
       "1-2                   64\n",
       "3-4                   63\n",
       "5-6                   33\n",
       "11-20                 26\n",
       "5.0                   23\n",
       "1.0                   22\n",
       "7-10                  21\n",
       "3.0                   20\n",
       "0.0                   20\n",
       "6.0                   17\n",
       "4.0                   16\n",
       "9.0                   14\n",
       "2.0                   14\n",
       "7.0                   13\n",
       "More than 20 years    10\n",
       "13.0                   8\n",
       "8.0                    8\n",
       "15.0                   7\n",
       "20.0                   7\n",
       "10.0                   6\n",
       "14.0                   6\n",
       "12.0                   6\n",
       "17.0                   6\n",
       "22.0                   6\n",
       "18.0                   5\n",
       "16.0                   5\n",
       "11.0                   4\n",
       "23.0                   4\n",
       "24.0                   4\n",
       "32.0                   3\n",
       "39.0                   3\n",
       "19.0                   3\n",
       "21.0                   3\n",
       "36.0                   2\n",
       "25.0                   2\n",
       "30.0                   2\n",
       "26.0                   2\n",
       "28.0                   2\n",
       "49.0                   1\n",
       "41.0                   1\n",
       "27.0                   1\n",
       "42.0                   1\n",
       "29.0                   1\n",
       "34.0                   1\n",
       "31.0                   1\n",
       "33.0                   1\n",
       "35.0                   1\n",
       "38.0                   1\n",
       "Name: count, dtype: int64"
      ]
     },
     "execution_count": 68,
     "metadata": {},
     "output_type": "execute_result"
    }
   ],
   "source": [
    "combined_resign_updated[\"length_service\"].value_counts(dropna=False)"
   ]
  },
  {
   "cell_type": "markdown",
   "id": "1e1241f3",
   "metadata": {},
   "source": [
    "The length of service is hard to analyze with many continuous values so, in addition to cleaning up the values, we will also bucket them into job levels based on years of service.\n",
    "\n",
    "The DETE length of service format is structured in a usable way so we will create labels for these job levels.\n",
    "\n",
    "Job levels (Years of Experience):\n",
    "- T0: Short-term (< 1): most likely contract, seasonal, or intern work\n",
    "- T1: Entry-level (1-2)\n",
    "- T2: Early (3-4)\n",
    "- T3: Mid (5-6)\n",
    "- T4: Senior (7-10)\n",
    "- T5: Director (11-20)\n",
    "- T6: Executive (More than 20 years)"
   ]
  },
  {
   "cell_type": "markdown",
   "id": "365e1007",
   "metadata": {},
   "source": [
    "First we convert the string formatted service lengths into usable numbers. We'll pick arbitrary numbers for each bucketed group because these will be rolled up anyway."
   ]
  },
  {
   "cell_type": "code",
   "execution_count": 69,
   "id": "9ad8df3c",
   "metadata": {},
   "outputs": [],
   "source": [
    "def clean_length_service(y):\n",
    "    match y:\n",
    "        case \"Less than 1 year\":\n",
    "            y_new = 0.5\n",
    "        case \"1-2\":\n",
    "            y_new = 1.5\n",
    "        case \"3-4\":\n",
    "            y_new = 3.5\n",
    "        case \"5-6\":\n",
    "            y_new = 5.5\n",
    "        case \"7-10\":\n",
    "            y_new = 8.5\n",
    "        case \"11-20\":\n",
    "            y_new = 15\n",
    "        case \"More than 20 years\":\n",
    "            y_new = 20\n",
    "        case _:\n",
    "            y_new = y\n",
    "    return y_new"
   ]
  },
  {
   "cell_type": "code",
   "execution_count": 70,
   "id": "2d4b02e1",
   "metadata": {},
   "outputs": [],
   "source": [
    "combined_resign_updated[\"length_service\"] = combined_resign_updated[\"length_service\"].apply(clean_length_service)"
   ]
  },
  {
   "cell_type": "code",
   "execution_count": 71,
   "id": "1573a377",
   "metadata": {},
   "outputs": [
    {
     "data": {
      "text/plain": [
       "array([ 7. , 18. ,  3. , 15. , 14. ,  5. ,  nan, 30. , 32. , 39. , 17. ,\n",
       "        9. ,  6. ,  1. , 35. , 38. , 36. , 19. ,  4. , 26. , 10. ,  8. ,\n",
       "        2. ,  0. , 23. , 13. , 16. , 12. , 21. , 20. , 24. , 33. , 22. ,\n",
       "       28. , 49. , 11. , 41. , 27. , 42. , 25. , 29. , 34. , 31. ,  3.5,\n",
       "        8.5,  1.5,  0.5,  5.5])"
      ]
     },
     "execution_count": 71,
     "metadata": {},
     "output_type": "execute_result"
    }
   ],
   "source": [
    "combined_resign_updated[\"length_service\"].unique()"
   ]
  },
  {
   "cell_type": "markdown",
   "id": "9decef20",
   "metadata": {},
   "source": [
    "Then we bucket the length of service into job levels."
   ]
  },
  {
   "cell_type": "code",
   "execution_count": 72,
   "id": "a46dc849",
   "metadata": {},
   "outputs": [],
   "source": [
    "def group_length_service(z):\n",
    "    if z < 1:\n",
    "        z_new = \"T0: Short-term\"\n",
    "    elif 1 <= z < 3:\n",
    "        z_new = \"T1: Entry-level\"\n",
    "    elif 3 <= z < 5:\n",
    "        z_new = \"T2: Early\"\n",
    "    elif 5 <= z < 7:\n",
    "        z_new = \"T3: Mid\"\n",
    "    elif 7 <= z < 11:\n",
    "        z_new = \"T4: Senior\"\n",
    "    elif 11 <= z < 20:\n",
    "        z_new = \"T5: Director\"\n",
    "    elif z >= 20:\n",
    "        z_new = \"T6: Executive\"\n",
    "    else:\n",
    "        z_new = z\n",
    "    return z_new"
   ]
  },
  {
   "cell_type": "code",
   "execution_count": 73,
   "id": "c10d2654",
   "metadata": {},
   "outputs": [],
   "source": [
    "combined_resign_updated[\"length_service\"] = combined_resign_updated[\"length_service\"].apply(group_length_service)"
   ]
  },
  {
   "cell_type": "code",
   "execution_count": 74,
   "id": "4684c06c",
   "metadata": {},
   "outputs": [
    {
     "data": {
      "text/plain": [
       "length_service\n",
       "T0: Short-term     0.165187\n",
       "T1: Entry-level    0.177620\n",
       "T2: Early          0.175844\n",
       "T3: Mid            0.129663\n",
       "T4: Senior         0.110124\n",
       "T5: Director       0.134991\n",
       "T6: Executive      0.106572\n",
       "Name: proportion, dtype: float64"
      ]
     },
     "execution_count": 74,
     "metadata": {},
     "output_type": "execute_result"
    }
   ],
   "source": [
    "combined_resign_updated[\"length_service\"].value_counts(normalize=True).sort_index()"
   ]
  },
  {
   "cell_type": "code",
   "execution_count": 75,
   "id": "3ab1c446",
   "metadata": {},
   "outputs": [
    {
     "data": {
      "image/png": "[encoded data removed]",
      "text/plain": [
       "<Figure size 640x480 with 1 Axes>"
      ]
     },
     "metadata": {},
     "output_type": "display_data"
    }
   ],
   "source": [
    "combined_resign_updated[\"length_service\"].value_counts().sort_index().plot(kind=\"barh\")\n",
    "plt.gca().invert_yaxis()"
   ]
  },
  {
   "cell_type": "code",
   "execution_count": null,
   "id": "ed427549",
   "metadata": {},
   "outputs": [],
   "source": []
  }
 ],
 "metadata": {
  "kernelspec": {
   "display_name": "Python 3 (ipykernel)",
   "language": "python",
   "name": "python3"
  },
  "language_info": {
   "codemirror_mode": {
    "name": "ipython",
    "version": 3
   },
   "file_extension": ".py",
   "mimetype": "text/x-python",
   "name": "python",
   "nbconvert_exporter": "python",
   "pygments_lexer": "ipython3",
   "version": "3.11.3"
  }
 },
 "nbformat": 4,
 "nbformat_minor": 5
}
