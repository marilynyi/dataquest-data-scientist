{
 "cells": [
  {
   "cell_type": "markdown",
   "id": "20a12418",
   "metadata": {},
   "source": [
    "# Exploring FiveThirtyEight's Star Wars Survey"
   ]
  },
  {
   "cell_type": "markdown",
   "id": "480d37d4",
   "metadata": {},
   "source": [
    "## Scenario\n",
    "\n",
    "[Project introduction](https://app.dataquest.io/c/25/m/201/guided-project%3A-star-wars-survey/2/overview?path=2&slug=data-scientist&version=1) as presented by Dataquest:\n",
    ">While waiting for [*Star Wars: The Force Awakens*](https://en.wikipedia.org/wiki/Star_Wars:_The_Force_Awakens) to come out, the team at [FiveThirtyEight](https://fivethirtyeight.com/) became interested in answering some questions about *Star Wars* fans. In particular, they wondered: **does the rest of America realize that \"The Empire Strikes Back\" is clearly the best of the bunch?**\n",
    ">\n",
    ">The team needed to collect data addressing this question. To do this, they surveyed *Star Wars* fans using the online tool SurveyMonkey. They received [1186 total responses](https://github.com/fivethirtyeight/data/blob/master/star-wars-survey/StarWars.csv).\n",
    "\n",
    "The Star Wars film series is unique in that the order in which the films were released begins with Episode IV. Below is the [full chronological order and titles](https://editorial.rottentomatoes.com/guide/star-wars-movies-in-order/) of the main films.\n",
    "\n",
    "1. Episode IV: A New Hope (1977)\n",
    "2. Episode V: The Empire Strikes Back (1980)\n",
    "3. Episode VI: Return of the Jedi (1983)\n",
    "4. Episode I: The Phantom Menace (1999)\n",
    "5. Episode II: Attack of the Clones (2002)\n",
    "6. Episode III: Revenge of the Sith (2005)"
   ]
  },
  {
   "cell_type": "markdown",
   "id": "f23c1a04",
   "metadata": {},
   "source": [
    "## Goal\n",
    "\n",
    "We validate the claim that the 2nd movie released (Episode V: The Empire Strikes Back) is the most favorited film of the series. Along the way, we clean and explore the dataset in Jupyter notebook."
   ]
  },
  {
   "cell_type": "markdown",
   "id": "9d2096be",
   "metadata": {},
   "source": [
    "## Results\n",
    "\n",
    "We confirm the claim that Episode V: The Empire Strikes Back is America's favorite of the Star Wars series (or at least in the survey conducted by FiveThirtyEight). The first three films released (Episodes 4, 5, and 6) had an average rating between `2-3` while the last three major films released (Episodes 1, 2, 3) had an average rating of `4-5`. Note that `1` indicates `most favorite` and `6` indicates `least favorite`.\n",
    "\n",
    "Out of a total of 1,186 respondents, we segmented and explored the various demographics:\n",
    "- By number of films watched\n",
    "    - 30% have not seen any Stars Wars movies\n",
    "    - 70% have seen at least one\n",
    "    - 40% have seen all six\n",
    "- By self-identification\n",
    "    - 47% are Star Wars fans\n",
    "    - 35% are Star Wars fans and have seen all six movies (true Star Wars fans)\n",
    "    - 87% of those who have seen all six are Star Wars fans\n",
    "    - 35% are Star Trek fans\n",
    "    - 88% of those who have seen all six are Star Trek fans\n",
    "- Gender\n",
    "    - 52% of those who have seen at least one film are male \n",
    "    - 67% of those who have not seen any Star Wars movies are female\n",
    "    - 56% of Star Wars fans are male \n",
    "    - 56% of Star Trek fans are male\n",
    "    - 60% of true Star Wars fans (those who identify as a fan and have seen all six movies) are male\n",
    "    - 61% of true Star Wars and Star Trek fans are male\n",
    "    - About half of females who are not Star Wars fans have not seen Episodes 2, 3, and 4.\n",
    "- Education\n",
    "    - About 90% have had at least some higher education\n",
    "    - There is a slightly larger chance that a respondent with only a high school degree or less has not seen any Star Wars movies. \n",
    "- Region\n",
    "    - The `Pacific`, `South Atlantic`, and `East North Central` make up the largest percentages of survey respondents and respondents who have seen at least one Star Wars film. As this is consistent among the other segments explored, it is likely that the populations in these regions are bigger.\n",
    "- Age\n",
    "    - Most respondents are 45-60 years old (28%)\n",
    "    - 34% of those who have not seen any Star Wars films are over 60\n",
    "    - 29% of those who have seen at least one are 45-60\n",
    "    - 80-90% of those between 18-44 have seen each movie\n",
    "    - While over 80% of those over 60 have seen Episodes 5 and 6, this dwindles down to near 50% for Episodes 2, 3, and 4\n",
    "    - All age groups ranked Episode 5 the highest and Episodes 1, 2, and 3 the lowest\n",
    "    - Those who have seen at least one movie and are over 60 rated Episode 1 much higher than the other age groups\n",
    "    - Those who have seen at least one movie and are over 60 rated Episode 4 much lower than the other age groups\n",
    "    - Mostly all Star Wars fans across the age groups have seen Episodes 5 and 6"
   ]
  },
  {
   "cell_type": "markdown",
   "id": "29fc2cef",
   "metadata": {},
   "source": [
    "# Table of Contents"
   ]
  },
  {
   "cell_type": "markdown",
   "id": "4b1eb2a0",
   "metadata": {},
   "source": [
    "[1. Data preprocessing](#1.-Data-preprocessing)\n",
    "- 1.1 Import the libraries\n",
    "- 1.2 Import the data\n",
    "\n",
    "[2. Inspect the data](#2.-Inspect-the-data)\n",
    "- 2.1 Data dictionary\n",
    "- 2.2 Check for duplicates\n",
    "\n",
    "[3. Clean the data](#3.-Clean-the-data)\n",
    "- 3.1 Clean up the column headers\n",
    "    - 3.1.1 Original column names\n",
    "    - 3.1.2 Cleaned column names\n",
    "- 3.2 Convert values to appropriate data types\n",
    "    - 3.2.1 Clean and map Yes/No columns\n",
    "    - 3.2.2 Clean and map columns for watched movies\n",
    "    - 3.2.3 Clean and map columns for character favorability\n",
    "- 3.3 Check order of Age values\n",
    "- 3.4 Check validity of respondents having watched at least one Star Wars film\n",
    "\n",
    "[4. Analyze the data](#4.-Analyze-the-data)\n",
    "- 4.1 Create functions to generate `Most Viewed` and `Highest Ranked` plots\n",
    "    - 4.1.1 Function to generate `Most Viewed` plot\n",
    "    - 4.1.2 Function to generate `Highest Ranked` plot\n",
    "- 4.2 Respondents who have seen at least one Star Wars film\n",
    "    - 4.2.1 Find the most viewed movies\n",
    "    - 4.2.2 Find the highest ranked movies\n",
    "- 4.3 Respondents who have seen all six films\n",
    "    - 4.3.1 Find the highest rated movies\n",
    "\n",
    "[5. Explore the data by binary segments](#5.-Explore-the-data-by-binary-segments)\n",
    "- 5.1 Star Wars fans\n",
    "- 5.2 True Star Wars fans\n",
    "- 5.3 Star Trek fans\n",
    "- 5.4 Gender\n",
    "- 5.5 Education\n",
    "- 5.6 Region\n",
    "\n",
    "[6. Explore age populations](#6.-Explore-age-populations)\n",
    "- 6.1 Create a function to plot individual age distributions\n",
    "- 6.2 Respondents by age who submitted a survey\n",
    "- 6.3 Respondents by age who have not seen a Star Wars movie\n",
    "- 6.4 Respondents by age who have seen Star Wars\n",
    "\n",
    "[7. Explore major age population segments](#7.-Explore-major-age-population-segments)\n",
    "- 7.1 Create functions to plot grouped age distributions\n",
    "- 7.2 Respondents by age who have seen at least one Star Wars movie\n",
    "- 7.3 Respondents by age who have seen all six movies\n",
    "- 7.4 Star Wars fans by age\n",
    "- 7.5 True Star Wars fans by age "
   ]
  },
  {
   "cell_type": "markdown",
   "id": "e45383d0",
   "metadata": {},
   "source": [
    "# 1. Data preprocessing"
   ]
  },
  {
   "cell_type": "markdown",
   "id": "27704235",
   "metadata": {},
   "source": [
    "## 1.1 Import the libraries"
   ]
  },
  {
   "cell_type": "code",
   "execution_count": 1,
   "id": "02a3ae4a",
   "metadata": {},
   "outputs": [],
   "source": [
    "import pandas as pd\n",
    "import numpy as np\n",
    "import warnings\n",
    "import matplotlib.pyplot as plt\n",
    "from matplotlib.ticker import FuncFormatter\n",
    "\n",
    "%matplotlib inline\n",
    "warnings.filterwarnings(\"ignore\")"
   ]
  },
  {
   "cell_type": "markdown",
   "id": "45751622",
   "metadata": {},
   "source": [
    "## 1.2 Import the data"
   ]
  },
  {
   "cell_type": "code",
   "execution_count": 2,
   "id": "5a1f1b86",
   "metadata": {},
   "outputs": [],
   "source": [
    "star_wars = pd.read_csv(\"star_wars.csv\", encoding=\"ISO-8859-1\")"
   ]
  },
  {
   "cell_type": "markdown",
   "id": "f9724354",
   "metadata": {},
   "source": [
    "# 2. Inspect the data"
   ]
  },
  {
   "cell_type": "markdown",
   "id": "12ce6b23",
   "metadata": {},
   "source": [
    "## 2.1 Data dictionary\n",
    "\n",
    "- `RespondentID` - an anonymized ID for the respondent (person taking the survey)\n",
    "- `Have you seen any of the 6 films in the Star Wars franchise?` - a `Yes` or `No` response\n",
    "- `Do you consider yourself to be a fan of the Star Wars film franchise?` - a `Yes` or `No` response\n",
    "- `Which of the following Star Wars films have you seen? Please select all that apply.` - six columns of titles seen\n",
    "- `Please rank the Star Wars films in order of preference with 1 being your favorite film in the franchise and 6 being your least favorite film.` - six columns with values between 1-6\n",
    "- `Please state whether you view the following characters favorably, unfavorably, or are unfamiliar with him/her.` - 14 characters\n",
    "- `Which character shot first?` - true fan question\n",
    "- `Are you familiar with the Expanded Universe?` - true fan question\n",
    "- `Do you consider yourself to be a fan of the Expanded Universe?` - true fan question\n",
    "- `Do you consider yourself to be a fan of the Star Trek franchise?` - a `Yes` or `No` response\n",
    "- `Gender` - the respondent's gender\n",
    "- `Age` - the respondent's age\n",
    "- `Household Income` - the respondent's income\n",
    "- `Education` - the respondent's education level\n",
    "- `Location (Census Region)` - the respondent's location"
   ]
  },
  {
   "cell_type": "code",
   "execution_count": 3,
   "id": "b0104eb9",
   "metadata": {},
   "outputs": [
    {
     "data": {
      "text/plain": [
       "(1186, 38)"
      ]
     },
     "execution_count": 3,
     "metadata": {},
     "output_type": "execute_result"
    }
   ],
   "source": [
    "star_wars.shape"
   ]
  },
  {
   "cell_type": "markdown",
   "id": "946f1a5f",
   "metadata": {},
   "source": [
    "The dataset has 1,186 entries and 38 columns."
   ]
  },
  {
   "cell_type": "markdown",
   "id": "fdf2b019",
   "metadata": {},
   "source": [
    "## 2.2 Check for duplicates"
   ]
  },
  {
   "cell_type": "code",
   "execution_count": 4,
   "id": "c73e5af5",
   "metadata": {},
   "outputs": [
    {
     "name": "stdout",
     "output_type": "stream",
     "text": [
      "(1186, 38)\n"
     ]
    }
   ],
   "source": [
    "star_wars_copy = star_wars.drop_duplicates(subset=[\"RespondentID\"])\n",
    "print(star_wars_copy.shape)"
   ]
  },
  {
   "cell_type": "markdown",
   "id": "78be7130",
   "metadata": {},
   "source": [
    "There are no duplicates in the dataset."
   ]
  },
  {
   "cell_type": "markdown",
   "id": "56b963a7",
   "metadata": {},
   "source": [
    "We view the first 10 entries."
   ]
  },
  {
   "cell_type": "code",
   "execution_count": 5,
   "id": "17fa2c24",
   "metadata": {},
   "outputs": [
    {
     "data": {
      "text/html": [
       "<div>\n",
       "<style scoped>\n",
       "    .dataframe tbody tr th:only-of-type {\n",
       "        vertical-align: middle;\n",
       "    }\n",
       "\n",
       "    .dataframe tbody tr th {\n",
       "        vertical-align: top;\n",
       "    }\n",
       "\n",
       "    .dataframe thead th {\n",
       "        text-align: right;\n",
       "    }\n",
       "</style>\n",
       "<table border=\"1\" class=\"dataframe\">\n",
       "  <thead>\n",
       "    <tr style=\"text-align: right;\">\n",
       "      <th></th>\n",
       "      <th>RespondentID</th>\n",
       "      <th>Have you seen any of the 6 films in the Star Wars franchise?</th>\n",
       "      <th>Do you consider yourself to be a fan of the Star Wars film franchise?</th>\n",
       "      <th>Which of the following Star Wars films have you seen? Please select all that apply.</th>\n",
       "      <th>Unnamed: 4</th>\n",
       "      <th>Unnamed: 5</th>\n",
       "      <th>Unnamed: 6</th>\n",
       "      <th>Unnamed: 7</th>\n",
       "      <th>Unnamed: 8</th>\n",
       "      <th>Please rank the Star Wars films in order of preference with 1 being your favorite film in the franchise and 6 being your least favorite film.</th>\n",
       "      <th>...</th>\n",
       "      <th>Unnamed: 28</th>\n",
       "      <th>Which character shot first?</th>\n",
       "      <th>Are you familiar with the Expanded Universe?</th>\n",
       "      <th>Do you consider yourself to be a fan of the Expanded Universe?</th>\n",
       "      <th>Do you consider yourself to be a fan of the Star Trek franchise?</th>\n",
       "      <th>Gender</th>\n",
       "      <th>Age</th>\n",
       "      <th>Household Income</th>\n",
       "      <th>Education</th>\n",
       "      <th>Location (Census Region)</th>\n",
       "    </tr>\n",
       "  </thead>\n",
       "  <tbody>\n",
       "    <tr>\n",
       "      <th>0</th>\n",
       "      <td>3292879998</td>\n",
       "      <td>Yes</td>\n",
       "      <td>Yes</td>\n",
       "      <td>Star Wars: Episode I  The Phantom Menace</td>\n",
       "      <td>Star Wars: Episode II  Attack of the Clones</td>\n",
       "      <td>Star Wars: Episode III  Revenge of the Sith</td>\n",
       "      <td>Star Wars: Episode IV  A New Hope</td>\n",
       "      <td>Star Wars: Episode V The Empire Strikes Back</td>\n",
       "      <td>Star Wars: Episode VI Return of the Jedi</td>\n",
       "      <td>3.0</td>\n",
       "      <td>...</td>\n",
       "      <td>Very favorably</td>\n",
       "      <td>I don't understand this question</td>\n",
       "      <td>Yes</td>\n",
       "      <td>No</td>\n",
       "      <td>No</td>\n",
       "      <td>Male</td>\n",
       "      <td>18-29</td>\n",
       "      <td>NaN</td>\n",
       "      <td>High school degree</td>\n",
       "      <td>South Atlantic</td>\n",
       "    </tr>\n",
       "    <tr>\n",
       "      <th>1</th>\n",
       "      <td>3292879538</td>\n",
       "      <td>No</td>\n",
       "      <td>NaN</td>\n",
       "      <td>NaN</td>\n",
       "      <td>NaN</td>\n",
       "      <td>NaN</td>\n",
       "      <td>NaN</td>\n",
       "      <td>NaN</td>\n",
       "      <td>NaN</td>\n",
       "      <td>NaN</td>\n",
       "      <td>...</td>\n",
       "      <td>NaN</td>\n",
       "      <td>NaN</td>\n",
       "      <td>NaN</td>\n",
       "      <td>NaN</td>\n",
       "      <td>Yes</td>\n",
       "      <td>Male</td>\n",
       "      <td>18-29</td>\n",
       "      <td>$0 - $24,999</td>\n",
       "      <td>Bachelor degree</td>\n",
       "      <td>West South Central</td>\n",
       "    </tr>\n",
       "    <tr>\n",
       "      <th>2</th>\n",
       "      <td>3292765271</td>\n",
       "      <td>Yes</td>\n",
       "      <td>No</td>\n",
       "      <td>Star Wars: Episode I  The Phantom Menace</td>\n",
       "      <td>Star Wars: Episode II  Attack of the Clones</td>\n",
       "      <td>Star Wars: Episode III  Revenge of the Sith</td>\n",
       "      <td>NaN</td>\n",
       "      <td>NaN</td>\n",
       "      <td>NaN</td>\n",
       "      <td>1.0</td>\n",
       "      <td>...</td>\n",
       "      <td>Unfamiliar (N/A)</td>\n",
       "      <td>I don't understand this question</td>\n",
       "      <td>No</td>\n",
       "      <td>NaN</td>\n",
       "      <td>No</td>\n",
       "      <td>Male</td>\n",
       "      <td>18-29</td>\n",
       "      <td>$0 - $24,999</td>\n",
       "      <td>High school degree</td>\n",
       "      <td>West North Central</td>\n",
       "    </tr>\n",
       "    <tr>\n",
       "      <th>3</th>\n",
       "      <td>3292763116</td>\n",
       "      <td>Yes</td>\n",
       "      <td>Yes</td>\n",
       "      <td>Star Wars: Episode I  The Phantom Menace</td>\n",
       "      <td>Star Wars: Episode II  Attack of the Clones</td>\n",
       "      <td>Star Wars: Episode III  Revenge of the Sith</td>\n",
       "      <td>Star Wars: Episode IV  A New Hope</td>\n",
       "      <td>Star Wars: Episode V The Empire Strikes Back</td>\n",
       "      <td>Star Wars: Episode VI Return of the Jedi</td>\n",
       "      <td>5.0</td>\n",
       "      <td>...</td>\n",
       "      <td>Very favorably</td>\n",
       "      <td>I don't understand this question</td>\n",
       "      <td>No</td>\n",
       "      <td>NaN</td>\n",
       "      <td>Yes</td>\n",
       "      <td>Male</td>\n",
       "      <td>18-29</td>\n",
       "      <td>$100,000 - $149,999</td>\n",
       "      <td>Some college or Associate degree</td>\n",
       "      <td>West North Central</td>\n",
       "    </tr>\n",
       "    <tr>\n",
       "      <th>4</th>\n",
       "      <td>3292731220</td>\n",
       "      <td>Yes</td>\n",
       "      <td>Yes</td>\n",
       "      <td>Star Wars: Episode I  The Phantom Menace</td>\n",
       "      <td>Star Wars: Episode II  Attack of the Clones</td>\n",
       "      <td>Star Wars: Episode III  Revenge of the Sith</td>\n",
       "      <td>Star Wars: Episode IV  A New Hope</td>\n",
       "      <td>Star Wars: Episode V The Empire Strikes Back</td>\n",
       "      <td>Star Wars: Episode VI Return of the Jedi</td>\n",
       "      <td>5.0</td>\n",
       "      <td>...</td>\n",
       "      <td>Somewhat favorably</td>\n",
       "      <td>Greedo</td>\n",
       "      <td>Yes</td>\n",
       "      <td>No</td>\n",
       "      <td>No</td>\n",
       "      <td>Male</td>\n",
       "      <td>18-29</td>\n",
       "      <td>$100,000 - $149,999</td>\n",
       "      <td>Some college or Associate degree</td>\n",
       "      <td>West North Central</td>\n",
       "    </tr>\n",
       "    <tr>\n",
       "      <th>5</th>\n",
       "      <td>3292719380</td>\n",
       "      <td>Yes</td>\n",
       "      <td>Yes</td>\n",
       "      <td>Star Wars: Episode I  The Phantom Menace</td>\n",
       "      <td>Star Wars: Episode II  Attack of the Clones</td>\n",
       "      <td>Star Wars: Episode III  Revenge of the Sith</td>\n",
       "      <td>Star Wars: Episode IV  A New Hope</td>\n",
       "      <td>Star Wars: Episode V The Empire Strikes Back</td>\n",
       "      <td>Star Wars: Episode VI Return of the Jedi</td>\n",
       "      <td>1.0</td>\n",
       "      <td>...</td>\n",
       "      <td>Very favorably</td>\n",
       "      <td>Han</td>\n",
       "      <td>Yes</td>\n",
       "      <td>No</td>\n",
       "      <td>Yes</td>\n",
       "      <td>Male</td>\n",
       "      <td>18-29</td>\n",
       "      <td>$25,000 - $49,999</td>\n",
       "      <td>Bachelor degree</td>\n",
       "      <td>Middle Atlantic</td>\n",
       "    </tr>\n",
       "    <tr>\n",
       "      <th>6</th>\n",
       "      <td>3292684787</td>\n",
       "      <td>Yes</td>\n",
       "      <td>Yes</td>\n",
       "      <td>Star Wars: Episode I  The Phantom Menace</td>\n",
       "      <td>Star Wars: Episode II  Attack of the Clones</td>\n",
       "      <td>Star Wars: Episode III  Revenge of the Sith</td>\n",
       "      <td>Star Wars: Episode IV  A New Hope</td>\n",
       "      <td>Star Wars: Episode V The Empire Strikes Back</td>\n",
       "      <td>Star Wars: Episode VI Return of the Jedi</td>\n",
       "      <td>6.0</td>\n",
       "      <td>...</td>\n",
       "      <td>Very favorably</td>\n",
       "      <td>Han</td>\n",
       "      <td>Yes</td>\n",
       "      <td>No</td>\n",
       "      <td>No</td>\n",
       "      <td>Male</td>\n",
       "      <td>18-29</td>\n",
       "      <td>NaN</td>\n",
       "      <td>High school degree</td>\n",
       "      <td>East North Central</td>\n",
       "    </tr>\n",
       "    <tr>\n",
       "      <th>7</th>\n",
       "      <td>3292663732</td>\n",
       "      <td>Yes</td>\n",
       "      <td>Yes</td>\n",
       "      <td>Star Wars: Episode I  The Phantom Menace</td>\n",
       "      <td>Star Wars: Episode II  Attack of the Clones</td>\n",
       "      <td>Star Wars: Episode III  Revenge of the Sith</td>\n",
       "      <td>Star Wars: Episode IV  A New Hope</td>\n",
       "      <td>Star Wars: Episode V The Empire Strikes Back</td>\n",
       "      <td>Star Wars: Episode VI Return of the Jedi</td>\n",
       "      <td>4.0</td>\n",
       "      <td>...</td>\n",
       "      <td>Very favorably</td>\n",
       "      <td>Han</td>\n",
       "      <td>No</td>\n",
       "      <td>NaN</td>\n",
       "      <td>Yes</td>\n",
       "      <td>Male</td>\n",
       "      <td>18-29</td>\n",
       "      <td>NaN</td>\n",
       "      <td>High school degree</td>\n",
       "      <td>South Atlantic</td>\n",
       "    </tr>\n",
       "    <tr>\n",
       "      <th>8</th>\n",
       "      <td>3292654043</td>\n",
       "      <td>Yes</td>\n",
       "      <td>Yes</td>\n",
       "      <td>Star Wars: Episode I  The Phantom Menace</td>\n",
       "      <td>Star Wars: Episode II  Attack of the Clones</td>\n",
       "      <td>Star Wars: Episode III  Revenge of the Sith</td>\n",
       "      <td>Star Wars: Episode IV  A New Hope</td>\n",
       "      <td>Star Wars: Episode V The Empire Strikes Back</td>\n",
       "      <td>Star Wars: Episode VI Return of the Jedi</td>\n",
       "      <td>5.0</td>\n",
       "      <td>...</td>\n",
       "      <td>Somewhat favorably</td>\n",
       "      <td>Han</td>\n",
       "      <td>No</td>\n",
       "      <td>NaN</td>\n",
       "      <td>No</td>\n",
       "      <td>Male</td>\n",
       "      <td>18-29</td>\n",
       "      <td>$0 - $24,999</td>\n",
       "      <td>Some college or Associate degree</td>\n",
       "      <td>South Atlantic</td>\n",
       "    </tr>\n",
       "    <tr>\n",
       "      <th>9</th>\n",
       "      <td>3292640424</td>\n",
       "      <td>Yes</td>\n",
       "      <td>No</td>\n",
       "      <td>NaN</td>\n",
       "      <td>Star Wars: Episode II  Attack of the Clones</td>\n",
       "      <td>NaN</td>\n",
       "      <td>NaN</td>\n",
       "      <td>NaN</td>\n",
       "      <td>NaN</td>\n",
       "      <td>1.0</td>\n",
       "      <td>...</td>\n",
       "      <td>Very favorably</td>\n",
       "      <td>I don't understand this question</td>\n",
       "      <td>No</td>\n",
       "      <td>NaN</td>\n",
       "      <td>No</td>\n",
       "      <td>Male</td>\n",
       "      <td>18-29</td>\n",
       "      <td>$25,000 - $49,999</td>\n",
       "      <td>Some college or Associate degree</td>\n",
       "      <td>Pacific</td>\n",
       "    </tr>\n",
       "  </tbody>\n",
       "</table>\n",
       "<p>10 rows × 38 columns</p>\n",
       "</div>"
      ],
      "text/plain": [
       "   RespondentID Have you seen any of the 6 films in the Star Wars franchise?  \\\n",
       "0    3292879998                                                Yes             \n",
       "1    3292879538                                                 No             \n",
       "2    3292765271                                                Yes             \n",
       "3    3292763116                                                Yes             \n",
       "4    3292731220                                                Yes             \n",
       "5    3292719380                                                Yes             \n",
       "6    3292684787                                                Yes             \n",
       "7    3292663732                                                Yes             \n",
       "8    3292654043                                                Yes             \n",
       "9    3292640424                                                Yes             \n",
       "\n",
       "  Do you consider yourself to be a fan of the Star Wars film franchise?  \\\n",
       "0                                                Yes                      \n",
       "1                                                NaN                      \n",
       "2                                                 No                      \n",
       "3                                                Yes                      \n",
       "4                                                Yes                      \n",
       "5                                                Yes                      \n",
       "6                                                Yes                      \n",
       "7                                                Yes                      \n",
       "8                                                Yes                      \n",
       "9                                                 No                      \n",
       "\n",
       "  Which of the following Star Wars films have you seen? Please select all that apply.  \\\n",
       "0           Star Wars: Episode I  The Phantom Menace                                    \n",
       "1                                                NaN                                    \n",
       "2           Star Wars: Episode I  The Phantom Menace                                    \n",
       "3           Star Wars: Episode I  The Phantom Menace                                    \n",
       "4           Star Wars: Episode I  The Phantom Menace                                    \n",
       "5           Star Wars: Episode I  The Phantom Menace                                    \n",
       "6           Star Wars: Episode I  The Phantom Menace                                    \n",
       "7           Star Wars: Episode I  The Phantom Menace                                    \n",
       "8           Star Wars: Episode I  The Phantom Menace                                    \n",
       "9                                                NaN                                    \n",
       "\n",
       "                                    Unnamed: 4  \\\n",
       "0  Star Wars: Episode II  Attack of the Clones   \n",
       "1                                          NaN   \n",
       "2  Star Wars: Episode II  Attack of the Clones   \n",
       "3  Star Wars: Episode II  Attack of the Clones   \n",
       "4  Star Wars: Episode II  Attack of the Clones   \n",
       "5  Star Wars: Episode II  Attack of the Clones   \n",
       "6  Star Wars: Episode II  Attack of the Clones   \n",
       "7  Star Wars: Episode II  Attack of the Clones   \n",
       "8  Star Wars: Episode II  Attack of the Clones   \n",
       "9  Star Wars: Episode II  Attack of the Clones   \n",
       "\n",
       "                                    Unnamed: 5  \\\n",
       "0  Star Wars: Episode III  Revenge of the Sith   \n",
       "1                                          NaN   \n",
       "2  Star Wars: Episode III  Revenge of the Sith   \n",
       "3  Star Wars: Episode III  Revenge of the Sith   \n",
       "4  Star Wars: Episode III  Revenge of the Sith   \n",
       "5  Star Wars: Episode III  Revenge of the Sith   \n",
       "6  Star Wars: Episode III  Revenge of the Sith   \n",
       "7  Star Wars: Episode III  Revenge of the Sith   \n",
       "8  Star Wars: Episode III  Revenge of the Sith   \n",
       "9                                          NaN   \n",
       "\n",
       "                          Unnamed: 6  \\\n",
       "0  Star Wars: Episode IV  A New Hope   \n",
       "1                                NaN   \n",
       "2                                NaN   \n",
       "3  Star Wars: Episode IV  A New Hope   \n",
       "4  Star Wars: Episode IV  A New Hope   \n",
       "5  Star Wars: Episode IV  A New Hope   \n",
       "6  Star Wars: Episode IV  A New Hope   \n",
       "7  Star Wars: Episode IV  A New Hope   \n",
       "8  Star Wars: Episode IV  A New Hope   \n",
       "9                                NaN   \n",
       "\n",
       "                                     Unnamed: 7  \\\n",
       "0  Star Wars: Episode V The Empire Strikes Back   \n",
       "1                                           NaN   \n",
       "2                                           NaN   \n",
       "3  Star Wars: Episode V The Empire Strikes Back   \n",
       "4  Star Wars: Episode V The Empire Strikes Back   \n",
       "5  Star Wars: Episode V The Empire Strikes Back   \n",
       "6  Star Wars: Episode V The Empire Strikes Back   \n",
       "7  Star Wars: Episode V The Empire Strikes Back   \n",
       "8  Star Wars: Episode V The Empire Strikes Back   \n",
       "9                                           NaN   \n",
       "\n",
       "                                 Unnamed: 8  \\\n",
       "0  Star Wars: Episode VI Return of the Jedi   \n",
       "1                                       NaN   \n",
       "2                                       NaN   \n",
       "3  Star Wars: Episode VI Return of the Jedi   \n",
       "4  Star Wars: Episode VI Return of the Jedi   \n",
       "5  Star Wars: Episode VI Return of the Jedi   \n",
       "6  Star Wars: Episode VI Return of the Jedi   \n",
       "7  Star Wars: Episode VI Return of the Jedi   \n",
       "8  Star Wars: Episode VI Return of the Jedi   \n",
       "9                                       NaN   \n",
       "\n",
       "   Please rank the Star Wars films in order of preference with 1 being your favorite film in the franchise and 6 being your least favorite film.  \\\n",
       "0                                                3.0                                                                                               \n",
       "1                                                NaN                                                                                               \n",
       "2                                                1.0                                                                                               \n",
       "3                                                5.0                                                                                               \n",
       "4                                                5.0                                                                                               \n",
       "5                                                1.0                                                                                               \n",
       "6                                                6.0                                                                                               \n",
       "7                                                4.0                                                                                               \n",
       "8                                                5.0                                                                                               \n",
       "9                                                1.0                                                                                               \n",
       "\n",
       "   ...         Unnamed: 28       Which character shot first?  \\\n",
       "0  ...      Very favorably  I don't understand this question   \n",
       "1  ...                 NaN                               NaN   \n",
       "2  ...    Unfamiliar (N/A)  I don't understand this question   \n",
       "3  ...      Very favorably  I don't understand this question   \n",
       "4  ...  Somewhat favorably                            Greedo   \n",
       "5  ...      Very favorably                               Han   \n",
       "6  ...      Very favorably                               Han   \n",
       "7  ...      Very favorably                               Han   \n",
       "8  ...  Somewhat favorably                               Han   \n",
       "9  ...      Very favorably  I don't understand this question   \n",
       "\n",
       "   Are you familiar with the Expanded Universe?  \\\n",
       "0                                           Yes   \n",
       "1                                           NaN   \n",
       "2                                            No   \n",
       "3                                            No   \n",
       "4                                           Yes   \n",
       "5                                           Yes   \n",
       "6                                           Yes   \n",
       "7                                            No   \n",
       "8                                            No   \n",
       "9                                            No   \n",
       "\n",
       "   Do you consider yourself to be a fan of the Expanded Universe?  \\\n",
       "0                                                 No                \n",
       "1                                                NaN                \n",
       "2                                                NaN                \n",
       "3                                                NaN                \n",
       "4                                                 No                \n",
       "5                                                 No                \n",
       "6                                                 No                \n",
       "7                                                NaN                \n",
       "8                                                NaN                \n",
       "9                                                NaN                \n",
       "\n",
       "   Do you consider yourself to be a fan of the Star Trek franchise? Gender  \\\n",
       "0                                                 No                  Male   \n",
       "1                                                Yes                  Male   \n",
       "2                                                 No                  Male   \n",
       "3                                                Yes                  Male   \n",
       "4                                                 No                  Male   \n",
       "5                                                Yes                  Male   \n",
       "6                                                 No                  Male   \n",
       "7                                                Yes                  Male   \n",
       "8                                                 No                  Male   \n",
       "9                                                 No                  Male   \n",
       "\n",
       "     Age     Household Income                         Education  \\\n",
       "0  18-29                  NaN                High school degree   \n",
       "1  18-29         $0 - $24,999                   Bachelor degree   \n",
       "2  18-29         $0 - $24,999                High school degree   \n",
       "3  18-29  $100,000 - $149,999  Some college or Associate degree   \n",
       "4  18-29  $100,000 - $149,999  Some college or Associate degree   \n",
       "5  18-29    $25,000 - $49,999                   Bachelor degree   \n",
       "6  18-29                  NaN                High school degree   \n",
       "7  18-29                  NaN                High school degree   \n",
       "8  18-29         $0 - $24,999  Some college or Associate degree   \n",
       "9  18-29    $25,000 - $49,999  Some college or Associate degree   \n",
       "\n",
       "  Location (Census Region)  \n",
       "0           South Atlantic  \n",
       "1       West South Central  \n",
       "2       West North Central  \n",
       "3       West North Central  \n",
       "4       West North Central  \n",
       "5          Middle Atlantic  \n",
       "6       East North Central  \n",
       "7           South Atlantic  \n",
       "8           South Atlantic  \n",
       "9                  Pacific  \n",
       "\n",
       "[10 rows x 38 columns]"
      ]
     },
     "execution_count": 5,
     "metadata": {},
     "output_type": "execute_result"
    }
   ],
   "source": [
    "star_wars.head(10)"
   ]
  },
  {
   "cell_type": "markdown",
   "id": "de766798",
   "metadata": {},
   "source": [
    "Inspecting the sample output, we will need to relabel many of the column headers to be more intuitive. \n",
    "\n",
    "It also appears for those who have seen at least one film, ratings were provided for all the films. There are entries where movies that haven't been seen are ranked higher than the one(s) they have."
   ]
  },
  {
   "cell_type": "markdown",
   "id": "6aebcb93",
   "metadata": {},
   "source": [
    "# 3. Clean the data"
   ]
  },
  {
   "cell_type": "markdown",
   "id": "ac2a091f",
   "metadata": {},
   "source": [
    "## 3.1 Clean up column headers"
   ]
  },
  {
   "cell_type": "markdown",
   "id": "fda23ae9",
   "metadata": {},
   "source": [
    "### 3.1.1 Original column names"
   ]
  },
  {
   "cell_type": "code",
   "execution_count": 6,
   "id": "7dcb0cfe",
   "metadata": {},
   "outputs": [
    {
     "data": {
      "text/plain": [
       "Index(['RespondentID',\n",
       "       'Have you seen any of the 6 films in the Star Wars franchise?',\n",
       "       'Do you consider yourself to be a fan of the Star Wars film franchise?',\n",
       "       'Which of the following Star Wars films have you seen? Please select all that apply.',\n",
       "       'Unnamed: 4', 'Unnamed: 5', 'Unnamed: 6', 'Unnamed: 7', 'Unnamed: 8',\n",
       "       'Please rank the Star Wars films in order of preference with 1 being your favorite film in the franchise and 6 being your least favorite film.',\n",
       "       'Unnamed: 10', 'Unnamed: 11', 'Unnamed: 12', 'Unnamed: 13',\n",
       "       'Unnamed: 14',\n",
       "       'Please state whether you view the following characters favorably, unfavorably, or are unfamiliar with him/her.',\n",
       "       'Unnamed: 16', 'Unnamed: 17', 'Unnamed: 18', 'Unnamed: 19',\n",
       "       'Unnamed: 20', 'Unnamed: 21', 'Unnamed: 22', 'Unnamed: 23',\n",
       "       'Unnamed: 24', 'Unnamed: 25', 'Unnamed: 26', 'Unnamed: 27',\n",
       "       'Unnamed: 28', 'Which character shot first?',\n",
       "       'Are you familiar with the Expanded Universe?',\n",
       "       'Do you consider yourself to be a fan of the Expanded Universe?',\n",
       "       'Do you consider yourself to be a fan of the Star Trek franchise?',\n",
       "       'Gender', 'Age', 'Household Income', 'Education',\n",
       "       'Location (Census Region)'],\n",
       "      dtype='object')"
      ]
     },
     "execution_count": 6,
     "metadata": {},
     "output_type": "execute_result"
    }
   ],
   "source": [
    "star_wars.columns"
   ]
  },
  {
   "cell_type": "markdown",
   "id": "79f4e00c",
   "metadata": {},
   "source": [
    "First, we rename the column headers. From the original data, we know the order in which the character columns are listed."
   ]
  },
  {
   "cell_type": "code",
   "execution_count": 7,
   "id": "aaea2353",
   "metadata": {},
   "outputs": [],
   "source": [
    "star_wars = star_wars.rename(columns={\n",
    "    \"Have you seen any of the 6 films in the Star Wars franchise?\":\"Have you seen at least one Star Wars film?\",\n",
    "    \"Do you consider yourself to be a fan of the Star Wars film franchise?\":\"Are you a Star Wars fan?\",\n",
    "    \"Which of the following Star Wars films have you seen? Please select all that apply.\":\"Watched Ep 1\",\n",
    "    \"Unnamed: 4\":\"Watched Ep 2\",\n",
    "    \"Unnamed: 5\":\"Watched Ep 3\",\n",
    "    \"Unnamed: 6\":\"Watched Ep 4\",\n",
    "    \"Unnamed: 7\":\"Watched Ep 5\",\n",
    "    \"Unnamed: 8\":\"Watched Ep 6\",\n",
    "    \"Please rank the Star Wars films in order of preference with 1 being your favorite film in the franchise and 6 being your least favorite film.\":\"Ranked Ep 1\",\n",
    "    \"Unnamed: 10\":\"Ranked Ep 2\",\n",
    "    \"Unnamed: 11\":\"Ranked Ep 3\",\n",
    "    \"Unnamed: 12\":\"Ranked Ep 4\",\n",
    "    \"Unnamed: 13\":\"Ranked Ep 5\",\n",
    "    \"Unnamed: 14\":\"Ranked Ep 6\",\n",
    "    \"Please state whether you view the following characters favorably, unfavorably, or are unfamiliar with him/her.\": \"Han Solo\",\n",
    "    \"Unnamed: 16\":\"Luke Skywalker\",\n",
    "    \"Unnamed: 17\":\"Princess Leia Organa\",\n",
    "    \"Unnamed: 18\":\"Anakin Skywalker\",\n",
    "    \"Unnamed: 19\":\"Obi Wan Kenobi\",\n",
    "    \"Unnamed: 20\":\"Emperor Palpatine\",\n",
    "    \"Unnamed: 21\":\"Darth Vader\",\n",
    "    \"Unnamed: 22\":\"Lando Calrissian\",\n",
    "    \"Unnamed: 23\":\"Boba Fett\",\n",
    "    \"Unnamed: 24\":\"C-3P0\",\n",
    "    \"Unnamed: 25\":\"R2-D2\",\n",
    "    \"Unnamed: 26\":\"Jar Jar Binks\",\n",
    "    \"Unnamed: 27\":\"Padme Amidala\",\n",
    "    \"Unnamed: 28\":\"Yoda\",\n",
    "    \"Do you consider yourself to be a fan of the Expanded Universe?\":\"Are you an Expanded Universe fan?\",\n",
    "    \"Do you consider yourself to be a fan of the Star Trek franchise?\":\"Are you a Star Trek fan?\"\n",
    "})"
   ]
  },
  {
   "cell_type": "markdown",
   "id": "876a221e",
   "metadata": {},
   "source": [
    "### 3.1.2 Cleaned column names"
   ]
  },
  {
   "cell_type": "code",
   "execution_count": 8,
   "id": "d1a29bac",
   "metadata": {},
   "outputs": [
    {
     "data": {
      "text/plain": [
       "Index(['RespondentID', 'Have you seen at least one Star Wars film?',\n",
       "       'Are you a Star Wars fan?', 'Watched Ep 1', 'Watched Ep 2',\n",
       "       'Watched Ep 3', 'Watched Ep 4', 'Watched Ep 5', 'Watched Ep 6',\n",
       "       'Ranked Ep 1', 'Ranked Ep 2', 'Ranked Ep 3', 'Ranked Ep 4',\n",
       "       'Ranked Ep 5', 'Ranked Ep 6', 'Han Solo', 'Luke Skywalker',\n",
       "       'Princess Leia Organa', 'Anakin Skywalker', 'Obi Wan Kenobi',\n",
       "       'Emperor Palpatine', 'Darth Vader', 'Lando Calrissian', 'Boba Fett',\n",
       "       'C-3P0', 'R2-D2', 'Jar Jar Binks', 'Padme Amidala', 'Yoda',\n",
       "       'Which character shot first?',\n",
       "       'Are you familiar with the Expanded Universe?',\n",
       "       'Are you an Expanded Universe fan?', 'Are you a Star Trek fan?',\n",
       "       'Gender', 'Age', 'Household Income', 'Education',\n",
       "       'Location (Census Region)'],\n",
       "      dtype='object')"
      ]
     },
     "execution_count": 8,
     "metadata": {},
     "output_type": "execute_result"
    }
   ],
   "source": [
    "star_wars.columns"
   ]
  },
  {
   "cell_type": "markdown",
   "id": "7a6a0468",
   "metadata": {},
   "source": [
    "## 3.2 Convert values to appropriate data types"
   ]
  },
  {
   "cell_type": "markdown",
   "id": "12e658c2",
   "metadata": {},
   "source": [
    "We use the `info` method to get the data types for each column in the dataset."
   ]
  },
  {
   "cell_type": "code",
   "execution_count": 9,
   "id": "1989aec3",
   "metadata": {
    "scrolled": true
   },
   "outputs": [
    {
     "name": "stdout",
     "output_type": "stream",
     "text": [
      "<class 'pandas.core.frame.DataFrame'>\n",
      "RangeIndex: 1186 entries, 0 to 1185\n",
      "Data columns (total 38 columns):\n",
      " #   Column                                        Non-Null Count  Dtype  \n",
      "---  ------                                        --------------  -----  \n",
      " 0   RespondentID                                  1186 non-null   int64  \n",
      " 1   Have you seen at least one Star Wars film?    1186 non-null   object \n",
      " 2   Are you a Star Wars fan?                      836 non-null    object \n",
      " 3   Watched Ep 1                                  673 non-null    object \n",
      " 4   Watched Ep 2                                  571 non-null    object \n",
      " 5   Watched Ep 3                                  550 non-null    object \n",
      " 6   Watched Ep 4                                  607 non-null    object \n",
      " 7   Watched Ep 5                                  758 non-null    object \n",
      " 8   Watched Ep 6                                  738 non-null    object \n",
      " 9   Ranked Ep 1                                   835 non-null    float64\n",
      " 10  Ranked Ep 2                                   836 non-null    float64\n",
      " 11  Ranked Ep 3                                   835 non-null    float64\n",
      " 12  Ranked Ep 4                                   836 non-null    float64\n",
      " 13  Ranked Ep 5                                   836 non-null    float64\n",
      " 14  Ranked Ep 6                                   836 non-null    float64\n",
      " 15  Han Solo                                      829 non-null    object \n",
      " 16  Luke Skywalker                                831 non-null    object \n",
      " 17  Princess Leia Organa                          831 non-null    object \n",
      " 18  Anakin Skywalker                              823 non-null    object \n",
      " 19  Obi Wan Kenobi                                825 non-null    object \n",
      " 20  Emperor Palpatine                             814 non-null    object \n",
      " 21  Darth Vader                                   826 non-null    object \n",
      " 22  Lando Calrissian                              820 non-null    object \n",
      " 23  Boba Fett                                     812 non-null    object \n",
      " 24  C-3P0                                         827 non-null    object \n",
      " 25  R2-D2                                         830 non-null    object \n",
      " 26  Jar Jar Binks                                 821 non-null    object \n",
      " 27  Padme Amidala                                 814 non-null    object \n",
      " 28  Yoda                                          826 non-null    object \n",
      " 29  Which character shot first?                   828 non-null    object \n",
      " 30  Are you familiar with the Expanded Universe?  828 non-null    object \n",
      " 31  Are you an Expanded Universe fan?             213 non-null    object \n",
      " 32  Are you a Star Trek fan?                      1068 non-null   object \n",
      " 33  Gender                                        1046 non-null   object \n",
      " 34  Age                                           1046 non-null   object \n",
      " 35  Household Income                              858 non-null    object \n",
      " 36  Education                                     1036 non-null   object \n",
      " 37  Location (Census Region)                      1043 non-null   object \n",
      "dtypes: float64(6), int64(1), object(31)\n",
      "memory usage: 352.2+ KB\n"
     ]
    }
   ],
   "source": [
    "star_wars.info(verbose=True)"
   ]
  },
  {
   "cell_type": "markdown",
   "id": "69040963",
   "metadata": {},
   "source": [
    "Data type conversions need to be made. \n",
    "- `Yes` and `No` can be converted into boolean types. \n",
    "- Similarly, whether the film was watched or not can also be converted into boolean. \n",
    "- The character favorabililty string responses can be converted to `int` values from `1` for `Very favorably` to `6` for `Unfamiliar (N/A)` or `nan`."
   ]
  },
  {
   "cell_type": "markdown",
   "id": "128d7952",
   "metadata": {},
   "source": [
    "### 3.2.1 Clean and map Yes/No columns"
   ]
  },
  {
   "cell_type": "code",
   "execution_count": 10,
   "id": "5e1dd137",
   "metadata": {},
   "outputs": [
    {
     "name": "stdout",
     "output_type": "stream",
     "text": [
      "[3292879998 3292879538 3292765271 ... 3288375286 3288373068 3288372923]\n",
      "['Yes' 'No']\n",
      "['Yes' nan 'No']\n",
      "['Star Wars: Episode I  The Phantom Menace' nan]\n",
      "['Star Wars: Episode II  Attack of the Clones' nan]\n",
      "['Star Wars: Episode III  Revenge of the Sith' nan]\n",
      "['Star Wars: Episode IV  A New Hope' nan]\n",
      "['Star Wars: Episode V The Empire Strikes Back' nan]\n",
      "['Star Wars: Episode VI Return of the Jedi' nan]\n",
      "[ 3. nan  1.  5.  6.  4.  2.]\n",
      "[ 2. nan  6.  4.  5.  1.  3.]\n",
      "[ 1. nan  3.  6.  4.  5.  2.]\n",
      "[ 4. nan  2.  6.  3.  1.  5.]\n",
      "[ 5. nan  4.  1.  2.  3.  6.]\n",
      "[ 6. nan  3.  2.  1.  4.  5.]\n",
      "['Very favorably' nan 'Somewhat favorably'\n",
      " 'Neither favorably nor unfavorably (neutral)' 'Somewhat unfavorably'\n",
      " 'Unfamiliar (N/A)' 'Very unfavorably']\n",
      "['Very favorably' nan 'Somewhat favorably' 'Somewhat unfavorably'\n",
      " 'Neither favorably nor unfavorably (neutral)' 'Very unfavorably'\n",
      " 'Unfamiliar (N/A)']\n",
      "['Very favorably' nan 'Somewhat favorably' 'Somewhat unfavorably'\n",
      " 'Neither favorably nor unfavorably (neutral)' 'Very unfavorably'\n",
      " 'Unfamiliar (N/A)']\n",
      "['Very favorably' nan 'Somewhat favorably' 'Somewhat unfavorably'\n",
      " 'Neither favorably nor unfavorably (neutral)' 'Very unfavorably'\n",
      " 'Unfamiliar (N/A)']\n",
      "['Very favorably' nan 'Somewhat favorably' 'Very unfavorably'\n",
      " 'Neither favorably nor unfavorably (neutral)' 'Somewhat unfavorably'\n",
      " 'Unfamiliar (N/A)']\n",
      "['Very favorably' nan 'Unfamiliar (N/A)' 'Somewhat favorably'\n",
      " 'Very unfavorably' 'Neither favorably nor unfavorably (neutral)'\n",
      " 'Somewhat unfavorably']\n",
      "['Very favorably' nan 'Unfamiliar (N/A)' 'Somewhat favorably'\n",
      " 'Somewhat unfavorably' 'Very unfavorably'\n",
      " 'Neither favorably nor unfavorably (neutral)']\n",
      "['Unfamiliar (N/A)' nan 'Somewhat favorably'\n",
      " 'Neither favorably nor unfavorably (neutral)' 'Very favorably'\n",
      " 'Somewhat unfavorably' 'Very unfavorably']\n",
      "['Unfamiliar (N/A)' nan 'Somewhat unfavorably' 'Very favorably'\n",
      " 'Somewhat favorably' 'Neither favorably nor unfavorably (neutral)'\n",
      " 'Very unfavorably']\n",
      "['Very favorably' nan 'Unfamiliar (N/A)' 'Somewhat favorably'\n",
      " 'Neither favorably nor unfavorably (neutral)' 'Somewhat unfavorably'\n",
      " 'Very unfavorably']\n",
      "['Very favorably' nan 'Unfamiliar (N/A)' 'Somewhat favorably'\n",
      " 'Neither favorably nor unfavorably (neutral)' 'Somewhat unfavorably'\n",
      " 'Very unfavorably']\n",
      "['Very favorably' nan 'Unfamiliar (N/A)' 'Very unfavorably'\n",
      " 'Somewhat favorably' 'Somewhat unfavorably'\n",
      " 'Neither favorably nor unfavorably (neutral)']\n",
      "['Very favorably' nan 'Unfamiliar (N/A)' 'Somewhat favorably'\n",
      " 'Neither favorably nor unfavorably (neutral)' 'Somewhat unfavorably'\n",
      " 'Very unfavorably']\n",
      "['Very favorably' nan 'Unfamiliar (N/A)' 'Somewhat favorably'\n",
      " 'Very unfavorably' 'Neither favorably nor unfavorably (neutral)'\n",
      " 'Somewhat unfavorably']\n",
      "[\"I don't understand this question\" nan 'Greedo' 'Han']\n",
      "['Yes' nan 'No']\n",
      "['No' nan 'Yes']\n",
      "['No' 'Yes' nan]\n",
      "['Male' nan 'Female']\n",
      "['18-29' nan '30-44' '> 60' '45-60']\n",
      "[nan '$0 - $24,999' '$100,000 - $149,999' '$25,000 - $49,999'\n",
      " '$50,000 - $99,999' '$150,000+']\n",
      "['High school degree' 'Bachelor degree' 'Some college or Associate degree'\n",
      " nan 'Graduate degree' 'Less than high school degree']\n",
      "['South Atlantic' 'West South Central' 'West North Central'\n",
      " 'Middle Atlantic' 'East North Central' 'Pacific' nan 'Mountain'\n",
      " 'New England' 'East South Central']\n"
     ]
    }
   ],
   "source": [
    "for column in star_wars.columns:\n",
    "    print(star_wars[column].unique())"
   ]
  },
  {
   "cell_type": "markdown",
   "id": "ab5e8b4b",
   "metadata": {},
   "source": [
    "Most of the columns can be converted into boolean format, i.e. `True` for `Yes`, `False` for `No`. We can also convert the columns for if they have seen a particular movie to `True` and `False` if not. "
   ]
  },
  {
   "cell_type": "code",
   "execution_count": 11,
   "id": "513b59d9",
   "metadata": {},
   "outputs": [],
   "source": [
    "bool_yes_no = {\n",
    "    \"Yes\": True,\n",
    "    \"No\": False,\n",
    "    np.NaN: False,\n",
    "}"
   ]
  },
  {
   "cell_type": "markdown",
   "id": "f9720579",
   "metadata": {},
   "source": [
    "We first convert the `Yes` or `No` questions. If no response was provided, we consider it to be `No`."
   ]
  },
  {
   "cell_type": "code",
   "execution_count": 12,
   "id": "f7455db4",
   "metadata": {},
   "outputs": [],
   "source": [
    "for column in [\n",
    "    'Have you seen at least one Star Wars film?',\n",
    "    'Are you a Star Wars fan?',\n",
    "    'Are you familiar with the Expanded Universe?',\n",
    "    'Are you an Expanded Universe fan?', \n",
    "    'Are you a Star Trek fan?'\n",
    "]:\n",
    "    star_wars[column] = star_wars[column].map(bool_yes_no)"
   ]
  },
  {
   "cell_type": "markdown",
   "id": "8bf0d0f1",
   "metadata": {},
   "source": [
    "We print the first converted column to check values."
   ]
  },
  {
   "cell_type": "code",
   "execution_count": 13,
   "id": "f064f316",
   "metadata": {},
   "outputs": [
    {
     "data": {
      "text/plain": [
       "Have you seen at least one Star Wars film?\n",
       "True     936\n",
       "False    250\n",
       "Name: count, dtype: int64"
      ]
     },
     "execution_count": 13,
     "metadata": {},
     "output_type": "execute_result"
    }
   ],
   "source": [
    "star_wars.iloc[:,1].value_counts()"
   ]
  },
  {
   "cell_type": "markdown",
   "id": "1e159902",
   "metadata": {},
   "source": [
    "We'll keep in mind to double check these values. Indicating `True` can be deemed invalid if the survey indicates `No` for all columns asking if a specific film has been seen."
   ]
  },
  {
   "cell_type": "markdown",
   "id": "6f490d8b",
   "metadata": {},
   "source": [
    "### 3.2.2 Clean and map columns for watched movies"
   ]
  },
  {
   "cell_type": "markdown",
   "id": "4b0d8120",
   "metadata": {},
   "source": [
    "We then convert the columns for if the user has seen the film, columns at indices 3-8."
   ]
  },
  {
   "cell_type": "code",
   "execution_count": 14,
   "id": "feeeb544",
   "metadata": {},
   "outputs": [],
   "source": [
    "bool_watched_movie = {\n",
    "    'Star Wars: Episode I  The Phantom Menace': True,\n",
    "    'Star Wars: Episode II  Attack of the Clones': True,\n",
    "    'Star Wars: Episode III  Revenge of the Sith': True,\n",
    "    'Star Wars: Episode IV  A New Hope': True,\n",
    "    'Star Wars: Episode V The Empire Strikes Back': True,\n",
    "    'Star Wars: Episode VI Return of the Jedi': True,\n",
    "    np.NaN: False\n",
    "}"
   ]
  },
  {
   "cell_type": "code",
   "execution_count": 15,
   "id": "59c8b999",
   "metadata": {},
   "outputs": [],
   "source": [
    "for column in star_wars.columns[3:9]:\n",
    "    star_wars[column] = star_wars[column].map(bool_watched_movie)"
   ]
  },
  {
   "cell_type": "markdown",
   "id": "e91ae4bb",
   "metadata": {},
   "source": [
    "The first and last converted movie watched columns are printed to check values."
   ]
  },
  {
   "cell_type": "code",
   "execution_count": 16,
   "id": "2868c1db",
   "metadata": {},
   "outputs": [
    {
     "data": {
      "text/plain": [
       "Watched Ep 1\n",
       "True     673\n",
       "False    513\n",
       "Name: count, dtype: int64"
      ]
     },
     "execution_count": 16,
     "metadata": {},
     "output_type": "execute_result"
    }
   ],
   "source": [
    "star_wars.iloc[:,3].value_counts()"
   ]
  },
  {
   "cell_type": "code",
   "execution_count": 17,
   "id": "784171bf",
   "metadata": {},
   "outputs": [
    {
     "data": {
      "text/plain": [
       "Watched Ep 6\n",
       "True     738\n",
       "False    448\n",
       "Name: count, dtype: int64"
      ]
     },
     "execution_count": 17,
     "metadata": {},
     "output_type": "execute_result"
    }
   ],
   "source": [
    "star_wars.iloc[:,8].value_counts()"
   ]
  },
  {
   "cell_type": "markdown",
   "id": "75e83e00",
   "metadata": {},
   "source": [
    "### 3.2.3 Clean and map columns for character favorability"
   ]
  },
  {
   "cell_type": "markdown",
   "id": "e12c0a9d",
   "metadata": {},
   "source": [
    "We convert the character favorability strings to `int` values ranging from `1` to `6`. These columns reside in indices 15-28."
   ]
  },
  {
   "cell_type": "code",
   "execution_count": 18,
   "id": "c13a9e46",
   "metadata": {},
   "outputs": [],
   "source": [
    "bool_chars = {\n",
    "    \"Very favorably\":1,\n",
    "    \"Somewhat favorably\":2,\n",
    "    \"Neither favorably nor unfavorably (neutral)\":3,\n",
    "    \"Somewhat unfavorably\":4,\n",
    "    \"Very unfavorably\":5,\n",
    "    \"Unfamiliar (N/A)\":6,\n",
    "    np.NaN: 6\n",
    "}"
   ]
  },
  {
   "cell_type": "code",
   "execution_count": 19,
   "id": "2cef11b3",
   "metadata": {},
   "outputs": [],
   "source": [
    "for column in star_wars.columns[15:29]:\n",
    "    star_wars[column] = star_wars[column].map(bool_chars)"
   ]
  },
  {
   "cell_type": "markdown",
   "id": "d5bae9aa",
   "metadata": {},
   "source": [
    "## 3.3 Check order of Age values"
   ]
  },
  {
   "cell_type": "code",
   "execution_count": 20,
   "id": "33900d88",
   "metadata": {},
   "outputs": [
    {
     "data": {
      "text/plain": [
       "Age\n",
       "18-29    218\n",
       "30-44    268\n",
       "45-60    291\n",
       "> 60     269\n",
       "Name: count, dtype: int64"
      ]
     },
     "execution_count": 20,
     "metadata": {},
     "output_type": "execute_result"
    }
   ],
   "source": [
    "star_wars[\"Age\"].value_counts().sort_index()"
   ]
  },
  {
   "cell_type": "markdown",
   "id": "161053ad",
   "metadata": {},
   "source": [
    "It looks like the age ranges are correctly sorted numerically so nothing to do here."
   ]
  },
  {
   "cell_type": "markdown",
   "id": "afe94770",
   "metadata": {},
   "source": [
    "## 3.4 Check validity of respondents having watched at least one Star Wars film"
   ]
  },
  {
   "cell_type": "markdown",
   "id": "2b203336",
   "metadata": {},
   "source": [
    "We create a separate dataset to check for those who indicated they watched at least one Star Wars film, if the rest of their responses are valid, i.e. if they stated which specific movie(s) they watched."
   ]
  },
  {
   "cell_type": "code",
   "execution_count": 21,
   "id": "642e6f8b",
   "metadata": {},
   "outputs": [
    {
     "name": "stdout",
     "output_type": "stream",
     "text": [
      "936\n"
     ]
    }
   ],
   "source": [
    "seen_star_wars = star_wars[star_wars[\"Have you seen at least one Star Wars film?\"] == True]\n",
    "print(len(seen_star_wars))"
   ]
  },
  {
   "cell_type": "code",
   "execution_count": 22,
   "id": "fa6880dc",
   "metadata": {},
   "outputs": [
    {
     "name": "stdout",
     "output_type": "stream",
     "text": [
      "250\n"
     ]
    }
   ],
   "source": [
    "not_seen_star_wars = star_wars[star_wars[\"Have you seen at least one Star Wars film?\"] == False]\n",
    "print(len(not_seen_star_wars))"
   ]
  },
  {
   "cell_type": "code",
   "execution_count": 23,
   "id": "76b9079f",
   "metadata": {
    "scrolled": true
   },
   "outputs": [
    {
     "data": {
      "text/html": [
       "<div>\n",
       "<style scoped>\n",
       "    .dataframe tbody tr th:only-of-type {\n",
       "        vertical-align: middle;\n",
       "    }\n",
       "\n",
       "    .dataframe tbody tr th {\n",
       "        vertical-align: top;\n",
       "    }\n",
       "\n",
       "    .dataframe thead th {\n",
       "        text-align: right;\n",
       "    }\n",
       "</style>\n",
       "<table border=\"1\" class=\"dataframe\">\n",
       "  <thead>\n",
       "    <tr style=\"text-align: right;\">\n",
       "      <th></th>\n",
       "      <th>RespondentID</th>\n",
       "      <th>Have you seen at least one Star Wars film?</th>\n",
       "      <th>Are you a Star Wars fan?</th>\n",
       "      <th>Watched Ep 1</th>\n",
       "      <th>Watched Ep 2</th>\n",
       "      <th>Watched Ep 3</th>\n",
       "      <th>Watched Ep 4</th>\n",
       "      <th>Watched Ep 5</th>\n",
       "      <th>Watched Ep 6</th>\n",
       "      <th>Ranked Ep 1</th>\n",
       "      <th>...</th>\n",
       "      <th>Yoda</th>\n",
       "      <th>Which character shot first?</th>\n",
       "      <th>Are you familiar with the Expanded Universe?</th>\n",
       "      <th>Are you an Expanded Universe fan?</th>\n",
       "      <th>Are you a Star Trek fan?</th>\n",
       "      <th>Gender</th>\n",
       "      <th>Age</th>\n",
       "      <th>Household Income</th>\n",
       "      <th>Education</th>\n",
       "      <th>Location (Census Region)</th>\n",
       "    </tr>\n",
       "  </thead>\n",
       "  <tbody>\n",
       "    <tr>\n",
       "      <th>0</th>\n",
       "      <td>3292879998</td>\n",
       "      <td>True</td>\n",
       "      <td>True</td>\n",
       "      <td>True</td>\n",
       "      <td>True</td>\n",
       "      <td>True</td>\n",
       "      <td>True</td>\n",
       "      <td>True</td>\n",
       "      <td>True</td>\n",
       "      <td>3.0</td>\n",
       "      <td>...</td>\n",
       "      <td>1</td>\n",
       "      <td>I don't understand this question</td>\n",
       "      <td>True</td>\n",
       "      <td>False</td>\n",
       "      <td>False</td>\n",
       "      <td>Male</td>\n",
       "      <td>18-29</td>\n",
       "      <td>NaN</td>\n",
       "      <td>High school degree</td>\n",
       "      <td>South Atlantic</td>\n",
       "    </tr>\n",
       "    <tr>\n",
       "      <th>2</th>\n",
       "      <td>3292765271</td>\n",
       "      <td>True</td>\n",
       "      <td>False</td>\n",
       "      <td>True</td>\n",
       "      <td>True</td>\n",
       "      <td>True</td>\n",
       "      <td>False</td>\n",
       "      <td>False</td>\n",
       "      <td>False</td>\n",
       "      <td>1.0</td>\n",
       "      <td>...</td>\n",
       "      <td>6</td>\n",
       "      <td>I don't understand this question</td>\n",
       "      <td>False</td>\n",
       "      <td>False</td>\n",
       "      <td>False</td>\n",
       "      <td>Male</td>\n",
       "      <td>18-29</td>\n",
       "      <td>$0 - $24,999</td>\n",
       "      <td>High school degree</td>\n",
       "      <td>West North Central</td>\n",
       "    </tr>\n",
       "    <tr>\n",
       "      <th>3</th>\n",
       "      <td>3292763116</td>\n",
       "      <td>True</td>\n",
       "      <td>True</td>\n",
       "      <td>True</td>\n",
       "      <td>True</td>\n",
       "      <td>True</td>\n",
       "      <td>True</td>\n",
       "      <td>True</td>\n",
       "      <td>True</td>\n",
       "      <td>5.0</td>\n",
       "      <td>...</td>\n",
       "      <td>1</td>\n",
       "      <td>I don't understand this question</td>\n",
       "      <td>False</td>\n",
       "      <td>False</td>\n",
       "      <td>True</td>\n",
       "      <td>Male</td>\n",
       "      <td>18-29</td>\n",
       "      <td>$100,000 - $149,999</td>\n",
       "      <td>Some college or Associate degree</td>\n",
       "      <td>West North Central</td>\n",
       "    </tr>\n",
       "    <tr>\n",
       "      <th>4</th>\n",
       "      <td>3292731220</td>\n",
       "      <td>True</td>\n",
       "      <td>True</td>\n",
       "      <td>True</td>\n",
       "      <td>True</td>\n",
       "      <td>True</td>\n",
       "      <td>True</td>\n",
       "      <td>True</td>\n",
       "      <td>True</td>\n",
       "      <td>5.0</td>\n",
       "      <td>...</td>\n",
       "      <td>2</td>\n",
       "      <td>Greedo</td>\n",
       "      <td>True</td>\n",
       "      <td>False</td>\n",
       "      <td>False</td>\n",
       "      <td>Male</td>\n",
       "      <td>18-29</td>\n",
       "      <td>$100,000 - $149,999</td>\n",
       "      <td>Some college or Associate degree</td>\n",
       "      <td>West North Central</td>\n",
       "    </tr>\n",
       "    <tr>\n",
       "      <th>5</th>\n",
       "      <td>3292719380</td>\n",
       "      <td>True</td>\n",
       "      <td>True</td>\n",
       "      <td>True</td>\n",
       "      <td>True</td>\n",
       "      <td>True</td>\n",
       "      <td>True</td>\n",
       "      <td>True</td>\n",
       "      <td>True</td>\n",
       "      <td>1.0</td>\n",
       "      <td>...</td>\n",
       "      <td>1</td>\n",
       "      <td>Han</td>\n",
       "      <td>True</td>\n",
       "      <td>False</td>\n",
       "      <td>True</td>\n",
       "      <td>Male</td>\n",
       "      <td>18-29</td>\n",
       "      <td>$25,000 - $49,999</td>\n",
       "      <td>Bachelor degree</td>\n",
       "      <td>Middle Atlantic</td>\n",
       "    </tr>\n",
       "    <tr>\n",
       "      <th>6</th>\n",
       "      <td>3292684787</td>\n",
       "      <td>True</td>\n",
       "      <td>True</td>\n",
       "      <td>True</td>\n",
       "      <td>True</td>\n",
       "      <td>True</td>\n",
       "      <td>True</td>\n",
       "      <td>True</td>\n",
       "      <td>True</td>\n",
       "      <td>6.0</td>\n",
       "      <td>...</td>\n",
       "      <td>1</td>\n",
       "      <td>Han</td>\n",
       "      <td>True</td>\n",
       "      <td>False</td>\n",
       "      <td>False</td>\n",
       "      <td>Male</td>\n",
       "      <td>18-29</td>\n",
       "      <td>NaN</td>\n",
       "      <td>High school degree</td>\n",
       "      <td>East North Central</td>\n",
       "    </tr>\n",
       "    <tr>\n",
       "      <th>7</th>\n",
       "      <td>3292663732</td>\n",
       "      <td>True</td>\n",
       "      <td>True</td>\n",
       "      <td>True</td>\n",
       "      <td>True</td>\n",
       "      <td>True</td>\n",
       "      <td>True</td>\n",
       "      <td>True</td>\n",
       "      <td>True</td>\n",
       "      <td>4.0</td>\n",
       "      <td>...</td>\n",
       "      <td>1</td>\n",
       "      <td>Han</td>\n",
       "      <td>False</td>\n",
       "      <td>False</td>\n",
       "      <td>True</td>\n",
       "      <td>Male</td>\n",
       "      <td>18-29</td>\n",
       "      <td>NaN</td>\n",
       "      <td>High school degree</td>\n",
       "      <td>South Atlantic</td>\n",
       "    </tr>\n",
       "    <tr>\n",
       "      <th>8</th>\n",
       "      <td>3292654043</td>\n",
       "      <td>True</td>\n",
       "      <td>True</td>\n",
       "      <td>True</td>\n",
       "      <td>True</td>\n",
       "      <td>True</td>\n",
       "      <td>True</td>\n",
       "      <td>True</td>\n",
       "      <td>True</td>\n",
       "      <td>5.0</td>\n",
       "      <td>...</td>\n",
       "      <td>2</td>\n",
       "      <td>Han</td>\n",
       "      <td>False</td>\n",
       "      <td>False</td>\n",
       "      <td>False</td>\n",
       "      <td>Male</td>\n",
       "      <td>18-29</td>\n",
       "      <td>$0 - $24,999</td>\n",
       "      <td>Some college or Associate degree</td>\n",
       "      <td>South Atlantic</td>\n",
       "    </tr>\n",
       "    <tr>\n",
       "      <th>9</th>\n",
       "      <td>3292640424</td>\n",
       "      <td>True</td>\n",
       "      <td>False</td>\n",
       "      <td>False</td>\n",
       "      <td>True</td>\n",
       "      <td>False</td>\n",
       "      <td>False</td>\n",
       "      <td>False</td>\n",
       "      <td>False</td>\n",
       "      <td>1.0</td>\n",
       "      <td>...</td>\n",
       "      <td>1</td>\n",
       "      <td>I don't understand this question</td>\n",
       "      <td>False</td>\n",
       "      <td>False</td>\n",
       "      <td>False</td>\n",
       "      <td>Male</td>\n",
       "      <td>18-29</td>\n",
       "      <td>$25,000 - $49,999</td>\n",
       "      <td>Some college or Associate degree</td>\n",
       "      <td>Pacific</td>\n",
       "    </tr>\n",
       "    <tr>\n",
       "      <th>10</th>\n",
       "      <td>3292637870</td>\n",
       "      <td>True</td>\n",
       "      <td>False</td>\n",
       "      <td>False</td>\n",
       "      <td>False</td>\n",
       "      <td>False</td>\n",
       "      <td>False</td>\n",
       "      <td>False</td>\n",
       "      <td>False</td>\n",
       "      <td>NaN</td>\n",
       "      <td>...</td>\n",
       "      <td>6</td>\n",
       "      <td>NaN</td>\n",
       "      <td>False</td>\n",
       "      <td>False</td>\n",
       "      <td>False</td>\n",
       "      <td>NaN</td>\n",
       "      <td>NaN</td>\n",
       "      <td>NaN</td>\n",
       "      <td>NaN</td>\n",
       "      <td>NaN</td>\n",
       "    </tr>\n",
       "  </tbody>\n",
       "</table>\n",
       "<p>10 rows × 38 columns</p>\n",
       "</div>"
      ],
      "text/plain": [
       "    RespondentID  Have you seen at least one Star Wars film?  \\\n",
       "0     3292879998                                        True   \n",
       "2     3292765271                                        True   \n",
       "3     3292763116                                        True   \n",
       "4     3292731220                                        True   \n",
       "5     3292719380                                        True   \n",
       "6     3292684787                                        True   \n",
       "7     3292663732                                        True   \n",
       "8     3292654043                                        True   \n",
       "9     3292640424                                        True   \n",
       "10    3292637870                                        True   \n",
       "\n",
       "    Are you a Star Wars fan?  Watched Ep 1  Watched Ep 2  Watched Ep 3  \\\n",
       "0                       True          True          True          True   \n",
       "2                      False          True          True          True   \n",
       "3                       True          True          True          True   \n",
       "4                       True          True          True          True   \n",
       "5                       True          True          True          True   \n",
       "6                       True          True          True          True   \n",
       "7                       True          True          True          True   \n",
       "8                       True          True          True          True   \n",
       "9                      False         False          True         False   \n",
       "10                     False         False         False         False   \n",
       "\n",
       "    Watched Ep 4  Watched Ep 5  Watched Ep 6  Ranked Ep 1  ...  Yoda  \\\n",
       "0           True          True          True          3.0  ...     1   \n",
       "2          False         False         False          1.0  ...     6   \n",
       "3           True          True          True          5.0  ...     1   \n",
       "4           True          True          True          5.0  ...     2   \n",
       "5           True          True          True          1.0  ...     1   \n",
       "6           True          True          True          6.0  ...     1   \n",
       "7           True          True          True          4.0  ...     1   \n",
       "8           True          True          True          5.0  ...     2   \n",
       "9          False         False         False          1.0  ...     1   \n",
       "10         False         False         False          NaN  ...     6   \n",
       "\n",
       "         Which character shot first?  \\\n",
       "0   I don't understand this question   \n",
       "2   I don't understand this question   \n",
       "3   I don't understand this question   \n",
       "4                             Greedo   \n",
       "5                                Han   \n",
       "6                                Han   \n",
       "7                                Han   \n",
       "8                                Han   \n",
       "9   I don't understand this question   \n",
       "10                               NaN   \n",
       "\n",
       "    Are you familiar with the Expanded Universe?  \\\n",
       "0                                           True   \n",
       "2                                          False   \n",
       "3                                          False   \n",
       "4                                           True   \n",
       "5                                           True   \n",
       "6                                           True   \n",
       "7                                          False   \n",
       "8                                          False   \n",
       "9                                          False   \n",
       "10                                         False   \n",
       "\n",
       "    Are you an Expanded Universe fan?  Are you a Star Trek fan?  Gender  \\\n",
       "0                               False                     False    Male   \n",
       "2                               False                     False    Male   \n",
       "3                               False                      True    Male   \n",
       "4                               False                     False    Male   \n",
       "5                               False                      True    Male   \n",
       "6                               False                     False    Male   \n",
       "7                               False                      True    Male   \n",
       "8                               False                     False    Male   \n",
       "9                               False                     False    Male   \n",
       "10                              False                     False     NaN   \n",
       "\n",
       "      Age     Household Income                         Education  \\\n",
       "0   18-29                  NaN                High school degree   \n",
       "2   18-29         $0 - $24,999                High school degree   \n",
       "3   18-29  $100,000 - $149,999  Some college or Associate degree   \n",
       "4   18-29  $100,000 - $149,999  Some college or Associate degree   \n",
       "5   18-29    $25,000 - $49,999                   Bachelor degree   \n",
       "6   18-29                  NaN                High school degree   \n",
       "7   18-29                  NaN                High school degree   \n",
       "8   18-29         $0 - $24,999  Some college or Associate degree   \n",
       "9   18-29    $25,000 - $49,999  Some college or Associate degree   \n",
       "10    NaN                  NaN                               NaN   \n",
       "\n",
       "    Location (Census Region)  \n",
       "0             South Atlantic  \n",
       "2         West North Central  \n",
       "3         West North Central  \n",
       "4         West North Central  \n",
       "5            Middle Atlantic  \n",
       "6         East North Central  \n",
       "7             South Atlantic  \n",
       "8             South Atlantic  \n",
       "9                    Pacific  \n",
       "10                       NaN  \n",
       "\n",
       "[10 rows x 38 columns]"
      ]
     },
     "execution_count": 23,
     "metadata": {},
     "output_type": "execute_result"
    }
   ],
   "source": [
    "seen_star_wars.head(10)"
   ]
  },
  {
   "cell_type": "markdown",
   "id": "868df2c1",
   "metadata": {},
   "source": [
    "Respondent 10 indicated they watched a Star Wars movie but did not enter any of the remaining survey fields. We'll need to find and remove all respondents where all values in the `Watched` columns are `False`."
   ]
  },
  {
   "cell_type": "code",
   "execution_count": 24,
   "id": "4137fbb1",
   "metadata": {
    "scrolled": true
   },
   "outputs": [
    {
     "name": "stdout",
     "output_type": "stream",
     "text": [
      "[10, 80, 96, 105, 127, 129, 145, 180, 190, 197, 208, 210, 222, 230, 243, 251, 254, 268, 272, 277, 303, 314, 319, 322, 337, 352, 353, 371, 377, 379, 387, 390, 398, 401, 408, 410, 413, 417, 421, 427, 443, 447, 453, 470, 482, 487, 492, 496, 508, 511, 512, 525, 539, 544, 546, 573, 580, 583, 587, 611, 612, 614, 616, 624, 644, 646, 648, 688, 723, 748, 759, 786, 818, 823, 824, 825, 826, 842, 845, 866, 873, 886, 900, 933, 943, 969, 993, 1008, 1013, 1027, 1038, 1045, 1060, 1061, 1077, 1082, 1084, 1108, 1139, 1141, 1143]\n"
     ]
    }
   ],
   "source": [
    "false_positives = []\n",
    "\n",
    "for i in range(len(star_wars)):\n",
    "    count = 0\n",
    "    row = star_wars.iloc[i]\n",
    "    for column in range(3, 9):\n",
    "        if row[column] == False and row[1] == True:\n",
    "            count += 1\n",
    "            \n",
    "    if count == 6:\n",
    "        false_positives.append(i)\n",
    "        star_wars.iloc[i,1] = False\n",
    "        \n",
    "print(false_positives)\n",
    "        \n",
    "seen_star_wars = seen_star_wars.drop(index=false_positives)"
   ]
  },
  {
   "cell_type": "code",
   "execution_count": 25,
   "id": "86d0eda1",
   "metadata": {},
   "outputs": [
    {
     "data": {
      "text/plain": [
       "101"
      ]
     },
     "execution_count": 25,
     "metadata": {},
     "output_type": "execute_result"
    }
   ],
   "source": [
    "len(false_positives)"
   ]
  },
  {
   "cell_type": "markdown",
   "id": "a7da454c",
   "metadata": {},
   "source": [
    "There are 101 entries where the respondent said they watched a Star Wars film but did not specify which film. We remove these from the `seen_star_wars` count and add them to the `not_seen_star_wars` count."
   ]
  },
  {
   "cell_type": "code",
   "execution_count": 26,
   "id": "dbd40b43",
   "metadata": {},
   "outputs": [
    {
     "data": {
      "text/plain": [
       "835"
      ]
     },
     "execution_count": 26,
     "metadata": {},
     "output_type": "execute_result"
    }
   ],
   "source": [
    "len(seen_star_wars)"
   ]
  },
  {
   "cell_type": "code",
   "execution_count": 27,
   "id": "8e1c3c1e",
   "metadata": {},
   "outputs": [
    {
     "data": {
      "text/plain": [
       "Have you seen at least one Star Wars film?\n",
       "True     835\n",
       "False    351\n",
       "Name: count, dtype: int64"
      ]
     },
     "execution_count": 27,
     "metadata": {},
     "output_type": "execute_result"
    }
   ],
   "source": [
    "star_wars[\"Have you seen at least one Star Wars film?\"].value_counts()"
   ]
  },
  {
   "cell_type": "markdown",
   "id": "31517502",
   "metadata": {},
   "source": [
    "Accounting for the false positives, the number of respondents who have seen a Star Wars film decreases from 936 to 835. "
   ]
  },
  {
   "cell_type": "markdown",
   "id": "d2066346",
   "metadata": {},
   "source": [
    "# 4. Analyze the data"
   ]
  },
  {
   "cell_type": "markdown",
   "id": "4b34cf8a",
   "metadata": {},
   "source": [
    "## 4.1 Create functions to generate `Most Viewed` and `Highest Ranked` plots"
   ]
  },
  {
   "cell_type": "markdown",
   "id": "23f6a60c",
   "metadata": {},
   "source": [
    "Since we will explore the data using various segments of the population, we create functions and call them based on the different inputs."
   ]
  },
  {
   "cell_type": "code",
   "execution_count": 28,
   "id": "d1d23a6e",
   "metadata": {},
   "outputs": [],
   "source": [
    "# Generic and emphasized bar colors\n",
    "li = \"#d5bbff\" # light purple\n",
    "da = \"#6017d9\" # dark purple"
   ]
  },
  {
   "cell_type": "markdown",
   "id": "1cf54f78",
   "metadata": {},
   "source": [
    "### 4.1.1 Function to generate `Most Viewed` plot"
   ]
  },
  {
   "cell_type": "code",
   "execution_count": 29,
   "id": "c4747ca4",
   "metadata": {},
   "outputs": [],
   "source": [
    "def most_viewed(population, colors):\n",
    "    \"\"\"Generates plot showing most viewed movies in ascending order by episode.\n",
    "    \n",
    "    Args:\n",
    "    - population (function): name of the data set or subset\n",
    "    - colors (list): list of six strings either 'li' or 'da' to denote light or dark colors for each bar\n",
    "    \"\"\"\n",
    "    percents_seen = []\n",
    "    for i in range(1,7):\n",
    "        percent_seen = population[f\"Watched Ep {i}\"].sum() / len(population) * 100\n",
    "        percents_seen.append(percent_seen)\n",
    "\n",
    "    movies = [\n",
    "        \"I - The Phantom Menace\",\n",
    "        \"II - Attack of the Clones\",\n",
    "        \"III - Revenge of the Sith\",\n",
    "        \"IV - A New Hope\",\n",
    "        \"V - The Empire Strikes Back\",\n",
    "        \"VI - Return of the Jedi\"\n",
    "    ]\n",
    "\n",
    "    spines = [\"bottom\", \"top\", \"left\", \"right\"]\n",
    "\n",
    "    print(percents_seen)\n",
    "    print(movies)\n",
    "\n",
    "    fig, ax = plt.subplots(figsize = (5, 2), facecolor=\"#ffffff\")\n",
    "    bars = ax.barh(movies, percents_seen, height = 0.8, color = colors)\n",
    "    plt.gca().invert_yaxis()\n",
    "    ax.tick_params(left=False, bottom=False)\n",
    "    plt.yticks(fontname=\"Arial\", fontsize=11)\n",
    "    ax.bar_label(container=bars, fmt=\"{:.0f}%\", padding=5, fontname=\"Courier New\", fontsize=11)\n",
    "    ax.set_xticks([])\n",
    "    ax.set_facecolor(\"#ffffff\")\n",
    "\n",
    "    for spine in spines:\n",
    "        ax.spines[spine].set_visible(False)\n",
    "        \n",
    "    plt.suptitle(\"Most Viewed Star Wars Films\", x=0.0, y=1.22, fontname=\"Arial\", fontsize=16, fontweight=\"bold\")"
   ]
  },
  {
   "cell_type": "markdown",
   "id": "f3bdec8d",
   "metadata": {},
   "source": [
    "### 4.1.2 Function to generate `Highest Rated` plot"
   ]
  },
  {
   "cell_type": "code",
   "execution_count": 30,
   "id": "241817c4",
   "metadata": {},
   "outputs": [],
   "source": [
    "def highest_rated(population, colors):\n",
    "    \"\"\"Generates plot showing highest rated movies in ascending order by episode.\n",
    "    \n",
    "    Args:\n",
    "    - population (function): name of the data set or subset\n",
    "    - colors (list): list of six strings either 'li' or 'da' to denote light or dark colors for each bar\n",
    "    \"\"\"\n",
    "    \n",
    "    highest_rated = population[population.columns[9:15]].mean()\n",
    "    movies = [\n",
    "    \"I - The Phantom Menace\",\n",
    "    \"II - Attack of the Clones\",\n",
    "    \"III - Revenge of the Sith\",\n",
    "    \"IV - A New Hope\",\n",
    "    \"V - The Empire Strikes Back\",\n",
    "    \"VI - Return of the Jedi\"\n",
    "    ]\n",
    "\n",
    "    spines = [\"bottom\", \"top\", \"left\", \"right\"]\n",
    "\n",
    "    fig, ax = plt.subplots(figsize = (5, 2), facecolor=\"#ffffff\")\n",
    "    bars = ax.barh(movies, highest_rated, height = 0.8, color = colors)\n",
    "    plt.gca().invert_yaxis()\n",
    "    ax.tick_params(left=False, bottom=False)\n",
    "    plt.yticks(fontname=\"Arial\", fontsize=11)\n",
    "    ax.bar_label(container=bars, fmt=\"{:.2f}\", padding=5, fontname=\"Courier New\", fontsize=11)\n",
    "    ax.set_xticks([])\n",
    "    ax.set_facecolor(\"#ffffff\")\n",
    "    plt.suptitle(\"Average Rating of Star Wars Films\", x=0.09, y=1.22, fontname=\"Arial\", fontsize=16, fontweight=\"bold\")\n",
    "\n",
    "\n",
    "    for spine in spines:\n",
    "        ax.spines[spine].set_visible(False)"
   ]
  },
  {
   "cell_type": "markdown",
   "id": "c4056ef7",
   "metadata": {},
   "source": [
    "## 4.2 Respondents who have seen at least one Star Wars film"
   ]
  },
  {
   "cell_type": "markdown",
   "id": "7fd94dfe",
   "metadata": {},
   "source": [
    "### 4.2.1 Find the most viewed movies"
   ]
  },
  {
   "cell_type": "code",
   "execution_count": 31,
   "id": "2969b538",
   "metadata": {},
   "outputs": [
    {
     "data": {
      "text/plain": [
       "Have you seen at least one Star Wars film?\n",
       "True     0.704047\n",
       "False    0.295953\n",
       "Name: proportion, dtype: float64"
      ]
     },
     "execution_count": 31,
     "metadata": {},
     "output_type": "execute_result"
    }
   ],
   "source": [
    "star_wars[\"Have you seen at least one Star Wars film?\"].value_counts(normalize=True)"
   ]
  },
  {
   "cell_type": "markdown",
   "id": "5594a38a",
   "metadata": {},
   "source": [
    "Recall we had 1,186 entries in the dataset. \n",
    "\n",
    "Accounting for false positives, 70% (835 respondents) have seen a Star Wars film while 30% (351 respondents) have not."
   ]
  },
  {
   "cell_type": "code",
   "execution_count": 32,
   "id": "231f7c46",
   "metadata": {},
   "outputs": [
    {
     "name": "stdout",
     "output_type": "stream",
     "text": [
      "[80.59880239520957, 68.38323353293413, 65.86826347305389, 72.69461077844312, 90.77844311377245, 88.38323353293414]\n",
      "['I - The Phantom Menace', 'II - Attack of the Clones', 'III - Revenge of the Sith', 'IV - A New Hope', 'V - The Empire Strikes Back', 'VI - Return of the Jedi']\n"
     ]
    },
    {
     "data": {
      "text/plain": [
       "Text(0.06, 1.12, 'Of 835 respondents who watched at least one Star Wars film')"
      ]
     },
     "execution_count": 32,
     "metadata": {},
     "output_type": "execute_result"
    },
    {
     "data": {
      "image/png": "[encoded data removed]",
      "text/plain": [
       "<Figure size 500x200 with 1 Axes>"
      ]
     },
     "metadata": {},
     "output_type": "display_data"
    }
   ],
   "source": [
    "most_viewed(seen_star_wars, [li,li,li,li,da,li])\n",
    "plt.title(f\"Of {len(seen_star_wars)} respondents who watched at least one Star Wars film\", x=0.06, y=1.12, fontname=\"Arial\", fontsize=13)"
   ]
  },
  {
   "cell_type": "markdown",
   "id": "8b61e153",
   "metadata": {},
   "source": [
    "### 4.2.2 Find the highest ranked movies"
   ]
  },
  {
   "cell_type": "code",
   "execution_count": 33,
   "id": "1239938f",
   "metadata": {
    "scrolled": true
   },
   "outputs": [
    {
     "data": {
      "text/plain": [
       "Text(0.11, 1.12, 'Of 835 respondents who watched at least one Star Wars film')"
      ]
     },
     "execution_count": 33,
     "metadata": {},
     "output_type": "execute_result"
    },
    {
     "data": {
      "image/png": "[encoded data removed]",
      "text/plain": [
       "<Figure size 500x200 with 1 Axes>"
      ]
     },
     "metadata": {},
     "output_type": "display_data"
    }
   ],
   "source": [
    "highest_rated(seen_star_wars, [li,li,li,li,da,li])\n",
    "plt.title(f\"Of {len(seen_star_wars)} respondents who watched at least one Star Wars film\", x=0.11, y=1.12, fontname=\"Arial\", fontsize=13)"
   ]
  },
  {
   "cell_type": "markdown",
   "id": "725a9b47",
   "metadata": {},
   "source": [
    "Of all the respondents who have watched at least one Star Wars film, 91% of them have watched the 2nd released film (V - The Empire Strikes Back). It also appears that most respondents who have seen at least one film haven't finished the series. Episodes 2 and 3 were the last to release in the series and were the least watched.\n",
    "\n",
    "Movies that had the most watchers also had the highest ratings. In this case, Episodes 5 and 6 had the highest number of watchers and highest average ratings. Recall that movies rank from `1` for `most favorite` to `6` for `least favorite`."
   ]
  },
  {
   "cell_type": "markdown",
   "id": "cecd4ea7",
   "metadata": {},
   "source": [
    "## 4.3 Respondents who have seen all six films"
   ]
  },
  {
   "cell_type": "markdown",
   "id": "07ff973a",
   "metadata": {},
   "source": [
    "### 4.3.1 Find the highest rated movies"
   ]
  },
  {
   "cell_type": "markdown",
   "id": "a1f59173",
   "metadata": {},
   "source": [
    "For credibility, we include responses from only those who have seen all six films. This is so we exclude the responses where the watcher provided ratings for all six films despite not having seen all of them."
   ]
  },
  {
   "cell_type": "code",
   "execution_count": 34,
   "id": "175ac73f",
   "metadata": {},
   "outputs": [
    {
     "name": "stdout",
     "output_type": "stream",
     "text": [
      "471\n",
      "0.3971332209106239\n"
     ]
    }
   ],
   "source": [
    "seen_all_movies = star_wars\n",
    "\n",
    "for i in range(len(star_wars)):\n",
    "    count = 0\n",
    "    row = star_wars.iloc[i]\n",
    "    for column in range(3, 9):\n",
    "        if row[column] == True and row[1] == True:\n",
    "            count += 1\n",
    "            \n",
    "    if count != 6:\n",
    "        seen_all_movies = seen_all_movies.drop(index=i)\n",
    "\n",
    "print(len(seen_all_movies))\n",
    "print(len(seen_all_movies)/len(star_wars))"
   ]
  },
  {
   "cell_type": "markdown",
   "id": "b7e2a79f",
   "metadata": {},
   "source": [
    "There are 471 respondents who have seen all six films."
   ]
  },
  {
   "cell_type": "code",
   "execution_count": 35,
   "id": "05afb204",
   "metadata": {
    "scrolled": true
   },
   "outputs": [],
   "source": [
    "%%capture\n",
    "most_viewed(seen_all_movies, [li,li,li,li,li,li])\n",
    "plt.title(f\"Of {len(seen_all_movies)} Star Wars fans who watched all six Star Wars films\", x=0.04, y=1.12, fontname=\"Arial\", fontsize=13)"
   ]
  },
  {
   "cell_type": "markdown",
   "id": "2a8b2ccd",
   "metadata": {},
   "source": [
    "The plot above mainly serves to assert the visual is working correctly so it is hidden by default."
   ]
  },
  {
   "cell_type": "markdown",
   "id": "a7dc5db6",
   "metadata": {},
   "source": [
    "We then take the average of all the rating columns grouped by film to find the average rating and plot them."
   ]
  },
  {
   "cell_type": "code",
   "execution_count": 36,
   "id": "5b921bba",
   "metadata": {},
   "outputs": [
    {
     "data": {
      "text/plain": [
       "Text(0.07, 1.12, 'Of 471 respondents who watched all six Star Wars films')"
      ]
     },
     "execution_count": 36,
     "metadata": {},
     "output_type": "execute_result"
    },
    {
     "data": {
      "image/png": "[encoded data removed]",
      "text/plain": [
       "<Figure size 500x200 with 1 Axes>"
      ]
     },
     "metadata": {},
     "output_type": "display_data"
    }
   ],
   "source": [
    "highest_rated(seen_all_movies, [li,li,li,li,da,li])\n",
    "plt.title(f\"Of {len(seen_all_movies)} respondents who watched all six Star Wars films\", x=0.07, y=1.12, fontname=\"Arial\", fontsize=13)"
   ]
  },
  {
   "cell_type": "markdown",
   "id": "d8bb5b0d",
   "metadata": {},
   "source": [
    "The lower the number, the higher the rank as we recall `Rank #1` being the most favorite and `Rank #6` being the least favorite. Here, we see Episode 5 has the highest average rank. Notably, the first three films released (Episodes 4, 5, and 6) are all highly rated. Those who had seen all six films considered the most recent films (Episodes 1, 2, and 3) to be equally their least favorites, ranking them in an average of 4th place out of all 6 films."
   ]
  },
  {
   "cell_type": "markdown",
   "id": "bdf758f3",
   "metadata": {},
   "source": [
    " # 5. Explore the data by binary segments"
   ]
  },
  {
   "cell_type": "markdown",
   "id": "89f6a072",
   "metadata": {},
   "source": [
    "While we obtained some findings based on the general population of Star Wars watchers, we narrow our focus down into more specific segments, namely Star Wars fans, Star Trek fans, gender, and age."
   ]
  },
  {
   "cell_type": "markdown",
   "id": "cb561930",
   "metadata": {},
   "source": [
    "## 5.1 Star Wars fans"
   ]
  },
  {
   "cell_type": "code",
   "execution_count": 37,
   "id": "f39b8ea1",
   "metadata": {},
   "outputs": [
    {
     "data": {
      "text/plain": [
       "0"
      ]
     },
     "execution_count": 37,
     "metadata": {},
     "output_type": "execute_result"
    }
   ],
   "source": [
    "len(not_seen_star_wars[not_seen_star_wars[\"Are you a Star Wars fan?\"]==True])"
   ]
  },
  {
   "cell_type": "markdown",
   "id": "88fc1366",
   "metadata": {},
   "source": [
    "We confirm that any one who has not seen a Star Wars film did not label themselves a fan of the series."
   ]
  },
  {
   "cell_type": "code",
   "execution_count": 38,
   "id": "de3d42d0",
   "metadata": {
    "scrolled": true
   },
   "outputs": [
    {
     "name": "stdout",
     "output_type": "stream",
     "text": [
      "Number of respondents who have seen at least one Star Wars film: 835\n",
      "Number of watchers who identify as Star Wars fan: 552\n",
      "66% of those who watched at least one Star Wars movie identified themselves as a Star Wars fan.\n",
      "47% of respondents are Star Wars fans.\n"
     ]
    }
   ],
   "source": [
    "star_wars_fans = seen_star_wars[seen_star_wars[\"Are you a Star Wars fan?\"]==True]\n",
    "\n",
    "print(f\"Number of respondents who have seen at least one Star Wars film: {len(seen_star_wars)}\")\n",
    "print(f\"Number of watchers who identify as Star Wars fan: {len(star_wars_fans)}\")\n",
    "print(f\"{round(len(star_wars_fans)/len(seen_star_wars)*100)}% of those who watched at least one Star Wars movie identified themselves as a Star Wars fan.\")\n",
    "print(f\"{round(len(star_wars_fans)/len(star_wars)*100)}% of respondents are Star Wars fans.\")"
   ]
  },
  {
   "cell_type": "code",
   "execution_count": 39,
   "id": "46937fce",
   "metadata": {},
   "outputs": [
    {
     "name": "stdout",
     "output_type": "stream",
     "text": [
      "[90.57971014492753, 83.87681159420289, 81.52173913043478, 87.5, 97.46376811594203, 97.28260869565217]\n",
      "['I - The Phantom Menace', 'II - Attack of the Clones', 'III - Revenge of the Sith', 'IV - A New Hope', 'V - The Empire Strikes Back', 'VI - Return of the Jedi']\n"
     ]
    },
    {
     "data": {
      "text/plain": [
       "Text(0.09, 1.12, 'Of 552 Star Wars fans who watched at least one Star Wars film')"
      ]
     },
     "execution_count": 39,
     "metadata": {},
     "output_type": "execute_result"
    },
    {
     "data": {
      "image/png": "[encoded data removed]",
      "text/plain": [
       "<Figure size 500x200 with 1 Axes>"
      ]
     },
     "metadata": {},
     "output_type": "display_data"
    }
   ],
   "source": [
    "most_viewed(star_wars_fans, [li,li,li,li,da,da])\n",
    "plt.title(f\"Of {len(star_wars_fans)} Star Wars fans who watched at least one Star Wars film\", x=0.09, y=1.12, fontname=\"Arial\", fontsize=13)"
   ]
  },
  {
   "cell_type": "code",
   "execution_count": 40,
   "id": "1f4a2ee0",
   "metadata": {
    "scrolled": true
   },
   "outputs": [
    {
     "data": {
      "text/plain": [
       "Text(0.28, 1.12, 'Of 552 Star Wars fans who watched at least one Star Wars film')"
      ]
     },
     "execution_count": 40,
     "metadata": {},
     "output_type": "execute_result"
    },
    {
     "data": {
      "image/png": "[encoded data removed]",
      "text/plain": [
       "<Figure size 500x200 with 1 Axes>"
      ]
     },
     "metadata": {},
     "output_type": "display_data"
    }
   ],
   "source": [
    "highest_rated(star_wars_fans, [li,li,li,li,da,li])\n",
    "plt.title(f\"Of {len(star_wars_fans)} Star Wars fans who watched at least one Star Wars film\", x=0.28, y=1.12, fontname=\"Arial\", fontsize=13)"
   ]
  },
  {
   "cell_type": "markdown",
   "id": "bc6ab88e",
   "metadata": {},
   "source": [
    "Mostly all those who identified themselves as Star Wars fans have watched Episodes 5 and 6. In line with the other segmented populations explored thus far (general population, respondents who have seen at least one film, and respondents who have seen all six films), Episode 5 had the highest average rating while Episodes 1-3 essentially tied for 4th."
   ]
  },
  {
   "cell_type": "markdown",
   "id": "cfd6018c",
   "metadata": {},
   "source": [
    "## 5.2 True Star Wars fans"
   ]
  },
  {
   "cell_type": "markdown",
   "id": "b5068053",
   "metadata": {},
   "source": [
    "We group up those who have seen all six movies and identify as a Star Wars fan, labeling them as `true` Star Wars fans."
   ]
  },
  {
   "cell_type": "code",
   "execution_count": 41,
   "id": "58518f2b",
   "metadata": {
    "scrolled": true
   },
   "outputs": [
    {
     "name": "stdout",
     "output_type": "stream",
     "text": [
      "Number of respondents who have seen all six films: 471\n",
      "Number of all six movie watchers who identify as Star Wars fan: 411\n",
      "87% of those who watched all six movies classified themselves as a Star Wars fan.\n",
      "40% of respondents have watched all six movies.\n",
      "35% of respondents have watched all six movies and identified themselves as Star Wars fans.\n"
     ]
    }
   ],
   "source": [
    "true_star_wars_fans = seen_all_movies[seen_all_movies[\"Are you a Star Wars fan?\"]==True]\n",
    "\n",
    "print(f\"Number of respondents who have seen all six films: {len(seen_all_movies)}\")\n",
    "print(f\"Number of all six movie watchers who identify as Star Wars fan: {len(true_star_wars_fans)}\")\n",
    "print(f\"{round(len(true_star_wars_fans)/len(seen_all_movies)*100)}% of those who watched all six movies classified themselves as a Star Wars fan.\")\n",
    "print(f\"{round(len(seen_all_movies)/len(star_wars)*100)}% of respondents have watched all six movies.\")\n",
    "print(f\"{round(len(true_star_wars_fans)/len(star_wars)*100)}% of respondents have watched all six movies and identified themselves as Star Wars fans.\")"
   ]
  },
  {
   "cell_type": "code",
   "execution_count": 42,
   "id": "b5c02a2f",
   "metadata": {
    "scrolled": true
   },
   "outputs": [],
   "source": [
    "%%capture\n",
    "most_viewed(true_star_wars_fans, [li,li,li,da,li,li])\n",
    "plt.title(f\"Of {len(true_star_wars_fans)} Star Wars fans who watched all six Star Wars films\", x=0.04, y=1.12, fontname=\"Arial\", fontsize=13)"
   ]
  },
  {
   "cell_type": "markdown",
   "id": "1e355f16",
   "metadata": {},
   "source": [
    "The plot above mainly serves to assert the visual is working correctly so it is hidden by default."
   ]
  },
  {
   "cell_type": "code",
   "execution_count": 43,
   "id": "718622e7",
   "metadata": {
    "scrolled": true
   },
   "outputs": [
    {
     "data": {
      "text/plain": [
       "Text(0.08, 1.12, 'Of 411 Star Wars fans who watched all six Star Wars films')"
      ]
     },
     "execution_count": 43,
     "metadata": {},
     "output_type": "execute_result"
    },
    {
     "data": {
      "image/png": "[encoded data removed]",
      "text/plain": [
       "<Figure size 500x200 with 1 Axes>"
      ]
     },
     "metadata": {},
     "output_type": "display_data"
    }
   ],
   "source": [
    "highest_rated(true_star_wars_fans, [li,li,li,li,da,li])\n",
    "plt.title(f\"Of {len(true_star_wars_fans)} Star Wars fans who watched all six Star Wars films\", x=0.08, y=1.12, fontname=\"Arial\", fontsize=13)"
   ]
  },
  {
   "cell_type": "markdown",
   "id": "a30450e0",
   "metadata": {},
   "source": [
    "Mostly all those who identified themselves as Star Wars fans have watched Episodes 5 and 6. In line with the other segmented populations explored thus far (general population, respondents who have seen at least one film, and respondents who have seen all six films), Episode 5 had the highest average rating while Episodes 1-3 essentially tied for 4th."
   ]
  },
  {
   "cell_type": "markdown",
   "id": "f18491a0",
   "metadata": {},
   "source": [
    "## 5.3 Star Trek fans"
   ]
  },
  {
   "cell_type": "code",
   "execution_count": 44,
   "id": "45bcaa9c",
   "metadata": {
    "scrolled": true
   },
   "outputs": [
    {
     "name": "stdout",
     "output_type": "stream",
     "text": [
      "Number of respondents who identify as Star Trek fan: 415\n",
      "\n",
      "Number of respondents who have seen at least one Star Wars film: 835\n",
      "50% of those who have seen a Star Wars film identify as a Star Trek fan.\n",
      "\n",
      "Number of respondents who have seen all six Star Wars films: 471\n",
      "88% of those who have seen all six Star Wars films identify as a Star Trek fan.\n",
      "35% of respondents identified themselves as Star Trek fans.\n"
     ]
    }
   ],
   "source": [
    "star_trek_fans = seen_star_wars[seen_star_wars[\"Are you a Star Trek fan?\"]==True]\n",
    "\n",
    "print(f\"Number of respondents who identify as Star Trek fan: {len(star_trek_fans)}\")\n",
    "\n",
    "print(f\"\\nNumber of respondents who have seen at least one Star Wars film: {len(seen_star_wars)}\")\n",
    "print(f\"{round(len(star_trek_fans)/len(seen_star_wars)*100)}% of those who have seen a Star Wars film identify as a Star Trek fan.\")\n",
    "\n",
    "print(f\"\\nNumber of respondents who have seen all six Star Wars films: {len(seen_all_movies)}\")\n",
    "print(f\"{round(len(star_trek_fans)/len(seen_all_movies)*100)}% of those who have seen all six Star Wars films identify as a Star Trek fan.\")\n",
    "print(f\"{round(len(star_trek_fans)/len(star_wars)*100)}% of respondents identified themselves as Star Trek fans.\")"
   ]
  },
  {
   "cell_type": "markdown",
   "id": "e176e806",
   "metadata": {},
   "source": [
    "Not surprisingly, a huge majority of Star Trek fans have seen all six Star Wars movies. This could be attributed to the similar sci-fi tones of both series."
   ]
  },
  {
   "cell_type": "code",
   "execution_count": 45,
   "id": "58aed5c9",
   "metadata": {},
   "outputs": [
    {
     "name": "stdout",
     "output_type": "stream",
     "text": [
      "[87.71084337349397, 80.96385542168674, 77.59036144578313, 82.40963855421687, 95.66265060240964, 95.42168674698796]\n",
      "['I - The Phantom Menace', 'II - Attack of the Clones', 'III - Revenge of the Sith', 'IV - A New Hope', 'V - The Empire Strikes Back', 'VI - Return of the Jedi']\n"
     ]
    },
    {
     "data": {
      "text/plain": [
       "Text(0.08, 1.12, 'Of 415 Star Trek fans who watched at least one Star Wars film')"
      ]
     },
     "execution_count": 45,
     "metadata": {},
     "output_type": "execute_result"
    },
    {
     "data": {
      "image/png": "[encoded data removed]",
      "text/plain": [
       "<Figure size 500x200 with 1 Axes>"
      ]
     },
     "metadata": {},
     "output_type": "display_data"
    }
   ],
   "source": [
    "most_viewed(star_trek_fans, [li,li,li,li,da,li])\n",
    "plt.title(f\"Of {len(star_trek_fans)} Star Trek fans who watched at least one Star Wars film\", x=0.08, y=1.12, fontname=\"Arial\", fontsize=13)"
   ]
  },
  {
   "cell_type": "code",
   "execution_count": 46,
   "id": "e9327184",
   "metadata": {
    "scrolled": false
   },
   "outputs": [
    {
     "data": {
      "text/plain": [
       "Text(0.12, 1.12, 'Of 415 Star Trek fans who watched at least one Star Wars film')"
      ]
     },
     "execution_count": 46,
     "metadata": {},
     "output_type": "execute_result"
    },
    {
     "data": {
      "image/png": "[encoded data removed]",
      "text/plain": [
       "<Figure size 500x200 with 1 Axes>"
      ]
     },
     "metadata": {},
     "output_type": "display_data"
    }
   ],
   "source": [
    "highest_rated(star_trek_fans, [li,li,li,li,da,li])\n",
    "plt.title(f\"Of {len(star_trek_fans)} Star Trek fans who watched at least one Star Wars film\", x=0.12, y=1.12, fontname=\"Arial\", fontsize=13)"
   ]
  },
  {
   "cell_type": "markdown",
   "id": "47044fc1",
   "metadata": {},
   "source": [
    "Star Trek fans share similar sentiments about the films with the other segmented populations explored. Episodes 5 and 6 were the most watched movies and also had the highest average ratings."
   ]
  },
  {
   "cell_type": "markdown",
   "id": "81a28f65",
   "metadata": {},
   "source": [
    "## 5.4 Gender"
   ]
  },
  {
   "cell_type": "code",
   "execution_count": 47,
   "id": "00010924",
   "metadata": {
    "scrolled": true
   },
   "outputs": [
    {
     "data": {
      "text/plain": [
       "Gender\n",
       "Female    0.524857\n",
       "Male      0.475143\n",
       "Name: proportion, dtype: float64"
      ]
     },
     "execution_count": 47,
     "metadata": {},
     "output_type": "execute_result"
    }
   ],
   "source": [
    "star_wars[\"Gender\"].value_counts(normalize=True)"
   ]
  },
  {
   "cell_type": "markdown",
   "id": "b5ef2b6b",
   "metadata": {},
   "source": [
    "There is an almost equal number of survey submissions for each gender with 52% female respondents and 48% male respondents."
   ]
  },
  {
   "cell_type": "code",
   "execution_count": 48,
   "id": "36593946",
   "metadata": {
    "scrolled": true
   },
   "outputs": [
    {
     "data": {
      "text/plain": [
       "Gender\n",
       "Male      0.515263\n",
       "Female    0.484737\n",
       "Name: proportion, dtype: float64"
      ]
     },
     "execution_count": 48,
     "metadata": {},
     "output_type": "execute_result"
    }
   ],
   "source": [
    "seen_star_wars[\"Gender\"].value_counts(normalize=True)"
   ]
  },
  {
   "cell_type": "markdown",
   "id": "faf51abb",
   "metadata": {},
   "source": [
    "Of those who have seen at least one Star Wars film, 52% of watchers are male."
   ]
  },
  {
   "cell_type": "code",
   "execution_count": 49,
   "id": "e79e282b",
   "metadata": {},
   "outputs": [
    {
     "data": {
      "text/plain": [
       "Gender\n",
       "Female    0.672566\n",
       "Male      0.327434\n",
       "Name: proportion, dtype: float64"
      ]
     },
     "execution_count": 49,
     "metadata": {},
     "output_type": "execute_result"
    }
   ],
   "source": [
    "not_seen_star_wars[\"Gender\"].value_counts(normalize=True)"
   ]
  },
  {
   "cell_type": "markdown",
   "id": "076f7fdb",
   "metadata": {},
   "source": [
    "Of those who have not seen any Star Wars films, 67% of them are female."
   ]
  },
  {
   "cell_type": "code",
   "execution_count": 50,
   "id": "f2303175",
   "metadata": {},
   "outputs": [
    {
     "data": {
      "text/plain": [
       "Gender\n",
       "Male      0.560074\n",
       "Female    0.439926\n",
       "Name: proportion, dtype: float64"
      ]
     },
     "execution_count": 50,
     "metadata": {},
     "output_type": "execute_result"
    }
   ],
   "source": [
    "star_wars[\"Gender\"][star_wars[\"Are you a Star Wars fan?\"]==True].value_counts(normalize=True)"
   ]
  },
  {
   "cell_type": "markdown",
   "id": "6cad611b",
   "metadata": {},
   "source": [
    "Of those who identified as a Star Wars fan, 56% of them are male."
   ]
  },
  {
   "cell_type": "code",
   "execution_count": 51,
   "id": "e29ef9c1",
   "metadata": {},
   "outputs": [
    {
     "data": {
      "text/plain": [
       "Gender\n",
       "Male      0.55792\n",
       "Female    0.44208\n",
       "Name: proportion, dtype: float64"
      ]
     },
     "execution_count": 51,
     "metadata": {},
     "output_type": "execute_result"
    }
   ],
   "source": [
    "star_wars[\"Gender\"][star_wars[\"Are you a Star Trek fan?\"]==True].value_counts(normalize=True)"
   ]
  },
  {
   "cell_type": "markdown",
   "id": "5f1422eb",
   "metadata": {},
   "source": [
    "Of those who identified as a Star Trek fan, 56% of them are male."
   ]
  },
  {
   "cell_type": "code",
   "execution_count": 52,
   "id": "d4f196c7",
   "metadata": {},
   "outputs": [
    {
     "data": {
      "text/plain": [
       "Gender\n",
       "Male      0.605459\n",
       "Female    0.394541\n",
       "Name: proportion, dtype: float64"
      ]
     },
     "execution_count": 52,
     "metadata": {},
     "output_type": "execute_result"
    }
   ],
   "source": [
    "seen_all_movies[\"Gender\"][seen_all_movies[\"Are you a Star Wars fan?\"]==True].value_counts(normalize=True)"
   ]
  },
  {
   "cell_type": "markdown",
   "id": "0ce8a2a4",
   "metadata": {},
   "source": [
    "Out of all the true Star Wars fans, 61% of them are male."
   ]
  },
  {
   "cell_type": "code",
   "execution_count": 53,
   "id": "08d3b150",
   "metadata": {
    "scrolled": true
   },
   "outputs": [
    {
     "data": {
      "text/plain": [
       "Gender\n",
       "Male      0.611111\n",
       "Female    0.388889\n",
       "Name: proportion, dtype: float64"
      ]
     },
     "execution_count": 53,
     "metadata": {},
     "output_type": "execute_result"
    }
   ],
   "source": [
    "seen_all_movies[\"Gender\"][(seen_all_movies[\"Are you a Star Wars fan?\"]==True) & (seen_all_movies[\"Are you a Star Trek fan?\"]==True)].value_counts(normalize=True)"
   ]
  },
  {
   "cell_type": "markdown",
   "id": "6b89f8a6",
   "metadata": {},
   "source": [
    "61% of those identifying as both Star Wars and true Star Trek fans are male."
   ]
  },
  {
   "cell_type": "code",
   "execution_count": 54,
   "id": "25758013",
   "metadata": {
    "scrolled": true
   },
   "outputs": [],
   "source": [
    "females = seen_star_wars[seen_star_wars[\"Gender\"]==\"Female\"]\n",
    "female_star_wars_fans = seen_star_wars[(seen_star_wars[\"Gender\"]==\"Female\") & (seen_star_wars[\"Are you a Star Wars fan?\"]==True)]\n",
    "female_true_star_wars_fans = seen_all_movies[(seen_all_movies[\"Gender\"]==\"Female\") & (seen_all_movies[\"Are you a Star Wars fan?\"]==True)]\n",
    "\n",
    "males = seen_star_wars[seen_star_wars[\"Gender\"]==\"Male\"]\n",
    "male_star_wars_fans = seen_star_wars[(seen_star_wars[\"Gender\"]==\"Male\") & (seen_star_wars[\"Are you a Star Wars fan?\"]==True)]\n",
    "male_true_star_wars_fans = seen_all_movies[(seen_all_movies[\"Gender\"]==\"Male\") & (seen_all_movies[\"Are you a Star Wars fan?\"]==True)]"
   ]
  },
  {
   "cell_type": "code",
   "execution_count": 55,
   "id": "97d27cb1",
   "metadata": {},
   "outputs": [],
   "source": [
    "populations = [females, female_star_wars_fans, female_true_star_wars_fans, males, male_star_wars_fans, male_true_star_wars_fans]"
   ]
  },
  {
   "cell_type": "code",
   "execution_count": 56,
   "id": "dcf3a05b",
   "metadata": {},
   "outputs": [
    {
     "data": {
      "image/png": "[encoded data removed]",
      "text/plain": [
       "<Figure size 1000x300 with 1 Axes>"
      ]
     },
     "metadata": {},
     "output_type": "display_data"
    },
    {
     "data": {
      "image/png": "[encoded data removed]",
      "text/plain": [
       "<Figure size 1000x300 with 1 Axes>"
      ]
     },
     "metadata": {},
     "output_type": "display_data"
    }
   ],
   "source": [
    "#--------------------------------------------------------------------------------------------#\n",
    "# Most Viewed Movies\n",
    "#--------------------------------------------------------------------------------------------#\n",
    "\n",
    "percents_seen = {}\n",
    "for i, pop in enumerate(populations):\n",
    "    values = []\n",
    "    for j in range(1,7):\n",
    "        percent_seen = pop[f\"Watched Ep {j}\"].sum() / len(pop)\n",
    "        values.append(percent_seen)\n",
    "\n",
    "    percents_seen[i] = values\n",
    "\n",
    "pop_1_values = percents_seen[0]\n",
    "pop_2_values = percents_seen[1]\n",
    "pop_3_values = percents_seen[2]\n",
    "pop_4_values = percents_seen[3]\n",
    "pop_5_values = percents_seen[4]\n",
    "pop_6_values = percents_seen[5]\n",
    "\n",
    "bar_positions = range(1,7)\n",
    "bar_width = 0.13\n",
    "\n",
    "fig, ax = plt.subplots(figsize = (10, 3), facecolor=\"#ffffff\")\n",
    "ax.bar(bar_positions, pop_1_values, width=bar_width, label='Female', color=\"#ffdab5\")\n",
    "ax.bar([p + bar_width for p in bar_positions], pop_2_values, width=bar_width, label='Female Star Wars Fans', color=\"#ff9c3b\")\n",
    "ax.bar([p + bar_width * 2 for p in bar_positions], pop_3_values, width=bar_width, label='Female True Star Wars Fans', color=\"#ff7e00\")\n",
    "ax.bar([p + bar_width * 3 for p in bar_positions], pop_4_values, width=bar_width, label='Male', color=\"#c2d2ff\")\n",
    "ax.bar([p + bar_width * 4 for p in bar_positions], pop_5_values, width=bar_width, label='Male Star Wars Fans', color=\"#6d8eff\")\n",
    "ax.bar([p + bar_width * 5 for p in bar_positions], pop_6_values, width=bar_width, label='Male True Star Wars Fans', color=\"#0042ff\")\n",
    "\n",
    "plt.yticks(fontsize=10)\n",
    "plt.ylim([0,1])\n",
    "ax.yaxis.set_major_formatter(FuncFormatter('{0:.0%}'.format))\n",
    "\n",
    "ax.set_xticks([])\n",
    "plt.xticks([p + bar_width * 2.5 for p in bar_positions], range(1,7), fontname=\"Arial\", fontsize=14)\n",
    "\n",
    "plt.title('Most Viewed Star Wars films', y=1.1, fontname=\"Arial\", fontsize=16, fontweight=\"bold\")\n",
    "\n",
    "legend=plt.legend(loc=\"upper right\", bbox_to_anchor=(1.3,1.1))\n",
    "plt.setp(legend.texts, family='Arial')\n",
    "\n",
    "plt.grid(axis=\"y\", linewidth=0.2)\n",
    "                  \n",
    "spines = [\"bottom\", \"top\", \"left\", \"right\"]\n",
    "for spine in spines:\n",
    "    ax.spines[spine].set_visible(False)\n",
    "ax.tick_params(left=False, bottom=False)\n",
    "\n",
    "plt.show()\n",
    "\n",
    "\n",
    "#--------------------------------------------------------------------------------------------#\n",
    "# Highest Rated Movies\n",
    "#--------------------------------------------------------------------------------------------#\n",
    "\n",
    "average_ratings = {}\n",
    "for i, pop in enumerate(populations):\n",
    "    average_rating = pop[pop.columns[9:15]].mean()\n",
    "    average_ratings[i] = average_rating\n",
    "\n",
    "pop_1_values = average_ratings[0]\n",
    "pop_2_values = average_ratings[1]\n",
    "pop_3_values = average_ratings[2]\n",
    "pop_4_values = average_ratings[3]\n",
    "pop_5_values = average_ratings[4]\n",
    "pop_6_values = average_ratings[5]\n",
    "\n",
    "bar_positions = range(1,7)\n",
    "bar_width = 0.13\n",
    "\n",
    "fig, ax = plt.subplots(figsize = (10, 3), facecolor=\"#ffffff\")\n",
    "ax.bar(bar_positions, pop_1_values, width=bar_width, label='Female', color=\"#ffdab5\")\n",
    "ax.bar([p + bar_width for p in bar_positions], pop_2_values, width=bar_width, label='Female Star Wars Fans', color=\"#ff9c3b\")\n",
    "ax.bar([p + bar_width * 2 for p in bar_positions], pop_3_values, width=bar_width, label='Female True Star Wars Fans', color=\"#ff7e00\")\n",
    "ax.bar([p + bar_width * 3 for p in bar_positions], pop_4_values, width=bar_width, label='Male', color=\"#c2d2ff\")\n",
    "ax.bar([p + bar_width * 4 for p in bar_positions], pop_5_values, width=bar_width, label='Male Star Wars Fans', color=\"#6d8eff\")\n",
    "ax.bar([p + bar_width * 5 for p in bar_positions], pop_6_values, width=bar_width, label='Male True Star Wars Fans', color=\"#0042ff\")\n",
    "\n",
    "plt.yticks(fontsize=10)\n",
    "plt.ylim([0,5])\n",
    "\n",
    "ax.set_xticks([])\n",
    "plt.xticks([p + bar_width * 2.5 for p in bar_positions], range(1,7), fontname=\"Arial\", fontsize=14)\n",
    "\n",
    "plt.title('Highest Rated Star Wars films', y=1.1, fontname=\"Arial\", fontsize=16, fontweight=\"bold\")\n",
    "\n",
    "legend=plt.legend(loc=\"upper right\", bbox_to_anchor=(1.32,1.1))\n",
    "plt.setp(legend.texts, family='Arial')\n",
    "\n",
    "plt.grid(axis=\"y\", linewidth=0.2)\n",
    "\n",
    "spines = [\"bottom\", \"top\", \"left\", \"right\"]\n",
    "for spine in spines:\n",
    "    ax.spines[spine].set_visible(False)\n",
    "ax.tick_params(left=False, bottom=False)\n",
    "\n",
    "plt.show()"
   ]
  },
  {
   "cell_type": "markdown",
   "id": "2e6cdc92",
   "metadata": {},
   "source": [
    "Those who identified as Star Wars fans viewed more Star Wars movies than those who did not. The percentage of males who watched each Star Wars movie for every Star Wars fan category is higher than the percentage of females in each category. \n",
    "\n",
    "Star Wars fans rated least favorite movies lower than non-Star Wars fans and rated most favorite movies higher than non-Star Wars fans on average. We see across the board that the highest ranking movie across the board is Episode 5. The least favorites among all categories are Episodes 1, 2, and 3."
   ]
  },
  {
   "cell_type": "markdown",
   "id": "e71b02b7",
   "metadata": {},
   "source": [
    "## 5.5 Education"
   ]
  },
  {
   "cell_type": "code",
   "execution_count": 57,
   "id": "b70502c5",
   "metadata": {},
   "outputs": [
    {
     "data": {
      "text/plain": [
       "Education\n",
       "Some college or Associate degree    0.316602\n",
       "Bachelor degree                     0.309846\n",
       "Graduate degree                     0.265444\n",
       "High school degree                  0.101351\n",
       "Less than high school degree        0.006757\n",
       "Name: proportion, dtype: float64"
      ]
     },
     "execution_count": 57,
     "metadata": {},
     "output_type": "execute_result"
    }
   ],
   "source": [
    "star_wars[\"Education\"].value_counts(normalize=True)"
   ]
  },
  {
   "cell_type": "code",
   "execution_count": 58,
   "id": "e8f36b7b",
   "metadata": {},
   "outputs": [
    {
     "data": {
      "text/plain": [
       "Education\n",
       "Some college or Associate degree    0.336364\n",
       "Bachelor degree                     0.268182\n",
       "Graduate degree                     0.222727\n",
       "High school degree                  0.154545\n",
       "Less than high school degree        0.018182\n",
       "Name: proportion, dtype: float64"
      ]
     },
     "execution_count": 58,
     "metadata": {},
     "output_type": "execute_result"
    }
   ],
   "source": [
    "not_seen_star_wars[\"Education\"].value_counts(normalize=True)"
   ]
  },
  {
   "cell_type": "code",
   "execution_count": 59,
   "id": "a6d804dd",
   "metadata": {
    "scrolled": true
   },
   "outputs": [
    {
     "data": {
      "text/plain": [
       "Education\n",
       "Bachelor degree                     0.320245\n",
       "Some college or Associate degree    0.311656\n",
       "Graduate degree                     0.277301\n",
       "High school degree                  0.087117\n",
       "Less than high school degree        0.003681\n",
       "Name: proportion, dtype: float64"
      ]
     },
     "execution_count": 59,
     "metadata": {},
     "output_type": "execute_result"
    }
   ],
   "source": [
    "seen_star_wars[\"Education\"].value_counts(normalize=True)"
   ]
  },
  {
   "cell_type": "code",
   "execution_count": 60,
   "id": "fd59b8d4",
   "metadata": {},
   "outputs": [
    {
     "data": {
      "text/plain": [
       "Education\n",
       "Some college or Associate degree    0.332609\n",
       "Bachelor degree                     0.300000\n",
       "Graduate degree                     0.271739\n",
       "High school degree                  0.089130\n",
       "Less than high school degree        0.006522\n",
       "Name: proportion, dtype: float64"
      ]
     },
     "execution_count": 60,
     "metadata": {},
     "output_type": "execute_result"
    }
   ],
   "source": [
    "seen_all_movies[\"Education\"].value_counts(normalize=True)"
   ]
  },
  {
   "cell_type": "code",
   "execution_count": 61,
   "id": "d9c28004",
   "metadata": {
    "scrolled": true
   },
   "outputs": [
    {
     "data": {
      "text/plain": [
       "Education\n",
       "Bachelor degree                     0.319109\n",
       "Some college or Associate degree    0.317254\n",
       "Graduate degree                     0.282004\n",
       "High school degree                  0.076067\n",
       "Less than high school degree        0.005566\n",
       "Name: proportion, dtype: float64"
      ]
     },
     "execution_count": 61,
     "metadata": {},
     "output_type": "execute_result"
    }
   ],
   "source": [
    "star_wars_fans[\"Education\"].value_counts(normalize=True)"
   ]
  },
  {
   "cell_type": "code",
   "execution_count": 62,
   "id": "11968ac3",
   "metadata": {
    "scrolled": true
   },
   "outputs": [
    {
     "data": {
      "text/plain": [
       "Education\n",
       "Some college or Associate degree    0.336658\n",
       "Bachelor degree                     0.299252\n",
       "Graduate degree                     0.276808\n",
       "High school degree                  0.079800\n",
       "Less than high school degree        0.007481\n",
       "Name: proportion, dtype: float64"
      ]
     },
     "execution_count": 62,
     "metadata": {},
     "output_type": "execute_result"
    }
   ],
   "source": [
    "true_star_wars_fans[\"Education\"].value_counts(normalize=True)"
   ]
  },
  {
   "cell_type": "markdown",
   "id": "1efc8f62",
   "metadata": {},
   "source": [
    "Most respondents who have seen at least one Star Wars movie have had higher education. The count of participants in each cohort decreases as the number of movies seen goes up and the number of participants who identify as Star Wars fans goes up."
   ]
  },
  {
   "cell_type": "code",
   "execution_count": 63,
   "id": "994f4f48",
   "metadata": {},
   "outputs": [
    {
     "data": {
      "text/plain": [
       "Education\n",
       "Some college or Associate degree    94\n",
       "Bachelor degree                     83\n",
       "Graduate degree                     78\n",
       "High school degree                  14\n",
       "Less than high school degree         1\n",
       "Name: count, dtype: int64"
      ]
     },
     "execution_count": 63,
     "metadata": {},
     "output_type": "execute_result"
    }
   ],
   "source": [
    "seen_all_movies[\"Education\"][(seen_all_movies[\"Are you a Star Wars fan?\"]==True) & (seen_all_movies[\"Are you a Star Trek fan?\"]==True)].value_counts()"
   ]
  },
  {
   "cell_type": "markdown",
   "id": "59b009f3",
   "metadata": {},
   "source": [
    "## 5.6 Region"
   ]
  },
  {
   "cell_type": "code",
   "execution_count": 64,
   "id": "bf143e8b",
   "metadata": {},
   "outputs": [
    {
     "data": {
      "text/plain": [
       "Location (Census Region)\n",
       "East North Central    0.173538\n",
       "Pacific               0.167785\n",
       "South Atlantic        0.162991\n",
       "Middle Atlantic       0.116970\n",
       "West South Central    0.105465\n",
       "West North Central    0.089166\n",
       "Mountain              0.075743\n",
       "New England           0.071908\n",
       "East South Central    0.036433\n",
       "Name: proportion, dtype: float64"
      ]
     },
     "execution_count": 64,
     "metadata": {},
     "output_type": "execute_result"
    }
   ],
   "source": [
    "star_wars[\"Location (Census Region)\"].value_counts(normalize=True)"
   ]
  },
  {
   "cell_type": "code",
   "execution_count": 65,
   "id": "bb2df01b",
   "metadata": {},
   "outputs": [
    {
     "data": {
      "text/plain": [
       "Location (Census Region)\n",
       "East North Central    0.208889\n",
       "South Atlantic        0.164444\n",
       "West South Central    0.151111\n",
       "Name: proportion, dtype: float64"
      ]
     },
     "execution_count": 65,
     "metadata": {},
     "output_type": "execute_result"
    }
   ],
   "source": [
    "not_seen_star_wars[\"Location (Census Region)\"].value_counts(normalize=True).head(3)"
   ]
  },
  {
   "cell_type": "code",
   "execution_count": 66,
   "id": "e6b8bc79",
   "metadata": {
    "scrolled": true
   },
   "outputs": [
    {
     "data": {
      "text/plain": [
       "Location (Census Region)\n",
       "Pacific               0.178703\n",
       "South Atlantic        0.162791\n",
       "East North Central    0.162791\n",
       "Name: proportion, dtype: float64"
      ]
     },
     "execution_count": 66,
     "metadata": {},
     "output_type": "execute_result"
    }
   ],
   "source": [
    "seen_star_wars[\"Location (Census Region)\"].value_counts(normalize=True).head(3)"
   ]
  },
  {
   "cell_type": "code",
   "execution_count": 67,
   "id": "f036cda6",
   "metadata": {},
   "outputs": [
    {
     "data": {
      "text/plain": [
       "Location (Census Region)\n",
       "Pacific               0.172786\n",
       "East North Central    0.159827\n",
       "South Atlantic        0.157667\n",
       "Name: proportion, dtype: float64"
      ]
     },
     "execution_count": 67,
     "metadata": {},
     "output_type": "execute_result"
    }
   ],
   "source": [
    "seen_all_movies[\"Location (Census Region)\"].value_counts(normalize=True).head(3)"
   ]
  },
  {
   "cell_type": "code",
   "execution_count": 68,
   "id": "52dcfca4",
   "metadata": {},
   "outputs": [
    {
     "data": {
      "text/plain": [
       "Location (Census Region)\n",
       "South Atlantic        0.162662\n",
       "Pacific               0.158965\n",
       "East North Central    0.155268\n",
       "Name: proportion, dtype: float64"
      ]
     },
     "execution_count": 68,
     "metadata": {},
     "output_type": "execute_result"
    }
   ],
   "source": [
    "star_wars_fans[\"Location (Census Region)\"].value_counts(normalize=True).head(3)"
   ]
  },
  {
   "cell_type": "code",
   "execution_count": 69,
   "id": "29bfafe4",
   "metadata": {},
   "outputs": [
    {
     "data": {
      "text/plain": [
       "Location (Census Region)\n",
       "Pacific               0.166253\n",
       "East North Central    0.161290\n",
       "South Atlantic        0.158809\n",
       "Name: proportion, dtype: float64"
      ]
     },
     "execution_count": 69,
     "metadata": {},
     "output_type": "execute_result"
    }
   ],
   "source": [
    "true_star_wars_fans[\"Location (Census Region)\"].value_counts(normalize=True).head(3)"
   ]
  },
  {
   "cell_type": "markdown",
   "id": "3a3d33ec",
   "metadata": {},
   "source": [
    "Top Star Wars regions in the U.S.:\n",
    "- `Pacific`: California, Oregon, Washington, Alaska, and Hawaii\n",
    "- `South Atlantic`: Delaware, Florida, Georgia, Maryland, North Carolina, South Carolina, Virginia, West Virginia, and Washington D.C.\n",
    "- `East North Central`: Illinois, Indiana, Michigan, Ohio, and Wisconsin"
   ]
  },
  {
   "cell_type": "markdown",
   "id": "ae4ff870",
   "metadata": {},
   "source": [
    "# 6. Explore age populations"
   ]
  },
  {
   "cell_type": "markdown",
   "id": "75adc25c",
   "metadata": {},
   "source": [
    "## 6.1 Create a function to plot individual age distributions"
   ]
  },
  {
   "cell_type": "code",
   "execution_count": 70,
   "id": "a8adc424",
   "metadata": {},
   "outputs": [],
   "source": [
    "li = \"#fac06e\" # yellow\n",
    "da = \"#2a4858\" # dark blue\n",
    "\n",
    "def age_distribution(population, colors):\n",
    "    \"\"\"Generates plot showing age distribution for a population in ascending order by age group.\n",
    "    \n",
    "    Args:\n",
    "    - population (function): name of the data set or subset\n",
    "    - colors (list): list of two strings either 'li' or 'da' to denote light or dark colors for each bar\n",
    "    \"\"\"\n",
    "\n",
    "    age_ranges = population.index\n",
    "    percent_age = population.values\n",
    "\n",
    "    fig, ax = plt.subplots(figsize = (4, 2), facecolor=\"#ffffff\")\n",
    "    bars = ax.bar(age_ranges, percent_age, color = colors)\n",
    "    ax.tick_params(left=False, bottom=False)\n",
    "    plt.yticks(fontname=\"Arial\", fontsize=11)\n",
    "    ax.bar_label(container=bars, fmt=\"{:.2f}%\", padding=5, fontname=\"Courier New\", fontsize=11)\n",
    "    ax.set_yticks([])\n",
    "    ax.set_facecolor(\"#ffffff\")\n",
    "    plt.xticks(rotation=0, fontsize=11)\n",
    "\n",
    "    spines = [\"bottom\", \"top\", \"left\", \"right\"]\n",
    "    for spine in spines:\n",
    "        ax.spines[spine].set_visible(False)"
   ]
  },
  {
   "cell_type": "markdown",
   "id": "1da0993c",
   "metadata": {},
   "source": [
    "## 6.2 Respondents by age who submitted a survey"
   ]
  },
  {
   "cell_type": "code",
   "execution_count": 71,
   "id": "40f71d1c",
   "metadata": {},
   "outputs": [
    {
     "data": {
      "text/plain": [
       "Text(0.5, 1.2, 'Respondents by Age')"
      ]
     },
     "execution_count": 71,
     "metadata": {},
     "output_type": "execute_result"
    },
    {
     "data": {
      "image/png": "[encoded data removed]",
      "text/plain": [
       "<Figure size 400x200 with 1 Axes>"
      ]
     },
     "metadata": {},
     "output_type": "display_data"
    }
   ],
   "source": [
    "ages_submit_survey = star_wars[\"Age\"].value_counts(normalize=True).sort_index()\n",
    "age_distribution(ages_submit_survey, [li,li,da,li])\n",
    "plt.title(\"Respondents by Age\", y = 1.2, fontname=\"Arial\", fontsize=16, fontweight=\"bold\")"
   ]
  },
  {
   "cell_type": "markdown",
   "id": "a3d115bd",
   "metadata": {},
   "source": [
    "There is a fairly equal age distribution of those who submitted a survey but most respondents are between ages 45-60."
   ]
  },
  {
   "cell_type": "markdown",
   "id": "dea5bc5d",
   "metadata": {},
   "source": [
    "## 6.3 Respondents by age who have not seen a Star Wars movie"
   ]
  },
  {
   "cell_type": "code",
   "execution_count": 72,
   "id": "3373d99c",
   "metadata": {},
   "outputs": [
    {
     "data": {
      "text/plain": [
       "Text(0.5, 1.2, \"Respondents who haven't seen Star Wars\")"
      ]
     },
     "execution_count": 72,
     "metadata": {},
     "output_type": "execute_result"
    },
    {
     "data": {
      "image/png": "[encoded data removed]",
      "text/plain": [
       "<Figure size 400x200 with 1 Axes>"
      ]
     },
     "metadata": {},
     "output_type": "display_data"
    }
   ],
   "source": [
    "ages_not_seen = not_seen_star_wars[\"Age\"].value_counts(normalize=True).sort_index()\n",
    "age_distribution(ages_not_seen, [li,li,li,da])\n",
    "plt.title(\"Respondents who haven't seen Star Wars\", y = 1.2, fontname=\"Arial\", fontsize=16, fontweight=\"bold\")"
   ]
  },
  {
   "cell_type": "markdown",
   "id": "d48d1d74",
   "metadata": {},
   "source": [
    "Of the respondents who have not seen Stars Wars, the majority of them are 60 years old or older. Many of the younger respondents aged 18-29 who submitted a survey have seen at least one Star Wars movie."
   ]
  },
  {
   "cell_type": "markdown",
   "id": "512501fd",
   "metadata": {},
   "source": [
    "## 6.4 Respondents by age who have seen Stars Wars"
   ]
  },
  {
   "cell_type": "code",
   "execution_count": 73,
   "id": "ae94e7b3",
   "metadata": {},
   "outputs": [
    {
     "data": {
      "text/plain": [
       "Text(0.5, 1.2, 'Respondents who have seen Star Wars')"
      ]
     },
     "execution_count": 73,
     "metadata": {},
     "output_type": "execute_result"
    },
    {
     "data": {
      "image/png": "[encoded data removed]",
      "text/plain": [
       "<Figure size 400x200 with 1 Axes>"
      ]
     },
     "metadata": {},
     "output_type": "display_data"
    }
   ],
   "source": [
    "ages_seen = seen_star_wars[\"Age\"].value_counts(normalize=True).sort_index()\n",
    "age_distribution(ages_seen, [li,li,da,li])\n",
    "plt.title(\"Respondents who have seen Star Wars\", y = 1.2, fontname=\"Arial\", fontsize=16, fontweight=\"bold\")"
   ]
  },
  {
   "cell_type": "markdown",
   "id": "2ebfb8e7",
   "metadata": {},
   "source": [
    "# 7. Explore major age population segments"
   ]
  },
  {
   "cell_type": "code",
   "execution_count": 74,
   "id": "2904b381",
   "metadata": {},
   "outputs": [],
   "source": [
    "ages_18_seen = seen_star_wars[seen_star_wars[\"Age\"]==\"18-29\"]\n",
    "ages_30_seen = seen_star_wars[seen_star_wars[\"Age\"]==\"30-44\"]\n",
    "ages_45_seen = seen_star_wars[seen_star_wars[\"Age\"]==\"45-60\"]\n",
    "ages_60_seen = seen_star_wars[seen_star_wars[\"Age\"]==\"> 60\"]\n",
    "\n",
    "ages_18_all = seen_all_movies[seen_all_movies[\"Age\"]==\"18-29\"]\n",
    "ages_30_all = seen_all_movies[seen_all_movies[\"Age\"]==\"30-44\"]\n",
    "ages_45_all = seen_all_movies[seen_all_movies[\"Age\"]==\"45-60\"]\n",
    "ages_60_all = seen_all_movies[seen_all_movies[\"Age\"]==\"> 60\"]\n",
    "\n",
    "ages_18_fan = star_wars_fans[star_wars_fans[\"Age\"]==\"18-29\"]\n",
    "ages_30_fan = star_wars_fans[star_wars_fans[\"Age\"]==\"30-44\"]\n",
    "ages_45_fan = star_wars_fans[star_wars_fans[\"Age\"]==\"45-60\"]\n",
    "ages_60_fan = star_wars_fans[star_wars_fans[\"Age\"]==\"> 60\"]\n",
    "\n",
    "ages_18_true_fan = true_star_wars_fans[true_star_wars_fans[\"Age\"]==\"18-29\"]### Respondents who have seen Stars Wars\n",
    "ages_30_true_fan = true_star_wars_fans[true_star_wars_fans[\"Age\"]==\"30-44\"]\n",
    "ages_45_true_fan = true_star_wars_fans[true_star_wars_fans[\"Age\"]==\"45-60\"]\n",
    "ages_60_true_fan = true_star_wars_fans[true_star_wars_fans[\"Age\"]==\"> 60\"]"
   ]
  },
  {
   "cell_type": "markdown",
   "id": "c13c8265",
   "metadata": {},
   "source": [
    "## 7.1 Create functions to plot grouped age distributions"
   ]
  },
  {
   "cell_type": "code",
   "execution_count": 75,
   "id": "d92bd021",
   "metadata": {},
   "outputs": [],
   "source": [
    "li = \"#fac06e\" # light\n",
    "me = \"#64c987\" # medium\n",
    "ha = \"#00898a\" # hard\n",
    "da = \"#2a4858\" # dark\n",
    "\n",
    "#--------------------------------------------------------------------------------------------#\n",
    "# Most Viewed Movies\n",
    "#--------------------------------------------------------------------------------------------#\n",
    "\n",
    "def age_most_viewed(populations):\n",
    "    \"\"\"Generates plot showing most viewed movies in ascending order by episode for each age group.\n",
    "    \n",
    "    Args:\n",
    "    - population (function): name of the data set or subset\n",
    "    - colors (list): list of four strings either 'li', 'me', 'ha, or 'da' to denote light or dark colors for each bar\n",
    "    \"\"\"\n",
    "    \n",
    "    percents_seen = {}\n",
    "    for i, pop in enumerate(populations):\n",
    "        values = []\n",
    "        for j in range(1,7):\n",
    "            percent_seen = pop[f\"Watched Ep {j}\"].sum() / len(pop)\n",
    "            values.append(percent_seen)\n",
    "\n",
    "        percents_seen[i] = values\n",
    "\n",
    "    pop_1_values = percents_seen[0]\n",
    "    pop_2_values = percents_seen[1]\n",
    "    pop_3_values = percents_seen[2]\n",
    "    pop_4_values = percents_seen[3]\n",
    "\n",
    "    bar_positions = range(1,7)\n",
    "    bar_width = 0.13\n",
    "\n",
    "    fig, ax = plt.subplots(figsize = (10, 3), facecolor=\"#ffffff\")\n",
    "    ax.bar(bar_positions, pop_1_values, width=bar_width, label='18-29', color=li)\n",
    "    ax.bar([p + bar_width for p in bar_positions], pop_2_values, width=bar_width, label='30-44', color=me)\n",
    "    ax.bar([p + bar_width * 2 for p in bar_positions], pop_3_values, width=bar_width, label='45-59', color=ha)\n",
    "    ax.bar([p + bar_width * 3 for p in bar_positions], pop_4_values, width=bar_width, label='> 60', color=da)\n",
    "\n",
    "    plt.yticks(fontsize=10)\n",
    "    plt.ylim([0,1])\n",
    "    ax.yaxis.set_major_formatter(FuncFormatter('{0:.0%}'.format))\n",
    "\n",
    "    ax.set_xticks([])\n",
    "    plt.xticks([p + bar_width * 1.5 for p in bar_positions], range(1,7), fontname=\"Arial\", fontsize=14)\n",
    "\n",
    "    plt.title('Most Viewed Star Wars films', y=1.1, fontname=\"Arial\", fontsize=16, fontweight=\"bold\")\n",
    "\n",
    "    legend=plt.legend(loc=\"upper right\", bbox_to_anchor=(1.3,1.1))\n",
    "    plt.setp(legend.texts, family='Arial')\n",
    "\n",
    "    plt.grid(axis=\"y\", linewidth=0.2)\n",
    "\n",
    "    spines = [\"bottom\", \"top\", \"left\", \"right\"]\n",
    "    for spine in spines:\n",
    "        ax.spines[spine].set_visible(False)\n",
    "    ax.tick_params(left=False, bottom=False)\n",
    "\n",
    "    plt.show()\n",
    "\n",
    "\n",
    "#--------------------------------------------------------------------------------------------#\n",
    "# Highest Rated Movies\n",
    "#--------------------------------------------------------------------------------------------#\n",
    "\n",
    "def age_highest_rated(populations):\n",
    "    \"\"\"Generates plot showing highest rated movies in ascending order by episode for each age group.\n",
    "    \n",
    "    Args:\n",
    "    - population (function): name of the data set or subset\n",
    "    - colors (list): list of four strings either 'li', 'me', 'ha, or 'da' to denote light or dark colors for each bar\n",
    "    \"\"\"\n",
    "    \n",
    "    average_ratings = {}\n",
    "    for i, pop in enumerate(populations):\n",
    "        average_rating = pop[pop.columns[9:15]].mean()\n",
    "        average_ratings[i] = average_rating\n",
    "\n",
    "    pop_1_values = average_ratings[0]\n",
    "    pop_2_values = average_ratings[1]\n",
    "    pop_3_values = average_ratings[2]\n",
    "    pop_4_values = average_ratings[3]\n",
    "\n",
    "    bar_positions = range(1,7)\n",
    "    bar_width = 0.13\n",
    "\n",
    "    fig, ax = plt.subplots(figsize = (10, 3), facecolor=\"#ffffff\")\n",
    "    ax.bar(bar_positions, pop_1_values, width=bar_width, label='18-29', color=li)\n",
    "    ax.bar([p + bar_width for p in bar_positions], pop_2_values, width=bar_width, label='30-44', color=me)\n",
    "    ax.bar([p + bar_width * 2 for p in bar_positions], pop_3_values, width=bar_width, label='45-59', color=ha)\n",
    "    ax.bar([p + bar_width * 3 for p in bar_positions], pop_4_values, width=bar_width, label='> 60', color=da)\n",
    "\n",
    "    plt.yticks(fontsize=10)\n",
    "    plt.ylim([0,5])\n",
    "\n",
    "    ax.set_xticks([])\n",
    "    plt.xticks([p + bar_width * 1.5 for p in bar_positions], range(1,7), fontname=\"Arial\", fontsize=14)\n",
    "\n",
    "    plt.title('Highest Rated Star Wars films', y=1.1, fontname=\"Arial\", fontsize=16, fontweight=\"bold\")\n",
    "\n",
    "    legend=plt.legend(loc=\"upper right\", bbox_to_anchor=(1.32,1.1))\n",
    "    plt.setp(legend.texts, family='Arial')\n",
    "\n",
    "    plt.grid(axis=\"y\", linewidth=0.2)\n",
    "\n",
    "    spines = [\"bottom\", \"top\", \"left\", \"right\"]\n",
    "    for spine in spines:\n",
    "        ax.spines[spine].set_visible(False)\n",
    "    ax.tick_params(left=False, bottom=False)\n",
    "\n",
    "    plt.show()"
   ]
  },
  {
   "cell_type": "markdown",
   "id": "63c4c08b",
   "metadata": {},
   "source": [
    "## 7.2 Respondents by age who have seen at least one Star Wars movie"
   ]
  },
  {
   "cell_type": "code",
   "execution_count": 76,
   "id": "4a5e1681",
   "metadata": {},
   "outputs": [],
   "source": [
    "populations = [ages_18_seen, ages_30_seen, ages_45_seen, ages_60_seen]"
   ]
  },
  {
   "cell_type": "code",
   "execution_count": 77,
   "id": "1415453e",
   "metadata": {
    "scrolled": true
   },
   "outputs": [
    {
     "data": {
      "image/png": "[encoded data removed]",
      "text/plain": [
       "<Figure size 1000x300 with 1 Axes>"
      ]
     },
     "metadata": {},
     "output_type": "display_data"
    }
   ],
   "source": [
    "age_most_viewed(populations)"
   ]
  },
  {
   "cell_type": "code",
   "execution_count": 78,
   "id": "44718485",
   "metadata": {},
   "outputs": [
    {
     "data": {
      "image/png": "[encoded data removed]",
      "text/plain": [
       "<Figure size 1000x300 with 1 Axes>"
      ]
     },
     "metadata": {},
     "output_type": "display_data"
    }
   ],
   "source": [
    "age_highest_rated(populations)"
   ]
  },
  {
   "cell_type": "markdown",
   "id": "a569f5dd",
   "metadata": {},
   "source": [
    "## 7.3 Respondents by age who have seen all six movies"
   ]
  },
  {
   "cell_type": "code",
   "execution_count": 79,
   "id": "4b427080",
   "metadata": {},
   "outputs": [],
   "source": [
    "populations = [ages_18_all, ages_30_all, ages_45_all, ages_60_all]"
   ]
  },
  {
   "cell_type": "code",
   "execution_count": 80,
   "id": "1491143a",
   "metadata": {},
   "outputs": [],
   "source": [
    "%%capture\n",
    "age_most_viewed(populations)"
   ]
  },
  {
   "cell_type": "code",
   "execution_count": 81,
   "id": "8d0d7f27",
   "metadata": {},
   "outputs": [
    {
     "data": {
      "image/png": "[encoded data removed]",
      "text/plain": [
       "<Figure size 1000x300 with 1 Axes>"
      ]
     },
     "metadata": {},
     "output_type": "display_data"
    }
   ],
   "source": [
    "age_highest_rated(populations)"
   ]
  },
  {
   "cell_type": "markdown",
   "id": "402a786e",
   "metadata": {},
   "source": [
    "## 7.4 Star Wars fans by age"
   ]
  },
  {
   "cell_type": "code",
   "execution_count": 82,
   "id": "4f70526a",
   "metadata": {},
   "outputs": [],
   "source": [
    "populations = [ages_18_fan, ages_30_fan, ages_45_fan, ages_60_fan]"
   ]
  },
  {
   "cell_type": "code",
   "execution_count": 83,
   "id": "637a2470",
   "metadata": {},
   "outputs": [
    {
     "data": {
      "image/png": "[encoded data removed]",
      "text/plain": [
       "<Figure size 1000x300 with 1 Axes>"
      ]
     },
     "metadata": {},
     "output_type": "display_data"
    }
   ],
   "source": [
    "age_most_viewed(populations)"
   ]
  },
  {
   "cell_type": "code",
   "execution_count": 84,
   "id": "d0e52990",
   "metadata": {
    "scrolled": true
   },
   "outputs": [
    {
     "data": {
      "image/png": "[encoded data removed]",
      "text/plain": [
       "<Figure size 1000x300 with 1 Axes>"
      ]
     },
     "metadata": {},
     "output_type": "display_data"
    }
   ],
   "source": [
    "age_highest_rated(populations)"
   ]
  },
  {
   "cell_type": "markdown",
   "id": "22d8b193",
   "metadata": {},
   "source": [
    "## 7.5 True Star Wars fans by age"
   ]
  },
  {
   "cell_type": "code",
   "execution_count": 85,
   "id": "c68c4235",
   "metadata": {},
   "outputs": [],
   "source": [
    "populations = [ages_18_true_fan, ages_30_true_fan, ages_45_true_fan, ages_60_true_fan]"
   ]
  },
  {
   "cell_type": "code",
   "execution_count": 86,
   "id": "4082c285",
   "metadata": {
    "scrolled": true
   },
   "outputs": [
    {
     "data": {
      "image/png": "[encoded data removed]",
      "text/plain": [
       "<Figure size 1000x300 with 1 Axes>"
      ]
     },
     "metadata": {},
     "output_type": "display_data"
    }
   ],
   "source": [
    "age_highest_rated(populations)"
   ]
  },
  {
   "cell_type": "code",
   "execution_count": null,
   "id": "4e54c36e",
   "metadata": {},
   "outputs": [],
   "source": []
  }
 ],
 "metadata": {
  "kernelspec": {
   "display_name": "Python 3 (ipykernel)",
   "language": "python",
   "name": "python3"
  },
  "language_info": {
   "codemirror_mode": {
    "name": "ipython",
    "version": 3
   },
   "file_extension": ".py",
   "mimetype": "text/x-python",
   "name": "python",
   "nbconvert_exporter": "python",
   "pygments_lexer": "ipython3",
   "version": "3.11.2"
  }
 },
 "nbformat": 4,
 "nbformat_minor": 5
}
