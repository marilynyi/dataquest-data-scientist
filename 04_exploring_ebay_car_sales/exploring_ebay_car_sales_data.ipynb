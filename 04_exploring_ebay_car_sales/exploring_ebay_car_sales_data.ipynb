{
 "cells": [
  {
   "cell_type": "markdown",
   "id": "63257121",
   "metadata": {},
   "source": [
    "# Exploring eBay Car Sales Data"
   ]
  },
  {
   "cell_type": "markdown",
   "id": "69e1f01f",
   "metadata": {},
   "source": [
    "**Scenario**: You receive a modified dataset of 50,000 used cars from *eBay Kleinanzeigen*, a classifieds section of the German eBay website. "
   ]
  },
  {
   "cell_type": "markdown",
   "id": "769176b9",
   "metadata": {},
   "source": [
    "**Goal**: Note any significant findings from this dataset."
   ]
  },
  {
   "cell_type": "markdown",
   "id": "a8dabe1b",
   "metadata": {},
   "source": [
    "**Summary of Results**:\n",
    "\n",
    "The top six most popular used car brands sold on the eBay site (in order) and their top selling model are:\n",
    "1. Volkswagen Golf\n",
    "2. BMW 3ER\n",
    "3. Opel Corsa\n",
    "4. Mercedes-Benz C-Klasse\n",
    "5. Audi A4\n",
    "6. Ford Focus\n",
    "\n",
    "The mileage for these cars is within 125,000-130,000 kilometer range. \n",
    "\n",
    "On average, BMW, Mercedes-Benz, and Audi brands are sold in the \\\\$8,000-\\\\$9,000 range while the more affordable Opel and Ford brands are sold within the \\\\$3,000-\\\\$4,000 range. 21% of eBay's used cars are Volkswagens, averaging a selling price of \\\\$5,400.\n",
    "\n",
    "Most used cars listed to sell are from Berlin and Rüsselsheim."
   ]
  },
  {
   "cell_type": "markdown",
   "id": "621d730e",
   "metadata": {},
   "source": [
    "# Table of Contents"
   ]
  },
  {
   "cell_type": "markdown",
   "id": "8b160c30",
   "metadata": {},
   "source": [
    "- [Data dictionary](#Data-dictionary)\n",
    "- [Import the libraries](#Import-the-libraries)\n",
    "- [Import the data](#Import-the-data)\n",
    "    - View sample of imported data\n",
    "    - View data information\n",
    "    - Quick observations\n",
    "- [Data cleanup](#Data-cleanup)\n",
    "    - Remove insubstantial and redundant columns\n",
    "    - Convert column names from camelCase to snakecase\n",
    "        - Print list of current camelCase column names\n",
    "        - Create a function to convert column names from camelCase to snakecase\n",
    "        - Loop to create list of new column names that replace current column names\n",
    "        - Manually optimize column names\n",
    "    - Change data type for `price` and `odometer` stored as text\n",
    "        - Convert non-numerical price to integer value\n",
    "        - Change column name `price` to `price_dollars`\n",
    "        - Convert non-numerical odometer to integer value\n",
    "        - Change column name `odometer` to `odometer_km`\n",
    "- [Data exploration](#Data-exploration)\n",
    "    - Explore car price values\n",
    "        - Find reasonable lower and upper bounds\n",
    "        - Remove price outliers\n",
    "    - Explore car odometer readings\n",
    "    - Change data type for dates stored as text\n",
    "        - Crawl dates\n",
    "        - Ad creation dates\n",
    "        - Last seen dates\n",
    "    - Explore registration years\n",
    "    - Explore columns with null values\n",
    "        - Missing `vehicle_type` values\n",
    "        - Missing `gearbox` values\n",
    "        - Missing `model` values\n",
    "        - Missing `fuel_type` values\n",
    "        - Missing `not_repaired_damage` values\n",
    "        - Takeaways for missing values\n",
    "    - Explore price by brand\n",
    "        - Most popular brands\n",
    "        - Average prices for popular brands\n",
    "        - Price and mileage comparison for top car brands\n",
    "    - Explore postal codes\n",
    "- [Conclusion](#Conclusion)\n",
    "    \n"
   ]
  },
  {
   "cell_type": "markdown",
   "id": "48ebb9b0",
   "metadata": {},
   "source": [
    "# Data dictionary"
   ]
  },
  {
   "cell_type": "markdown",
   "id": "c3715871",
   "metadata": {},
   "source": [
    "- `dateCrawled`: When this ad was first crawled. All field-values are taken from this date.\n",
    "- `name`: Name of the car\n",
    "- `seller`: Whether the seller is private or a dealer\n",
    "- `offerType`: The type of listing\n",
    "- `price`: The price on the ad to sell the car\n",
    "- `abtest`: Whether the listing is included in an A/B test\n",
    "- `vehicleType`: The vehicle Type\n",
    "- `yearOfRegistration`: The year in which the car was first registered\n",
    "- `gearbox`: The transmission type\n",
    "- `powerPS`: The power of the car in PS\n",
    "- `model`: The car model name\n",
    "- `odometer`: How many kilometers the car has driven\n",
    "- `monthOfRegistration`: The month in which the car was first registered.\n",
    "- `fuelType`: What type of fuel the car uses\n",
    "- `brand`: The brand of the car\n",
    "- `notRepairedDamage`: If the car has a damage which is not yet repaired\n",
    "- `dateCreated`: The date on which the eBay listing was created\n",
    "- `nrOfPictures`: The number of pictures in the ad\n",
    "- `postalCode`: The postal code for the location of the vehicle\n",
    "- `lastSeen`: When the crawler saw this ad last online"
   ]
  },
  {
   "cell_type": "markdown",
   "id": "f9eba3bb",
   "metadata": {},
   "source": [
    "# Import the libraries"
   ]
  },
  {
   "cell_type": "code",
   "execution_count": 1,
   "id": "28e76cc7",
   "metadata": {},
   "outputs": [],
   "source": [
    "import numpy as np\n",
    "import matplotlib.pyplot as plt\n",
    "import pandas as pd"
   ]
  },
  {
   "cell_type": "markdown",
   "id": "4b30127d",
   "metadata": {},
   "source": [
    "# Import the data"
   ]
  },
  {
   "cell_type": "code",
   "execution_count": 2,
   "id": "66a79add",
   "metadata": {},
   "outputs": [],
   "source": [
    "autos = pd.read_csv(\"autos.csv\", encoding = \"Latin-1\")"
   ]
  },
  {
   "cell_type": "markdown",
   "id": "8fc221b3",
   "metadata": {},
   "source": [
    "### View sample of imported data"
   ]
  },
  {
   "cell_type": "code",
   "execution_count": 3,
   "id": "9faf56e9",
   "metadata": {},
   "outputs": [
    {
     "data": {
      "text/html": [
       "<div>\n",
       "<style scoped>\n",
       "    .dataframe tbody tr th:only-of-type {\n",
       "        vertical-align: middle;\n",
       "    }\n",
       "\n",
       "    .dataframe tbody tr th {\n",
       "        vertical-align: top;\n",
       "    }\n",
       "\n",
       "    .dataframe thead th {\n",
       "        text-align: right;\n",
       "    }\n",
       "</style>\n",
       "<table border=\"1\" class=\"dataframe\">\n",
       "  <thead>\n",
       "    <tr style=\"text-align: right;\">\n",
       "      <th></th>\n",
       "      <th>dateCrawled</th>\n",
       "      <th>name</th>\n",
       "      <th>seller</th>\n",
       "      <th>offerType</th>\n",
       "      <th>price</th>\n",
       "      <th>abtest</th>\n",
       "      <th>vehicleType</th>\n",
       "      <th>yearOfRegistration</th>\n",
       "      <th>gearbox</th>\n",
       "      <th>powerPS</th>\n",
       "      <th>model</th>\n",
       "      <th>odometer</th>\n",
       "      <th>monthOfRegistration</th>\n",
       "      <th>fuelType</th>\n",
       "      <th>brand</th>\n",
       "      <th>notRepairedDamage</th>\n",
       "      <th>dateCreated</th>\n",
       "      <th>nrOfPictures</th>\n",
       "      <th>postalCode</th>\n",
       "      <th>lastSeen</th>\n",
       "    </tr>\n",
       "  </thead>\n",
       "  <tbody>\n",
       "    <tr>\n",
       "      <th>0</th>\n",
       "      <td>2016-03-26 17:47:46</td>\n",
       "      <td>Peugeot_807_160_NAVTECH_ON_BOARD</td>\n",
       "      <td>privat</td>\n",
       "      <td>Angebot</td>\n",
       "      <td>$5,000</td>\n",
       "      <td>control</td>\n",
       "      <td>bus</td>\n",
       "      <td>2004</td>\n",
       "      <td>manuell</td>\n",
       "      <td>158</td>\n",
       "      <td>andere</td>\n",
       "      <td>150,000km</td>\n",
       "      <td>3</td>\n",
       "      <td>lpg</td>\n",
       "      <td>peugeot</td>\n",
       "      <td>nein</td>\n",
       "      <td>2016-03-26 00:00:00</td>\n",
       "      <td>0</td>\n",
       "      <td>79588</td>\n",
       "      <td>2016-04-06 06:45:54</td>\n",
       "    </tr>\n",
       "    <tr>\n",
       "      <th>1</th>\n",
       "      <td>2016-04-04 13:38:56</td>\n",
       "      <td>BMW_740i_4_4_Liter_HAMANN_UMBAU_Mega_Optik</td>\n",
       "      <td>privat</td>\n",
       "      <td>Angebot</td>\n",
       "      <td>$8,500</td>\n",
       "      <td>control</td>\n",
       "      <td>limousine</td>\n",
       "      <td>1997</td>\n",
       "      <td>automatik</td>\n",
       "      <td>286</td>\n",
       "      <td>7er</td>\n",
       "      <td>150,000km</td>\n",
       "      <td>6</td>\n",
       "      <td>benzin</td>\n",
       "      <td>bmw</td>\n",
       "      <td>nein</td>\n",
       "      <td>2016-04-04 00:00:00</td>\n",
       "      <td>0</td>\n",
       "      <td>71034</td>\n",
       "      <td>2016-04-06 14:45:08</td>\n",
       "    </tr>\n",
       "    <tr>\n",
       "      <th>2</th>\n",
       "      <td>2016-03-26 18:57:24</td>\n",
       "      <td>Volkswagen_Golf_1.6_United</td>\n",
       "      <td>privat</td>\n",
       "      <td>Angebot</td>\n",
       "      <td>$8,990</td>\n",
       "      <td>test</td>\n",
       "      <td>limousine</td>\n",
       "      <td>2009</td>\n",
       "      <td>manuell</td>\n",
       "      <td>102</td>\n",
       "      <td>golf</td>\n",
       "      <td>70,000km</td>\n",
       "      <td>7</td>\n",
       "      <td>benzin</td>\n",
       "      <td>volkswagen</td>\n",
       "      <td>nein</td>\n",
       "      <td>2016-03-26 00:00:00</td>\n",
       "      <td>0</td>\n",
       "      <td>35394</td>\n",
       "      <td>2016-04-06 20:15:37</td>\n",
       "    </tr>\n",
       "    <tr>\n",
       "      <th>3</th>\n",
       "      <td>2016-03-12 16:58:10</td>\n",
       "      <td>Smart_smart_fortwo_coupe_softouch/F1/Klima/Pan...</td>\n",
       "      <td>privat</td>\n",
       "      <td>Angebot</td>\n",
       "      <td>$4,350</td>\n",
       "      <td>control</td>\n",
       "      <td>kleinwagen</td>\n",
       "      <td>2007</td>\n",
       "      <td>automatik</td>\n",
       "      <td>71</td>\n",
       "      <td>fortwo</td>\n",
       "      <td>70,000km</td>\n",
       "      <td>6</td>\n",
       "      <td>benzin</td>\n",
       "      <td>smart</td>\n",
       "      <td>nein</td>\n",
       "      <td>2016-03-12 00:00:00</td>\n",
       "      <td>0</td>\n",
       "      <td>33729</td>\n",
       "      <td>2016-03-15 03:16:28</td>\n",
       "    </tr>\n",
       "    <tr>\n",
       "      <th>4</th>\n",
       "      <td>2016-04-01 14:38:50</td>\n",
       "      <td>Ford_Focus_1_6_Benzin_TÜV_neu_ist_sehr_gepfleg...</td>\n",
       "      <td>privat</td>\n",
       "      <td>Angebot</td>\n",
       "      <td>$1,350</td>\n",
       "      <td>test</td>\n",
       "      <td>kombi</td>\n",
       "      <td>2003</td>\n",
       "      <td>manuell</td>\n",
       "      <td>0</td>\n",
       "      <td>focus</td>\n",
       "      <td>150,000km</td>\n",
       "      <td>7</td>\n",
       "      <td>benzin</td>\n",
       "      <td>ford</td>\n",
       "      <td>nein</td>\n",
       "      <td>2016-04-01 00:00:00</td>\n",
       "      <td>0</td>\n",
       "      <td>39218</td>\n",
       "      <td>2016-04-01 14:38:50</td>\n",
       "    </tr>\n",
       "  </tbody>\n",
       "</table>\n",
       "</div>"
      ],
      "text/plain": [
       "           dateCrawled                                               name   \n",
       "0  2016-03-26 17:47:46                   Peugeot_807_160_NAVTECH_ON_BOARD  \\\n",
       "1  2016-04-04 13:38:56         BMW_740i_4_4_Liter_HAMANN_UMBAU_Mega_Optik   \n",
       "2  2016-03-26 18:57:24                         Volkswagen_Golf_1.6_United   \n",
       "3  2016-03-12 16:58:10  Smart_smart_fortwo_coupe_softouch/F1/Klima/Pan...   \n",
       "4  2016-04-01 14:38:50  Ford_Focus_1_6_Benzin_TÜV_neu_ist_sehr_gepfleg...   \n",
       "\n",
       "   seller offerType   price   abtest vehicleType  yearOfRegistration   \n",
       "0  privat   Angebot  $5,000  control         bus                2004  \\\n",
       "1  privat   Angebot  $8,500  control   limousine                1997   \n",
       "2  privat   Angebot  $8,990     test   limousine                2009   \n",
       "3  privat   Angebot  $4,350  control  kleinwagen                2007   \n",
       "4  privat   Angebot  $1,350     test       kombi                2003   \n",
       "\n",
       "     gearbox  powerPS   model   odometer  monthOfRegistration fuelType   \n",
       "0    manuell      158  andere  150,000km                    3      lpg  \\\n",
       "1  automatik      286     7er  150,000km                    6   benzin   \n",
       "2    manuell      102    golf   70,000km                    7   benzin   \n",
       "3  automatik       71  fortwo   70,000km                    6   benzin   \n",
       "4    manuell        0   focus  150,000km                    7   benzin   \n",
       "\n",
       "        brand notRepairedDamage          dateCreated  nrOfPictures   \n",
       "0     peugeot              nein  2016-03-26 00:00:00             0  \\\n",
       "1         bmw              nein  2016-04-04 00:00:00             0   \n",
       "2  volkswagen              nein  2016-03-26 00:00:00             0   \n",
       "3       smart              nein  2016-03-12 00:00:00             0   \n",
       "4        ford              nein  2016-04-01 00:00:00             0   \n",
       "\n",
       "   postalCode             lastSeen  \n",
       "0       79588  2016-04-06 06:45:54  \n",
       "1       71034  2016-04-06 14:45:08  \n",
       "2       35394  2016-04-06 20:15:37  \n",
       "3       33729  2016-03-15 03:16:28  \n",
       "4       39218  2016-04-01 14:38:50  "
      ]
     },
     "execution_count": 3,
     "metadata": {},
     "output_type": "execute_result"
    }
   ],
   "source": [
    "autos.head()"
   ]
  },
  {
   "cell_type": "markdown",
   "id": "1c24e8f2",
   "metadata": {},
   "source": [
    "### View data information"
   ]
  },
  {
   "cell_type": "code",
   "execution_count": 4,
   "id": "967cb7f5",
   "metadata": {},
   "outputs": [
    {
     "name": "stdout",
     "output_type": "stream",
     "text": [
      "<class 'pandas.core.frame.DataFrame'>\n",
      "RangeIndex: 50000 entries, 0 to 49999\n",
      "Data columns (total 20 columns):\n",
      " #   Column               Non-Null Count  Dtype \n",
      "---  ------               --------------  ----- \n",
      " 0   dateCrawled          50000 non-null  object\n",
      " 1   name                 50000 non-null  object\n",
      " 2   seller               50000 non-null  object\n",
      " 3   offerType            50000 non-null  object\n",
      " 4   price                50000 non-null  object\n",
      " 5   abtest               50000 non-null  object\n",
      " 6   vehicleType          44905 non-null  object\n",
      " 7   yearOfRegistration   50000 non-null  int64 \n",
      " 8   gearbox              47320 non-null  object\n",
      " 9   powerPS              50000 non-null  int64 \n",
      " 10  model                47242 non-null  object\n",
      " 11  odometer             50000 non-null  object\n",
      " 12  monthOfRegistration  50000 non-null  int64 \n",
      " 13  fuelType             45518 non-null  object\n",
      " 14  brand                50000 non-null  object\n",
      " 15  notRepairedDamage    40171 non-null  object\n",
      " 16  dateCreated          50000 non-null  object\n",
      " 17  nrOfPictures         50000 non-null  int64 \n",
      " 18  postalCode           50000 non-null  int64 \n",
      " 19  lastSeen             50000 non-null  object\n",
      "dtypes: int64(5), object(15)\n",
      "memory usage: 7.6+ MB\n"
     ]
    }
   ],
   "source": [
    "autos.info()"
   ]
  },
  {
   "cell_type": "code",
   "execution_count": 5,
   "id": "9f9c3cc5",
   "metadata": {},
   "outputs": [
    {
     "data": {
      "text/html": [
       "<div>\n",
       "<style scoped>\n",
       "    .dataframe tbody tr th:only-of-type {\n",
       "        vertical-align: middle;\n",
       "    }\n",
       "\n",
       "    .dataframe tbody tr th {\n",
       "        vertical-align: top;\n",
       "    }\n",
       "\n",
       "    .dataframe thead th {\n",
       "        text-align: right;\n",
       "    }\n",
       "</style>\n",
       "<table border=\"1\" class=\"dataframe\">\n",
       "  <thead>\n",
       "    <tr style=\"text-align: right;\">\n",
       "      <th></th>\n",
       "      <th>yearOfRegistration</th>\n",
       "      <th>powerPS</th>\n",
       "      <th>monthOfRegistration</th>\n",
       "      <th>nrOfPictures</th>\n",
       "      <th>postalCode</th>\n",
       "    </tr>\n",
       "  </thead>\n",
       "  <tbody>\n",
       "    <tr>\n",
       "      <th>count</th>\n",
       "      <td>50000.000000</td>\n",
       "      <td>50000.000000</td>\n",
       "      <td>50000.000000</td>\n",
       "      <td>50000.0</td>\n",
       "      <td>50000.000000</td>\n",
       "    </tr>\n",
       "    <tr>\n",
       "      <th>mean</th>\n",
       "      <td>2005.073280</td>\n",
       "      <td>116.355920</td>\n",
       "      <td>5.723360</td>\n",
       "      <td>0.0</td>\n",
       "      <td>50813.627300</td>\n",
       "    </tr>\n",
       "    <tr>\n",
       "      <th>std</th>\n",
       "      <td>105.712813</td>\n",
       "      <td>209.216627</td>\n",
       "      <td>3.711984</td>\n",
       "      <td>0.0</td>\n",
       "      <td>25779.747957</td>\n",
       "    </tr>\n",
       "    <tr>\n",
       "      <th>min</th>\n",
       "      <td>1000.000000</td>\n",
       "      <td>0.000000</td>\n",
       "      <td>0.000000</td>\n",
       "      <td>0.0</td>\n",
       "      <td>1067.000000</td>\n",
       "    </tr>\n",
       "    <tr>\n",
       "      <th>25%</th>\n",
       "      <td>1999.000000</td>\n",
       "      <td>70.000000</td>\n",
       "      <td>3.000000</td>\n",
       "      <td>0.0</td>\n",
       "      <td>30451.000000</td>\n",
       "    </tr>\n",
       "    <tr>\n",
       "      <th>50%</th>\n",
       "      <td>2003.000000</td>\n",
       "      <td>105.000000</td>\n",
       "      <td>6.000000</td>\n",
       "      <td>0.0</td>\n",
       "      <td>49577.000000</td>\n",
       "    </tr>\n",
       "    <tr>\n",
       "      <th>75%</th>\n",
       "      <td>2008.000000</td>\n",
       "      <td>150.000000</td>\n",
       "      <td>9.000000</td>\n",
       "      <td>0.0</td>\n",
       "      <td>71540.000000</td>\n",
       "    </tr>\n",
       "    <tr>\n",
       "      <th>max</th>\n",
       "      <td>9999.000000</td>\n",
       "      <td>17700.000000</td>\n",
       "      <td>12.000000</td>\n",
       "      <td>0.0</td>\n",
       "      <td>99998.000000</td>\n",
       "    </tr>\n",
       "  </tbody>\n",
       "</table>\n",
       "</div>"
      ],
      "text/plain": [
       "       yearOfRegistration       powerPS  monthOfRegistration  nrOfPictures   \n",
       "count        50000.000000  50000.000000         50000.000000       50000.0  \\\n",
       "mean          2005.073280    116.355920             5.723360           0.0   \n",
       "std            105.712813    209.216627             3.711984           0.0   \n",
       "min           1000.000000      0.000000             0.000000           0.0   \n",
       "25%           1999.000000     70.000000             3.000000           0.0   \n",
       "50%           2003.000000    105.000000             6.000000           0.0   \n",
       "75%           2008.000000    150.000000             9.000000           0.0   \n",
       "max           9999.000000  17700.000000            12.000000           0.0   \n",
       "\n",
       "         postalCode  \n",
       "count  50000.000000  \n",
       "mean   50813.627300  \n",
       "std    25779.747957  \n",
       "min     1067.000000  \n",
       "25%    30451.000000  \n",
       "50%    49577.000000  \n",
       "75%    71540.000000  \n",
       "max    99998.000000  "
      ]
     },
     "execution_count": 5,
     "metadata": {},
     "output_type": "execute_result"
    }
   ],
   "source": [
    "autos.describe()"
   ]
  },
  {
   "cell_type": "markdown",
   "id": "b3bc02d4",
   "metadata": {},
   "source": [
    "## Quick observations"
   ]
  },
  {
   "cell_type": "markdown",
   "id": "355326ea",
   "metadata": {},
   "source": [
    "Use `index_to_view` to take a look at each column's contents"
   ]
  },
  {
   "cell_type": "code",
   "execution_count": 6,
   "id": "4d82b8b5",
   "metadata": {},
   "outputs": [
    {
     "data": {
      "text/plain": [
       "array(['Angebot', 'Gesuch'], dtype=object)"
      ]
     },
     "execution_count": 6,
     "metadata": {},
     "output_type": "execute_result"
    }
   ],
   "source": [
    "index_to_view = 3\n",
    "autos.iloc[:, index_to_view].unique()"
   ]
  },
  {
   "cell_type": "markdown",
   "id": "c2e84707",
   "metadata": {},
   "source": [
    "Looking at the unique contents for each column in the dataset, the following have been observed.\n",
    "\n",
    "- There are a total of 20 columns, all of which have camelCase titles.\n",
    "- Some columns have missing values, denoted by the non-null counts less than 50,000.\n",
    "- The `price` and `odometer` values are non-numerical.\n",
    "- The `dateCrawled`, `dateCreated`, and `lastSeen` values are also non-numerical.\n",
    "- The `seller` and `offerType` columns appear to be redundant and also provide no substantial information.\n",
    "- The `nrOfPictures` column only has one value of 0 for all rows so this column can be removed."
   ]
  },
  {
   "cell_type": "markdown",
   "id": "a8699a1d",
   "metadata": {},
   "source": [
    "# Data cleanup"
   ]
  },
  {
   "cell_type": "markdown",
   "id": "aa153667",
   "metadata": {},
   "source": [
    "## Remove insubstantial and redundant columns"
   ]
  },
  {
   "cell_type": "code",
   "execution_count": 7,
   "id": "b069116b",
   "metadata": {},
   "outputs": [
    {
     "data": {
      "text/plain": [
       "array(['privat', 'gewerblich'], dtype=object)"
      ]
     },
     "execution_count": 7,
     "metadata": {},
     "output_type": "execute_result"
    }
   ],
   "source": [
    "autos[\"seller\"].unique()"
   ]
  },
  {
   "cell_type": "code",
   "execution_count": 8,
   "id": "71337733",
   "metadata": {},
   "outputs": [
    {
     "data": {
      "text/plain": [
       "array(['Angebot', 'Gesuch'], dtype=object)"
      ]
     },
     "execution_count": 8,
     "metadata": {},
     "output_type": "execute_result"
    }
   ],
   "source": [
    "autos[\"offerType\"].unique()"
   ]
  },
  {
   "cell_type": "code",
   "execution_count": 9,
   "id": "3605cbed",
   "metadata": {},
   "outputs": [
    {
     "data": {
      "text/plain": [
       "array([0])"
      ]
     },
     "execution_count": 9,
     "metadata": {},
     "output_type": "execute_result"
    }
   ],
   "source": [
    "autos[\"nrOfPictures\"].unique()"
   ]
  },
  {
   "cell_type": "markdown",
   "id": "90ea0e28",
   "metadata": {},
   "source": [
    "The `seller` and `offerType` columns do not provide information relevant to the cars themselves. These could've been provided by the web scraper or default values set on the eBay site. The `nrOfPictures` column has one value for all rows. All three columns can be removed from the analysis."
   ]
  },
  {
   "cell_type": "code",
   "execution_count": 10,
   "id": "a7d5e420",
   "metadata": {},
   "outputs": [],
   "source": [
    "autos = autos.drop([\"seller\", \"offerType\", \"nrOfPictures\"], axis = 1)"
   ]
  },
  {
   "cell_type": "code",
   "execution_count": 11,
   "id": "fcf92dc1",
   "metadata": {},
   "outputs": [
    {
     "name": "stdout",
     "output_type": "stream",
     "text": [
      "Index(['dateCrawled', 'name', 'price', 'abtest', 'vehicleType',\n",
      "       'yearOfRegistration', 'gearbox', 'powerPS', 'model', 'odometer',\n",
      "       'monthOfRegistration', 'fuelType', 'brand', 'notRepairedDamage',\n",
      "       'dateCreated', 'postalCode', 'lastSeen'],\n",
      "      dtype='object')\n"
     ]
    }
   ],
   "source": [
    "print(autos.columns)"
   ]
  },
  {
   "cell_type": "markdown",
   "id": "2647b58e",
   "metadata": {},
   "source": [
    "## Convert column names from camelCase to snakecase"
   ]
  },
  {
   "cell_type": "markdown",
   "id": "13a790d9",
   "metadata": {},
   "source": [
    "### Print list of current camelCase column names"
   ]
  },
  {
   "cell_type": "code",
   "execution_count": 12,
   "id": "2bbad76c",
   "metadata": {},
   "outputs": [
    {
     "name": "stdout",
     "output_type": "stream",
     "text": [
      "Index(['dateCrawled', 'name', 'price', 'abtest', 'vehicleType',\n",
      "       'yearOfRegistration', 'gearbox', 'powerPS', 'model', 'odometer',\n",
      "       'monthOfRegistration', 'fuelType', 'brand', 'notRepairedDamage',\n",
      "       'dateCreated', 'postalCode', 'lastSeen'],\n",
      "      dtype='object')\n"
     ]
    }
   ],
   "source": [
    "old_columns = autos.columns\n",
    "print(old_columns)"
   ]
  },
  {
   "cell_type": "markdown",
   "id": "e8ec5a46",
   "metadata": {},
   "source": [
    "### Create a function to convert column names from camelCase to snakecase"
   ]
  },
  {
   "cell_type": "code",
   "execution_count": 13,
   "id": "a012dcb4",
   "metadata": {},
   "outputs": [],
   "source": [
    "def snakecase(column_name):\n",
    "    camel_name = column_name[0].capitalize() + column_name[1:]\n",
    "    \n",
    "    snake_name = \"\"\n",
    "    for letter in camel_name:\n",
    "        if letter.isupper():\n",
    "            snake_name += \"_\" + letter\n",
    "        else:\n",
    "            snake_name += letter\n",
    "    snake_name = snake_name.lower().lstrip(\"_\")\n",
    "    return snake_name"
   ]
  },
  {
   "cell_type": "markdown",
   "id": "3265382b",
   "metadata": {},
   "source": [
    "### Loop to create list of new column names then replace current column names"
   ]
  },
  {
   "cell_type": "code",
   "execution_count": 14,
   "id": "f5af4ec5",
   "metadata": {},
   "outputs": [
    {
     "name": "stdout",
     "output_type": "stream",
     "text": [
      "Index(['date_crawled', 'name', 'price', 'abtest', 'vehicle_type',\n",
      "       'year_of_registration', 'gearbox', 'power_p_s', 'model', 'odometer',\n",
      "       'month_of_registration', 'fuel_type', 'brand', 'not_repaired_damage',\n",
      "       'date_created', 'postal_code', 'last_seen'],\n",
      "      dtype='object')\n"
     ]
    }
   ],
   "source": [
    "new_columns = []\n",
    "for title in old_columns:\n",
    "    snake_name = snakecase(title)\n",
    "    new_columns.append(snake_name)\n",
    "\n",
    "autos.columns = new_columns\n",
    "print(autos.columns)"
   ]
  },
  {
   "cell_type": "markdown",
   "id": "056c39a4",
   "metadata": {},
   "source": [
    "### Manually optimize column names"
   ]
  },
  {
   "cell_type": "markdown",
   "id": "057a89d4",
   "metadata": {},
   "source": [
    "We then review the list and note a few manual tweaks to make:\n",
    "- `year_of_registration` can be changed to `registration_year`\n",
    "- `power_p_s` can be changed to `power_ps` to preserve the ps unit\n",
    "- `month_of_registration` can be changed to `registration_month`\n",
    "\n",
    "More tweaks will be made later when we change the dtype for some of the columns."
   ]
  },
  {
   "cell_type": "code",
   "execution_count": 15,
   "id": "450cb080",
   "metadata": {},
   "outputs": [
    {
     "name": "stdout",
     "output_type": "stream",
     "text": [
      "Index(['date_crawled', 'name', 'price', 'abtest', 'vehicle_type',\n",
      "       'registration_year', 'gearbox', 'power_ps', 'model', 'odometer',\n",
      "       'registration_month', 'fuel_type', 'brand', 'not_repaired_damage',\n",
      "       'date_created', 'postal_code', 'last_seen'],\n",
      "      dtype='object')\n"
     ]
    }
   ],
   "source": [
    "autos.rename({\"year_of_registration\": \"registration_year\"}, axis = 1, inplace = True)\n",
    "autos.rename({\"power_p_s\": \"power_ps\"}, axis = 1, inplace = True)\n",
    "autos.rename({\"month_of_registration\": \"registration_month\"}, axis = 1, inplace = True)\n",
    "print(autos.columns)"
   ]
  },
  {
   "cell_type": "markdown",
   "id": "89878bf3",
   "metadata": {},
   "source": [
    "## Change data type for `price` and `odometer` stored as text"
   ]
  },
  {
   "cell_type": "code",
   "execution_count": 16,
   "id": "bfaccb1e",
   "metadata": {},
   "outputs": [
    {
     "name": "stdout",
     "output_type": "stream",
     "text": [
      "<class 'pandas.core.frame.DataFrame'>\n",
      "RangeIndex: 50000 entries, 0 to 49999\n",
      "Data columns (total 17 columns):\n",
      " #   Column               Non-Null Count  Dtype \n",
      "---  ------               --------------  ----- \n",
      " 0   date_crawled         50000 non-null  object\n",
      " 1   name                 50000 non-null  object\n",
      " 2   price                50000 non-null  object\n",
      " 3   abtest               50000 non-null  object\n",
      " 4   vehicle_type         44905 non-null  object\n",
      " 5   registration_year    50000 non-null  int64 \n",
      " 6   gearbox              47320 non-null  object\n",
      " 7   power_ps             50000 non-null  int64 \n",
      " 8   model                47242 non-null  object\n",
      " 9   odometer             50000 non-null  object\n",
      " 10  registration_month   50000 non-null  int64 \n",
      " 11  fuel_type            45518 non-null  object\n",
      " 12  brand                50000 non-null  object\n",
      " 13  not_repaired_damage  40171 non-null  object\n",
      " 14  date_created         50000 non-null  object\n",
      " 15  postal_code          50000 non-null  int64 \n",
      " 16  last_seen            50000 non-null  object\n",
      "dtypes: int64(4), object(13)\n",
      "memory usage: 6.5+ MB\n"
     ]
    }
   ],
   "source": [
    "autos.info()"
   ]
  },
  {
   "cell_type": "markdown",
   "id": "b95f836a",
   "metadata": {},
   "source": [
    "As noted in our quick observations, the `price` and `odometer` are current `object` dtypes. We want to convert these to `float` and `int` dtypes, respectively."
   ]
  },
  {
   "cell_type": "markdown",
   "id": "c3176633",
   "metadata": {},
   "source": [
    "### Convert non-numerical price to integer value"
   ]
  },
  {
   "cell_type": "code",
   "execution_count": 17,
   "id": "498595b3",
   "metadata": {
    "scrolled": true
   },
   "outputs": [
    {
     "name": "stdout",
     "output_type": "stream",
     "text": [
      "['$5,000' '$8,500' '$8,990' ... '$385' '$22,200' '$16,995']\n"
     ]
    }
   ],
   "source": [
    "print(autos[\"price\"].unique())"
   ]
  },
  {
   "cell_type": "markdown",
   "id": "ef2bc079",
   "metadata": {},
   "source": [
    "The format for `price` is in the form `$#,###` so we remove the leading \\\\$ sign and any commas. As there are no decimal points, the eBay site most likely has the price field set to integer inputs."
   ]
  },
  {
   "cell_type": "code",
   "execution_count": 18,
   "id": "69abe40a",
   "metadata": {},
   "outputs": [],
   "source": [
    "autos[\"price\"] = autos[\"price\"].str.replace(\"$\", \"\").str.replace(\",\", \"\").astype(int)"
   ]
  },
  {
   "cell_type": "markdown",
   "id": "1c2eba11",
   "metadata": {},
   "source": [
    "### Change column name `price` to `price_dollars`"
   ]
  },
  {
   "cell_type": "markdown",
   "id": "51da8393",
   "metadata": {},
   "source": [
    "We then change the column name from `price` to `price_dollars` to preserve the currency type."
   ]
  },
  {
   "cell_type": "code",
   "execution_count": 19,
   "id": "52072b4a",
   "metadata": {},
   "outputs": [],
   "source": [
    "autos.rename({\"price\": \"price_dollars\"}, axis = 1, inplace = True)"
   ]
  },
  {
   "cell_type": "code",
   "execution_count": 20,
   "id": "1627c2c3",
   "metadata": {},
   "outputs": [
    {
     "data": {
      "text/plain": [
       "0    5000\n",
       "1    8500\n",
       "2    8990\n",
       "3    4350\n",
       "4    1350\n",
       "Name: price_dollars, dtype: int64"
      ]
     },
     "execution_count": 20,
     "metadata": {},
     "output_type": "execute_result"
    }
   ],
   "source": [
    "autos[\"price_dollars\"].head()"
   ]
  },
  {
   "cell_type": "code",
   "execution_count": 21,
   "id": "950a55e5",
   "metadata": {
    "scrolled": true
   },
   "outputs": [
    {
     "name": "stdout",
     "output_type": "stream",
     "text": [
      "Index(['date_crawled', 'name', 'price_dollars', 'abtest', 'vehicle_type',\n",
      "       'registration_year', 'gearbox', 'power_ps', 'model', 'odometer',\n",
      "       'registration_month', 'fuel_type', 'brand', 'not_repaired_damage',\n",
      "       'date_created', 'postal_code', 'last_seen'],\n",
      "      dtype='object')\n"
     ]
    }
   ],
   "source": [
    "print(autos.columns)"
   ]
  },
  {
   "cell_type": "markdown",
   "id": "d750fc5c",
   "metadata": {},
   "source": [
    "### Convert non-numerical odometer to integer value"
   ]
  },
  {
   "cell_type": "code",
   "execution_count": 22,
   "id": "b50a5696",
   "metadata": {
    "scrolled": true
   },
   "outputs": [
    {
     "name": "stdout",
     "output_type": "stream",
     "text": [
      "['150,000km' '70,000km' '50,000km' '80,000km' '10,000km' '30,000km'\n",
      " '125,000km' '90,000km' '20,000km' '60,000km' '5,000km' '100,000km'\n",
      " '40,000km']\n"
     ]
    }
   ],
   "source": [
    "print(autos[\"odometer\"].unique())"
   ]
  },
  {
   "cell_type": "markdown",
   "id": "076e938e",
   "metadata": {},
   "source": [
    "The format for `odometer` is in the form `#,###km` so we remove the trailing `km` and any commas."
   ]
  },
  {
   "cell_type": "code",
   "execution_count": 23,
   "id": "21b1c617",
   "metadata": {},
   "outputs": [],
   "source": [
    "autos[\"odometer\"] = autos[\"odometer\"].str.replace(\"km\", \"\").str.replace(\",\", \"\").astype(int)"
   ]
  },
  {
   "cell_type": "markdown",
   "id": "43bca2eb",
   "metadata": {},
   "source": [
    "### Change column name `odometer` to `odometer_km`"
   ]
  },
  {
   "cell_type": "markdown",
   "id": "09604046",
   "metadata": {},
   "source": [
    "We then change the column name from `odometer` to `odometer_km` to preserve the distance unit."
   ]
  },
  {
   "cell_type": "code",
   "execution_count": 24,
   "id": "d1b7a21b",
   "metadata": {},
   "outputs": [],
   "source": [
    "autos.rename({\"odometer\": \"odometer_km\"}, axis = 1, inplace = True)"
   ]
  },
  {
   "cell_type": "code",
   "execution_count": 25,
   "id": "e99f32d7",
   "metadata": {},
   "outputs": [
    {
     "name": "stdout",
     "output_type": "stream",
     "text": [
      "0    150000\n",
      "1    150000\n",
      "2     70000\n",
      "3     70000\n",
      "4    150000\n",
      "Name: odometer_km, dtype: int64\n"
     ]
    }
   ],
   "source": [
    "print(autos[\"odometer_km\"].head())"
   ]
  },
  {
   "cell_type": "code",
   "execution_count": 26,
   "id": "aec29617",
   "metadata": {
    "scrolled": true
   },
   "outputs": [
    {
     "name": "stdout",
     "output_type": "stream",
     "text": [
      "Index(['date_crawled', 'name', 'price_dollars', 'abtest', 'vehicle_type',\n",
      "       'registration_year', 'gearbox', 'power_ps', 'model', 'odometer_km',\n",
      "       'registration_month', 'fuel_type', 'brand', 'not_repaired_damage',\n",
      "       'date_created', 'postal_code', 'last_seen'],\n",
      "      dtype='object')\n"
     ]
    }
   ],
   "source": [
    "print(autos.columns)"
   ]
  },
  {
   "cell_type": "markdown",
   "id": "2162d193",
   "metadata": {},
   "source": [
    "# Data exploration"
   ]
  },
  {
   "cell_type": "markdown",
   "id": "67c0649c",
   "metadata": {},
   "source": [
    "## Explore car price values"
   ]
  },
  {
   "cell_type": "markdown",
   "id": "be8cb4f2",
   "metadata": {},
   "source": [
    "Now that the data has been cleaned for prices and odometer readings, we explore these columns, starting with the prices."
   ]
  },
  {
   "cell_type": "code",
   "execution_count": 27,
   "id": "3c03c3e3",
   "metadata": {},
   "outputs": [
    {
     "name": "stdout",
     "output_type": "stream",
     "text": [
      "(2357,)\n"
     ]
    }
   ],
   "source": [
    "print(autos[\"price_dollars\"].unique().shape)"
   ]
  },
  {
   "cell_type": "markdown",
   "id": "e2d9fe0d",
   "metadata": {},
   "source": [
    "There are 2,357 unique price listings."
   ]
  },
  {
   "cell_type": "code",
   "execution_count": 28,
   "id": "2f0d6d21",
   "metadata": {
    "scrolled": false
   },
   "outputs": [
    {
     "data": {
      "text/plain": [
       "price_dollars\n",
       "0     1421\n",
       "1      156\n",
       "2        3\n",
       "3        1\n",
       "5        2\n",
       "8        1\n",
       "9        1\n",
       "10       7\n",
       "11       2\n",
       "12       3\n",
       "13       2\n",
       "14       1\n",
       "15       2\n",
       "17       3\n",
       "18       1\n",
       "20       4\n",
       "25       5\n",
       "29       1\n",
       "30       7\n",
       "35       1\n",
       "40       6\n",
       "45       4\n",
       "47       1\n",
       "49       4\n",
       "50      49\n",
       "55       2\n",
       "59       1\n",
       "60       9\n",
       "65       5\n",
       "66       1\n",
       "Name: count, dtype: int64"
      ]
     },
     "execution_count": 28,
     "metadata": {},
     "output_type": "execute_result"
    }
   ],
   "source": [
    "autos[\"price_dollars\"].value_counts().sort_index().head(30)"
   ]
  },
  {
   "cell_type": "markdown",
   "id": "3314f1bd",
   "metadata": {},
   "source": [
    "### Find reasonable lower and upper bounds"
   ]
  },
  {
   "cell_type": "code",
   "execution_count": 29,
   "id": "e7f8fe7b",
   "metadata": {},
   "outputs": [
    {
     "data": {
      "text/plain": [
       "2.842"
      ]
     },
     "execution_count": 29,
     "metadata": {},
     "output_type": "execute_result"
    }
   ],
   "source": [
    "1421/50000*100"
   ]
  },
  {
   "cell_type": "markdown",
   "id": "18d3a5f6",
   "metadata": {},
   "source": [
    "There are 1,421 cars with a price of \\\\$0. This is only 2.8\\% of the dataset so we will consider removing these. Why the second lowest bound is \\\\$1 may be attributed to eBay defining the lowest non-zero bid amount. Therefore, we consider our lowest bound to be \\\\$1."
   ]
  },
  {
   "cell_type": "code",
   "execution_count": 30,
   "id": "623903e4",
   "metadata": {},
   "outputs": [
    {
     "data": {
      "text/plain": [
       "price_dollars\n",
       "99999999    1\n",
       "27322222    1\n",
       "12345678    3\n",
       "11111111    2\n",
       "10000000    1\n",
       "3890000     1\n",
       "1300000     1\n",
       "1234566     1\n",
       "999999      2\n",
       "999990      1\n",
       "350000      1\n",
       "345000      1\n",
       "299000      1\n",
       "295000      1\n",
       "265000      1\n",
       "259000      1\n",
       "250000      1\n",
       "220000      1\n",
       "198000      1\n",
       "197000      1\n",
       "194000      1\n",
       "190000      1\n",
       "180000      1\n",
       "175000      1\n",
       "169999      1\n",
       "169000      1\n",
       "163991      1\n",
       "163500      1\n",
       "155000      1\n",
       "151990      1\n",
       "Name: count, dtype: int64"
      ]
     },
     "execution_count": 30,
     "metadata": {},
     "output_type": "execute_result"
    }
   ],
   "source": [
    "autos[\"price_dollars\"].value_counts().sort_index(ascending=False).head(30)"
   ]
  },
  {
   "cell_type": "code",
   "execution_count": 31,
   "id": "90948651",
   "metadata": {},
   "outputs": [
    {
     "data": {
      "text/plain": [
       "0.027999999999999997"
      ]
     },
     "execution_count": 31,
     "metadata": {},
     "output_type": "execute_result"
    }
   ],
   "source": [
    "14/50000*100"
   ]
  },
  {
   "cell_type": "markdown",
   "id": "15376267",
   "metadata": {},
   "source": [
    "There is a significant price spike after \\$350,000 with 14 cars above that number, up to \\\\$1 billion. We can consider these 14 cars to be outliers as they only represent 0.03% of the dataset."
   ]
  },
  {
   "cell_type": "markdown",
   "id": "aca12011",
   "metadata": {},
   "source": [
    "### Remove price outliers"
   ]
  },
  {
   "cell_type": "code",
   "execution_count": 32,
   "id": "315f4082",
   "metadata": {},
   "outputs": [],
   "source": [
    "autos = autos[autos[\"price_dollars\"].between(1, 350000)]"
   ]
  },
  {
   "cell_type": "code",
   "execution_count": 33,
   "id": "ee87c18a",
   "metadata": {},
   "outputs": [
    {
     "data": {
      "text/plain": [
       "(48565, 17)"
      ]
     },
     "execution_count": 33,
     "metadata": {},
     "output_type": "execute_result"
    }
   ],
   "source": [
    "autos.shape"
   ]
  },
  {
   "cell_type": "code",
   "execution_count": 34,
   "id": "3023881a",
   "metadata": {},
   "outputs": [
    {
     "data": {
      "text/plain": [
       "1435"
      ]
     },
     "execution_count": 34,
     "metadata": {},
     "output_type": "execute_result"
    }
   ],
   "source": [
    "50000-48565"
   ]
  },
  {
   "cell_type": "markdown",
   "id": "92814235",
   "metadata": {},
   "source": [
    "Therefore, we exclude prices outside the range of \\\\$1 - \\\\$350,000 from our analysis by removing the 1,435 outliers."
   ]
  },
  {
   "cell_type": "markdown",
   "id": "2ca874e2",
   "metadata": {},
   "source": [
    "## Explore car odometer readings"
   ]
  },
  {
   "cell_type": "markdown",
   "id": "1aea0fe2",
   "metadata": {},
   "source": [
    "Now that we've filtered the dataset for reasonable price values, we move on to odometer readings."
   ]
  },
  {
   "cell_type": "code",
   "execution_count": 35,
   "id": "5c5dfb62",
   "metadata": {},
   "outputs": [
    {
     "name": "stdout",
     "output_type": "stream",
     "text": [
      "(13,)\n"
     ]
    }
   ],
   "source": [
    "print(autos[\"odometer_km\"].unique().shape)"
   ]
  },
  {
   "cell_type": "code",
   "execution_count": 36,
   "id": "d4be7d41",
   "metadata": {
    "scrolled": false
   },
   "outputs": [
    {
     "data": {
      "text/plain": [
       "odometer_km\n",
       "5000        836\n",
       "10000       253\n",
       "20000       762\n",
       "30000       780\n",
       "40000       815\n",
       "50000      1012\n",
       "60000      1155\n",
       "70000      1217\n",
       "80000      1415\n",
       "90000      1734\n",
       "100000     2115\n",
       "125000     5057\n",
       "150000    31414\n",
       "Name: count, dtype: int64"
      ]
     },
     "execution_count": 36,
     "metadata": {},
     "output_type": "execute_result"
    }
   ],
   "source": [
    "autos[\"odometer_km\"].value_counts().sort_index().head(13)"
   ]
  },
  {
   "cell_type": "code",
   "execution_count": 37,
   "id": "c512661b",
   "metadata": {},
   "outputs": [
    {
     "name": "stdout",
     "output_type": "stream",
     "text": [
      "64.68444352929063\n",
      "79.45228044888295\n"
     ]
    }
   ],
   "source": [
    "print(31414/48565*100)\n",
    "print((2115+5057+31414)/48565*100)"
   ]
  },
  {
   "cell_type": "markdown",
   "id": "27f47f33",
   "metadata": {},
   "source": [
    "There are more cars with high mileage than low mileage which may indicate most of the cars on this eBay site can potentially be much older. Assuming an average mileage of 10,000 km a year, 65% of the listings are 15+ year old cars and a whopping 79% of the listings are more than 10 years old. The high count of cars with the 150,000 km reading could be that this is the highest value eBay allows as an input on their site so we interpret the 150,000 category as cars with mileage at least 150,000 km."
   ]
  },
  {
   "cell_type": "markdown",
   "id": "4c810c39",
   "metadata": {},
   "source": [
    "There appears to be no outliers when analyzing mileage."
   ]
  },
  {
   "cell_type": "markdown",
   "id": "8710e39d",
   "metadata": {},
   "source": [
    "## Change data type for dates stored as text"
   ]
  },
  {
   "cell_type": "markdown",
   "id": "50f29c22",
   "metadata": {},
   "source": [
    "Currently, the dates `date_crawled`, `date_created`, and `last_seen` are non-numerical and stored as strings. We'll want to convert these into a proper datetime format."
   ]
  },
  {
   "cell_type": "code",
   "execution_count": 38,
   "id": "f787f04e",
   "metadata": {},
   "outputs": [
    {
     "data": {
      "text/html": [
       "<div>\n",
       "<style scoped>\n",
       "    .dataframe tbody tr th:only-of-type {\n",
       "        vertical-align: middle;\n",
       "    }\n",
       "\n",
       "    .dataframe tbody tr th {\n",
       "        vertical-align: top;\n",
       "    }\n",
       "\n",
       "    .dataframe thead th {\n",
       "        text-align: right;\n",
       "    }\n",
       "</style>\n",
       "<table border=\"1\" class=\"dataframe\">\n",
       "  <thead>\n",
       "    <tr style=\"text-align: right;\">\n",
       "      <th></th>\n",
       "      <th>date_crawled</th>\n",
       "      <th>date_created</th>\n",
       "      <th>last_seen</th>\n",
       "    </tr>\n",
       "  </thead>\n",
       "  <tbody>\n",
       "    <tr>\n",
       "      <th>0</th>\n",
       "      <td>2016-03-26 17:47:46</td>\n",
       "      <td>2016-03-26 00:00:00</td>\n",
       "      <td>2016-04-06 06:45:54</td>\n",
       "    </tr>\n",
       "    <tr>\n",
       "      <th>1</th>\n",
       "      <td>2016-04-04 13:38:56</td>\n",
       "      <td>2016-04-04 00:00:00</td>\n",
       "      <td>2016-04-06 14:45:08</td>\n",
       "    </tr>\n",
       "    <tr>\n",
       "      <th>2</th>\n",
       "      <td>2016-03-26 18:57:24</td>\n",
       "      <td>2016-03-26 00:00:00</td>\n",
       "      <td>2016-04-06 20:15:37</td>\n",
       "    </tr>\n",
       "    <tr>\n",
       "      <th>3</th>\n",
       "      <td>2016-03-12 16:58:10</td>\n",
       "      <td>2016-03-12 00:00:00</td>\n",
       "      <td>2016-03-15 03:16:28</td>\n",
       "    </tr>\n",
       "    <tr>\n",
       "      <th>4</th>\n",
       "      <td>2016-04-01 14:38:50</td>\n",
       "      <td>2016-04-01 00:00:00</td>\n",
       "      <td>2016-04-01 14:38:50</td>\n",
       "    </tr>\n",
       "    <tr>\n",
       "      <th>5</th>\n",
       "      <td>2016-03-21 13:47:45</td>\n",
       "      <td>2016-03-21 00:00:00</td>\n",
       "      <td>2016-04-06 09:45:21</td>\n",
       "    </tr>\n",
       "    <tr>\n",
       "      <th>6</th>\n",
       "      <td>2016-03-20 17:55:21</td>\n",
       "      <td>2016-03-20 00:00:00</td>\n",
       "      <td>2016-03-23 02:48:59</td>\n",
       "    </tr>\n",
       "    <tr>\n",
       "      <th>7</th>\n",
       "      <td>2016-03-16 18:55:19</td>\n",
       "      <td>2016-03-16 00:00:00</td>\n",
       "      <td>2016-04-07 03:17:32</td>\n",
       "    </tr>\n",
       "    <tr>\n",
       "      <th>8</th>\n",
       "      <td>2016-03-22 16:51:34</td>\n",
       "      <td>2016-03-22 00:00:00</td>\n",
       "      <td>2016-03-26 18:18:10</td>\n",
       "    </tr>\n",
       "    <tr>\n",
       "      <th>9</th>\n",
       "      <td>2016-03-16 13:47:02</td>\n",
       "      <td>2016-03-16 00:00:00</td>\n",
       "      <td>2016-04-06 10:46:35</td>\n",
       "    </tr>\n",
       "  </tbody>\n",
       "</table>\n",
       "</div>"
      ],
      "text/plain": [
       "          date_crawled         date_created            last_seen\n",
       "0  2016-03-26 17:47:46  2016-03-26 00:00:00  2016-04-06 06:45:54\n",
       "1  2016-04-04 13:38:56  2016-04-04 00:00:00  2016-04-06 14:45:08\n",
       "2  2016-03-26 18:57:24  2016-03-26 00:00:00  2016-04-06 20:15:37\n",
       "3  2016-03-12 16:58:10  2016-03-12 00:00:00  2016-03-15 03:16:28\n",
       "4  2016-04-01 14:38:50  2016-04-01 00:00:00  2016-04-01 14:38:50\n",
       "5  2016-03-21 13:47:45  2016-03-21 00:00:00  2016-04-06 09:45:21\n",
       "6  2016-03-20 17:55:21  2016-03-20 00:00:00  2016-03-23 02:48:59\n",
       "7  2016-03-16 18:55:19  2016-03-16 00:00:00  2016-04-07 03:17:32\n",
       "8  2016-03-22 16:51:34  2016-03-22 00:00:00  2016-03-26 18:18:10\n",
       "9  2016-03-16 13:47:02  2016-03-16 00:00:00  2016-04-06 10:46:35"
      ]
     },
     "execution_count": 38,
     "metadata": {},
     "output_type": "execute_result"
    }
   ],
   "source": [
    "autos[[\"date_crawled\", \"date_created\", \"last_seen\"]].head(10)"
   ]
  },
  {
   "cell_type": "markdown",
   "id": "636e6113",
   "metadata": {},
   "source": [
    "Luckily for us, they appear all to have the same yyyy-mm-dd HH:MM:SS format."
   ]
  },
  {
   "cell_type": "code",
   "execution_count": 39,
   "id": "30470882",
   "metadata": {},
   "outputs": [
    {
     "name": "stdout",
     "output_type": "stream",
     "text": [
      "(48565,)\n",
      "(48565,)\n",
      "(48565,)\n"
     ]
    }
   ],
   "source": [
    "print(autos[\"date_crawled\"].shape)\n",
    "print(autos[\"date_created\"].shape)\n",
    "print(autos[\"last_seen\"].shape)"
   ]
  },
  {
   "cell_type": "markdown",
   "id": "b6d2b313",
   "metadata": {},
   "source": [
    "### Crawl dates"
   ]
  },
  {
   "cell_type": "code",
   "execution_count": 40,
   "id": "313b131b",
   "metadata": {
    "scrolled": true
   },
   "outputs": [],
   "source": [
    "date_crawled_freq = autos[\"date_crawled\"].str[:10].value_counts(normalize=True, dropna=False).sort_index()"
   ]
  },
  {
   "cell_type": "code",
   "execution_count": 41,
   "id": "71d48a7c",
   "metadata": {},
   "outputs": [
    {
     "name": "stdout",
     "output_type": "stream",
     "text": [
      "date_crawled\n",
      "2016-03-05    0.025327\n",
      "2016-03-06    0.014043\n",
      "2016-03-07    0.036014\n",
      "2016-03-08    0.033296\n",
      "2016-03-09    0.033090\n",
      "Name: proportion, dtype: float64\n",
      "date_crawled\n",
      "2016-04-03    0.038608\n",
      "2016-04-04    0.036487\n",
      "2016-04-05    0.013096\n",
      "2016-04-06    0.003171\n",
      "2016-04-07    0.001400\n",
      "Name: proportion, dtype: float64\n"
     ]
    }
   ],
   "source": [
    "print(date_crawled_freq.head())\n",
    "print(date_crawled_freq.tail())"
   ]
  },
  {
   "cell_type": "code",
   "execution_count": 42,
   "id": "be0b7855",
   "metadata": {
    "scrolled": true
   },
   "outputs": [
    {
     "data": {
      "image/png": "[encoded data removed]",
      "text/plain": [
       "<Figure size 640x480 with 1 Axes>"
      ]
     },
     "metadata": {},
     "output_type": "display_data"
    }
   ],
   "source": [
    "%matplotlib inline\n",
    "ax = date_crawled_freq.plot(kind=\"barh\")\n",
    "ax.invert_yaxis()"
   ]
  },
  {
   "cell_type": "markdown",
   "id": "124cc550",
   "metadata": {},
   "source": [
    "The listings appeared to have been crawled over a one month period from March 2016 to April 2016. Aside from a few listings, the distribution appears to be relatively uniform."
   ]
  },
  {
   "cell_type": "markdown",
   "id": "07a92329",
   "metadata": {},
   "source": [
    "### Ad creation dates"
   ]
  },
  {
   "cell_type": "code",
   "execution_count": 43,
   "id": "5ccdbf0f",
   "metadata": {
    "scrolled": false
   },
   "outputs": [],
   "source": [
    "date_created_freq = autos[\"date_created\"].str[:10].value_counts(normalize=True, dropna=False).sort_index()"
   ]
  },
  {
   "cell_type": "code",
   "execution_count": 44,
   "id": "c86dfd31",
   "metadata": {},
   "outputs": [
    {
     "name": "stdout",
     "output_type": "stream",
     "text": [
      "date_created\n",
      "2015-06-11    0.000021\n",
      "2015-08-10    0.000021\n",
      "2015-09-09    0.000021\n",
      "2015-11-10    0.000021\n",
      "2015-12-05    0.000021\n",
      "Name: proportion, dtype: float64\n",
      "date_created\n",
      "2016-04-03    0.038855\n",
      "2016-04-04    0.036858\n",
      "2016-04-05    0.011819\n",
      "2016-04-06    0.003253\n",
      "2016-04-07    0.001256\n",
      "Name: proportion, dtype: float64\n"
     ]
    }
   ],
   "source": [
    "print(date_created_freq.head())\n",
    "print(date_created_freq.tail())"
   ]
  },
  {
   "cell_type": "markdown",
   "id": "1f5d261e",
   "metadata": {},
   "source": [
    "Upon first glance, it appears that eBay wasn't utilized in earlier months as the dates created in 2015 span up to two months whereas the frequency turns into days by April 2015."
   ]
  },
  {
   "cell_type": "code",
   "execution_count": 45,
   "id": "41f8eade",
   "metadata": {},
   "outputs": [
    {
     "data": {
      "text/plain": [
       "date_created\n",
       "2016-03    40673\n",
       "2016-04     7813\n",
       "2016-02       61\n",
       "2016-01       12\n",
       "2015-12        2\n",
       "2015-11        1\n",
       "2015-08        1\n",
       "2015-06        1\n",
       "2015-09        1\n",
       "Name: count, dtype: int64"
      ]
     },
     "execution_count": 45,
     "metadata": {},
     "output_type": "execute_result"
    }
   ],
   "source": [
    "autos[\"date_created\"].str[:7].value_counts()"
   ]
  },
  {
   "cell_type": "markdown",
   "id": "e76c10b6",
   "metadata": {},
   "source": [
    "Bucketing the creation dates by month, it is apparent that the usage of this eBay to sell used cars did not pick up until early 2016."
   ]
  },
  {
   "cell_type": "code",
   "execution_count": 46,
   "id": "e916b303",
   "metadata": {
    "scrolled": true
   },
   "outputs": [
    {
     "data": {
      "text/html": [
       "<div>\n",
       "<style scoped>\n",
       "    .dataframe tbody tr th:only-of-type {\n",
       "        vertical-align: middle;\n",
       "    }\n",
       "\n",
       "    .dataframe tbody tr th {\n",
       "        vertical-align: top;\n",
       "    }\n",
       "\n",
       "    .dataframe thead th {\n",
       "        text-align: right;\n",
       "    }\n",
       "</style>\n",
       "<table border=\"1\" class=\"dataframe\">\n",
       "  <thead>\n",
       "    <tr style=\"text-align: right;\">\n",
       "      <th></th>\n",
       "      <th>date_crawled</th>\n",
       "      <th>name</th>\n",
       "      <th>price_dollars</th>\n",
       "      <th>abtest</th>\n",
       "      <th>vehicle_type</th>\n",
       "      <th>registration_year</th>\n",
       "      <th>gearbox</th>\n",
       "      <th>power_ps</th>\n",
       "      <th>model</th>\n",
       "      <th>odometer_km</th>\n",
       "      <th>registration_month</th>\n",
       "      <th>fuel_type</th>\n",
       "      <th>brand</th>\n",
       "      <th>not_repaired_damage</th>\n",
       "      <th>date_created</th>\n",
       "      <th>postal_code</th>\n",
       "      <th>last_seen</th>\n",
       "    </tr>\n",
       "  </thead>\n",
       "  <tbody>\n",
       "    <tr>\n",
       "      <th>2243</th>\n",
       "      <td>2016-03-23 23:37:01</td>\n",
       "      <td>Gepflegter_Peugoet_207_Sport_VTi_Sport</td>\n",
       "      <td>5499</td>\n",
       "      <td>control</td>\n",
       "      <td>limousine</td>\n",
       "      <td>2009</td>\n",
       "      <td>manuell</td>\n",
       "      <td>95</td>\n",
       "      <td>2_reihe</td>\n",
       "      <td>70000</td>\n",
       "      <td>3</td>\n",
       "      <td>benzin</td>\n",
       "      <td>peugeot</td>\n",
       "      <td>nein</td>\n",
       "      <td>2015-11-10 00:00:00</td>\n",
       "      <td>22941</td>\n",
       "      <td>2016-04-07 09:15:21</td>\n",
       "    </tr>\n",
       "    <tr>\n",
       "      <th>20649</th>\n",
       "      <td>2016-03-08 17:57:45</td>\n",
       "      <td>Cabrio_Peugeot_206_CC_Platinium_zum_Winterpreis!</td>\n",
       "      <td>5200</td>\n",
       "      <td>control</td>\n",
       "      <td>cabrio</td>\n",
       "      <td>2006</td>\n",
       "      <td>manuell</td>\n",
       "      <td>109</td>\n",
       "      <td>2_reihe</td>\n",
       "      <td>80000</td>\n",
       "      <td>11</td>\n",
       "      <td>benzin</td>\n",
       "      <td>peugeot</td>\n",
       "      <td>nein</td>\n",
       "      <td>2015-08-10 00:00:00</td>\n",
       "      <td>26382</td>\n",
       "      <td>2016-04-05 20:46:54</td>\n",
       "    </tr>\n",
       "    <tr>\n",
       "      <th>22781</th>\n",
       "      <td>2016-03-23 01:48:59</td>\n",
       "      <td>Mercedes_Benz_C220_BT__7G_Tronic_AMG__Modellja...</td>\n",
       "      <td>47900</td>\n",
       "      <td>test</td>\n",
       "      <td>limousine</td>\n",
       "      <td>2014</td>\n",
       "      <td>automatik</td>\n",
       "      <td>0</td>\n",
       "      <td>c_klasse</td>\n",
       "      <td>20000</td>\n",
       "      <td>2</td>\n",
       "      <td>diesel</td>\n",
       "      <td>mercedes_benz</td>\n",
       "      <td>NaN</td>\n",
       "      <td>2015-06-11 00:00:00</td>\n",
       "      <td>46145</td>\n",
       "      <td>2016-04-06 09:47:02</td>\n",
       "    </tr>\n",
       "    <tr>\n",
       "      <th>27986</th>\n",
       "      <td>2016-03-18 10:41:20</td>\n",
       "      <td>Subaru_Impreza_GC_8__2.0__4x4__Super_Optik__Kl...</td>\n",
       "      <td>900</td>\n",
       "      <td>control</td>\n",
       "      <td>limousine</td>\n",
       "      <td>1997</td>\n",
       "      <td>automatik</td>\n",
       "      <td>115</td>\n",
       "      <td>impreza</td>\n",
       "      <td>150000</td>\n",
       "      <td>4</td>\n",
       "      <td>benzin</td>\n",
       "      <td>subaru</td>\n",
       "      <td>nein</td>\n",
       "      <td>2015-12-05 00:00:00</td>\n",
       "      <td>2943</td>\n",
       "      <td>2016-03-23 13:56:25</td>\n",
       "    </tr>\n",
       "    <tr>\n",
       "      <th>34883</th>\n",
       "      <td>2016-03-05 21:51:02</td>\n",
       "      <td>OPEL_CORSA_Apfelgruen_dringend_zu_verkaufen!</td>\n",
       "      <td>9500</td>\n",
       "      <td>test</td>\n",
       "      <td>kleinwagen</td>\n",
       "      <td>2013</td>\n",
       "      <td>manuell</td>\n",
       "      <td>90</td>\n",
       "      <td>corsa</td>\n",
       "      <td>50000</td>\n",
       "      <td>4</td>\n",
       "      <td>diesel</td>\n",
       "      <td>opel</td>\n",
       "      <td>nein</td>\n",
       "      <td>2015-09-09 00:00:00</td>\n",
       "      <td>98739</td>\n",
       "      <td>2016-04-05 17:46:04</td>\n",
       "    </tr>\n",
       "    <tr>\n",
       "      <th>36993</th>\n",
       "      <td>2016-03-15 23:57:10</td>\n",
       "      <td>Smart_fortwo_coupé_pulse__45kW/61_PS__schwarz</td>\n",
       "      <td>2400</td>\n",
       "      <td>control</td>\n",
       "      <td>limousine</td>\n",
       "      <td>2004</td>\n",
       "      <td>automatik</td>\n",
       "      <td>61</td>\n",
       "      <td>fortwo</td>\n",
       "      <td>90000</td>\n",
       "      <td>6</td>\n",
       "      <td>benzin</td>\n",
       "      <td>smart</td>\n",
       "      <td>nein</td>\n",
       "      <td>2015-12-30 00:00:00</td>\n",
       "      <td>10315</td>\n",
       "      <td>2016-04-06 15:17:11</td>\n",
       "    </tr>\n",
       "  </tbody>\n",
       "</table>\n",
       "</div>"
      ],
      "text/plain": [
       "              date_crawled                                               name   \n",
       "2243   2016-03-23 23:37:01             Gepflegter_Peugoet_207_Sport_VTi_Sport  \\\n",
       "20649  2016-03-08 17:57:45   Cabrio_Peugeot_206_CC_Platinium_zum_Winterpreis!   \n",
       "22781  2016-03-23 01:48:59  Mercedes_Benz_C220_BT__7G_Tronic_AMG__Modellja...   \n",
       "27986  2016-03-18 10:41:20  Subaru_Impreza_GC_8__2.0__4x4__Super_Optik__Kl...   \n",
       "34883  2016-03-05 21:51:02       OPEL_CORSA_Apfelgruen_dringend_zu_verkaufen!   \n",
       "36993  2016-03-15 23:57:10      Smart_fortwo_coupé_pulse__45kW/61_PS__schwarz   \n",
       "\n",
       "       price_dollars   abtest vehicle_type  registration_year    gearbox   \n",
       "2243            5499  control    limousine               2009    manuell  \\\n",
       "20649           5200  control       cabrio               2006    manuell   \n",
       "22781          47900     test    limousine               2014  automatik   \n",
       "27986            900  control    limousine               1997  automatik   \n",
       "34883           9500     test   kleinwagen               2013    manuell   \n",
       "36993           2400  control    limousine               2004  automatik   \n",
       "\n",
       "       power_ps     model  odometer_km  registration_month fuel_type   \n",
       "2243         95   2_reihe        70000                   3    benzin  \\\n",
       "20649       109   2_reihe        80000                  11    benzin   \n",
       "22781         0  c_klasse        20000                   2    diesel   \n",
       "27986       115   impreza       150000                   4    benzin   \n",
       "34883        90     corsa        50000                   4    diesel   \n",
       "36993        61    fortwo        90000                   6    benzin   \n",
       "\n",
       "               brand not_repaired_damage         date_created  postal_code   \n",
       "2243         peugeot                nein  2015-11-10 00:00:00        22941  \\\n",
       "20649        peugeot                nein  2015-08-10 00:00:00        26382   \n",
       "22781  mercedes_benz                 NaN  2015-06-11 00:00:00        46145   \n",
       "27986         subaru                nein  2015-12-05 00:00:00         2943   \n",
       "34883           opel                nein  2015-09-09 00:00:00        98739   \n",
       "36993          smart                nein  2015-12-30 00:00:00        10315   \n",
       "\n",
       "                 last_seen  \n",
       "2243   2016-04-07 09:15:21  \n",
       "20649  2016-04-05 20:46:54  \n",
       "22781  2016-04-06 09:47:02  \n",
       "27986  2016-03-23 13:56:25  \n",
       "34883  2016-04-05 17:46:04  \n",
       "36993  2016-04-06 15:17:11  "
      ]
     },
     "execution_count": 46,
     "metadata": {},
     "output_type": "execute_result"
    }
   ],
   "source": [
    "autos[autos[\"date_created\"].str[:7] < \"2016-01\"]"
   ]
  },
  {
   "cell_type": "markdown",
   "id": "e0ec200e",
   "metadata": {},
   "source": [
    "Inspecting the six listings in 2015, four sold were limousines."
   ]
  },
  {
   "cell_type": "markdown",
   "id": "e32f0d55",
   "metadata": {},
   "source": [
    "### Last seen dates"
   ]
  },
  {
   "cell_type": "code",
   "execution_count": 47,
   "id": "2277f6e6",
   "metadata": {
    "scrolled": true
   },
   "outputs": [],
   "source": [
    "last_seen_freq = autos[\"last_seen\"].str[:10].value_counts(normalize=True, dropna=False).sort_index()"
   ]
  },
  {
   "cell_type": "code",
   "execution_count": 48,
   "id": "67db1d42",
   "metadata": {},
   "outputs": [
    {
     "name": "stdout",
     "output_type": "stream",
     "text": [
      "last_seen\n",
      "2016-03-05    0.001071\n",
      "2016-03-06    0.004324\n",
      "2016-03-07    0.005395\n",
      "2016-03-08    0.007413\n",
      "2016-03-09    0.009595\n",
      "Name: proportion, dtype: float64\n",
      "last_seen\n",
      "2016-04-03    0.025203\n",
      "2016-04-04    0.024483\n",
      "2016-04-05    0.124761\n",
      "2016-04-06    0.221806\n",
      "2016-04-07    0.131947\n",
      "Name: proportion, dtype: float64\n"
     ]
    }
   ],
   "source": [
    "print(last_seen_freq.head())\n",
    "print(last_seen_freq.tail())"
   ]
  },
  {
   "cell_type": "code",
   "execution_count": 49,
   "id": "c74f7e76",
   "metadata": {},
   "outputs": [
    {
     "data": {
      "image/png": "[encoded data removed]",
      "text/plain": [
       "<Figure size 640x480 with 1 Axes>"
      ]
     },
     "metadata": {},
     "output_type": "display_data"
    }
   ],
   "source": [
    "%matplotlib inline\n",
    "ax = last_seen_freq.plot(kind=\"barh\")\n",
    "ax.invert_yaxis()"
   ]
  },
  {
   "cell_type": "markdown",
   "id": "39e6183d",
   "metadata": {},
   "source": [
    "Aside from the most recent three days, it appears the distribution of car listings being removed, presumably due to being sold, is relatively uniform. One explanation for the discrepancy on April 5-7 could be the recency of the data being scraped and how often eBay updates the status of the listings."
   ]
  },
  {
   "cell_type": "markdown",
   "id": "55eb2ad5",
   "metadata": {},
   "source": [
    "## Explore registration years"
   ]
  },
  {
   "cell_type": "code",
   "execution_count": 50,
   "id": "ce3f3176",
   "metadata": {
    "scrolled": false
   },
   "outputs": [
    {
     "data": {
      "text/plain": [
       "registration_year\n",
       "1000    1\n",
       "1001    1\n",
       "1111    1\n",
       "1800    2\n",
       "1910    5\n",
       "       ..\n",
       "5911    1\n",
       "6200    1\n",
       "8888    1\n",
       "9000    1\n",
       "9999    3\n",
       "Name: count, Length: 95, dtype: int64"
      ]
     },
     "execution_count": 50,
     "metadata": {},
     "output_type": "execute_result"
    }
   ],
   "source": [
    "autos[\"registration_year\"].value_counts().sort_index()"
   ]
  },
  {
   "cell_type": "code",
   "execution_count": 51,
   "id": "945fa87e",
   "metadata": {
    "scrolled": false
   },
   "outputs": [
    {
     "name": "stdout",
     "output_type": "stream",
     "text": [
      "registration_year\n",
      "1000    1\n",
      "1001    1\n",
      "1111    1\n",
      "1800    2\n",
      "1910    5\n",
      "1927    1\n",
      "1929    1\n",
      "1931    1\n",
      "1934    2\n",
      "1937    4\n",
      "Name: count, dtype: int64\n"
     ]
    }
   ],
   "source": [
    "print(autos[\"registration_year\"].value_counts().sort_index().head(10))"
   ]
  },
  {
   "cell_type": "code",
   "execution_count": 52,
   "id": "dbb650fb",
   "metadata": {},
   "outputs": [
    {
     "data": {
      "text/plain": [
       "0.010295480284155256"
      ]
     },
     "execution_count": 52,
     "metadata": {},
     "output_type": "execute_result"
    }
   ],
   "source": [
    "5/48565*100"
   ]
  },
  {
   "cell_type": "markdown",
   "id": "3ca3abfb",
   "metadata": {},
   "source": [
    "Automobiles weren't invented until 1886 so we can remove the following five cars with incorrect registration years, bringing the total dataset row count down from 48,565 to 48,560."
   ]
  },
  {
   "cell_type": "code",
   "execution_count": 53,
   "id": "349f3c51",
   "metadata": {
    "scrolled": true
   },
   "outputs": [
    {
     "data": {
      "text/html": [
       "<div>\n",
       "<style scoped>\n",
       "    .dataframe tbody tr th:only-of-type {\n",
       "        vertical-align: middle;\n",
       "    }\n",
       "\n",
       "    .dataframe tbody tr th {\n",
       "        vertical-align: top;\n",
       "    }\n",
       "\n",
       "    .dataframe thead th {\n",
       "        text-align: right;\n",
       "    }\n",
       "</style>\n",
       "<table border=\"1\" class=\"dataframe\">\n",
       "  <thead>\n",
       "    <tr style=\"text-align: right;\">\n",
       "      <th></th>\n",
       "      <th>date_crawled</th>\n",
       "      <th>name</th>\n",
       "      <th>price_dollars</th>\n",
       "      <th>abtest</th>\n",
       "      <th>vehicle_type</th>\n",
       "      <th>registration_year</th>\n",
       "      <th>gearbox</th>\n",
       "      <th>power_ps</th>\n",
       "      <th>model</th>\n",
       "      <th>odometer_km</th>\n",
       "      <th>registration_month</th>\n",
       "      <th>fuel_type</th>\n",
       "      <th>brand</th>\n",
       "      <th>not_repaired_damage</th>\n",
       "      <th>date_created</th>\n",
       "      <th>postal_code</th>\n",
       "      <th>last_seen</th>\n",
       "    </tr>\n",
       "  </thead>\n",
       "  <tbody>\n",
       "    <tr>\n",
       "      <th>10556</th>\n",
       "      <td>2016-04-01 06:02:10</td>\n",
       "      <td>UNFAL_Auto</td>\n",
       "      <td>450</td>\n",
       "      <td>control</td>\n",
       "      <td>NaN</td>\n",
       "      <td>1800</td>\n",
       "      <td>NaN</td>\n",
       "      <td>1800</td>\n",
       "      <td>NaN</td>\n",
       "      <td>5000</td>\n",
       "      <td>2</td>\n",
       "      <td>NaN</td>\n",
       "      <td>mitsubishi</td>\n",
       "      <td>nein</td>\n",
       "      <td>2016-04-01 00:00:00</td>\n",
       "      <td>63322</td>\n",
       "      <td>2016-04-01 09:42:30</td>\n",
       "    </tr>\n",
       "    <tr>\n",
       "      <th>22316</th>\n",
       "      <td>2016-03-29 16:56:41</td>\n",
       "      <td>VW_Kaefer.__Zwei_zum_Preis_von_einem.</td>\n",
       "      <td>1500</td>\n",
       "      <td>control</td>\n",
       "      <td>NaN</td>\n",
       "      <td>1000</td>\n",
       "      <td>manuell</td>\n",
       "      <td>0</td>\n",
       "      <td>kaefer</td>\n",
       "      <td>5000</td>\n",
       "      <td>0</td>\n",
       "      <td>benzin</td>\n",
       "      <td>volkswagen</td>\n",
       "      <td>NaN</td>\n",
       "      <td>2016-03-29 00:00:00</td>\n",
       "      <td>48324</td>\n",
       "      <td>2016-03-31 10:15:28</td>\n",
       "    </tr>\n",
       "    <tr>\n",
       "      <th>24511</th>\n",
       "      <td>2016-03-17 19:45:11</td>\n",
       "      <td>Trabant__wartburg__Ostalgie</td>\n",
       "      <td>490</td>\n",
       "      <td>control</td>\n",
       "      <td>NaN</td>\n",
       "      <td>1111</td>\n",
       "      <td>NaN</td>\n",
       "      <td>0</td>\n",
       "      <td>NaN</td>\n",
       "      <td>5000</td>\n",
       "      <td>0</td>\n",
       "      <td>NaN</td>\n",
       "      <td>trabant</td>\n",
       "      <td>NaN</td>\n",
       "      <td>2016-03-17 00:00:00</td>\n",
       "      <td>16818</td>\n",
       "      <td>2016-04-07 07:17:29</td>\n",
       "    </tr>\n",
       "    <tr>\n",
       "      <th>32585</th>\n",
       "      <td>2016-04-02 16:56:39</td>\n",
       "      <td>UNFAL_Auto</td>\n",
       "      <td>450</td>\n",
       "      <td>control</td>\n",
       "      <td>NaN</td>\n",
       "      <td>1800</td>\n",
       "      <td>NaN</td>\n",
       "      <td>1800</td>\n",
       "      <td>NaN</td>\n",
       "      <td>5000</td>\n",
       "      <td>2</td>\n",
       "      <td>NaN</td>\n",
       "      <td>mitsubishi</td>\n",
       "      <td>nein</td>\n",
       "      <td>2016-04-02 00:00:00</td>\n",
       "      <td>63322</td>\n",
       "      <td>2016-04-04 14:46:21</td>\n",
       "    </tr>\n",
       "    <tr>\n",
       "      <th>49283</th>\n",
       "      <td>2016-03-15 18:38:53</td>\n",
       "      <td>Citroen_HY</td>\n",
       "      <td>7750</td>\n",
       "      <td>control</td>\n",
       "      <td>NaN</td>\n",
       "      <td>1001</td>\n",
       "      <td>NaN</td>\n",
       "      <td>0</td>\n",
       "      <td>andere</td>\n",
       "      <td>5000</td>\n",
       "      <td>0</td>\n",
       "      <td>NaN</td>\n",
       "      <td>citroen</td>\n",
       "      <td>NaN</td>\n",
       "      <td>2016-03-15 00:00:00</td>\n",
       "      <td>66706</td>\n",
       "      <td>2016-04-06 18:47:20</td>\n",
       "    </tr>\n",
       "  </tbody>\n",
       "</table>\n",
       "</div>"
      ],
      "text/plain": [
       "              date_crawled                                   name   \n",
       "10556  2016-04-01 06:02:10                             UNFAL_Auto  \\\n",
       "22316  2016-03-29 16:56:41  VW_Kaefer.__Zwei_zum_Preis_von_einem.   \n",
       "24511  2016-03-17 19:45:11            Trabant__wartburg__Ostalgie   \n",
       "32585  2016-04-02 16:56:39                             UNFAL_Auto   \n",
       "49283  2016-03-15 18:38:53                             Citroen_HY   \n",
       "\n",
       "       price_dollars   abtest vehicle_type  registration_year  gearbox   \n",
       "10556            450  control          NaN               1800      NaN  \\\n",
       "22316           1500  control          NaN               1000  manuell   \n",
       "24511            490  control          NaN               1111      NaN   \n",
       "32585            450  control          NaN               1800      NaN   \n",
       "49283           7750  control          NaN               1001      NaN   \n",
       "\n",
       "       power_ps   model  odometer_km  registration_month fuel_type   \n",
       "10556      1800     NaN         5000                   2       NaN  \\\n",
       "22316         0  kaefer         5000                   0    benzin   \n",
       "24511         0     NaN         5000                   0       NaN   \n",
       "32585      1800     NaN         5000                   2       NaN   \n",
       "49283         0  andere         5000                   0       NaN   \n",
       "\n",
       "            brand not_repaired_damage         date_created  postal_code   \n",
       "10556  mitsubishi                nein  2016-04-01 00:00:00        63322  \\\n",
       "22316  volkswagen                 NaN  2016-03-29 00:00:00        48324   \n",
       "24511     trabant                 NaN  2016-03-17 00:00:00        16818   \n",
       "32585  mitsubishi                nein  2016-04-02 00:00:00        63322   \n",
       "49283     citroen                 NaN  2016-03-15 00:00:00        66706   \n",
       "\n",
       "                 last_seen  \n",
       "10556  2016-04-01 09:42:30  \n",
       "22316  2016-03-31 10:15:28  \n",
       "24511  2016-04-07 07:17:29  \n",
       "32585  2016-04-04 14:46:21  \n",
       "49283  2016-04-06 18:47:20  "
      ]
     },
     "execution_count": 53,
     "metadata": {},
     "output_type": "execute_result"
    }
   ],
   "source": [
    "autos[autos[\"registration_year\"] < 1900]"
   ]
  },
  {
   "cell_type": "markdown",
   "id": "8c4de55a",
   "metadata": {},
   "source": [
    "Note the Citroen HY production years are between 1947 and 1981 but was listed with a registration year of 1001. Rather than attempting to correct this, and because the 5 cars only made up 1% of the whole dataset, it is removed from the analysis."
   ]
  },
  {
   "cell_type": "code",
   "execution_count": 54,
   "id": "0d7bd2cc",
   "metadata": {},
   "outputs": [],
   "source": [
    "autos = autos[autos[\"registration_year\"] > 1886]"
   ]
  },
  {
   "cell_type": "code",
   "execution_count": 55,
   "id": "dc281c0c",
   "metadata": {},
   "outputs": [
    {
     "data": {
      "text/plain": [
       "(48560, 17)"
      ]
     },
     "execution_count": 55,
     "metadata": {},
     "output_type": "execute_result"
    }
   ],
   "source": [
    "autos.shape"
   ]
  },
  {
   "cell_type": "code",
   "execution_count": 56,
   "id": "f16428f8",
   "metadata": {},
   "outputs": [
    {
     "name": "stdout",
     "output_type": "stream",
     "text": [
      "registration_year\n",
      "2010    1589\n",
      "2011    1623\n",
      "2012    1310\n",
      "2013     803\n",
      "2014     663\n",
      "2015     392\n",
      "2016    1220\n",
      "2017    1392\n",
      "2018     470\n",
      "2019       2\n",
      "2800       1\n",
      "4100       1\n",
      "4500       1\n",
      "4800       1\n",
      "5000       4\n",
      "5911       1\n",
      "6200       1\n",
      "8888       1\n",
      "9000       1\n",
      "9999       3\n",
      "Name: count, dtype: int64\n"
     ]
    }
   ],
   "source": [
    "print(autos[\"registration_year\"].value_counts().sort_index().tail(20))"
   ]
  },
  {
   "cell_type": "markdown",
   "id": "516d070c",
   "metadata": {},
   "source": [
    "Because April 7, 2016 was the most recent date the data was crawled, registration years higher than 2016 would be unreasonable. Therefore, we remove these from the analysis."
   ]
  },
  {
   "cell_type": "code",
   "execution_count": 57,
   "id": "21b8c06a",
   "metadata": {},
   "outputs": [],
   "source": [
    "autos = autos[autos[\"registration_year\"] <= 2016]"
   ]
  },
  {
   "cell_type": "code",
   "execution_count": 58,
   "id": "e1b19466",
   "metadata": {},
   "outputs": [
    {
     "name": "stdout",
     "output_type": "stream",
     "text": [
      "1910\n",
      "2016\n"
     ]
    }
   ],
   "source": [
    "print(min(autos[\"registration_year\"]))\n",
    "print(max(autos[\"registration_year\"]))"
   ]
  },
  {
   "cell_type": "markdown",
   "id": "27290839",
   "metadata": {},
   "source": [
    "## Explore columns with null values"
   ]
  },
  {
   "cell_type": "markdown",
   "id": "08b646a2",
   "metadata": {},
   "source": [
    "There are 5 columns with null values: `vehicle_type`, `gearbox`, `model`, `fuel_type` and `not_repaired_damage`."
   ]
  },
  {
   "cell_type": "markdown",
   "id": "cf852fea",
   "metadata": {},
   "source": [
    "### Missing `vehicle_type` values"
   ]
  },
  {
   "cell_type": "code",
   "execution_count": 59,
   "id": "28cfa9f8",
   "metadata": {},
   "outputs": [
    {
     "data": {
      "text/plain": [
       "array(['bus', 'limousine', 'kleinwagen', 'kombi', nan, 'coupe', 'suv',\n",
       "       'cabrio', 'andere'], dtype=object)"
      ]
     },
     "execution_count": 59,
     "metadata": {},
     "output_type": "execute_result"
    }
   ],
   "source": [
    "autos[\"vehicle_type\"].unique()"
   ]
  },
  {
   "cell_type": "code",
   "execution_count": 60,
   "id": "8d0014f0",
   "metadata": {
    "scrolled": true
   },
   "outputs": [
    {
     "data": {
      "text/plain": [
       "5.7925065872624835"
      ]
     },
     "execution_count": 60,
     "metadata": {},
     "output_type": "execute_result"
    }
   ],
   "source": [
    "autos[\"vehicle_type\"].isnull().sum()/len(autos)*100"
   ]
  },
  {
   "cell_type": "markdown",
   "id": "32855c5f",
   "metadata": {},
   "source": [
    "5.8\\% of the dataset has missing values for `vehicle_type`."
   ]
  },
  {
   "cell_type": "code",
   "execution_count": 61,
   "id": "704a5e26",
   "metadata": {},
   "outputs": [
    {
     "data": {
      "text/html": [
       "<div>\n",
       "<style scoped>\n",
       "    .dataframe tbody tr th:only-of-type {\n",
       "        vertical-align: middle;\n",
       "    }\n",
       "\n",
       "    .dataframe tbody tr th {\n",
       "        vertical-align: top;\n",
       "    }\n",
       "\n",
       "    .dataframe thead th {\n",
       "        text-align: right;\n",
       "    }\n",
       "</style>\n",
       "<table border=\"1\" class=\"dataframe\">\n",
       "  <thead>\n",
       "    <tr style=\"text-align: right;\">\n",
       "      <th></th>\n",
       "      <th>date_crawled</th>\n",
       "      <th>name</th>\n",
       "      <th>price_dollars</th>\n",
       "      <th>abtest</th>\n",
       "      <th>vehicle_type</th>\n",
       "      <th>registration_year</th>\n",
       "      <th>gearbox</th>\n",
       "      <th>power_ps</th>\n",
       "      <th>model</th>\n",
       "      <th>odometer_km</th>\n",
       "      <th>registration_month</th>\n",
       "      <th>fuel_type</th>\n",
       "      <th>brand</th>\n",
       "      <th>not_repaired_damage</th>\n",
       "      <th>date_created</th>\n",
       "      <th>postal_code</th>\n",
       "      <th>last_seen</th>\n",
       "    </tr>\n",
       "  </thead>\n",
       "  <tbody>\n",
       "    <tr>\n",
       "      <th>8</th>\n",
       "      <td>2016-03-22 16:51:34</td>\n",
       "      <td>Seat_Arosa</td>\n",
       "      <td>250</td>\n",
       "      <td>test</td>\n",
       "      <td>NaN</td>\n",
       "      <td>2000</td>\n",
       "      <td>manuell</td>\n",
       "      <td>0</td>\n",
       "      <td>arosa</td>\n",
       "      <td>150000</td>\n",
       "      <td>10</td>\n",
       "      <td>NaN</td>\n",
       "      <td>seat</td>\n",
       "      <td>nein</td>\n",
       "      <td>2016-03-22 00:00:00</td>\n",
       "      <td>7426</td>\n",
       "      <td>2016-03-26 18:18:10</td>\n",
       "    </tr>\n",
       "    <tr>\n",
       "      <th>11</th>\n",
       "      <td>2016-03-16 18:45:34</td>\n",
       "      <td>Mercedes_A140_Motorschaden</td>\n",
       "      <td>350</td>\n",
       "      <td>control</td>\n",
       "      <td>NaN</td>\n",
       "      <td>2000</td>\n",
       "      <td>NaN</td>\n",
       "      <td>0</td>\n",
       "      <td>NaN</td>\n",
       "      <td>150000</td>\n",
       "      <td>0</td>\n",
       "      <td>benzin</td>\n",
       "      <td>mercedes_benz</td>\n",
       "      <td>NaN</td>\n",
       "      <td>2016-03-16 00:00:00</td>\n",
       "      <td>17498</td>\n",
       "      <td>2016-03-16 18:45:34</td>\n",
       "    </tr>\n",
       "    <tr>\n",
       "      <th>46</th>\n",
       "      <td>2016-03-31 10:53:28</td>\n",
       "      <td>BMW_mit__Lpg</td>\n",
       "      <td>9000</td>\n",
       "      <td>control</td>\n",
       "      <td>NaN</td>\n",
       "      <td>2005</td>\n",
       "      <td>automatik</td>\n",
       "      <td>0</td>\n",
       "      <td>NaN</td>\n",
       "      <td>150000</td>\n",
       "      <td>0</td>\n",
       "      <td>NaN</td>\n",
       "      <td>bmw</td>\n",
       "      <td>NaN</td>\n",
       "      <td>2016-03-31 00:00:00</td>\n",
       "      <td>12351</td>\n",
       "      <td>2016-04-06 03:44:41</td>\n",
       "    </tr>\n",
       "    <tr>\n",
       "      <th>59</th>\n",
       "      <td>2016-03-17 17:50:54</td>\n",
       "      <td>Mercedes_A_Klasse_W_168__A_140_gruen</td>\n",
       "      <td>700</td>\n",
       "      <td>control</td>\n",
       "      <td>NaN</td>\n",
       "      <td>2016</td>\n",
       "      <td>manuell</td>\n",
       "      <td>0</td>\n",
       "      <td>a_klasse</td>\n",
       "      <td>150000</td>\n",
       "      <td>0</td>\n",
       "      <td>benzin</td>\n",
       "      <td>mercedes_benz</td>\n",
       "      <td>NaN</td>\n",
       "      <td>2016-03-17 00:00:00</td>\n",
       "      <td>95356</td>\n",
       "      <td>2016-03-19 17:46:47</td>\n",
       "    </tr>\n",
       "    <tr>\n",
       "      <th>64</th>\n",
       "      <td>2016-04-05 07:36:19</td>\n",
       "      <td>Autotransport__Abschlepp_Schlepper</td>\n",
       "      <td>40</td>\n",
       "      <td>test</td>\n",
       "      <td>NaN</td>\n",
       "      <td>2011</td>\n",
       "      <td>NaN</td>\n",
       "      <td>0</td>\n",
       "      <td>5er</td>\n",
       "      <td>150000</td>\n",
       "      <td>5</td>\n",
       "      <td>NaN</td>\n",
       "      <td>bmw</td>\n",
       "      <td>NaN</td>\n",
       "      <td>2016-04-05 00:00:00</td>\n",
       "      <td>40591</td>\n",
       "      <td>2016-04-07 12:16:01</td>\n",
       "    </tr>\n",
       "  </tbody>\n",
       "</table>\n",
       "</div>"
      ],
      "text/plain": [
       "           date_crawled                                  name  price_dollars   \n",
       "8   2016-03-22 16:51:34                            Seat_Arosa            250  \\\n",
       "11  2016-03-16 18:45:34            Mercedes_A140_Motorschaden            350   \n",
       "46  2016-03-31 10:53:28                          BMW_mit__Lpg           9000   \n",
       "59  2016-03-17 17:50:54  Mercedes_A_Klasse_W_168__A_140_gruen            700   \n",
       "64  2016-04-05 07:36:19    Autotransport__Abschlepp_Schlepper             40   \n",
       "\n",
       "     abtest vehicle_type  registration_year    gearbox  power_ps     model   \n",
       "8      test          NaN               2000    manuell         0     arosa  \\\n",
       "11  control          NaN               2000        NaN         0       NaN   \n",
       "46  control          NaN               2005  automatik         0       NaN   \n",
       "59  control          NaN               2016    manuell         0  a_klasse   \n",
       "64     test          NaN               2011        NaN         0       5er   \n",
       "\n",
       "    odometer_km  registration_month fuel_type          brand   \n",
       "8        150000                  10       NaN           seat  \\\n",
       "11       150000                   0    benzin  mercedes_benz   \n",
       "46       150000                   0       NaN            bmw   \n",
       "59       150000                   0    benzin  mercedes_benz   \n",
       "64       150000                   5       NaN            bmw   \n",
       "\n",
       "   not_repaired_damage         date_created  postal_code            last_seen  \n",
       "8                 nein  2016-03-22 00:00:00         7426  2016-03-26 18:18:10  \n",
       "11                 NaN  2016-03-16 00:00:00        17498  2016-03-16 18:45:34  \n",
       "46                 NaN  2016-03-31 00:00:00        12351  2016-04-06 03:44:41  \n",
       "59                 NaN  2016-03-17 00:00:00        95356  2016-03-19 17:46:47  \n",
       "64                 NaN  2016-04-05 00:00:00        40591  2016-04-07 12:16:01  "
      ]
     },
     "execution_count": 61,
     "metadata": {},
     "output_type": "execute_result"
    }
   ],
   "source": [
    "autos[autos[\"vehicle_type\"].isnull()].head()"
   ]
  },
  {
   "cell_type": "markdown",
   "id": "bb8f5bac",
   "metadata": {},
   "source": [
    "### Missing `gearbox` values"
   ]
  },
  {
   "cell_type": "code",
   "execution_count": 62,
   "id": "99fefcf0",
   "metadata": {
    "scrolled": true
   },
   "outputs": [
    {
     "data": {
      "text/plain": [
       "array(['manuell', 'automatik', nan], dtype=object)"
      ]
     },
     "execution_count": 62,
     "metadata": {},
     "output_type": "execute_result"
    }
   ],
   "source": [
    "autos[\"gearbox\"].unique()"
   ]
  },
  {
   "cell_type": "code",
   "execution_count": 63,
   "id": "9b4656a7",
   "metadata": {},
   "outputs": [
    {
     "data": {
      "text/plain": [
       "4.520040273344616"
      ]
     },
     "execution_count": 63,
     "metadata": {},
     "output_type": "execute_result"
    }
   ],
   "source": [
    "autos[\"gearbox\"].isnull().sum()/len(autos)*100"
   ]
  },
  {
   "cell_type": "markdown",
   "id": "39ded2da",
   "metadata": {},
   "source": [
    "4.5\\% of the dataset has missing values for `gearbox`."
   ]
  },
  {
   "cell_type": "code",
   "execution_count": 64,
   "id": "c4e86268",
   "metadata": {},
   "outputs": [
    {
     "data": {
      "text/html": [
       "<div>\n",
       "<style scoped>\n",
       "    .dataframe tbody tr th:only-of-type {\n",
       "        vertical-align: middle;\n",
       "    }\n",
       "\n",
       "    .dataframe tbody tr th {\n",
       "        vertical-align: top;\n",
       "    }\n",
       "\n",
       "    .dataframe thead th {\n",
       "        text-align: right;\n",
       "    }\n",
       "</style>\n",
       "<table border=\"1\" class=\"dataframe\">\n",
       "  <thead>\n",
       "    <tr style=\"text-align: right;\">\n",
       "      <th></th>\n",
       "      <th>date_crawled</th>\n",
       "      <th>name</th>\n",
       "      <th>price_dollars</th>\n",
       "      <th>abtest</th>\n",
       "      <th>vehicle_type</th>\n",
       "      <th>registration_year</th>\n",
       "      <th>gearbox</th>\n",
       "      <th>power_ps</th>\n",
       "      <th>model</th>\n",
       "      <th>odometer_km</th>\n",
       "      <th>registration_month</th>\n",
       "      <th>fuel_type</th>\n",
       "      <th>brand</th>\n",
       "      <th>not_repaired_damage</th>\n",
       "      <th>date_created</th>\n",
       "      <th>postal_code</th>\n",
       "      <th>last_seen</th>\n",
       "    </tr>\n",
       "  </thead>\n",
       "  <tbody>\n",
       "    <tr>\n",
       "      <th>11</th>\n",
       "      <td>2016-03-16 18:45:34</td>\n",
       "      <td>Mercedes_A140_Motorschaden</td>\n",
       "      <td>350</td>\n",
       "      <td>control</td>\n",
       "      <td>NaN</td>\n",
       "      <td>2000</td>\n",
       "      <td>NaN</td>\n",
       "      <td>0</td>\n",
       "      <td>NaN</td>\n",
       "      <td>150000</td>\n",
       "      <td>0</td>\n",
       "      <td>benzin</td>\n",
       "      <td>mercedes_benz</td>\n",
       "      <td>NaN</td>\n",
       "      <td>2016-03-16 00:00:00</td>\n",
       "      <td>17498</td>\n",
       "      <td>2016-03-16 18:45:34</td>\n",
       "    </tr>\n",
       "    <tr>\n",
       "      <th>52</th>\n",
       "      <td>2016-03-25 18:50:03</td>\n",
       "      <td>Senator_A_3.0E_Karosserie_restauriert_m._viele...</td>\n",
       "      <td>3500</td>\n",
       "      <td>test</td>\n",
       "      <td>limousine</td>\n",
       "      <td>1985</td>\n",
       "      <td>NaN</td>\n",
       "      <td>0</td>\n",
       "      <td>andere</td>\n",
       "      <td>5000</td>\n",
       "      <td>0</td>\n",
       "      <td>benzin</td>\n",
       "      <td>opel</td>\n",
       "      <td>nein</td>\n",
       "      <td>2016-03-25 00:00:00</td>\n",
       "      <td>63500</td>\n",
       "      <td>2016-04-07 00:46:00</td>\n",
       "    </tr>\n",
       "    <tr>\n",
       "      <th>60</th>\n",
       "      <td>2016-03-23 21:55:29</td>\n",
       "      <td>VW_Vento_1_8_Tuev_NEU</td>\n",
       "      <td>1199</td>\n",
       "      <td>test</td>\n",
       "      <td>limousine</td>\n",
       "      <td>1996</td>\n",
       "      <td>NaN</td>\n",
       "      <td>90</td>\n",
       "      <td>NaN</td>\n",
       "      <td>150000</td>\n",
       "      <td>0</td>\n",
       "      <td>benzin</td>\n",
       "      <td>volkswagen</td>\n",
       "      <td>nein</td>\n",
       "      <td>2016-03-23 00:00:00</td>\n",
       "      <td>1665</td>\n",
       "      <td>2016-04-06 05:45:36</td>\n",
       "    </tr>\n",
       "    <tr>\n",
       "      <th>64</th>\n",
       "      <td>2016-04-05 07:36:19</td>\n",
       "      <td>Autotransport__Abschlepp_Schlepper</td>\n",
       "      <td>40</td>\n",
       "      <td>test</td>\n",
       "      <td>NaN</td>\n",
       "      <td>2011</td>\n",
       "      <td>NaN</td>\n",
       "      <td>0</td>\n",
       "      <td>5er</td>\n",
       "      <td>150000</td>\n",
       "      <td>5</td>\n",
       "      <td>NaN</td>\n",
       "      <td>bmw</td>\n",
       "      <td>NaN</td>\n",
       "      <td>2016-04-05 00:00:00</td>\n",
       "      <td>40591</td>\n",
       "      <td>2016-04-07 12:16:01</td>\n",
       "    </tr>\n",
       "    <tr>\n",
       "      <th>92</th>\n",
       "      <td>2016-03-25 19:47:32</td>\n",
       "      <td>Zu_verkaufen</td>\n",
       "      <td>1900</td>\n",
       "      <td>test</td>\n",
       "      <td>NaN</td>\n",
       "      <td>2000</td>\n",
       "      <td>NaN</td>\n",
       "      <td>0</td>\n",
       "      <td>NaN</td>\n",
       "      <td>150000</td>\n",
       "      <td>0</td>\n",
       "      <td>NaN</td>\n",
       "      <td>bmw</td>\n",
       "      <td>NaN</td>\n",
       "      <td>2016-03-25 00:00:00</td>\n",
       "      <td>72108</td>\n",
       "      <td>2016-04-07 02:16:01</td>\n",
       "    </tr>\n",
       "  </tbody>\n",
       "</table>\n",
       "</div>"
      ],
      "text/plain": [
       "           date_crawled                                               name   \n",
       "11  2016-03-16 18:45:34                         Mercedes_A140_Motorschaden  \\\n",
       "52  2016-03-25 18:50:03  Senator_A_3.0E_Karosserie_restauriert_m._viele...   \n",
       "60  2016-03-23 21:55:29                              VW_Vento_1_8_Tuev_NEU   \n",
       "64  2016-04-05 07:36:19                 Autotransport__Abschlepp_Schlepper   \n",
       "92  2016-03-25 19:47:32                                       Zu_verkaufen   \n",
       "\n",
       "    price_dollars   abtest vehicle_type  registration_year gearbox  power_ps   \n",
       "11            350  control          NaN               2000     NaN         0  \\\n",
       "52           3500     test    limousine               1985     NaN         0   \n",
       "60           1199     test    limousine               1996     NaN        90   \n",
       "64             40     test          NaN               2011     NaN         0   \n",
       "92           1900     test          NaN               2000     NaN         0   \n",
       "\n",
       "     model  odometer_km  registration_month fuel_type          brand   \n",
       "11     NaN       150000                   0    benzin  mercedes_benz  \\\n",
       "52  andere         5000                   0    benzin           opel   \n",
       "60     NaN       150000                   0    benzin     volkswagen   \n",
       "64     5er       150000                   5       NaN            bmw   \n",
       "92     NaN       150000                   0       NaN            bmw   \n",
       "\n",
       "   not_repaired_damage         date_created  postal_code            last_seen  \n",
       "11                 NaN  2016-03-16 00:00:00        17498  2016-03-16 18:45:34  \n",
       "52                nein  2016-03-25 00:00:00        63500  2016-04-07 00:46:00  \n",
       "60                nein  2016-03-23 00:00:00         1665  2016-04-06 05:45:36  \n",
       "64                 NaN  2016-04-05 00:00:00        40591  2016-04-07 12:16:01  \n",
       "92                 NaN  2016-03-25 00:00:00        72108  2016-04-07 02:16:01  "
      ]
     },
     "execution_count": 64,
     "metadata": {},
     "output_type": "execute_result"
    }
   ],
   "source": [
    "autos[autos[\"gearbox\"].isnull()].head()"
   ]
  },
  {
   "cell_type": "markdown",
   "id": "8e875d7f",
   "metadata": {},
   "source": [
    "### Missing `model` values"
   ]
  },
  {
   "cell_type": "code",
   "execution_count": 65,
   "id": "61b2ea6e",
   "metadata": {
    "scrolled": true
   },
   "outputs": [
    {
     "data": {
      "text/plain": [
       "array(['andere', '7er', 'golf', 'fortwo', 'focus', 'voyager', 'arosa',\n",
       "       'megane', nan, 'a3', 'clio', 'vectra', 'scirocco', '3er', 'a4',\n",
       "       '911', 'cooper', '5er', 'polo', 'e_klasse', '2_reihe', 'c_klasse',\n",
       "       'corsa', 'mondeo', 'altea', 'a1', 'twingo', 'a_klasse', 'cl',\n",
       "       '3_reihe', 's_klasse', 'sandero', 'passat', 'primera', 'wrangler',\n",
       "       'a6', 'transporter', 'astra', 'v40', 'ibiza', 'micra', '1er',\n",
       "       'yaris', 'colt', '6_reihe', '5_reihe', 'corolla', 'ka', 'tigra',\n",
       "       'punto', 'vito', 'cordoba', 'galaxy', '100', 'octavia', 'm_klasse',\n",
       "       'lupo', 'fiesta', 'superb', 'meriva', 'c_max', 'laguna', 'touran',\n",
       "       '1_reihe', 'm_reihe', 'touareg', 'seicento', 'avensis', 'vivaro',\n",
       "       'x_reihe', 'ducato', 'carnival', 'boxster', 'signum', 'sharan',\n",
       "       'zafira', 'rav', 'a5', 'beetle', 'c_reihe', 'phaeton', 'i_reihe',\n",
       "       'sl', 'insignia', 'up', 'civic', '80', 'mx_reihe', 'omega',\n",
       "       'sorento', 'z_reihe', 'berlingo', 'clk', 's_max', 'kalos',\n",
       "       'cx_reihe', 'grand', 'swift', 'tiguan', 'sprinter', 'mii', 'viano',\n",
       "       'kaefer', 'almera', 'picanto', 'espace', 'scenic', 'one', 'bora',\n",
       "       'fox', 'leon', 'transit', 'tucson', 'tt', 'qashqai', 'mustang',\n",
       "       'jazz', 'nubira', 'v70', 'duster', 'stilo', 'justy', 'kangoo',\n",
       "       'fabia', 'matiz', 'freelander', 'lancer', 'forester', 's_type',\n",
       "       'bravo', '500', '156', 'cr_reihe', 'toledo', 'panda', 'a8', 'ceed',\n",
       "       'caddy', 'aygo', 'citigo', 'exeo', 'c1', 'doblo', 'impreza', '147',\n",
       "       'agila', '145', 'c3', 'roomster', 'auris', '601', 'eos', 'aveo',\n",
       "       'slk', 'terios', 'fusion', 'c4', 'glk', 'materia', 'v50', 'combo',\n",
       "       'yeti', '900', '850', 'outlander', 'rio', 'escort', 'c2', 'jimny',\n",
       "       'forfour', 'a2', 'spider', 'kadett', 'b_klasse', 'carisma',\n",
       "       'cayenne', 'r19', 'cc', 'note', 'logan', 'xc_reihe', 'verso',\n",
       "       'v_klasse', 'jetta', 'c5', 'q5', 'getz', 'navara', 'x_type',\n",
       "       'clubman', 's60', '4_reihe', 'lybra', 'cherokee', 'q3', 'q7',\n",
       "       'roadster', 'captiva', 'cuore', '90', 'ptcruiser', 'kuga',\n",
       "       'x_trail', 'ypsilon', 'pajero', 'delta', 'rx_reihe', 'modus',\n",
       "       'sportage', 'calibra', 'sirion', '6er', 'gl', 'amarok', 'santa',\n",
       "       '300c', 'antara', 'accord', 'crossfire', '159', 'niva', 'galant',\n",
       "       'legacy', 'defender', 'range_rover', 'juke', 'spark', 'lanos',\n",
       "       'v60', 'alhambra', 'discovery', 'range_rover_sport',\n",
       "       'range_rover_evoque', 'move', 'croma', 'g_klasse', 'lodgy',\n",
       "       'rangerover', 'samara', 'kappa', '9000', 'charade', 'i3', '200',\n",
       "       'b_max'], dtype=object)"
      ]
     },
     "execution_count": 65,
     "metadata": {},
     "output_type": "execute_result"
    }
   ],
   "source": [
    "autos[\"model\"].unique()"
   ]
  },
  {
   "cell_type": "code",
   "execution_count": 66,
   "id": "730c40cb",
   "metadata": {},
   "outputs": [
    {
     "data": {
      "text/plain": [
       "4.697842805424048"
      ]
     },
     "execution_count": 66,
     "metadata": {},
     "output_type": "execute_result"
    }
   ],
   "source": [
    "autos[\"model\"].isnull().sum()/len(autos)*100"
   ]
  },
  {
   "cell_type": "markdown",
   "id": "2b4be18b",
   "metadata": {},
   "source": [
    "4.7\\% of the dataset has missing values for `model`."
   ]
  },
  {
   "cell_type": "code",
   "execution_count": 67,
   "id": "aaf1b971",
   "metadata": {
    "scrolled": true
   },
   "outputs": [
    {
     "data": {
      "text/html": [
       "<div>\n",
       "<style scoped>\n",
       "    .dataframe tbody tr th:only-of-type {\n",
       "        vertical-align: middle;\n",
       "    }\n",
       "\n",
       "    .dataframe tbody tr th {\n",
       "        vertical-align: top;\n",
       "    }\n",
       "\n",
       "    .dataframe thead th {\n",
       "        text-align: right;\n",
       "    }\n",
       "</style>\n",
       "<table border=\"1\" class=\"dataframe\">\n",
       "  <thead>\n",
       "    <tr style=\"text-align: right;\">\n",
       "      <th></th>\n",
       "      <th>date_crawled</th>\n",
       "      <th>name</th>\n",
       "      <th>price_dollars</th>\n",
       "      <th>abtest</th>\n",
       "      <th>vehicle_type</th>\n",
       "      <th>registration_year</th>\n",
       "      <th>gearbox</th>\n",
       "      <th>power_ps</th>\n",
       "      <th>model</th>\n",
       "      <th>odometer_km</th>\n",
       "      <th>registration_month</th>\n",
       "      <th>fuel_type</th>\n",
       "      <th>brand</th>\n",
       "      <th>not_repaired_damage</th>\n",
       "      <th>date_created</th>\n",
       "      <th>postal_code</th>\n",
       "      <th>last_seen</th>\n",
       "    </tr>\n",
       "  </thead>\n",
       "  <tbody>\n",
       "    <tr>\n",
       "      <th>11</th>\n",
       "      <td>2016-03-16 18:45:34</td>\n",
       "      <td>Mercedes_A140_Motorschaden</td>\n",
       "      <td>350</td>\n",
       "      <td>control</td>\n",
       "      <td>NaN</td>\n",
       "      <td>2000</td>\n",
       "      <td>NaN</td>\n",
       "      <td>0</td>\n",
       "      <td>NaN</td>\n",
       "      <td>150000</td>\n",
       "      <td>0</td>\n",
       "      <td>benzin</td>\n",
       "      <td>mercedes_benz</td>\n",
       "      <td>NaN</td>\n",
       "      <td>2016-03-16 00:00:00</td>\n",
       "      <td>17498</td>\n",
       "      <td>2016-03-16 18:45:34</td>\n",
       "    </tr>\n",
       "    <tr>\n",
       "      <th>15</th>\n",
       "      <td>2016-04-01 12:06:20</td>\n",
       "      <td>Corvette_C3_Coupe_T_Top_Crossfire_Injection</td>\n",
       "      <td>18900</td>\n",
       "      <td>test</td>\n",
       "      <td>coupe</td>\n",
       "      <td>1982</td>\n",
       "      <td>automatik</td>\n",
       "      <td>203</td>\n",
       "      <td>NaN</td>\n",
       "      <td>80000</td>\n",
       "      <td>6</td>\n",
       "      <td>benzin</td>\n",
       "      <td>sonstige_autos</td>\n",
       "      <td>nein</td>\n",
       "      <td>2016-04-01 00:00:00</td>\n",
       "      <td>61276</td>\n",
       "      <td>2016-04-02 21:10:48</td>\n",
       "    </tr>\n",
       "    <tr>\n",
       "      <th>23</th>\n",
       "      <td>2016-03-10 19:55:34</td>\n",
       "      <td>Peugeot_Boxer_2_2_HDi_120_Ps_9_Sitzer_inkl_Klima</td>\n",
       "      <td>7999</td>\n",
       "      <td>control</td>\n",
       "      <td>bus</td>\n",
       "      <td>2010</td>\n",
       "      <td>manuell</td>\n",
       "      <td>120</td>\n",
       "      <td>NaN</td>\n",
       "      <td>150000</td>\n",
       "      <td>2</td>\n",
       "      <td>diesel</td>\n",
       "      <td>peugeot</td>\n",
       "      <td>nein</td>\n",
       "      <td>2016-03-10 00:00:00</td>\n",
       "      <td>30900</td>\n",
       "      <td>2016-03-17 08:45:17</td>\n",
       "    </tr>\n",
       "    <tr>\n",
       "      <th>25</th>\n",
       "      <td>2016-03-21 21:56:18</td>\n",
       "      <td>Ford_escort_kombi_an_bastler_mit_ghia_ausstattung</td>\n",
       "      <td>90</td>\n",
       "      <td>control</td>\n",
       "      <td>kombi</td>\n",
       "      <td>1996</td>\n",
       "      <td>manuell</td>\n",
       "      <td>116</td>\n",
       "      <td>NaN</td>\n",
       "      <td>150000</td>\n",
       "      <td>4</td>\n",
       "      <td>benzin</td>\n",
       "      <td>ford</td>\n",
       "      <td>ja</td>\n",
       "      <td>2016-03-21 00:00:00</td>\n",
       "      <td>27574</td>\n",
       "      <td>2016-04-01 05:16:49</td>\n",
       "    </tr>\n",
       "    <tr>\n",
       "      <th>41</th>\n",
       "      <td>2016-03-10 10:46:08</td>\n",
       "      <td>Passat_3b_1.9_TDI_Highline__angemeldet_mit_tuv...</td>\n",
       "      <td>3200</td>\n",
       "      <td>test</td>\n",
       "      <td>kombi</td>\n",
       "      <td>2003</td>\n",
       "      <td>manuell</td>\n",
       "      <td>131</td>\n",
       "      <td>NaN</td>\n",
       "      <td>150000</td>\n",
       "      <td>7</td>\n",
       "      <td>NaN</td>\n",
       "      <td>volkswagen</td>\n",
       "      <td>nein</td>\n",
       "      <td>2016-03-10 00:00:00</td>\n",
       "      <td>28259</td>\n",
       "      <td>2016-04-06 20:19:08</td>\n",
       "    </tr>\n",
       "  </tbody>\n",
       "</table>\n",
       "</div>"
      ],
      "text/plain": [
       "           date_crawled                                               name   \n",
       "11  2016-03-16 18:45:34                         Mercedes_A140_Motorschaden  \\\n",
       "15  2016-04-01 12:06:20        Corvette_C3_Coupe_T_Top_Crossfire_Injection   \n",
       "23  2016-03-10 19:55:34   Peugeot_Boxer_2_2_HDi_120_Ps_9_Sitzer_inkl_Klima   \n",
       "25  2016-03-21 21:56:18  Ford_escort_kombi_an_bastler_mit_ghia_ausstattung   \n",
       "41  2016-03-10 10:46:08  Passat_3b_1.9_TDI_Highline__angemeldet_mit_tuv...   \n",
       "\n",
       "    price_dollars   abtest vehicle_type  registration_year    gearbox   \n",
       "11            350  control          NaN               2000        NaN  \\\n",
       "15          18900     test        coupe               1982  automatik   \n",
       "23           7999  control          bus               2010    manuell   \n",
       "25             90  control        kombi               1996    manuell   \n",
       "41           3200     test        kombi               2003    manuell   \n",
       "\n",
       "    power_ps model  odometer_km  registration_month fuel_type           brand   \n",
       "11         0   NaN       150000                   0    benzin   mercedes_benz  \\\n",
       "15       203   NaN        80000                   6    benzin  sonstige_autos   \n",
       "23       120   NaN       150000                   2    diesel         peugeot   \n",
       "25       116   NaN       150000                   4    benzin            ford   \n",
       "41       131   NaN       150000                   7       NaN      volkswagen   \n",
       "\n",
       "   not_repaired_damage         date_created  postal_code            last_seen  \n",
       "11                 NaN  2016-03-16 00:00:00        17498  2016-03-16 18:45:34  \n",
       "15                nein  2016-04-01 00:00:00        61276  2016-04-02 21:10:48  \n",
       "23                nein  2016-03-10 00:00:00        30900  2016-03-17 08:45:17  \n",
       "25                  ja  2016-03-21 00:00:00        27574  2016-04-01 05:16:49  \n",
       "41                nein  2016-03-10 00:00:00        28259  2016-04-06 20:19:08  "
      ]
     },
     "execution_count": 67,
     "metadata": {},
     "output_type": "execute_result"
    }
   ],
   "source": [
    "autos[autos[\"model\"].isnull()].head()"
   ]
  },
  {
   "cell_type": "markdown",
   "id": "dc270193",
   "metadata": {},
   "source": [
    "### Missing `fuel_type` values"
   ]
  },
  {
   "cell_type": "code",
   "execution_count": 68,
   "id": "15342996",
   "metadata": {
    "scrolled": true
   },
   "outputs": [
    {
     "data": {
      "text/plain": [
       "array(['lpg', 'benzin', 'diesel', nan, 'cng', 'hybrid', 'elektro',\n",
       "       'andere'], dtype=object)"
      ]
     },
     "execution_count": 68,
     "metadata": {},
     "output_type": "execute_result"
    }
   ],
   "source": [
    "autos[\"fuel_type\"].unique()"
   ]
  },
  {
   "cell_type": "code",
   "execution_count": 69,
   "id": "4f173160",
   "metadata": {},
   "outputs": [
    {
     "data": {
      "text/plain": [
       "7.10781688481395"
      ]
     },
     "execution_count": 69,
     "metadata": {},
     "output_type": "execute_result"
    }
   ],
   "source": [
    "autos[\"fuel_type\"].isnull().sum()/len(autos)*100"
   ]
  },
  {
   "cell_type": "markdown",
   "id": "43958892",
   "metadata": {},
   "source": [
    "7.1\\% of the dataset has missing values for `fuel_type`."
   ]
  },
  {
   "cell_type": "code",
   "execution_count": 70,
   "id": "a158271e",
   "metadata": {
    "scrolled": false
   },
   "outputs": [
    {
     "data": {
      "text/html": [
       "<div>\n",
       "<style scoped>\n",
       "    .dataframe tbody tr th:only-of-type {\n",
       "        vertical-align: middle;\n",
       "    }\n",
       "\n",
       "    .dataframe tbody tr th {\n",
       "        vertical-align: top;\n",
       "    }\n",
       "\n",
       "    .dataframe thead th {\n",
       "        text-align: right;\n",
       "    }\n",
       "</style>\n",
       "<table border=\"1\" class=\"dataframe\">\n",
       "  <thead>\n",
       "    <tr style=\"text-align: right;\">\n",
       "      <th></th>\n",
       "      <th>date_crawled</th>\n",
       "      <th>name</th>\n",
       "      <th>price_dollars</th>\n",
       "      <th>abtest</th>\n",
       "      <th>vehicle_type</th>\n",
       "      <th>registration_year</th>\n",
       "      <th>gearbox</th>\n",
       "      <th>power_ps</th>\n",
       "      <th>model</th>\n",
       "      <th>odometer_km</th>\n",
       "      <th>registration_month</th>\n",
       "      <th>fuel_type</th>\n",
       "      <th>brand</th>\n",
       "      <th>not_repaired_damage</th>\n",
       "      <th>date_created</th>\n",
       "      <th>postal_code</th>\n",
       "      <th>last_seen</th>\n",
       "    </tr>\n",
       "  </thead>\n",
       "  <tbody>\n",
       "    <tr>\n",
       "      <th>8</th>\n",
       "      <td>2016-03-22 16:51:34</td>\n",
       "      <td>Seat_Arosa</td>\n",
       "      <td>250</td>\n",
       "      <td>test</td>\n",
       "      <td>NaN</td>\n",
       "      <td>2000</td>\n",
       "      <td>manuell</td>\n",
       "      <td>0</td>\n",
       "      <td>arosa</td>\n",
       "      <td>150000</td>\n",
       "      <td>10</td>\n",
       "      <td>NaN</td>\n",
       "      <td>seat</td>\n",
       "      <td>nein</td>\n",
       "      <td>2016-03-22 00:00:00</td>\n",
       "      <td>7426</td>\n",
       "      <td>2016-03-26 18:18:10</td>\n",
       "    </tr>\n",
       "    <tr>\n",
       "      <th>41</th>\n",
       "      <td>2016-03-10 10:46:08</td>\n",
       "      <td>Passat_3b_1.9_TDI_Highline__angemeldet_mit_tuv...</td>\n",
       "      <td>3200</td>\n",
       "      <td>test</td>\n",
       "      <td>kombi</td>\n",
       "      <td>2003</td>\n",
       "      <td>manuell</td>\n",
       "      <td>131</td>\n",
       "      <td>NaN</td>\n",
       "      <td>150000</td>\n",
       "      <td>7</td>\n",
       "      <td>NaN</td>\n",
       "      <td>volkswagen</td>\n",
       "      <td>nein</td>\n",
       "      <td>2016-03-10 00:00:00</td>\n",
       "      <td>28259</td>\n",
       "      <td>2016-04-06 20:19:08</td>\n",
       "    </tr>\n",
       "    <tr>\n",
       "      <th>46</th>\n",
       "      <td>2016-03-31 10:53:28</td>\n",
       "      <td>BMW_mit__Lpg</td>\n",
       "      <td>9000</td>\n",
       "      <td>control</td>\n",
       "      <td>NaN</td>\n",
       "      <td>2005</td>\n",
       "      <td>automatik</td>\n",
       "      <td>0</td>\n",
       "      <td>NaN</td>\n",
       "      <td>150000</td>\n",
       "      <td>0</td>\n",
       "      <td>NaN</td>\n",
       "      <td>bmw</td>\n",
       "      <td>NaN</td>\n",
       "      <td>2016-03-31 00:00:00</td>\n",
       "      <td>12351</td>\n",
       "      <td>2016-04-06 03:44:41</td>\n",
       "    </tr>\n",
       "    <tr>\n",
       "      <th>64</th>\n",
       "      <td>2016-04-05 07:36:19</td>\n",
       "      <td>Autotransport__Abschlepp_Schlepper</td>\n",
       "      <td>40</td>\n",
       "      <td>test</td>\n",
       "      <td>NaN</td>\n",
       "      <td>2011</td>\n",
       "      <td>NaN</td>\n",
       "      <td>0</td>\n",
       "      <td>5er</td>\n",
       "      <td>150000</td>\n",
       "      <td>5</td>\n",
       "      <td>NaN</td>\n",
       "      <td>bmw</td>\n",
       "      <td>NaN</td>\n",
       "      <td>2016-04-05 00:00:00</td>\n",
       "      <td>40591</td>\n",
       "      <td>2016-04-07 12:16:01</td>\n",
       "    </tr>\n",
       "    <tr>\n",
       "      <th>72</th>\n",
       "      <td>2016-03-14 07:55:36</td>\n",
       "      <td>Audi_A6_2.7_TDI</td>\n",
       "      <td>8100</td>\n",
       "      <td>control</td>\n",
       "      <td>kombi</td>\n",
       "      <td>2008</td>\n",
       "      <td>automatik</td>\n",
       "      <td>179</td>\n",
       "      <td>a6</td>\n",
       "      <td>150000</td>\n",
       "      <td>5</td>\n",
       "      <td>NaN</td>\n",
       "      <td>audi</td>\n",
       "      <td>nein</td>\n",
       "      <td>2016-03-14 00:00:00</td>\n",
       "      <td>97453</td>\n",
       "      <td>2016-04-07 08:17:00</td>\n",
       "    </tr>\n",
       "  </tbody>\n",
       "</table>\n",
       "</div>"
      ],
      "text/plain": [
       "           date_crawled                                               name   \n",
       "8   2016-03-22 16:51:34                                         Seat_Arosa  \\\n",
       "41  2016-03-10 10:46:08  Passat_3b_1.9_TDI_Highline__angemeldet_mit_tuv...   \n",
       "46  2016-03-31 10:53:28                                       BMW_mit__Lpg   \n",
       "64  2016-04-05 07:36:19                 Autotransport__Abschlepp_Schlepper   \n",
       "72  2016-03-14 07:55:36                                    Audi_A6_2.7_TDI   \n",
       "\n",
       "    price_dollars   abtest vehicle_type  registration_year    gearbox   \n",
       "8             250     test          NaN               2000    manuell  \\\n",
       "41           3200     test        kombi               2003    manuell   \n",
       "46           9000  control          NaN               2005  automatik   \n",
       "64             40     test          NaN               2011        NaN   \n",
       "72           8100  control        kombi               2008  automatik   \n",
       "\n",
       "    power_ps  model  odometer_km  registration_month fuel_type       brand   \n",
       "8          0  arosa       150000                  10       NaN        seat  \\\n",
       "41       131    NaN       150000                   7       NaN  volkswagen   \n",
       "46         0    NaN       150000                   0       NaN         bmw   \n",
       "64         0    5er       150000                   5       NaN         bmw   \n",
       "72       179     a6       150000                   5       NaN        audi   \n",
       "\n",
       "   not_repaired_damage         date_created  postal_code            last_seen  \n",
       "8                 nein  2016-03-22 00:00:00         7426  2016-03-26 18:18:10  \n",
       "41                nein  2016-03-10 00:00:00        28259  2016-04-06 20:19:08  \n",
       "46                 NaN  2016-03-31 00:00:00        12351  2016-04-06 03:44:41  \n",
       "64                 NaN  2016-04-05 00:00:00        40591  2016-04-07 12:16:01  \n",
       "72                nein  2016-03-14 00:00:00        97453  2016-04-07 08:17:00  "
      ]
     },
     "execution_count": 70,
     "metadata": {},
     "output_type": "execute_result"
    }
   ],
   "source": [
    "autos[autos[\"fuel_type\"].isnull()].head()"
   ]
  },
  {
   "cell_type": "markdown",
   "id": "e78da18d",
   "metadata": {},
   "source": [
    "### Missing `not_repaired_damage` values"
   ]
  },
  {
   "cell_type": "code",
   "execution_count": 71,
   "id": "c1c1fb04",
   "metadata": {
    "scrolled": true
   },
   "outputs": [
    {
     "data": {
      "text/plain": [
       "array(['nein', nan, 'ja'], dtype=object)"
      ]
     },
     "execution_count": 71,
     "metadata": {},
     "output_type": "execute_result"
    }
   ],
   "source": [
    "autos[\"not_repaired_damage\"].unique()"
   ]
  },
  {
   "cell_type": "code",
   "execution_count": 72,
   "id": "18311b80",
   "metadata": {},
   "outputs": [
    {
     "data": {
      "text/plain": [
       "17.795248602215032"
      ]
     },
     "execution_count": 72,
     "metadata": {},
     "output_type": "execute_result"
    }
   ],
   "source": [
    "autos[\"not_repaired_damage\"].isnull().sum()/len(autos)*100"
   ]
  },
  {
   "cell_type": "markdown",
   "id": "6953cb47",
   "metadata": {},
   "source": [
    "18\\% of the dataset has missing values for `fuel_type`."
   ]
  },
  {
   "cell_type": "code",
   "execution_count": 73,
   "id": "adb4e8aa",
   "metadata": {
    "scrolled": true
   },
   "outputs": [
    {
     "data": {
      "text/html": [
       "<div>\n",
       "<style scoped>\n",
       "    .dataframe tbody tr th:only-of-type {\n",
       "        vertical-align: middle;\n",
       "    }\n",
       "\n",
       "    .dataframe tbody tr th {\n",
       "        vertical-align: top;\n",
       "    }\n",
       "\n",
       "    .dataframe thead th {\n",
       "        text-align: right;\n",
       "    }\n",
       "</style>\n",
       "<table border=\"1\" class=\"dataframe\">\n",
       "  <thead>\n",
       "    <tr style=\"text-align: right;\">\n",
       "      <th></th>\n",
       "      <th>date_crawled</th>\n",
       "      <th>name</th>\n",
       "      <th>price_dollars</th>\n",
       "      <th>abtest</th>\n",
       "      <th>vehicle_type</th>\n",
       "      <th>registration_year</th>\n",
       "      <th>gearbox</th>\n",
       "      <th>power_ps</th>\n",
       "      <th>model</th>\n",
       "      <th>odometer_km</th>\n",
       "      <th>registration_month</th>\n",
       "      <th>fuel_type</th>\n",
       "      <th>brand</th>\n",
       "      <th>not_repaired_damage</th>\n",
       "      <th>date_created</th>\n",
       "      <th>postal_code</th>\n",
       "      <th>last_seen</th>\n",
       "    </tr>\n",
       "  </thead>\n",
       "  <tbody>\n",
       "    <tr>\n",
       "      <th>5</th>\n",
       "      <td>2016-03-21 13:47:45</td>\n",
       "      <td>Chrysler_Grand_Voyager_2.8_CRD_Aut.Limited_Sto...</td>\n",
       "      <td>7900</td>\n",
       "      <td>test</td>\n",
       "      <td>bus</td>\n",
       "      <td>2006</td>\n",
       "      <td>automatik</td>\n",
       "      <td>150</td>\n",
       "      <td>voyager</td>\n",
       "      <td>150000</td>\n",
       "      <td>4</td>\n",
       "      <td>diesel</td>\n",
       "      <td>chrysler</td>\n",
       "      <td>NaN</td>\n",
       "      <td>2016-03-21 00:00:00</td>\n",
       "      <td>22962</td>\n",
       "      <td>2016-04-06 09:45:21</td>\n",
       "    </tr>\n",
       "    <tr>\n",
       "      <th>6</th>\n",
       "      <td>2016-03-20 17:55:21</td>\n",
       "      <td>VW_Golf_III_GT_Special_Electronic_Green_Metall...</td>\n",
       "      <td>300</td>\n",
       "      <td>test</td>\n",
       "      <td>limousine</td>\n",
       "      <td>1995</td>\n",
       "      <td>manuell</td>\n",
       "      <td>90</td>\n",
       "      <td>golf</td>\n",
       "      <td>150000</td>\n",
       "      <td>8</td>\n",
       "      <td>benzin</td>\n",
       "      <td>volkswagen</td>\n",
       "      <td>NaN</td>\n",
       "      <td>2016-03-20 00:00:00</td>\n",
       "      <td>31535</td>\n",
       "      <td>2016-03-23 02:48:59</td>\n",
       "    </tr>\n",
       "    <tr>\n",
       "      <th>11</th>\n",
       "      <td>2016-03-16 18:45:34</td>\n",
       "      <td>Mercedes_A140_Motorschaden</td>\n",
       "      <td>350</td>\n",
       "      <td>control</td>\n",
       "      <td>NaN</td>\n",
       "      <td>2000</td>\n",
       "      <td>NaN</td>\n",
       "      <td>0</td>\n",
       "      <td>NaN</td>\n",
       "      <td>150000</td>\n",
       "      <td>0</td>\n",
       "      <td>benzin</td>\n",
       "      <td>mercedes_benz</td>\n",
       "      <td>NaN</td>\n",
       "      <td>2016-03-16 00:00:00</td>\n",
       "      <td>17498</td>\n",
       "      <td>2016-03-16 18:45:34</td>\n",
       "    </tr>\n",
       "    <tr>\n",
       "      <th>14</th>\n",
       "      <td>2016-03-23 11:50:46</td>\n",
       "      <td>Renault_Clio_3__Dynamique_1.2__16_V;_viele_Ver...</td>\n",
       "      <td>3999</td>\n",
       "      <td>test</td>\n",
       "      <td>kleinwagen</td>\n",
       "      <td>2007</td>\n",
       "      <td>manuell</td>\n",
       "      <td>75</td>\n",
       "      <td>clio</td>\n",
       "      <td>150000</td>\n",
       "      <td>9</td>\n",
       "      <td>benzin</td>\n",
       "      <td>renault</td>\n",
       "      <td>NaN</td>\n",
       "      <td>2016-03-23 00:00:00</td>\n",
       "      <td>81737</td>\n",
       "      <td>2016-04-01 15:46:47</td>\n",
       "    </tr>\n",
       "    <tr>\n",
       "      <th>18</th>\n",
       "      <td>2016-03-26 19:57:44</td>\n",
       "      <td>Verkaufen_mein_bmw_e36_320_i_touring</td>\n",
       "      <td>300</td>\n",
       "      <td>control</td>\n",
       "      <td>bus</td>\n",
       "      <td>1995</td>\n",
       "      <td>manuell</td>\n",
       "      <td>150</td>\n",
       "      <td>3er</td>\n",
       "      <td>150000</td>\n",
       "      <td>0</td>\n",
       "      <td>benzin</td>\n",
       "      <td>bmw</td>\n",
       "      <td>NaN</td>\n",
       "      <td>2016-03-26 00:00:00</td>\n",
       "      <td>54329</td>\n",
       "      <td>2016-04-02 12:16:41</td>\n",
       "    </tr>\n",
       "  </tbody>\n",
       "</table>\n",
       "</div>"
      ],
      "text/plain": [
       "           date_crawled                                               name   \n",
       "5   2016-03-21 13:47:45  Chrysler_Grand_Voyager_2.8_CRD_Aut.Limited_Sto...  \\\n",
       "6   2016-03-20 17:55:21  VW_Golf_III_GT_Special_Electronic_Green_Metall...   \n",
       "11  2016-03-16 18:45:34                         Mercedes_A140_Motorschaden   \n",
       "14  2016-03-23 11:50:46  Renault_Clio_3__Dynamique_1.2__16_V;_viele_Ver...   \n",
       "18  2016-03-26 19:57:44               Verkaufen_mein_bmw_e36_320_i_touring   \n",
       "\n",
       "    price_dollars   abtest vehicle_type  registration_year    gearbox   \n",
       "5            7900     test          bus               2006  automatik  \\\n",
       "6             300     test    limousine               1995    manuell   \n",
       "11            350  control          NaN               2000        NaN   \n",
       "14           3999     test   kleinwagen               2007    manuell   \n",
       "18            300  control          bus               1995    manuell   \n",
       "\n",
       "    power_ps    model  odometer_km  registration_month fuel_type   \n",
       "5        150  voyager       150000                   4    diesel  \\\n",
       "6         90     golf       150000                   8    benzin   \n",
       "11         0      NaN       150000                   0    benzin   \n",
       "14        75     clio       150000                   9    benzin   \n",
       "18       150      3er       150000                   0    benzin   \n",
       "\n",
       "            brand not_repaired_damage         date_created  postal_code   \n",
       "5        chrysler                 NaN  2016-03-21 00:00:00        22962  \\\n",
       "6      volkswagen                 NaN  2016-03-20 00:00:00        31535   \n",
       "11  mercedes_benz                 NaN  2016-03-16 00:00:00        17498   \n",
       "14        renault                 NaN  2016-03-23 00:00:00        81737   \n",
       "18            bmw                 NaN  2016-03-26 00:00:00        54329   \n",
       "\n",
       "              last_seen  \n",
       "5   2016-04-06 09:45:21  \n",
       "6   2016-03-23 02:48:59  \n",
       "11  2016-03-16 18:45:34  \n",
       "14  2016-04-01 15:46:47  \n",
       "18  2016-04-02 12:16:41  "
      ]
     },
     "execution_count": 73,
     "metadata": {},
     "output_type": "execute_result"
    }
   ],
   "source": [
    "autos[autos[\"not_repaired_damage\"].isnull()].head()"
   ]
  },
  {
   "cell_type": "markdown",
   "id": "c83462ad",
   "metadata": {},
   "source": [
    "### Takeaways for missing values"
   ]
  },
  {
   "cell_type": "markdown",
   "id": "fcf33d05",
   "metadata": {},
   "source": [
    "Missing values for `vehicle_type`, `gearbox`, `model`, `fuel_type` and `not_repaired_damage` represent only a small subset of the dataset (between 4.5-7.1\\%) except for `not_repaired_damage` at 18\\%. \n",
    "\n",
    "Inspecting the samples for each column, it appears that if the vehicle type is not provided, there is a high chance that the subsequent four columns listed above will most likely not be provided as well. \n",
    "\n",
    "For cars with missing model values, this is simply the seller not providing the information as the model does show up in the `name` column. It may be that they chose not to enter this information or that the eBay site did not include it in a drop-down box. \n",
    "\n",
    "The fuel type at 7.1\\% may indicate that the seller might not readily know this information compared to the other car details.\n",
    "\n",
    "Almost a fifth of the car listings did not provide whether the car had damage and if so, whether it was repaired or not. This most likely might be that eBay site's default value for this column is blank, with alternative options `ja` and `nein` the seller can choose from but don't 82% of the time. Since used cars weather over time, it may be unclear to the seller as to how large the damage needs to be in order to classify it as a damaged but not repaired car."
   ]
  },
  {
   "cell_type": "markdown",
   "id": "adfa4e3f",
   "metadata": {},
   "source": [
    "## Explore price by brand"
   ]
  },
  {
   "cell_type": "markdown",
   "id": "8365afb5",
   "metadata": {},
   "source": [
    "We are interested in learning about the buyer demographics on the eBay site. What are the most popular car brands that are sold?"
   ]
  },
  {
   "cell_type": "markdown",
   "id": "463f01fa",
   "metadata": {},
   "source": [
    "### Most popular brands"
   ]
  },
  {
   "cell_type": "code",
   "execution_count": 74,
   "id": "2df96002",
   "metadata": {},
   "outputs": [
    {
     "data": {
      "text/plain": [
       "count          46681\n",
       "unique            40\n",
       "top       volkswagen\n",
       "freq            9862\n",
       "Name: brand, dtype: object"
      ]
     },
     "execution_count": 74,
     "metadata": {},
     "output_type": "execute_result"
    }
   ],
   "source": [
    "autos[\"brand\"].describe()"
   ]
  },
  {
   "cell_type": "code",
   "execution_count": 75,
   "id": "f802368f",
   "metadata": {},
   "outputs": [
    {
     "data": {
      "text/plain": [
       "brand\n",
       "volkswagen       9862\n",
       "bmw              5137\n",
       "opel             5022\n",
       "mercedes_benz    4503\n",
       "audi             4041\n",
       "ford             3263\n",
       "renault          2201\n",
       "peugeot          1393\n",
       "fiat             1197\n",
       "seat              853\n",
       "Name: count, dtype: int64"
      ]
     },
     "execution_count": 75,
     "metadata": {},
     "output_type": "execute_result"
    }
   ],
   "source": [
    "autos[\"brand\"].value_counts().head(10)"
   ]
  },
  {
   "cell_type": "markdown",
   "id": "2bb28ea9",
   "metadata": {},
   "source": [
    "Listed above are the top 10 used car brands."
   ]
  },
  {
   "cell_type": "code",
   "execution_count": 76,
   "id": "7ba46086",
   "metadata": {},
   "outputs": [
    {
     "name": "stdout",
     "output_type": "stream",
     "text": [
      "brand\n",
      "volkswagen        0.211264\n",
      "bmw               0.110045\n",
      "opel              0.107581\n",
      "mercedes_benz     0.096463\n",
      "audi              0.086566\n",
      "ford              0.069900\n",
      "renault           0.047150\n",
      "peugeot           0.029841\n",
      "fiat              0.025642\n",
      "seat              0.018273\n",
      "skoda             0.016409\n",
      "nissan            0.015274\n",
      "mazda             0.015188\n",
      "smart             0.014160\n",
      "citroen           0.014010\n",
      "toyota            0.012703\n",
      "hyundai           0.010025\n",
      "sonstige_autos    0.009811\n",
      "volvo             0.009147\n",
      "mini              0.008762\n",
      "mitsubishi        0.008226\n",
      "honda             0.007840\n",
      "kia               0.007069\n",
      "alfa_romeo        0.006641\n",
      "porsche           0.006127\n",
      "suzuki            0.005934\n",
      "chevrolet         0.005698\n",
      "chrysler          0.003513\n",
      "dacia             0.002635\n",
      "daihatsu          0.002506\n",
      "jeep              0.002271\n",
      "subaru            0.002142\n",
      "land_rover        0.002099\n",
      "saab              0.001649\n",
      "jaguar            0.001564\n",
      "daewoo            0.001500\n",
      "trabant           0.001392\n",
      "rover             0.001328\n",
      "lancia            0.001071\n",
      "lada              0.000578\n",
      "Name: proportion, dtype: float64\n"
     ]
    }
   ],
   "source": [
    "brand_distribution = autos[\"brand\"].value_counts(normalize=True)\n",
    "print(brand_distribution)"
   ]
  },
  {
   "cell_type": "markdown",
   "id": "4d789ec7",
   "metadata": {},
   "source": [
    "There are 40 unique car brands for used cars sold. Volkswagen is the most popular, with 9,862 cars or 21\\% of all used cars sold on eBay."
   ]
  },
  {
   "cell_type": "markdown",
   "id": "b1de41ac",
   "metadata": {},
   "source": [
    "We narrow down the analysis to the top 6 cars - those that are 5% or more of the total dataset. This list will include the `volkswagen`, `bmw`, `opel`, `mercedes-benz`, `audi`, and `ford`."
   ]
  },
  {
   "cell_type": "code",
   "execution_count": 77,
   "id": "f694cdf1",
   "metadata": {},
   "outputs": [
    {
     "name": "stdout",
     "output_type": "stream",
     "text": [
      "Index(['volkswagen', 'bmw', 'opel', 'mercedes_benz', 'audi', 'ford'], dtype='object', name='brand')\n"
     ]
    }
   ],
   "source": [
    "top_6_brands = brand_distribution[brand_distribution > 0.05].index\n",
    "print(top_6_brands)"
   ]
  },
  {
   "cell_type": "markdown",
   "id": "1567f757",
   "metadata": {},
   "source": [
    "### Average prices for popular brands"
   ]
  },
  {
   "cell_type": "code",
   "execution_count": 78,
   "id": "46447804",
   "metadata": {},
   "outputs": [
    {
     "name": "stdout",
     "output_type": "stream",
     "text": [
      "{'volkswagen': 5402, 'bmw': 8332, 'opel': 2975, 'mercedes_benz': 8628, 'audi': 9336, 'ford': 3749}\n"
     ]
    }
   ],
   "source": [
    "avg_prices_top_6 = {}\n",
    "for brand in top_6_brands:\n",
    "    brand_name = autos[autos[\"brand\"] == brand]\n",
    "    avg_price = brand_name[\"price_dollars\"].mean()\n",
    "    avg_prices_top_6[brand] = int(avg_price)\n",
    "\n",
    "print(avg_prices_top_6)"
   ]
  },
  {
   "cell_type": "code",
   "execution_count": 79,
   "id": "cb9dbabc",
   "metadata": {},
   "outputs": [
    {
     "data": {
      "image/png": "[encoded data removed]",
      "text/plain": [
       "<Figure size 640x480 with 1 Axes>"
      ]
     },
     "metadata": {},
     "output_type": "display_data"
    }
   ],
   "source": [
    "x = avg_prices_top_6.keys()\n",
    "y = avg_prices_top_6.values()\n",
    "plt.bar(x, y)\n",
    "plt.title(\"Average Price for Top 6 Popular Used Car Brands\")\n",
    "plt.xlabel(\"Car Brand\")\n",
    "plt.ylabel(\"Average Price ($)\")\n",
    "plt.show()"
   ]
  },
  {
   "cell_type": "markdown",
   "id": "d9a33d27",
   "metadata": {},
   "source": [
    "BMW (\\\\$8,332), Mercedes-Benz (\\\\$8,628), and Audi (\\\\$9,336) are the most expensive out of the top 6 most popular used car brands sold on the eBay site while Opel ($2,975) and Ford (\\\\$3,749) are the most affordable. Volkswagen (\\\\$5,402) is the top selling used car brand. Its popularity may be attributed to its moderately average price compared to the other five brands."
   ]
  },
  {
   "cell_type": "markdown",
   "id": "bf9b1932",
   "metadata": {},
   "source": [
    "## Explore mileage by brand"
   ]
  },
  {
   "cell_type": "markdown",
   "id": "12a9b05e",
   "metadata": {},
   "source": [
    "For the top six brands, we explore their odometer readings to gain a better sense of how \"used\" the cars are."
   ]
  },
  {
   "cell_type": "markdown",
   "id": "9ffafc76",
   "metadata": {},
   "source": [
    "### Average mileage for popular brands"
   ]
  },
  {
   "cell_type": "markdown",
   "id": "66e3729b",
   "metadata": {},
   "source": [
    "We narrow down the analysis to the top 6 cars - those that are 5% or more of the total dataset. This list will include the `volkswagen`, `bmw`, `opel`, `mercedes-benz`, `audi`, and `ford`."
   ]
  },
  {
   "cell_type": "code",
   "execution_count": 80,
   "id": "20715bb2",
   "metadata": {},
   "outputs": [
    {
     "name": "stdout",
     "output_type": "stream",
     "text": [
      "{'volkswagen': 128707, 'bmw': 132572, 'opel': 129310, 'mercedes_benz': 130788, 'audi': 129157, 'ford': 124266}\n"
     ]
    }
   ],
   "source": [
    "avg_mileage_top_6 = {}\n",
    "for brand in top_6_brands:\n",
    "    brand_name = autos[autos[\"brand\"] == brand]\n",
    "    avg_mileage = brand_name[\"odometer_km\"].mean()\n",
    "    avg_mileage_top_6[brand] = int(avg_mileage)\n",
    "\n",
    "print(avg_mileage_top_6)"
   ]
  },
  {
   "cell_type": "code",
   "execution_count": 81,
   "id": "582bc364",
   "metadata": {},
   "outputs": [
    {
     "data": {
      "image/png": "[encoded data removed]",
      "text/plain": [
       "<Figure size 640x480 with 1 Axes>"
      ]
     },
     "metadata": {},
     "output_type": "display_data"
    }
   ],
   "source": [
    "top_6 = avg_mileage_top_6.keys()\n",
    "mileage = avg_mileage_top_6.values()\n",
    "plt.bar(top_6, mileage)\n",
    "plt.title(\"Average Mileage for Top 6 Popular Used Car Brands\")\n",
    "plt.xlabel(\"Car Brand\")\n",
    "plt.ylabel(\"Average Mileage (km)\")\n",
    "plt.show()"
   ]
  },
  {
   "cell_type": "markdown",
   "id": "ee34fe42",
   "metadata": {},
   "source": [
    "Overall, the top six most popular used cars do not vary significant in terms of average mileage. Out of the top six, `ford` has the lowest average mileage of the three at 124,266 km while `bmw` has the highest at 132,572 km."
   ]
  },
  {
   "cell_type": "markdown",
   "id": "2b8f9392",
   "metadata": {},
   "source": [
    "## Price and mileage comparison for top car brands"
   ]
  },
  {
   "cell_type": "code",
   "execution_count": 82,
   "id": "bdef9686",
   "metadata": {},
   "outputs": [
    {
     "name": "stderr",
     "output_type": "stream",
     "text": [
      "/var/folders/pv/sq6mvfsn30l44lsqjxd00lj00000gn/T/ipykernel_59955/1740998316.py:23: UserWarning: FixedFormatter should only be used together with FixedLocator\n",
      "  ax.set_xticklabels(['', 'volkswagen', 'bmw', 'opel', 'mercedes_benz', 'audi', 'ford'])\n"
     ]
    },
    {
     "data": {
      "image/png": "[encoded data removed]",
      "text/plain": [
       "<Figure size 640x480 with 2 Axes>"
      ]
     },
     "metadata": {},
     "output_type": "display_data"
    }
   ],
   "source": [
    "price = avg_prices_top_6.values()\n",
    "\n",
    "X_axis = np.arange(1,7)\n",
    "\n",
    "fig, ax = plt.subplots()\n",
    "plt.title(\"Average Price and Mileage for Top 6 Used Car Brands\")\n",
    "\n",
    "ax2 = ax.twinx()\n",
    "\n",
    "price_color = \"green\"\n",
    "mileage_color = \"silver\"\n",
    "\n",
    "ax.bar(X_axis - 0.2, price, width = 0.4, color = price_color)\n",
    "ax2.bar(X_axis + 0.1, mileage, width = 0.4, color = mileage_color)\n",
    "\n",
    "\n",
    "ax.set_xlabel(\"Car Brand\")\n",
    "ax.set_ylabel(\"Average Price ($)\", color = price_color)\n",
    "ax2.set_ylabel(\"Mileage (km)\", color = mileage_color)\n",
    "\n",
    "# Used to override the index labels for x-axis used to offset the price and mileage bars\n",
    "# This is currently producing a warning\n",
    "ax.set_xticklabels(['', 'volkswagen', 'bmw', 'opel', 'mercedes_benz', 'audi', 'ford'])\n",
    "\n",
    "plt.show()"
   ]
  },
  {
   "cell_type": "markdown",
   "id": "1bd69fda",
   "metadata": {},
   "source": [
    "The more expensive brands BMW, Mercedes-Benz, and Audi are also those that have slightly more mileage than the other three brands Volkswagen, Opel, and Ford."
   ]
  },
  {
   "cell_type": "code",
   "execution_count": 83,
   "id": "2e40536a",
   "metadata": {
    "scrolled": true
   },
   "outputs": [
    {
     "name": "stdout",
     "output_type": "stream",
     "text": [
      "brand       model      \n",
      "volkswagen  golf           3707\n",
      "            polo           1609\n",
      "            passat         1349\n",
      "            transporter     674\n",
      "            touran          433\n",
      "Name: count, dtype: int64\n",
      "\n",
      "\n",
      "brand  model  \n",
      "bmw    3er        2615\n",
      "       5er        1132\n",
      "       1er         521\n",
      "       x_reihe     296\n",
      "       7er         126\n",
      "Name: count, dtype: int64\n",
      "\n",
      "\n",
      "brand  model \n",
      "opel   corsa     1592\n",
      "       astra     1348\n",
      "       vectra     544\n",
      "       zafira     394\n",
      "       omega      181\n",
      "Name: count, dtype: int64\n",
      "\n",
      "\n",
      "brand          model   \n",
      "mercedes_benz  c_klasse    1136\n",
      "               e_klasse     958\n",
      "               a_klasse     539\n",
      "               andere       439\n",
      "               clk          242\n",
      "Name: count, dtype: int64\n",
      "\n",
      "\n",
      "brand  model \n",
      "audi   a4        1231\n",
      "       a3         825\n",
      "       a6         797\n",
      "       andere     216\n",
      "       80         198\n",
      "Name: count, dtype: int64\n",
      "\n",
      "\n",
      "brand  model \n",
      "ford   focus     762\n",
      "       fiesta    722\n",
      "       mondeo    479\n",
      "       ka        349\n",
      "       andere    190\n",
      "Name: count, dtype: int64\n",
      "\n",
      "\n"
     ]
    }
   ],
   "source": [
    "for brand in top_6:\n",
    "    print(autos.loc[autos[\"brand\"] == brand, [\"brand\",\"model\"]].value_counts().head())\n",
    "    print(\"\\n\")"
   ]
  },
  {
   "cell_type": "markdown",
   "id": "3cd89d4c",
   "metadata": {},
   "source": [
    "## Explore postal codes"
   ]
  },
  {
   "cell_type": "code",
   "execution_count": 84,
   "id": "ff0d700f",
   "metadata": {
    "scrolled": false
   },
   "outputs": [
    {
     "data": {
      "text/plain": [
       "postal_code\n",
       "10115    108\n",
       "65428     98\n",
       "66333     48\n",
       "45888     48\n",
       "44145     46\n",
       "65933     43\n",
       "65719     43\n",
       "48599     42\n",
       "77933     40\n",
       "30419     39\n",
       "Name: count, dtype: int64"
      ]
     },
     "execution_count": 84,
     "metadata": {},
     "output_type": "execute_result"
    }
   ],
   "source": [
    "autos[\"postal_code\"].value_counts().head(10)"
   ]
  },
  {
   "cell_type": "markdown",
   "id": "af2b3a62",
   "metadata": {},
   "source": [
    "# Conclusion"
   ]
  },
  {
   "cell_type": "markdown",
   "id": "8fecfa39",
   "metadata": {},
   "source": [
    "The top six most popular used car brands sold on the eBay site (in order) and their top selling model are:\n",
    "1. Volkswagen Golf\n",
    "2. BMW 3ER\n",
    "3. Opel Corsa\n",
    "4. Mercedes-Benz C-Klasse\n",
    "5. Audi A4\n",
    "6. Ford Focus\n",
    "\n",
    "The mileage does not vary for these brands as they all are roughly within the 125,000-130,000 kilometer range. What is significantly different is the BMW, Mercedes-Benz, and Audi brands are sold at much higher prices (\\\\$8,000-\\\\$9,000 range) than the Opel and Ford brands (\\\\$3,000-\\\\$4,000), with the Volkswagen being a \"happy medium\" priced at \\\\$5,400.\n",
    "\n",
    "Used cars mostly come from Berlin (postal code 10115) and Rüsselsheim (65428)."
   ]
  },
  {
   "cell_type": "code",
   "execution_count": null,
   "id": "cec5eb94",
   "metadata": {},
   "outputs": [],
   "source": []
  }
 ],
 "metadata": {
  "kernelspec": {
   "display_name": "Python 3 (ipykernel)",
   "language": "python",
   "name": "python3"
  },
  "language_info": {
   "codemirror_mode": {
    "name": "ipython",
    "version": 3
   },
   "file_extension": ".py",
   "mimetype": "text/x-python",
   "name": "python",
   "nbconvert_exporter": "python",
   "pygments_lexer": "ipython3",
   "version": "3.11.3"
  }
 },
 "nbformat": 4,
 "nbformat_minor": 5
}
