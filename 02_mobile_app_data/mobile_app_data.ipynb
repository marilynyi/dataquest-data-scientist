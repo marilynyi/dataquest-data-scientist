{
 "cells": [
  {
   "cell_type": "markdown",
   "id": "2b8b99f9",
   "metadata": {},
   "source": [
    "# Profitable App Profiles for the App Store and Google Play Markets \n",
    "\n",
    "**Scenario**: You are a data analyst for a company that builds Android and iOS mobile apps. These apps become available on Google Play and in the App Store. Only apps that are free to download and install are built, thus the company's main source of revenue consists of in-app ads. The number of users of the apps is the primary revenue consideration for any given app — the more users who see and engage with the ads, the better. \n",
    "\n",
    "**Goal**: Analyze the data to help the developers understand what type of apps are likely to attract more users. \n",
    "\n",
    "**Table of Contents**:\n",
    "- Load app data \n",
    "- Remove erroneous data\n",
    "- Remove duplicate apps\n",
    "- Remove non-English apps\n",
    "- Remove paid apps\n",
    "- Most common apps by genre\n",
    "- Most popular apps by genre\n",
    "- Conclusion\n"
   ]
  },
  {
   "cell_type": "markdown",
   "id": "35438914",
   "metadata": {},
   "source": [
    "## Load app data from Apple Store and Google Play Store .csv files"
   ]
  },
  {
   "cell_type": "code",
   "execution_count": 1,
   "id": "c06dee69",
   "metadata": {},
   "outputs": [],
   "source": [
    "from csv import reader\n",
    "\n",
    "opened_ios = open(\"applestore.csv\")\n",
    "read_ios = reader(opened_ios)\n",
    "ios = list(read_ios)\n",
    "ios_header = ios[0]\n",
    "ios = ios[1:]\n",
    "\n",
    "opened_gplay = open(\"googleplaystore.csv\")\n",
    "read_gplay = reader(opened_gplay)\n",
    "gplay = list(read_gplay)\n",
    "gplay_header = gplay[0]\n",
    "gplay = gplay[1:]"
   ]
  },
  {
   "cell_type": "code",
   "execution_count": 2,
   "id": "97642b06",
   "metadata": {},
   "outputs": [
    {
     "name": "stdout",
     "output_type": "stream",
     "text": [
      "Total* number of Apple Store apps: 7197\n",
      "Total* number of Google Play Store: 10841\n",
      "*As provided\n"
     ]
    }
   ],
   "source": [
    "print(f\"Total* number of Apple Store apps: {len(ios)}\")\n",
    "print(f\"Total* number of Google Play Store: {len(gplay)}\")\n",
    "print(\"*As provided\")"
   ]
  },
  {
   "cell_type": "markdown",
   "id": "fd381133",
   "metadata": {},
   "source": [
    "### Course-provided `explore_data` function serves to print rows from the data in a readable way"
   ]
  },
  {
   "cell_type": "code",
   "execution_count": 3,
   "id": "e47c3155",
   "metadata": {},
   "outputs": [],
   "source": [
    "def explore_data(dataset, start, end, rows_and_columns = False):\n",
    "    dataset_slice = dataset[start:end]\n",
    "    for row in dataset_slice:\n",
    "        print(row)\n",
    "        print(\"\\n\")\n",
    "    if rows_and_columns:\n",
    "        print(\"Number of rows:\", len(dataset))\n",
    "        print(\"Number of columns:\", len(dataset[0]))"
   ]
  },
  {
   "cell_type": "markdown",
   "id": "4c84070e",
   "metadata": {},
   "source": [
    "#### Data snippets from Apple Store"
   ]
  },
  {
   "cell_type": "code",
   "execution_count": 4,
   "id": "aab789e7",
   "metadata": {},
   "outputs": [
    {
     "name": "stdout",
     "output_type": "stream",
     "text": [
      "['284882215', 'Facebook', '389879808', 'USD', '0.0', '2974676', '212', '3.5', '3.5', '95.0', '4+', 'Social Networking', '37', '1', '29', '1']\n",
      "\n",
      "\n",
      "['389801252', 'Instagram', '113954816', 'USD', '0.0', '2161558', '1289', '4.5', '4.0', '10.23', '12+', 'Photo & Video', '37', '0', '29', '1']\n",
      "\n",
      "\n",
      "['529479190', 'Clash of Clans', '116476928', 'USD', '0.0', '2130805', '579', '4.5', '4.5', '9.24.12', '9+', 'Games', '38', '5', '18', '1']\n",
      "\n",
      "\n",
      "Number of rows: 7197\n",
      "Number of columns: 16\n"
     ]
    }
   ],
   "source": [
    "explore_data(ios, 0, 3, True)"
   ]
  },
  {
   "cell_type": "markdown",
   "id": "5f55f3fb",
   "metadata": {},
   "source": [
    "#### Data snippets from Google Play Store"
   ]
  },
  {
   "cell_type": "code",
   "execution_count": 5,
   "id": "019ff11c",
   "metadata": {},
   "outputs": [
    {
     "name": "stdout",
     "output_type": "stream",
     "text": [
      "['Photo Editor & Candy Camera & Grid & ScrapBook', 'ART_AND_DESIGN', '4.1', '159', '19M', '10,000+', 'Free', '0', 'Everyone', 'Art & Design', 'January 7, 2018', '1.0.0', '4.0.3 and up']\n",
      "\n",
      "\n",
      "['Coloring book moana', 'ART_AND_DESIGN', '3.9', '967', '14M', '500,000+', 'Free', '0', 'Everyone', 'Art & Design;Pretend Play', 'January 15, 2018', '2.0.0', '4.0.3 and up']\n",
      "\n",
      "\n",
      "['U Launcher Lite – FREE Live Cool Themes, Hide Apps', 'ART_AND_DESIGN', '4.7', '87510', '8.7M', '5,000,000+', 'Free', '0', 'Everyone', 'Art & Design', 'August 1, 2018', '1.2.4', '4.0.3 and up']\n",
      "\n",
      "\n",
      "Number of rows: 10841\n",
      "Number of columns: 13\n"
     ]
    }
   ],
   "source": [
    "explore_data(gplay, 0, 3, True)"
   ]
  },
  {
   "cell_type": "markdown",
   "id": "76055607",
   "metadata": {},
   "source": [
    "## Remove erroneous data"
   ]
  },
  {
   "cell_type": "markdown",
   "id": "6eca8a8a",
   "metadata": {},
   "source": [
    "From one of the [Kaggle discussion](https://www.kaggle.com/datasets/lava18/google-play-store-apps/discussion/66015)'s which points to app ```10472``` in the ```Google Play Store``` data, it appears that the category for the `Life Made Wi-Fi Touchscreen Photo Frame` app is missing and all subsequent columns have been shifted forward by one. Consequently, this entry has 12 total columns instead of 13."
   ]
  },
  {
   "cell_type": "markdown",
   "id": "aae64dbe",
   "metadata": {},
   "source": [
    "The erroneous entry is found on row `10472` in our data (without the header)."
   ]
  },
  {
   "cell_type": "code",
   "execution_count": 6,
   "id": "f653b59b",
   "metadata": {
    "scrolled": true
   },
   "outputs": [
    {
     "name": "stdout",
     "output_type": "stream",
     "text": [
      "['Life Made WI-Fi Touchscreen Photo Frame', '1.9', '19', '3.0M', '1,000+', 'Free', '0', 'Everyone', '', 'February 11, 2018', '1.0.19', '4.0 and up']\n"
     ]
    }
   ],
   "source": [
    "print(gplay[10472])"
   ]
  },
  {
   "cell_type": "code",
   "execution_count": 7,
   "id": "99d80b70",
   "metadata": {},
   "outputs": [
    {
     "name": "stdout",
     "output_type": "stream",
     "text": [
      "12\n"
     ]
    }
   ],
   "source": [
    "print(len(gplay[10472]))"
   ]
  },
  {
   "cell_type": "markdown",
   "id": "0d9e9182",
   "metadata": {},
   "source": [
    "As one step in the data cleaning process, the erroneous row `10472` is removed."
   ]
  },
  {
   "cell_type": "code",
   "execution_count": 8,
   "id": "24fc0549",
   "metadata": {},
   "outputs": [],
   "source": [
    "del gplay[10472]"
   ]
  },
  {
   "cell_type": "code",
   "execution_count": 9,
   "id": "fca58239",
   "metadata": {},
   "outputs": [
    {
     "name": "stdout",
     "output_type": "stream",
     "text": [
      "['osmino Wi-Fi: free WiFi', 'TOOLS', '4.2', '134203', '4.1M', '10,000,000+', 'Free', '0', 'Everyone', 'Tools', 'August 7, 2018', '6.06.14', '4.4 and up']\n"
     ]
    }
   ],
   "source": [
    "print(gplay[10472])"
   ]
  },
  {
   "cell_type": "markdown",
   "id": "5e77edca",
   "metadata": {},
   "source": [
    "For completeness, the entire Google Play Store data is checked to see if the number of columns for any given row is not 13."
   ]
  },
  {
   "cell_type": "code",
   "execution_count": 10,
   "id": "048000dc",
   "metadata": {},
   "outputs": [
    {
     "name": "stdout",
     "output_type": "stream",
     "text": [
      "[]\n"
     ]
    }
   ],
   "source": [
    "gplay_erroneous_length = []\n",
    "for app in gplay:\n",
    "    name = app[0]\n",
    "    if len(app) != 13:\n",
    "        gplay_erroneous_length.append(name)\n",
    "print(gplay_erroneous_length)"
   ]
  },
  {
   "cell_type": "markdown",
   "id": "eef9bc54",
   "metadata": {},
   "source": [
    "We then apply this method to the Apple Store data to isolate rows that do not have 16 columns. "
   ]
  },
  {
   "cell_type": "code",
   "execution_count": 11,
   "id": "d5ef3f0d",
   "metadata": {},
   "outputs": [
    {
     "name": "stdout",
     "output_type": "stream",
     "text": [
      "[]\n"
     ]
    }
   ],
   "source": [
    "ios_erroneous_length = []\n",
    "for app in ios:\n",
    "    name = app[0]\n",
    "    if len(app) != 16:\n",
    "        ios_erroneous_length.append(name)\n",
    "print(ios_erroneous_length)"
   ]
  },
  {
   "cell_type": "code",
   "execution_count": 12,
   "id": "2242580b",
   "metadata": {},
   "outputs": [
    {
     "name": "stdout",
     "output_type": "stream",
     "text": [
      "Total* number of Apple Store apps: 7197\n",
      "Total* number of Google Play Store: 10840\n",
      "*After check for data errors\n"
     ]
    }
   ],
   "source": [
    "print(f\"Total* number of Apple Store apps: {len(ios)}\")\n",
    "print(f\"Total* number of Google Play Store: {len(gplay)}\")\n",
    "print(\"*After check for data errors\")"
   ]
  },
  {
   "cell_type": "markdown",
   "id": "f79093a6",
   "metadata": {},
   "source": [
    "## Remove duplicate apps"
   ]
  },
  {
   "cell_type": "markdown",
   "id": "de2777d9",
   "metadata": {},
   "source": [
    "From another [Kaggle discussion](https://www.kaggle.com/datasets/ramamet4/app-store-apple-data-set-10k-apps/discussion/90409), it would appear there may be potential duplicates in the Apple Store data."
   ]
  },
  {
   "cell_type": "markdown",
   "id": "c4e52743",
   "metadata": {},
   "source": [
    "A Kaggler provided the [code](https://www.kaggle.com/datasets/ramamet4/app-store-apple-data-set-10k-apps/discussion/106176#812842) below to list apps with duplicate names."
   ]
  },
  {
   "cell_type": "code",
   "execution_count": 13,
   "id": "ce1baa7a",
   "metadata": {},
   "outputs": [
    {
     "name": "stdout",
     "output_type": "stream",
     "text": [
      "[['1178454060', 'Mannequin Challenge', '59572224', 'USD', '0.0', '105', '58', '4.0', '4.5', '1.0.1', '4+', 'Games', '38', '5', '1', '1'], ['1089824278', 'VR Roller Coaster', '240964608', 'USD', '0.0', '67', '44', '3.5', '4.0', '0.81', '4+', 'Games', '38', '0', '1', '1']]\n"
     ]
    }
   ],
   "source": [
    "ios_unique_apps = [] \n",
    "ios_duplicate_apps = [] \n",
    "\n",
    "for app in ios: \n",
    "    name = app[1] \n",
    "\n",
    "    if name not in ios_unique_apps:\n",
    "        ios_unique_apps.append(name)\n",
    "    else:\n",
    "        ios_duplicate_apps.append(app)\n",
    "        \n",
    "print(ios_duplicate_apps)"
   ]
  },
  {
   "cell_type": "code",
   "execution_count": 14,
   "id": "a80fd9ca",
   "metadata": {},
   "outputs": [
    {
     "data": {
      "text/plain": [
       "2"
      ]
     },
     "execution_count": 14,
     "metadata": {},
     "output_type": "execute_result"
    }
   ],
   "source": [
    "len(ios_duplicate_apps)"
   ]
  },
  {
   "cell_type": "markdown",
   "id": "47cbb8e4",
   "metadata": {},
   "source": [
    "Upon closer inspection, the apps `Mannequin Challenge` and `VR Roller Coaster` are not duplicates but rather two separate apps each with the same names. This is noted by the differences primarily in the app size (`size_bytes`) and total rating count (`rating_count_tot`). \n",
    "\n",
    "Therefore, the Apple Store data does not contain any duplicates. \n",
    "\n",
    "There are 7,197 unique apps on the Apple Store."
   ]
  },
  {
   "cell_type": "code",
   "execution_count": 15,
   "id": "4ae397db",
   "metadata": {
    "scrolled": true
   },
   "outputs": [
    {
     "name": "stdout",
     "output_type": "stream",
     "text": [
      "['284882215', 'Facebook', '389879808', 'USD', '0.0', '2974676', '212', '3.5', '3.5', '95.0', '4+', 'Social Networking', '37', '1', '29', '1']\n",
      "\n",
      "\n",
      "['1173990889', 'Mannequin Challenge', '109705216', 'USD', '0.0', '668', '87', '3.0', '3.0', '1.4', '9+', 'Games', '37', '4', '1', '1']\n",
      "['952877179', 'VR Roller Coaster', '169523200', 'USD', '0.0', '107', '102', '3.5', '3.5', '2.0.0', '4+', 'Games', '37', '5', '1', '1']\n",
      "['1178454060', 'Mannequin Challenge', '59572224', 'USD', '0.0', '105', '58', '4.0', '4.5', '1.0.1', '4+', 'Games', '38', '5', '1', '1']\n",
      "['1089824278', 'VR Roller Coaster', '240964608', 'USD', '0.0', '67', '44', '3.5', '4.0', '0.81', '4+', 'Games', '38', '0', '1', '1']\n"
     ]
    }
   ],
   "source": [
    "print(ios[0])\n",
    "print(\"\\n\")\n",
    "\n",
    "for app in ios:\n",
    "    if app[1] == \"Mannequin Challenge\" or app[1] == \"VR Roller Coaster\":\n",
    "        print(app)"
   ]
  },
  {
   "cell_type": "code",
   "execution_count": 16,
   "id": "5409b801",
   "metadata": {},
   "outputs": [
    {
     "name": "stdout",
     "output_type": "stream",
     "text": [
      "Total* number of Apple Store apps: 7197\n",
      "*After checks for errors and duplicates\n"
     ]
    }
   ],
   "source": [
    "print(f\"Total* number of Apple Store apps: {len(ios)}\")\n",
    "print(\"*After checks for errors and duplicates\")"
   ]
  },
  {
   "cell_type": "markdown",
   "id": "a2fe7f1d",
   "metadata": {},
   "source": [
    "We now apply this same method of finding duplicates in the Google Play Store data."
   ]
  },
  {
   "cell_type": "code",
   "execution_count": 17,
   "id": "5237f215",
   "metadata": {},
   "outputs": [
    {
     "name": "stdout",
     "output_type": "stream",
     "text": [
      "['Box', 'BUSINESS', '4.2', '159872', 'Varies with device', '10,000,000+', 'Free', '0', 'Everyone', 'Business', 'July 31, 2018', 'Varies with device', 'Varies with device']\n"
     ]
    }
   ],
   "source": [
    "gplay_unique_apps = [] \n",
    "gplay_duplicate_apps = [] \n",
    "\n",
    "for app in gplay: \n",
    "    name = app[0] \n",
    "\n",
    "    if name not in gplay_unique_apps:\n",
    "        gplay_unique_apps.append(name)\n",
    "    else:\n",
    "        gplay_duplicate_apps.append(app)\n",
    "\n",
    "# Printing only first 5 rows        \n",
    "print(gplay_duplicate_apps[5])"
   ]
  },
  {
   "cell_type": "code",
   "execution_count": 18,
   "id": "95a6a893",
   "metadata": {},
   "outputs": [
    {
     "data": {
      "text/plain": [
       "1181"
      ]
     },
     "execution_count": 18,
     "metadata": {},
     "output_type": "execute_result"
    }
   ],
   "source": [
    "len(gplay_duplicate_apps)"
   ]
  },
  {
   "cell_type": "markdown",
   "id": "4c6a9b85",
   "metadata": {},
   "source": [
    "It appears that the Google Play Store data has `1,181` lines associated with duplicates. \n",
    "\n",
    "Taking the header row into account, we expect the total number of Google Play apps to be `9,659`."
   ]
  },
  {
   "cell_type": "code",
   "execution_count": 19,
   "id": "dd341085",
   "metadata": {},
   "outputs": [
    {
     "data": {
      "text/plain": [
       "9659"
      ]
     },
     "execution_count": 19,
     "metadata": {},
     "output_type": "execute_result"
    }
   ],
   "source": [
    "len(gplay)-len(gplay_duplicate_apps)"
   ]
  },
  {
   "cell_type": "markdown",
   "id": "3498ce2c",
   "metadata": {},
   "source": [
    "Isolating the first app in the comprehensive list of duplicates above, we see the app `Quick PDF Scanner + OCR FREE` listed three times. There is a slight difference in the 3rd listing with `80804` reviews instead of `80805` as shown in the first two listings."
   ]
  },
  {
   "cell_type": "code",
   "execution_count": 20,
   "id": "29c16bcf",
   "metadata": {},
   "outputs": [
    {
     "name": "stdout",
     "output_type": "stream",
     "text": [
      "['App', 'Category', 'Rating', 'Reviews', 'Size', 'Installs', 'Type', 'Price', 'Content Rating', 'Genres', 'Last Updated', 'Current Ver', 'Android Ver']\n",
      "\n",
      "\n",
      "['Quick PDF Scanner + OCR FREE', 'BUSINESS', '4.2', '80805', 'Varies with device', '5,000,000+', 'Free', '0', 'Everyone', 'Business', 'February 26, 2018', 'Varies with device', '4.0.3 and up']\n",
      "['Quick PDF Scanner + OCR FREE', 'BUSINESS', '4.2', '80805', 'Varies with device', '5,000,000+', 'Free', '0', 'Everyone', 'Business', 'February 26, 2018', 'Varies with device', '4.0.3 and up']\n",
      "['Quick PDF Scanner + OCR FREE', 'BUSINESS', '4.2', '80804', 'Varies with device', '5,000,000+', 'Free', '0', 'Everyone', 'Business', 'February 26, 2018', 'Varies with device', '4.0.3 and up']\n"
     ]
    }
   ],
   "source": [
    "print(gplay_header)\n",
    "print(\"\\n\")\n",
    "\n",
    "for app in gplay[1:]:\n",
    "    if app[0] == \"Quick PDF Scanner + OCR FREE\":\n",
    "        print(app)"
   ]
  },
  {
   "cell_type": "markdown",
   "id": "16fec8ef",
   "metadata": {},
   "source": [
    "We can assume the app listing with the highest number of reviews has spent the longest duration on the store. Therefore, we take the listing with the maximum number of reviews as the criteria for removing duplicates. We create a dictionary called `reviews_max` to house the maximum number of reviews for each app. As noted above, we should end up with `9,659` unique Google Play listings after removing duplicates."
   ]
  },
  {
   "cell_type": "code",
   "execution_count": 21,
   "id": "45ce58c5",
   "metadata": {},
   "outputs": [
    {
     "data": {
      "text/plain": [
       "9659"
      ]
     },
     "execution_count": 21,
     "metadata": {},
     "output_type": "execute_result"
    }
   ],
   "source": [
    "reviews_max = {}\n",
    "for app in gplay:\n",
    "    name = app[0]\n",
    "    n_reviews = float(app[3])\n",
    "    if name in reviews_max and reviews_max[name] < n_reviews:\n",
    "        reviews_max[name] = n_reviews\n",
    "    elif name not in reviews_max:\n",
    "        reviews_max[name] = n_reviews\n",
    "\n",
    "len(reviews_max)"
   ]
  },
  {
   "cell_type": "markdown",
   "id": "a0968cb8",
   "metadata": {},
   "source": [
    "Rather than removing duplicates, we build and store the unique Google Play Store apps into a new list called `android_clean`. Because the `for` loop will produce an error if including a header, we loop without it and then add the header as the first row in the new `android_clean` list. \n",
    "\n",
    "In the case where an app may have two listings with the same maximum number of reviews, we employ the `already_added` list so that once an app has been added, it is not added to the clean list.\n",
    "\n",
    "To retrieve the total number of apps, we take the length of the new list and subtract one to account for the header row."
   ]
  },
  {
   "cell_type": "code",
   "execution_count": 22,
   "id": "637674b1",
   "metadata": {
    "scrolled": false
   },
   "outputs": [
    {
     "name": "stdout",
     "output_type": "stream",
     "text": [
      "Total* number of Google Play apps: 9659\n",
      "*After checks for errors and duplicates\n"
     ]
    }
   ],
   "source": [
    "android_clean = []\n",
    "already_added = []\n",
    "\n",
    "for app in gplay:\n",
    "    name = app[0]\n",
    "    n_reviews = float(app[3])\n",
    "    if (n_reviews == reviews_max[name]) and (name not in already_added):\n",
    "        android_clean.append(app)\n",
    "        already_added.append(name)\n",
    "\n",
    "print(f\"Total* number of Google Play apps: {len(android_clean)}\")\n",
    "print(\"*After checks for errors and duplicates\")"
   ]
  },
  {
   "cell_type": "markdown",
   "id": "ab9cdd5b",
   "metadata": {},
   "source": [
    "## Remove non-English apps"
   ]
  },
  {
   "cell_type": "markdown",
   "id": "ea4bdc57",
   "metadata": {},
   "source": [
    "From the Dataquest lesson:\n",
    "`The numbers corresponding to the characters we commonly use in an English text are all in the range 0 to 127, according to the ASCII (American Standard Code for Information Interchange) system. Based on this number range, we can build a function that detects whether a character belongs to the set of common English characters or not. If the number is equal to or less than 127, then the character belongs to the set of common English characters.`"
   ]
  },
  {
   "cell_type": "markdown",
   "id": "aa020908",
   "metadata": {},
   "source": [
    "We create a function that passes in the app's name returns `False` if the corresponding number for any character in the name is outside the range 0 to 127 and `True` if within the range."
   ]
  },
  {
   "cell_type": "code",
   "execution_count": 23,
   "id": "c0400e86",
   "metadata": {},
   "outputs": [
    {
     "name": "stdout",
     "output_type": "stream",
     "text": [
      "True\n",
      "False\n",
      "True\n",
      "True\n"
     ]
    }
   ],
   "source": [
    "def is_english(string):\n",
    "    not_ascii = 0\n",
    "    for char in string:\n",
    "        if ord(char) > 127:\n",
    "            not_ascii += 1\n",
    "    if not_ascii > 3:\n",
    "        return False\n",
    "    else:\n",
    "        return True\n",
    "        \n",
    "# tests\n",
    "print(is_english('Instagram'))\n",
    "print(is_english('爱奇艺PPS -《欢乐颂2》电视剧热播'))\n",
    "print(is_english('Docs To Go™ Free Office Suite'))\n",
    "print(is_english('Instachat 😜'))"
   ]
  },
  {
   "cell_type": "markdown",
   "id": "d189933f",
   "metadata": {},
   "source": [
    "Applying this function to both the Apple Store and Google Play Store data sets to retrieve only the apps designed for English speakers."
   ]
  },
  {
   "cell_type": "code",
   "execution_count": 24,
   "id": "da4a69d4",
   "metadata": {},
   "outputs": [
    {
     "name": "stdout",
     "output_type": "stream",
     "text": [
      "Total* number of Apple Store apps: 6183\n",
      "Total* number of Google Play Store apps: 9614\n",
      "*After removal of errors, duplicates, and non-ASCII app names\n"
     ]
    }
   ],
   "source": [
    "ios_english = []\n",
    "for app in ios:\n",
    "    name = app[1]\n",
    "    if is_english(name) == True:\n",
    "        ios_english.append(app)\n",
    "\n",
    "gplay_english = []\n",
    "for app in android_clean:\n",
    "    name = app[0]\n",
    "    if is_english(name) == True:\n",
    "        gplay_english.append(app)\n",
    "        \n",
    "print(f\"Total* number of Apple Store apps: {len(ios_english)}\")\n",
    "print(f\"Total* number of Google Play Store apps: {len(gplay_english)}\")\n",
    "print(\"*After removal of errors, duplicates, and non-ASCII app names\")"
   ]
  },
  {
   "cell_type": "markdown",
   "id": "a0071cff",
   "metadata": {},
   "source": [
    "## Remove paid apps"
   ]
  },
  {
   "cell_type": "markdown",
   "id": "a6a54df9",
   "metadata": {},
   "source": [
    "We print the app headers again to view indices.\\\n",
    "The `price` is in index `4` for Apple and `7` for Google Play."
   ]
  },
  {
   "cell_type": "code",
   "execution_count": 25,
   "id": "f6881233",
   "metadata": {},
   "outputs": [
    {
     "name": "stdout",
     "output_type": "stream",
     "text": [
      "['id', 'track_name', 'size_bytes', 'currency', 'price', 'rating_count_tot', 'rating_count_ver', 'user_rating', 'user_rating_ver', 'ver', 'cont_rating', 'prime_genre', 'sup_devices.num', 'ipadSc_urls.num', 'lang.num', 'vpp_lic']\n",
      "\n",
      "\n",
      "['App', 'Category', 'Rating', 'Reviews', 'Size', 'Installs', 'Type', 'Price', 'Content Rating', 'Genres', 'Last Updated', 'Current Ver', 'Android Ver']\n"
     ]
    }
   ],
   "source": [
    "print(ios_header)\n",
    "print(\"\\n\")\n",
    "print(gplay_header)"
   ]
  },
  {
   "cell_type": "markdown",
   "id": "27e80346",
   "metadata": {},
   "source": [
    "We create new lists to pass in only apps with `price` = `0`. Both the Apple and Google Play prices come as strings so these are converted into `float` values. The Google Play app `price` has a leading `$` so this symbol is stripped using the `lstrip` function."
   ]
  },
  {
   "cell_type": "code",
   "execution_count": 26,
   "id": "3a674c39",
   "metadata": {},
   "outputs": [
    {
     "name": "stdout",
     "output_type": "stream",
     "text": [
      "Total* number of English Apple Store apps: 3222\n",
      "Total* number of English Google Play Store apps: 8864\n",
      "*After removal of errors, duplicates, non-ASCII app names, and paid apps\n"
     ]
    }
   ],
   "source": [
    "ios_free = []\n",
    "gplay_free = []\n",
    "\n",
    "for app in ios_english:\n",
    "    price = float(app[4])\n",
    "    if price == 0:\n",
    "        ios_free.append(app)\n",
    "\n",
    "for app in gplay_english:\n",
    "    price = float(app[7].lstrip(\"$\"))\n",
    "    if price == 0:\n",
    "        gplay_free.append(app)\n",
    "        \n",
    "print(f\"Total* number of English Apple Store apps: {len(ios_free)}\")\n",
    "print(f\"Total* number of English Google Play Store apps: {len(gplay_free)}\")\n",
    "print(\"*After removal of errors, duplicates, non-ASCII app names, and paid apps\")"
   ]
  },
  {
   "cell_type": "markdown",
   "id": "8ac14d49",
   "metadata": {},
   "source": [
    "## Most common apps by genre"
   ]
  },
  {
   "cell_type": "markdown",
   "id": "d5f48133",
   "metadata": {},
   "source": [
    "We first import the plt module so we can graphically visualize results"
   ]
  },
  {
   "cell_type": "code",
   "execution_count": 27,
   "id": "b11c98e6",
   "metadata": {},
   "outputs": [],
   "source": [
    "import matplotlib.pyplot as plt"
   ]
  },
  {
   "cell_type": "markdown",
   "id": "cb9ed5eb",
   "metadata": {},
   "source": [
    "To figure out what genre is most popular for Apple Store apps, the number of installs is not provided so we can use the average number of ratings per genre instead."
   ]
  },
  {
   "cell_type": "code",
   "execution_count": 28,
   "id": "51a88469",
   "metadata": {
    "scrolled": true
   },
   "outputs": [
    {
     "name": "stdout",
     "output_type": "stream",
     "text": [
      "('Games', 58.16263190564867)\n",
      "('Entertainment', 7.883302296710118)\n",
      "('Photo & Video', 4.9658597144630665)\n",
      "('Education', 3.6623215394165114)\n",
      "('Social Networking', 3.2898820608317814)\n",
      "('Shopping', 2.60707635009311)\n",
      "('Utilities', 2.5139664804469275)\n",
      "('Sports', 2.1415270018621975)\n",
      "('Music', 2.0484171322160147)\n",
      "('Health & Fitness', 2.017380509000621)\n",
      "('Productivity', 1.7380509000620732)\n",
      "('Lifestyle', 1.5828677839851024)\n",
      "('News', 1.3345747982619491)\n",
      "('Travel', 1.2414649286157666)\n",
      "('Finance', 1.1173184357541899)\n",
      "('Weather', 0.8690254500310366)\n",
      "('Food & Drink', 0.8069522036002483)\n",
      "('Reference', 0.5586592178770949)\n",
      "('Business', 0.5276225946617008)\n",
      "('Book', 0.4345127250155183)\n",
      "('Navigation', 0.186219739292365)\n",
      "('Medical', 0.186219739292365)\n",
      "('Catalogs', 0.12414649286157665)\n"
     ]
    }
   ],
   "source": [
    "ios_genre_counts = {}\n",
    "for app in ios_free:\n",
    "    genre = app[11]\n",
    "    if genre in ios_genre_counts:\n",
    "        ios_genre_counts[genre] += 1\n",
    "    else:\n",
    "        ios_genre_counts[genre] = 1\n",
    "\n",
    "ios_genres = list(ios_genre_counts.keys())\n",
    "ios_counts = list(ios_genre_counts.values())\n",
    "ios_percentages = {genre: (ios_genre_counts[genre] * 100 / len(ios_free)) for genre in ios_genre_counts}\n",
    "for row in sorted(ios_percentages.items(), key=lambda x:x[1], reverse=True):\n",
    "    print(row)"
   ]
  },
  {
   "cell_type": "markdown",
   "id": "eda151d3",
   "metadata": {},
   "source": [
    "`58%` of all free English Apple Store apps are in the `Games` category, followed by `Entertainment` at `7.9%` and `Photo & Video` at `5%`."
   ]
  },
  {
   "cell_type": "markdown",
   "id": "c03eac6b",
   "metadata": {},
   "source": [
    "Similarly, we apply these functions to the Google Store apps."
   ]
  },
  {
   "cell_type": "code",
   "execution_count": 29,
   "id": "cf8e6742",
   "metadata": {},
   "outputs": [
    {
     "name": "stdout",
     "output_type": "stream",
     "text": [
      "('FAMILY', 18.907942238267147)\n",
      "('GAME', 9.724729241877256)\n",
      "('TOOLS', 8.461191335740072)\n",
      "('BUSINESS', 4.591606498194946)\n",
      "('LIFESTYLE', 3.9034296028880866)\n",
      "('PRODUCTIVITY', 3.892148014440433)\n",
      "('FINANCE', 3.700361010830325)\n",
      "('MEDICAL', 3.5311371841155235)\n",
      "('SPORTS', 3.395758122743682)\n",
      "('PERSONALIZATION', 3.3167870036101084)\n",
      "('COMMUNICATION', 3.237815884476534)\n",
      "('HEALTH_AND_FITNESS', 3.079873646209386)\n",
      "('PHOTOGRAPHY', 2.9444945848375452)\n",
      "('NEWS_AND_MAGAZINES', 2.7978339350180503)\n",
      "('SOCIAL', 2.6624548736462095)\n",
      "('TRAVEL_AND_LOCAL', 2.33528880866426)\n",
      "('SHOPPING', 2.2450361010830324)\n",
      "('BOOKS_AND_REFERENCE', 2.1435018050541514)\n",
      "('DATING', 1.861462093862816)\n",
      "('VIDEO_PLAYERS', 1.7937725631768953)\n",
      "('MAPS_AND_NAVIGATION', 1.3989169675090252)\n",
      "('FOOD_AND_DRINK', 1.2409747292418774)\n",
      "('EDUCATION', 1.1620036101083033)\n",
      "('ENTERTAINMENT', 0.9589350180505415)\n",
      "('LIBRARIES_AND_DEMO', 0.9363718411552346)\n",
      "('AUTO_AND_VEHICLES', 0.9250902527075813)\n",
      "('HOUSE_AND_HOME', 0.8235559566787004)\n",
      "('WEATHER', 0.8009927797833934)\n",
      "('EVENTS', 0.7107400722021661)\n",
      "('PARENTING', 0.6543321299638989)\n",
      "('ART_AND_DESIGN', 0.6430505415162455)\n",
      "('COMICS', 0.6204873646209387)\n",
      "('BEAUTY', 0.5979241877256317)\n"
     ]
    }
   ],
   "source": [
    "gplay_genre_counts = {}\n",
    "for app in gplay_free:\n",
    "    genre = app[1]\n",
    "    if genre in gplay_genre_counts:\n",
    "        gplay_genre_counts[genre] += 1\n",
    "    else:\n",
    "        gplay_genre_counts[genre] = 1\n",
    "\n",
    "\n",
    "gplay_genres = list(gplay_genre_counts.keys())\n",
    "gplay_counts = list(gplay_genre_counts.values())\n",
    "gplay_percentages = {genre: (gplay_genre_counts[genre] * 100 / len(gplay_free)) for genre in gplay_genre_counts}\n",
    "for row in sorted(gplay_percentages.items(), key=lambda x:x[1], reverse=True):\n",
    "    print(row)"
   ]
  },
  {
   "cell_type": "markdown",
   "id": "08bff86a",
   "metadata": {},
   "source": [
    "`19%` of free English Google Play apps are in the `Family` category, followed by `Games` at `9.7%` and `Tools` at `8.5%`."
   ]
  },
  {
   "cell_type": "code",
   "execution_count": 136,
   "id": "52786916",
   "metadata": {
    "scrolled": true
   },
   "outputs": [
    {
     "name": "stdout",
     "output_type": "stream",
     "text": [
      "['Jewels Crush- Match 3 Puzzle', 'Coloring & Learn', 'Mahjong', 'Super ABC! Learning games for kids! Preschool apps', 'Toy Pop Cubes', 'Educational Games 4 Kids', 'Candy Pop Story', 'Princess Coloring Book', 'Hello Kitty Nail Salon', 'Candy Smash', 'Happy Fruits Bomb - Cube Blast', 'Princess Adventures Puzzles', 'Kids Educational Game 3 Free', 'Puzzle Kids - Animals Shapes and Jigsaw Puzzles', 'Coloring book moana', 'Baby Panda Care', 'Kids Educational :All in One', 'Number Counting games for toddler preschool kids', 'Learn To Draw Glow Flower', 'No. Color - Color by Number, Number Coloring']\n"
     ]
    }
   ],
   "source": [
    "gplay_family_apps = []\n",
    "for app in gplay_free:\n",
    "    if app[1] == \"FAMILY\":\n",
    "        name = app[0]\n",
    "        gplay_family_apps.append(name)\n",
    "        \n",
    "print(gplay_family_apps[0:20])"
   ]
  },
  {
   "cell_type": "markdown",
   "id": "3bf1b8aa",
   "metadata": {},
   "source": [
    "Upon closer inspection, many of the Google Play Store apps tagged in the `Family` category are actually games."
   ]
  },
  {
   "cell_type": "markdown",
   "id": "35c846c1",
   "metadata": {},
   "source": [
    "Since the majority of Apple Store and Google Play Store apps are in the `Gaming` category, we preliminarily propose narrowing the focus on gaming apps. To validate this claim, we explore whether this category is popular for both platforms."
   ]
  },
  {
   "cell_type": "markdown",
   "id": "cae167f5",
   "metadata": {},
   "source": [
    "## Most popular apps by genre"
   ]
  },
  {
   "cell_type": "markdown",
   "id": "dee8d5a0",
   "metadata": {},
   "source": [
    "We pull in the two dataset headers again so we can retrieve the indices we need to analyze popular apps."
   ]
  },
  {
   "cell_type": "code",
   "execution_count": 31,
   "id": "e404498e",
   "metadata": {},
   "outputs": [
    {
     "name": "stdout",
     "output_type": "stream",
     "text": [
      "['id', 'track_name', 'size_bytes', 'currency', 'price', 'rating_count_tot', 'rating_count_ver', 'user_rating', 'user_rating_ver', 'ver', 'cont_rating', 'prime_genre', 'sup_devices.num', 'ipadSc_urls.num', 'lang.num', 'vpp_lic'] \n",
      "\n",
      "['App', 'Category', 'Rating', 'Reviews', 'Size', 'Installs', 'Type', 'Price', 'Content Rating', 'Genres', 'Last Updated', 'Current Ver', 'Android Ver']\n"
     ]
    }
   ],
   "source": [
    "print(ios_header,\"\\n\")\n",
    "print(gplay_header)"
   ]
  },
  {
   "cell_type": "markdown",
   "id": "4d532679",
   "metadata": {},
   "source": [
    "Based on the header names, we will use the `rating_count_tot` in index `5` for the Apple Store in lieu of number of app installs since that is not provided. It appears that number of app installs for the Google Play Store however is provided in the `Installs` column in index `5`."
   ]
  },
  {
   "cell_type": "markdown",
   "id": "afe8fec0",
   "metadata": {},
   "source": [
    "We first inspect the columns more closely."
   ]
  },
  {
   "cell_type": "code",
   "execution_count": 32,
   "id": "8d664335",
   "metadata": {
    "scrolled": true
   },
   "outputs": [
    {
     "name": "stdout",
     "output_type": "stream",
     "text": [
      "23\n"
     ]
    }
   ],
   "source": [
    "ios_unique_genres = [] \n",
    "\n",
    "for app in ios_free: \n",
    "    name = app[11] \n",
    "\n",
    "    if name not in ios_unique_genres:\n",
    "        ios_unique_genres.append(name)\n",
    "        \n",
    "print(len(ios_unique_genres))"
   ]
  },
  {
   "cell_type": "markdown",
   "id": "1f54f46a",
   "metadata": {},
   "source": [
    "There are 23 unique Apple Store genres."
   ]
  },
  {
   "cell_type": "code",
   "execution_count": 33,
   "id": "8120d184",
   "metadata": {},
   "outputs": [
    {
     "name": "stdout",
     "output_type": "stream",
     "text": [
      "33\n"
     ]
    }
   ],
   "source": [
    "gplay_unique_genres = [] \n",
    "\n",
    "for app in gplay_free: \n",
    "    name = app[1] \n",
    "\n",
    "    if name not in gplay_unique_genres:\n",
    "        gplay_unique_genres.append(name)\n",
    "        \n",
    "print(len(gplay_unique_genres))"
   ]
  },
  {
   "cell_type": "markdown",
   "id": "202bf9a3",
   "metadata": {},
   "source": [
    "There are 33 unique Google Play genres."
   ]
  },
  {
   "cell_type": "code",
   "execution_count": 34,
   "id": "fb77f455",
   "metadata": {
    "scrolled": true
   },
   "outputs": [
    {
     "name": "stdout",
     "output_type": "stream",
     "text": [
      "[['284882215', 'Facebook', '389879808', 'USD', '0.0', '2974676', '212', '3.5', '3.5', '95.0', '4+', 'Social Networking', '37', '1', '29', '1'], ['389801252', 'Instagram', '113954816', 'USD', '0.0', '2161558', '1289', '4.5', '4.0', '10.23', '12+', 'Photo & Video', '37', '0', '29', '1'], ['529479190', 'Clash of Clans', '116476928', 'USD', '0.0', '2130805', '579', '4.5', '4.5', '9.24.12', '9+', 'Games', '38', '5', '18', '1'], ['420009108', 'Temple Run', '65921024', 'USD', '0.0', '1724546', '3842', '4.5', '4.0', '1.6.2', '9+', 'Games', '40', '5', '1', '1'], ['284035177', 'Pandora - Music & Radio', '130242560', 'USD', '0.0', '1126879', '3594', '4.0', '4.5', '8.4.1', '12+', 'Music', '37', '4', '1', '1']]\n"
     ]
    }
   ],
   "source": [
    "print(ios_free[0:5])"
   ]
  },
  {
   "cell_type": "markdown",
   "id": "ad9978f2",
   "metadata": {},
   "source": [
    "It appears that the `rating_count_tot` column will need to be converted from a `str` format to a `float` format."
   ]
  },
  {
   "cell_type": "code",
   "execution_count": 35,
   "id": "6e9bde65",
   "metadata": {},
   "outputs": [
    {
     "name": "stdout",
     "output_type": "stream",
     "text": [
      "[('Navigation', 86090), ('Reference', 74942), ('Social Networking', 71548), ('Music', 57326), ('Weather', 52279), ('Book', 39758), ('Food & Drink', 33333), ('Finance', 31467), ('Photo & Video', 28441), ('Travel', 28243), ('Shopping', 26919), ('Health & Fitness', 23298), ('Sports', 23008), ('Games', 22788), ('News', 21248), ('Productivity', 21028), ('Utilities', 18684), ('Lifestyle', 16485), ('Entertainment', 14029), ('Business', 7491), ('Education', 7003), ('Catalogs', 4004), ('Medical', 612)]\n"
     ]
    }
   ],
   "source": [
    "avg_num_ratings = {}\n",
    "for genre in ios_unique_genres:\n",
    "    total = 0\n",
    "    len_genre = 0\n",
    "    for app in ios_free:\n",
    "        genre_app = app[11]\n",
    "        if genre_app == genre:\n",
    "            user_ratings = float(app[5])\n",
    "            total += user_ratings\n",
    "            len_genre += 1\n",
    "    avg_num_ratings[genre] = int(total/len_genre)\n",
    "    \n",
    "print(sorted(avg_num_ratings.items(), key=lambda x:x[1], reverse=True))"
   ]
  },
  {
   "cell_type": "markdown",
   "id": "d1a8fc41",
   "metadata": {},
   "source": [
    "`Navigation`, `Reference`, and `Social Networking` apps have the highest number of user ratings on the Apple Store."
   ]
  },
  {
   "cell_type": "code",
   "execution_count": 42,
   "id": "4539f47c",
   "metadata": {},
   "outputs": [
    {
     "name": "stdout",
     "output_type": "stream",
     "text": [
      "Waze - GPS Navigation, Maps & Real-time Traffic: 345046\n",
      "Google Maps - Navigation & Transit: 154911\n",
      "Geocaching®: 12811\n",
      "CoPilot GPS – Car Navigation & Offline Maps: 3582\n",
      "ImmobilienScout24: Real Estate Search in Germany: 187\n",
      "Railway Route Search: 5\n"
     ]
    }
   ],
   "source": [
    "for app in ios_free:\n",
    "    if app[11] == \"Navigation\":\n",
    "        print(f\"{app[1]}: {app[5]}\")"
   ]
  },
  {
   "cell_type": "markdown",
   "id": "452771c4",
   "metadata": {},
   "source": [
    "The `Navigation` category is dominated primarily by Waze and Google Maps."
   ]
  },
  {
   "cell_type": "code",
   "execution_count": 47,
   "id": "990c4e59",
   "metadata": {
    "scrolled": true
   },
   "outputs": [
    {
     "name": "stdout",
     "output_type": "stream",
     "text": [
      "Bible: 985920\n",
      "Dictionary.com Dictionary & Thesaurus: 200047\n",
      "Dictionary.com Dictionary & Thesaurus for iPad: 54175\n",
      "Google Translate: 26786\n",
      "Muslim Pro: Ramadan 2017 Prayer Times, Azan, Quran: 18418\n",
      "New Furniture Mods - Pocket Wiki & Game Tools for Minecraft PC Edition: 17588\n",
      "Merriam-Webster Dictionary: 16849\n",
      "Night Sky: 12122\n",
      "City Maps for Minecraft PE - The Best Maps for Minecraft Pocket Edition (MCPE): 8535\n",
      "LUCKY BLOCK MOD ™ for Minecraft PC Edition - The Best Pocket Wiki & Mods Installer Tools: 4693\n",
      "GUNS MODS for Minecraft PC Edition - Mods Tools: 1497\n",
      "Guides for Pokémon GO - Pokemon GO News and Cheats: 826\n",
      "WWDC: 762\n",
      "Horror Maps for Minecraft PE - Download The Scariest Maps for Minecraft Pocket Edition (MCPE) Free: 718\n",
      "VPN Express: 14\n",
      "Real Bike Traffic Rider Virtual Reality Glasses: 8\n",
      "教えて!goo: 0\n",
      "Jishokun-Japanese English Dictionary & Translator: 0\n"
     ]
    }
   ],
   "source": [
    "for app in ios_free:\n",
    "    if app[11] == \"Reference\":\n",
    "        print(f\"{app[1]}: {app[5]}\")"
   ]
  },
  {
   "cell_type": "markdown",
   "id": "efcd493e",
   "metadata": {},
   "source": [
    "The `Reference` category is dominated by the Bible and Dictionary apps."
   ]
  },
  {
   "cell_type": "code",
   "execution_count": 48,
   "id": "bb5cad92",
   "metadata": {},
   "outputs": [
    {
     "name": "stdout",
     "output_type": "stream",
     "text": [
      "Facebook: 2974676\n",
      "Pinterest: 1061624\n",
      "Skype for iPhone: 373519\n",
      "Messenger: 351466\n",
      "Tumblr: 334293\n",
      "WhatsApp Messenger: 287589\n",
      "Kik: 260965\n",
      "ooVoo – Free Video Call, Text and Voice: 177501\n",
      "TextNow - Unlimited Text + Calls: 164963\n",
      "Viber Messenger – Text & Call: 164249\n",
      "Followers - Social Analytics For Instagram: 112778\n",
      "MeetMe - Chat and Meet New People: 97072\n",
      "We Heart It - Fashion, wallpapers, quotes, tattoos: 90414\n",
      "InsTrack for Instagram - Analytics Plus More: 85535\n",
      "Tango - Free Video Call, Voice and Chat: 75412\n",
      "LinkedIn: 71856\n",
      "Match™ - #1 Dating App.: 60659\n",
      "Skype for iPad: 60163\n",
      "POF - Best Dating App for Conversations: 52642\n",
      "Timehop: 49510\n",
      "Find My Family, Friends & iPhone - Life360 Locator: 43877\n",
      "Whisper - Share, Express, Meet: 39819\n",
      "Hangouts: 36404\n",
      "LINE PLAY - Your Avatar World: 34677\n",
      "WeChat: 34584\n",
      "Badoo - Meet New People, Chat, Socialize.: 34428\n",
      "Followers + for Instagram - Follower Analytics: 28633\n",
      "GroupMe: 28260\n",
      "Marco Polo Video Walkie Talkie: 27662\n",
      "Miitomo: 23965\n",
      "SimSimi: 23530\n",
      "Grindr - Gay and same sex guys chat, meet and date: 23201\n",
      "Wishbone - Compare Anything: 20649\n",
      "imo video calls and chat: 18841\n",
      "After School - Funny Anonymous School News: 18482\n",
      "Quick Reposter - Repost, Regram and Reshare Photos: 17694\n",
      "Weibo HD: 16772\n",
      "Repost for Instagram: 15185\n",
      "Live.me – Live Video Chat & Make Friends Nearby: 14724\n",
      "Nextdoor: 14402\n",
      "Followers Analytics for Instagram - InstaReport: 13914\n",
      "YouNow: Live Stream Video Chat: 12079\n",
      "FollowMeter for Instagram - Followers Tracking: 11976\n",
      "LINE: 11437\n",
      "eHarmony™ Dating App - Meet Singles: 11124\n",
      "Discord - Chat for Gamers: 9152\n",
      "QQ: 9109\n",
      "Telegram Messenger: 7573\n",
      "Weibo: 7265\n",
      "Periscope - Live Video Streaming Around the World: 6062\n",
      "Chat for Whatsapp - iPad Version: 5060\n",
      "QQ HD: 5058\n",
      "Followers Analysis Tool For Instagram App Free: 4253\n",
      "live.ly - live video streaming: 4145\n",
      "Houseparty - Group Video Chat: 3991\n",
      "SOMA Messenger: 3232\n",
      "Monkey: 3060\n",
      "Down To Lunch: 2535\n",
      "Flinch - Video Chat Staring Contest: 2134\n",
      "Highrise - Your Avatar Community: 2011\n",
      "LOVOO - Dating Chat: 1985\n",
      "PlayStation®Messages: 1918\n",
      "BOO! - Video chat camera with filters & stickers: 1805\n",
      "Qzone: 1649\n",
      "Chatous - Chat with new people: 1609\n",
      "Kiwi - Q&A: 1538\n",
      "GhostCodes - a discovery app for Snapchat: 1313\n",
      "Jodel: 1193\n",
      "FireChat: 1037\n",
      "Google Duo - simple video calling: 1033\n",
      "Fiesta by Tango - Chat & Meet New People: 885\n",
      "Google Allo — smart messaging: 862\n",
      "Peach — share vividly: 727\n",
      "Hey! VINA - Where Women Meet New Friends: 719\n",
      "Battlefield™ Companion: 689\n",
      "All Devices for WhatsApp - Messenger for iPad: 682\n",
      "Chat for Pokemon Go - GoChat: 500\n",
      "IAmNaughty – Dating App to Meet New People Online: 463\n",
      "Qzone HD: 458\n",
      "Zenly - Locate your friends in realtime: 427\n",
      "League of Legends Friends: 420\n",
      "豆瓣: 407\n",
      "Candid - Speak Your Mind Freely: 398\n",
      "知乎: 397\n",
      "Selfeo: 366\n",
      "Fake-A-Location Free ™: 354\n",
      "Popcorn Buzz - Free Group Calls: 281\n",
      "Fam — Group video calling for iMessage: 279\n",
      "QQ International: 274\n",
      "Ameba: 269\n",
      "SoundCloud Pulse: for creators: 240\n",
      "Tantan: 235\n",
      "Cougar Dating & Life Style App for Mature Women: 213\n",
      "Rawr Messenger - Dab your chat: 180\n",
      "WhenToPost: Best Time to Post Photos for Instagram: 158\n",
      "Inke—Broadcast an amazing life: 147\n",
      "Mustknow - anonymous video Q&A: 53\n",
      "CTFxCmoji: 39\n",
      "Lobi: 36\n",
      "Chain: Collaborate On MyVideo Story/Group Video: 35\n",
      "botman - Real time video chat: 7\n",
      "BestieBox: 0\n",
      "MATCH ON LINE chat: 0\n",
      "niconico ch: 0\n",
      "LINE BLOG: 0\n",
      "bit-tube - Live Stream Video Chat: 0\n"
     ]
    }
   ],
   "source": [
    "for app in ios_free:\n",
    "    if app[11] == \"Social Networking\":\n",
    "        print(f\"{app[1]}: {app[5]}\")"
   ]
  },
  {
   "cell_type": "markdown",
   "id": "0f4e9d64",
   "metadata": {},
   "source": [
    "The `Social Networking` category is dominated by quite a lot of social networking apps like Facebook, Pinterest, Skype, Messenger, Tumblr, WhatsApp and Kik."
   ]
  },
  {
   "cell_type": "markdown",
   "id": "07084f07",
   "metadata": {},
   "source": [
    "We analyze the Google Play apps to see if we can make a comparison."
   ]
  },
  {
   "cell_type": "code",
   "execution_count": 38,
   "id": "5350b035",
   "metadata": {},
   "outputs": [
    {
     "name": "stdout",
     "output_type": "stream",
     "text": [
      "[['Photo Editor & Candy Camera & Grid & ScrapBook', 'ART_AND_DESIGN', '4.1', '159', '19M', '10,000+', 'Free', '0', 'Everyone', 'Art & Design', 'January 7, 2018', '1.0.0', '4.0.3 and up'], ['U Launcher Lite – FREE Live Cool Themes, Hide Apps', 'ART_AND_DESIGN', '4.7', '87510', '8.7M', '5,000,000+', 'Free', '0', 'Everyone', 'Art & Design', 'August 1, 2018', '1.2.4', '4.0.3 and up'], ['Sketch - Draw & Paint', 'ART_AND_DESIGN', '4.5', '215644', '25M', '50,000,000+', 'Free', '0', 'Teen', 'Art & Design', 'June 8, 2018', 'Varies with device', '4.2 and up'], ['Pixel Draw - Number Art Coloring Book', 'ART_AND_DESIGN', '4.3', '967', '2.8M', '100,000+', 'Free', '0', 'Everyone', 'Art & Design;Creativity', 'June 20, 2018', '1.1', '4.4 and up'], ['Paper flowers instructions', 'ART_AND_DESIGN', '4.4', '167', '5.6M', '50,000+', 'Free', '0', 'Everyone', 'Art & Design', 'March 26, 2017', '1.0', '2.3 and up']]\n"
     ]
    }
   ],
   "source": [
    "print(gplay_free[0:5])"
   ]
  },
  {
   "cell_type": "markdown",
   "id": "e3bb97bf",
   "metadata": {},
   "source": [
    "Google Play number of app installs appears to be bucketed in the format `XX,XXX+`. We will need to isolate these and reformat them into `float` values."
   ]
  },
  {
   "cell_type": "code",
   "execution_count": 39,
   "id": "ac946178",
   "metadata": {},
   "outputs": [
    {
     "name": "stdout",
     "output_type": "stream",
     "text": [
      "['0', '0+', '1+', '1,000+', '1,000,000+', '1,000,000,000+', '10+', '10,000+', '10,000,000+', '100+', '100,000+', '100,000,000+', '5+', '5,000+', '5,000,000+', '50+', '50,000+', '50,000,000+', '500+', '500,000+', '500,000,000+']\n"
     ]
    }
   ],
   "source": [
    "gplay_free_unique_installs = []\n",
    "\n",
    "for app in gplay_free:\n",
    "    count_installs = app[5]\n",
    "    if count_installs not in gplay_free_unique_installs:\n",
    "        gplay_free_unique_installs.append(count_installs)\n",
    "        \n",
    "print(sorted(gplay_free_unique_installs))"
   ]
  },
  {
   "cell_type": "markdown",
   "id": "44ba29f5",
   "metadata": {},
   "source": [
    "Already we can see formatting issues arising from the commas and plus symbols in the text strings. We proceed by removing these from the list values."
   ]
  },
  {
   "cell_type": "code",
   "execution_count": 49,
   "id": "feb49614",
   "metadata": {},
   "outputs": [
    {
     "name": "stdout",
     "output_type": "stream",
     "text": [
      "[('COMMUNICATION', 38456119), ('VIDEO_PLAYERS', 24727872), ('SOCIAL', 23253652), ('PHOTOGRAPHY', 17840110), ('PRODUCTIVITY', 16787331), ('GAME', 15588015), ('TRAVEL_AND_LOCAL', 13984077), ('ENTERTAINMENT', 11640705), ('TOOLS', 10801391), ('NEWS_AND_MAGAZINES', 9549178), ('BOOKS_AND_REFERENCE', 8767811), ('SHOPPING', 7036877), ('PERSONALIZATION', 5201482), ('WEATHER', 5074486), ('HEALTH_AND_FITNESS', 4188821), ('MAPS_AND_NAVIGATION', 4056941), ('FAMILY', 3695641), ('SPORTS', 3638640), ('ART_AND_DESIGN', 1986335), ('FOOD_AND_DRINK', 1924897), ('EDUCATION', 1833495), ('BUSINESS', 1712290), ('LIFESTYLE', 1437816), ('FINANCE', 1387692), ('HOUSE_AND_HOME', 1331540), ('DATING', 854028), ('COMICS', 817657), ('AUTO_AND_VEHICLES', 647317), ('LIBRARIES_AND_DEMO', 638503), ('PARENTING', 542603), ('BEAUTY', 513151), ('EVENTS', 253542), ('MEDICAL', 120550)]\n"
     ]
    }
   ],
   "source": [
    "avg_num_ratings = {}\n",
    "for genre in gplay_unique_genres:\n",
    "    total = 0\n",
    "    len_genre = 0\n",
    "    for app in gplay_free:\n",
    "        genre_app = app[1]\n",
    "        if genre_app == genre:\n",
    "            count_installs = app[5]\n",
    "            count_installs = count_installs.replace(\"+\", \"\")\n",
    "            count_installs = count_installs.replace(\",\", \"\")\n",
    "            total += float(count_installs)\n",
    "            len_genre += 1\n",
    "    avg_num_ratings[genre] = int(total/len_genre)\n",
    "    \n",
    "print(sorted(avg_num_ratings.items(), key=lambda x:x[1], reverse=True))"
   ]
  },
  {
   "cell_type": "markdown",
   "id": "8c93ac19",
   "metadata": {},
   "source": [
    "The `COMMUNICATION` apps have been installed 38 million times on average, followed by 24.7 million for `VIDEO_PLAYERS` apps, and 23 million for `SOCIAL`."
   ]
  },
  {
   "cell_type": "code",
   "execution_count": 128,
   "id": "fd8e3ae3",
   "metadata": {},
   "outputs": [
    {
     "name": "stdout",
     "output_type": "stream",
     "text": [
      "[('WhatsApp Messenger', 1000000000.0), ('Messenger – Text and Video Chat for Free', 1000000000.0), ('Skype - free IM & video calls', 1000000000.0), ('Google Chrome: Fast & Secure', 1000000000.0), ('Gmail', 1000000000.0), ('Hangouts', 1000000000.0), ('Google Duo - High Quality Video Calls', 500000000.0), ('imo free video calls and chat', 500000000.0), ('LINE: Free Calls & Messages', 500000000.0), ('UC Browser - Fast Download Private & Secure', 500000000.0)]\n",
      "287\n"
     ]
    }
   ],
   "source": [
    "gplay_communication = {}\n",
    "for app in gplay_free:\n",
    "\n",
    "    if app[1] == \"COMMUNICATION\":\n",
    "        name = app[0]\n",
    "        count_installs = app[5]\n",
    "        count_installs = count_installs.replace(\"+\", \"\")\n",
    "        count_installs = count_installs.replace(\",\", \"\")\n",
    "        if name not in gplay_communication:\n",
    "            gplay_communication[name] = float(count_installs)\n",
    "            \n",
    "print(sorted(gplay_communication.items(), key=lambda x:x[1], reverse=True)[0:10])\n",
    "print(len(gplay_communication))"
   ]
  },
  {
   "cell_type": "markdown",
   "id": "129d56fe",
   "metadata": {},
   "source": [
    "The `COMMUNICATION` apps are heavily saturated on the Google Play Store with billions of installs."
   ]
  },
  {
   "cell_type": "code",
   "execution_count": 123,
   "id": "d363a607",
   "metadata": {},
   "outputs": [
    {
     "name": "stdout",
     "output_type": "stream",
     "text": [
      "[('YouTube', 1000000000.0), ('Google Play Movies & TV', 1000000000.0), ('MX Player', 500000000.0), ('Motorola Gallery', 100000000.0), ('VLC for Android', 100000000.0), ('Dubsmash', 100000000.0), ('VivaVideo - Video Editor & Photo Movie', 100000000.0), ('VideoShow-Video Editor, Video Maker, Beauty Camera', 100000000.0), ('Motorola FM Radio', 100000000.0), ('Vote for', 50000000.0)]\n",
      "159\n"
     ]
    }
   ],
   "source": [
    "gplay_video_players = {}\n",
    "for app in gplay_free:\n",
    "\n",
    "    if app[1] == \"VIDEO_PLAYERS\":\n",
    "        name = app[0]\n",
    "        count_installs = app[5]\n",
    "        count_installs = count_installs.replace(\"+\", \"\")\n",
    "        count_installs = count_installs.replace(\",\", \"\")\n",
    "        if name not in gplay_video_players:\n",
    "            gplay_video_players[name] = float(count_installs)\n",
    "            \n",
    "print(sorted(gplay_video_players.items(), key=lambda x:x[1], reverse=True)[0:10])\n",
    "print(len(gplay_video_players))"
   ]
  },
  {
   "cell_type": "markdown",
   "id": "b09ac241",
   "metadata": {},
   "source": [
    "Similarly for `VIDEO_PLAYERS`, YouTube and Google Play Movies & TV heavily skew the average."
   ]
  },
  {
   "cell_type": "code",
   "execution_count": 122,
   "id": "8ad408e5",
   "metadata": {},
   "outputs": [
    {
     "name": "stdout",
     "output_type": "stream",
     "text": [
      "[('Facebook', 1000000000.0), ('Google+', 1000000000.0), ('Instagram', 1000000000.0), ('Facebook Lite', 500000000.0), ('Snapchat', 500000000.0), ('Tumblr', 100000000.0), ('Pinterest', 100000000.0), ('Badoo - Free Chat & Dating App', 100000000.0), ('Tango - Live Video Broadcast', 100000000.0), ('LinkedIn', 100000000.0)]\n",
      "236\n"
     ]
    }
   ],
   "source": [
    "gplay_social = {}\n",
    "for app in gplay_free:\n",
    "\n",
    "    if app[1] == \"SOCIAL\":\n",
    "        name = app[0]\n",
    "        count_installs = app[5]\n",
    "        count_installs = count_installs.replace(\"+\", \"\")\n",
    "        count_installs = count_installs.replace(\",\", \"\")\n",
    "        if name not in gplay_social:\n",
    "            gplay_social[name] = float(count_installs)\n",
    "            \n",
    "print(sorted(gplay_social.items(), key=lambda x:x[1], reverse=True)[0:10])\n",
    "print(len(gplay_social))"
   ]
  },
  {
   "cell_type": "markdown",
   "id": "7e0a3429",
   "metadata": {},
   "source": [
    "Similarly for `SOCIAL`, Facebook, Google+, Instagram, and Facebook Lite apps have over 1 billion installs."
   ]
  },
  {
   "cell_type": "markdown",
   "id": "1342c7d2",
   "metadata": {},
   "source": [
    "To compare with the Apple Store, we will want to explore the categories `BOOKS_AND_REFERENCE` and `MAPS_AND_NAVIGATION` on the Google Play Store."
   ]
  },
  {
   "cell_type": "code",
   "execution_count": 126,
   "id": "535d9c53",
   "metadata": {
    "scrolled": true
   },
   "outputs": [
    {
     "name": "stdout",
     "output_type": "stream",
     "text": [
      "[('Waze - GPS, Maps, Traffic Alerts & Live Navigation', 100000000.0), ('Uber', 100000000.0), ('GPS Navigation & Offline Maps Sygic', 50000000.0), ('Free GPS Navigation', 50000000.0), ('MapQuest: Directions, Maps, GPS & Navigation', 10000000.0), ('Yahoo! transit guide free timetable, operation information, transfer search', 10000000.0), ('Yandex.Transport', 10000000.0), ('Compass', 10000000.0), ('Subway Terminator: Smarter Subway', 10000000.0), ('Moovit: Bus Time & Train Time Live Info', 10000000.0)]\n",
      "124\n"
     ]
    }
   ],
   "source": [
    "gplay_navigation = {}\n",
    "total = 0\n",
    "for app in gplay_free:\n",
    "\n",
    "    if app[1] == \"MAPS_AND_NAVIGATION\":\n",
    "        name = app[0]\n",
    "        count_installs = app[5]\n",
    "        count_installs = count_installs.replace(\"+\", \"\")\n",
    "        count_installs = count_installs.replace(\",\", \"\")\n",
    "        if name not in gplay_navigation:\n",
    "            gplay_navigation[name] = float(count_installs)\n",
    "            \n",
    "print(sorted(gplay_navigation.items(), key=lambda x:x[1], reverse=True)[0:10])\n",
    "#print(sorted(gplay_navigation.items(), key=lambda x:x[1], reverse=True))\n",
    "print(len(gplay_navigation))"
   ]
  },
  {
   "cell_type": "markdown",
   "id": "2baa0912",
   "metadata": {},
   "source": [
    "The `Navigation` category has a few heavy hitters. Any new disrupters or innovative features can most likely be implemented in a future update in any one of these large apps."
   ]
  },
  {
   "cell_type": "code",
   "execution_count": 121,
   "id": "517148c6",
   "metadata": {},
   "outputs": [
    {
     "name": "stdout",
     "output_type": "stream",
     "text": [
      "[('Google Play Books', 1000000000.0), ('Bible', 100000000.0), ('Amazon Kindle', 100000000.0), ('Wattpad 📖 Free Books', 100000000.0), ('Audiobooks from Audible', 100000000.0), ('Wikipedia', 10000000.0), ('Cool Reader', 10000000.0), ('FBReader: Favorite Book Reader', 10000000.0), ('HTC Help', 10000000.0), ('Moon+ Reader', 10000000.0)]\n",
      "190\n"
     ]
    }
   ],
   "source": [
    "gplay_reference = {}\n",
    "total = 0\n",
    "for app in gplay_free:\n",
    "\n",
    "    if app[1] == \"BOOKS_AND_REFERENCE\":\n",
    "        name = app[0]\n",
    "        count_installs = app[5]\n",
    "        count_installs = count_installs.replace(\"+\", \"\")\n",
    "        count_installs = count_installs.replace(\",\", \"\")\n",
    "        if name not in gplay_reference:\n",
    "            gplay_reference[name] = float(count_installs)\n",
    "            \n",
    "print(sorted(gplay_reference.items(), key=lambda x:x[1], reverse=True)[0:10])\n",
    "print(len(gplay_reference))"
   ]
  },
  {
   "cell_type": "markdown",
   "id": "fde71a3c",
   "metadata": {},
   "source": [
    "There are several apps in the `BOOKS_AND_REFERENCE` category that dominate this market. However, what is significant is the number of similar apps that have translated a certain text or made it available in a different region. There are quite a few different dictionaries and Al Quran texts with regions tied to them. With 100 million installs for the Bible alone, a market can potentially be created in the `Books` or `References` categories by creating an app for a popular book or other religious texts with in-house multiple language translations and regional differences."
   ]
  },
  {
   "cell_type": "markdown",
   "id": "a8939879",
   "metadata": {},
   "source": [
    "We want to cross analyze book and reference apps on the Apple Store."
   ]
  },
  {
   "cell_type": "code",
   "execution_count": 139,
   "id": "11277459",
   "metadata": {},
   "outputs": [
    {
     "name": "stdout",
     "output_type": "stream",
     "text": [
      "Kindle – Read eBooks, Magazines & Textbooks: 252076\n",
      "Audible – audio books, original series & podcasts: 105274\n",
      "Color Therapy Adult Coloring Book for Adults: 84062\n",
      "OverDrive – Library eBooks and Audiobooks: 65450\n",
      "HOOKED - Chat Stories: 47829\n",
      "BookShout: Read eBooks & Track Your Reading Goals: 879\n",
      "Dr. Seuss Treasury — 50 best kids books: 451\n",
      "Green Riding Hood: 392\n",
      "Weirdwood Manor: 197\n",
      "MangaZERO - comic reader: 9\n",
      "ikouhoushi: 0\n",
      "MangaTiara - love comic reader: 0\n",
      "謎解き: 0\n",
      "謎解き2016: 0\n"
     ]
    }
   ],
   "source": [
    "for app in ios_free:\n",
    "    if app[11] == \"Book\":\n",
    "        print(f\"{app[1]}: {app[5]}\")"
   ]
  },
  {
   "cell_type": "code",
   "execution_count": 140,
   "id": "1f5550bb",
   "metadata": {},
   "outputs": [
    {
     "name": "stdout",
     "output_type": "stream",
     "text": [
      "Bible: 985920\n",
      "Dictionary.com Dictionary & Thesaurus: 200047\n",
      "Dictionary.com Dictionary & Thesaurus for iPad: 54175\n",
      "Google Translate: 26786\n",
      "Muslim Pro: Ramadan 2017 Prayer Times, Azan, Quran: 18418\n",
      "New Furniture Mods - Pocket Wiki & Game Tools for Minecraft PC Edition: 17588\n",
      "Merriam-Webster Dictionary: 16849\n",
      "Night Sky: 12122\n",
      "City Maps for Minecraft PE - The Best Maps for Minecraft Pocket Edition (MCPE): 8535\n",
      "LUCKY BLOCK MOD ™ for Minecraft PC Edition - The Best Pocket Wiki & Mods Installer Tools: 4693\n",
      "GUNS MODS for Minecraft PC Edition - Mods Tools: 1497\n",
      "Guides for Pokémon GO - Pokemon GO News and Cheats: 826\n",
      "WWDC: 762\n",
      "Horror Maps for Minecraft PE - Download The Scariest Maps for Minecraft Pocket Edition (MCPE) Free: 718\n",
      "VPN Express: 14\n",
      "Real Bike Traffic Rider Virtual Reality Glasses: 8\n",
      "教えて!goo: 0\n",
      "Jishokun-Japanese English Dictionary & Translator: 0\n"
     ]
    }
   ],
   "source": [
    "for app in ios_free:\n",
    "    if app[11] == \"Reference\":\n",
    "        print(f\"{app[1]}: {app[5]}\")"
   ]
  },
  {
   "cell_type": "markdown",
   "id": "46e39e3a",
   "metadata": {},
   "source": [
    "## Conclusion"
   ]
  },
  {
   "cell_type": "markdown",
   "id": "0746a2d1",
   "metadata": {},
   "source": [
    "The Bible has 100 million installs on the Google Play Store and close to 1 million installs on the Apple Store. Similarly, another religious text Quran has multiple versions for Android phones and about 18,000 downloads on iOS phones. It appears there may be a market here to design a similar app that can house multiple language translations and regional location differences. Some examples may be a popular book or religious text. The lead time may fall short for a popular but recently released book so one approach could be to create an app for one of the former two and then develop a template that can be applied to the latter. In the case of a religious text, implementations can be made within the app to let the user set daily or weekly reminders and alarms for prayer or any user-entered function. For a popular book, the app can incorporate note-taking funtions if applicable.\n",
    "\n",
    "While there exist heavy hitting apps on both platforms today, there are still opportunities to carve out a niche in some lesser volume categories. To fulfill one of the needs in developing an app which a user would be expected to interact with routinely, we proposed developing a companion app for massively popular books or religious texts. Introducing additional features like having multiple languages or countries to choose from to transform the text can help to shift users from language- or area-specific apps to more of a scaled-up one-stop shop.\n",
    "\n",
    "The next step would be to research the smaller apps that currently exist in the market and compile a list of the features that make them unique. What do they currently offer that other similar apps don't have? Do they have limitations that can be removed if scaled up? What features are the users wanting to gain access to by downloading one particular app versus another one?"
   ]
  },
  {
   "cell_type": "code",
   "execution_count": null,
   "id": "4b7651f6",
   "metadata": {},
   "outputs": [],
   "source": []
  }
 ],
 "metadata": {
  "kernelspec": {
   "display_name": "Python 3 (ipykernel)",
   "language": "python",
   "name": "python3"
  },
  "language_info": {
   "codemirror_mode": {
    "name": "ipython",
    "version": 3
   },
   "file_extension": ".py",
   "mimetype": "text/x-python",
   "name": "python",
   "nbconvert_exporter": "python",
   "pygments_lexer": "ipython3",
   "version": "3.11.3"
  }
 },
 "nbformat": 4,
 "nbformat_minor": 5
}
