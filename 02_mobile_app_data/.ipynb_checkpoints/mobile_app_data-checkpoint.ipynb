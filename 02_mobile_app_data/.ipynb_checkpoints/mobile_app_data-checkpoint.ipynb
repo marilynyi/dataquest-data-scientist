{
 "cells": [
  {
   "cell_type": "markdown",
   "id": "2b8b99f9",
   "metadata": {},
   "source": [
    "# Profitable App Profiles for the App Store and Google Play Markets \n",
    "\n",
    "**Scenario**: You are a data analyst for a company that builds Android and iOS mobile apps. These apps become available on Google Play and in the App Store. Only apps that are free to download and install are built, thus the company's main source of revenue consists of in-app ads. The number of users of the apps is the primary revenue consideration for any given app — the more users who see and engage with the ads, the better. \n",
    "\n",
    "**Goal**: Analyze the data to help the developers understand what type of apps are likely to attract more users. \n",
    "\n",
    "**Table of Contents**:\n",
    "- Load app data \n",
    "- Remove erroneous data\n",
    "- Remove duplicate apps\n",
    "- Remove non-English apps\n",
    "- Remove paid apps\n"
   ]
  },
  {
   "cell_type": "markdown",
   "id": "35438914",
   "metadata": {},
   "source": [
    "## Load app data from Apple Store and Google Play Store .csv files"
   ]
  },
  {
   "cell_type": "code",
   "execution_count": 1,
   "id": "c06dee69",
   "metadata": {},
   "outputs": [],
   "source": [
    "from csv import reader\n",
    "\n",
    "opened_ios = open(\"applestore.csv\")\n",
    "read_ios = reader(opened_ios)\n",
    "ios = list(read_ios)\n",
    "ios_header = ios[0]\n",
    "ios = ios[1:]\n",
    "\n",
    "opened_gplay = open(\"googleplaystore.csv\")\n",
    "read_gplay = reader(opened_gplay)\n",
    "gplay = list(read_gplay)\n",
    "gplay_header = gplay[0]\n",
    "gplay = gplay[1:]"
   ]
  },
  {
   "cell_type": "code",
   "execution_count": 2,
   "id": "97642b06",
   "metadata": {},
   "outputs": [
    {
     "name": "stdout",
     "output_type": "stream",
     "text": [
      "Total* number of Apple Store apps: 7197\n",
      "Total* number of Google Play Store: 10841\n",
      "*As provided\n"
     ]
    }
   ],
   "source": [
    "print(f\"Total* number of Apple Store apps: {len(ios)}\")\n",
    "print(f\"Total* number of Google Play Store: {len(gplay)}\")\n",
    "print(\"*As provided\")"
   ]
  },
  {
   "cell_type": "markdown",
   "id": "fd381133",
   "metadata": {},
   "source": [
    "### Course-provided `explore_data` function serves to print rows from the data in a readable way"
   ]
  },
  {
   "cell_type": "code",
   "execution_count": 3,
   "id": "e47c3155",
   "metadata": {},
   "outputs": [],
   "source": [
    "def explore_data(dataset, start, end, rows_and_columns = False):\n",
    "    dataset_slice = dataset[start:end]\n",
    "    for row in dataset_slice:\n",
    "        print(row)\n",
    "        print(\"\\n\")\n",
    "    if rows_and_columns:\n",
    "        print(\"Number of rows:\", len(dataset))\n",
    "        print(\"Number of columns:\", len(dataset[0]))"
   ]
  },
  {
   "cell_type": "markdown",
   "id": "4c84070e",
   "metadata": {},
   "source": [
    "#### Data snippets from Apple Store"
   ]
  },
  {
   "cell_type": "code",
   "execution_count": 4,
   "id": "aab789e7",
   "metadata": {},
   "outputs": [
    {
     "name": "stdout",
     "output_type": "stream",
     "text": [
      "['284882215', 'Facebook', '389879808', 'USD', '0.0', '2974676', '212', '3.5', '3.5', '95.0', '4+', 'Social Networking', '37', '1', '29', '1']\n",
      "\n",
      "\n",
      "['389801252', 'Instagram', '113954816', 'USD', '0.0', '2161558', '1289', '4.5', '4.0', '10.23', '12+', 'Photo & Video', '37', '0', '29', '1']\n",
      "\n",
      "\n",
      "['529479190', 'Clash of Clans', '116476928', 'USD', '0.0', '2130805', '579', '4.5', '4.5', '9.24.12', '9+', 'Games', '38', '5', '18', '1']\n",
      "\n",
      "\n",
      "Number of rows: 7197\n",
      "Number of columns: 16\n"
     ]
    }
   ],
   "source": [
    "explore_data(ios, 0, 3, True)"
   ]
  },
  {
   "cell_type": "markdown",
   "id": "5f55f3fb",
   "metadata": {},
   "source": [
    "#### Data snippets from Google Play Store"
   ]
  },
  {
   "cell_type": "code",
   "execution_count": 5,
   "id": "019ff11c",
   "metadata": {},
   "outputs": [
    {
     "name": "stdout",
     "output_type": "stream",
     "text": [
      "['Photo Editor & Candy Camera & Grid & ScrapBook', 'ART_AND_DESIGN', '4.1', '159', '19M', '10,000+', 'Free', '0', 'Everyone', 'Art & Design', 'January 7, 2018', '1.0.0', '4.0.3 and up']\n",
      "\n",
      "\n",
      "['Coloring book moana', 'ART_AND_DESIGN', '3.9', '967', '14M', '500,000+', 'Free', '0', 'Everyone', 'Art & Design;Pretend Play', 'January 15, 2018', '2.0.0', '4.0.3 and up']\n",
      "\n",
      "\n",
      "['U Launcher Lite – FREE Live Cool Themes, Hide Apps', 'ART_AND_DESIGN', '4.7', '87510', '8.7M', '5,000,000+', 'Free', '0', 'Everyone', 'Art & Design', 'August 1, 2018', '1.2.4', '4.0.3 and up']\n",
      "\n",
      "\n",
      "Number of rows: 10841\n",
      "Number of columns: 13\n"
     ]
    }
   ],
   "source": [
    "explore_data(gplay, 0, 3, True)"
   ]
  },
  {
   "cell_type": "markdown",
   "id": "76055607",
   "metadata": {},
   "source": [
    "## Remove erroneous data"
   ]
  },
  {
   "cell_type": "markdown",
   "id": "6eca8a8a",
   "metadata": {},
   "source": [
    "From one of the [Kaggle discussion](https://www.kaggle.com/datasets/lava18/google-play-store-apps/discussion/66015)'s which points to app ```10472``` in the ```Google Play Store``` data, it appears that the category for the `Life Made Wi-Fi Touchscreen Photo Frame` app is missing and all subsequent columns have been shifted forward by one. Consequently, this entry has 12 total columns instead of 13."
   ]
  },
  {
   "cell_type": "markdown",
   "id": "aae64dbe",
   "metadata": {},
   "source": [
    "The erroneous entry is found on row `10472` in our data (without the header)."
   ]
  },
  {
   "cell_type": "code",
   "execution_count": 6,
   "id": "f653b59b",
   "metadata": {
    "scrolled": true
   },
   "outputs": [
    {
     "name": "stdout",
     "output_type": "stream",
     "text": [
      "['Life Made WI-Fi Touchscreen Photo Frame', '1.9', '19', '3.0M', '1,000+', 'Free', '0', 'Everyone', '', 'February 11, 2018', '1.0.19', '4.0 and up']\n"
     ]
    }
   ],
   "source": [
    "print(gplay[10472])"
   ]
  },
  {
   "cell_type": "code",
   "execution_count": 7,
   "id": "99d80b70",
   "metadata": {},
   "outputs": [
    {
     "name": "stdout",
     "output_type": "stream",
     "text": [
      "12\n"
     ]
    }
   ],
   "source": [
    "print(len(gplay[10472]))"
   ]
  },
  {
   "cell_type": "markdown",
   "id": "0d9e9182",
   "metadata": {},
   "source": [
    "As one step in the data cleaning process, the erroneous row `10472` is removed."
   ]
  },
  {
   "cell_type": "code",
   "execution_count": 8,
   "id": "24fc0549",
   "metadata": {},
   "outputs": [],
   "source": [
    "del gplay[10472]"
   ]
  },
  {
   "cell_type": "code",
   "execution_count": 9,
   "id": "fca58239",
   "metadata": {},
   "outputs": [
    {
     "name": "stdout",
     "output_type": "stream",
     "text": [
      "['osmino Wi-Fi: free WiFi', 'TOOLS', '4.2', '134203', '4.1M', '10,000,000+', 'Free', '0', 'Everyone', 'Tools', 'August 7, 2018', '6.06.14', '4.4 and up']\n"
     ]
    }
   ],
   "source": [
    "print(gplay[10472])"
   ]
  },
  {
   "cell_type": "markdown",
   "id": "5e77edca",
   "metadata": {},
   "source": [
    "For completeness, the entire Google Play Store data is checked to see if the number of columns for any given row is not 13."
   ]
  },
  {
   "cell_type": "code",
   "execution_count": 10,
   "id": "048000dc",
   "metadata": {},
   "outputs": [
    {
     "name": "stdout",
     "output_type": "stream",
     "text": [
      "[]\n"
     ]
    }
   ],
   "source": [
    "gplay_erroneous_length = []\n",
    "for app in gplay:\n",
    "    name = app[0]\n",
    "    if len(app) != 13:\n",
    "        gplay_erroneous_length.append(name)\n",
    "print(gplay_erroneous_length)"
   ]
  },
  {
   "cell_type": "markdown",
   "id": "eef9bc54",
   "metadata": {},
   "source": [
    "We then apply this method to the Apple Store data to isolate rows that do not have 16 columns. "
   ]
  },
  {
   "cell_type": "code",
   "execution_count": 11,
   "id": "d5ef3f0d",
   "metadata": {},
   "outputs": [
    {
     "name": "stdout",
     "output_type": "stream",
     "text": [
      "[]\n"
     ]
    }
   ],
   "source": [
    "ios_erroneous_length = []\n",
    "for app in ios:\n",
    "    name = app[0]\n",
    "    if len(app) != 16:\n",
    "        ios_erroneous_length.append(name)\n",
    "print(ios_erroneous_length)"
   ]
  },
  {
   "cell_type": "code",
   "execution_count": 12,
   "id": "2242580b",
   "metadata": {},
   "outputs": [
    {
     "name": "stdout",
     "output_type": "stream",
     "text": [
      "Total* number of Apple Store apps: 7197\n",
      "Total* number of Google Play Store: 10840\n",
      "*After check for data errors\n"
     ]
    }
   ],
   "source": [
    "print(f\"Total* number of Apple Store apps: {len(ios)}\")\n",
    "print(f\"Total* number of Google Play Store: {len(gplay)}\")\n",
    "print(\"*After check for data errors\")"
   ]
  },
  {
   "cell_type": "markdown",
   "id": "f79093a6",
   "metadata": {},
   "source": [
    "## Remove duplicate apps"
   ]
  },
  {
   "cell_type": "markdown",
   "id": "de2777d9",
   "metadata": {},
   "source": [
    "From another [Kaggle discussion](https://www.kaggle.com/datasets/ramamet4/app-store-apple-data-set-10k-apps/discussion/90409), it would appear there may be potential duplicates in the Apple Store data."
   ]
  },
  {
   "cell_type": "markdown",
   "id": "c4e52743",
   "metadata": {},
   "source": [
    "A Kaggler provided the [code](https://www.kaggle.com/datasets/ramamet4/app-store-apple-data-set-10k-apps/discussion/106176#812842) below to list apps with duplicate names."
   ]
  },
  {
   "cell_type": "code",
   "execution_count": 13,
   "id": "ce1baa7a",
   "metadata": {},
   "outputs": [
    {
     "name": "stdout",
     "output_type": "stream",
     "text": [
      "[['1178454060', 'Mannequin Challenge', '59572224', 'USD', '0.0', '105', '58', '4.0', '4.5', '1.0.1', '4+', 'Games', '38', '5', '1', '1'], ['1089824278', 'VR Roller Coaster', '240964608', 'USD', '0.0', '67', '44', '3.5', '4.0', '0.81', '4+', 'Games', '38', '0', '1', '1']]\n"
     ]
    }
   ],
   "source": [
    "ios_unique_apps = [] \n",
    "ios_duplicate_apps = [] \n",
    "\n",
    "for app in ios: \n",
    "    name = app[1] \n",
    "\n",
    "    if name not in ios_unique_apps:\n",
    "        ios_unique_apps.append(name)\n",
    "    else:\n",
    "        ios_duplicate_apps.append(app)\n",
    "        \n",
    "print(ios_duplicate_apps)"
   ]
  },
  {
   "cell_type": "code",
   "execution_count": 14,
   "id": "a80fd9ca",
   "metadata": {},
   "outputs": [
    {
     "data": {
      "text/plain": [
       "2"
      ]
     },
     "execution_count": 14,
     "metadata": {},
     "output_type": "execute_result"
    }
   ],
   "source": [
    "len(ios_duplicate_apps)"
   ]
  },
  {
   "cell_type": "markdown",
   "id": "47cbb8e4",
   "metadata": {},
   "source": [
    "Upon closer inspection, the apps `Mannequin Challenge` and `VR Roller Coaster` are not duplicates but rather two separate apps each with the same names. This is noted by the differences primarily in the app size (`size_bytes`) and total rating count (`rating_count_tot`). \n",
    "\n",
    "Therefore, the Apple Store data does not contain any duplicates. \n",
    "\n",
    "There are 7,197 unique apps on the Apple Store."
   ]
  },
  {
   "cell_type": "code",
   "execution_count": 15,
   "id": "4ae397db",
   "metadata": {
    "scrolled": true
   },
   "outputs": [
    {
     "name": "stdout",
     "output_type": "stream",
     "text": [
      "['284882215', 'Facebook', '389879808', 'USD', '0.0', '2974676', '212', '3.5', '3.5', '95.0', '4+', 'Social Networking', '37', '1', '29', '1']\n",
      "\n",
      "\n",
      "['1173990889', 'Mannequin Challenge', '109705216', 'USD', '0.0', '668', '87', '3.0', '3.0', '1.4', '9+', 'Games', '37', '4', '1', '1']\n",
      "['952877179', 'VR Roller Coaster', '169523200', 'USD', '0.0', '107', '102', '3.5', '3.5', '2.0.0', '4+', 'Games', '37', '5', '1', '1']\n",
      "['1178454060', 'Mannequin Challenge', '59572224', 'USD', '0.0', '105', '58', '4.0', '4.5', '1.0.1', '4+', 'Games', '38', '5', '1', '1']\n",
      "['1089824278', 'VR Roller Coaster', '240964608', 'USD', '0.0', '67', '44', '3.5', '4.0', '0.81', '4+', 'Games', '38', '0', '1', '1']\n"
     ]
    }
   ],
   "source": [
    "print(ios[0])\n",
    "print(\"\\n\")\n",
    "\n",
    "for app in ios:\n",
    "    if app[1] == \"Mannequin Challenge\" or app[1] == \"VR Roller Coaster\":\n",
    "        print(app)"
   ]
  },
  {
   "cell_type": "code",
   "execution_count": 16,
   "id": "5409b801",
   "metadata": {},
   "outputs": [
    {
     "name": "stdout",
     "output_type": "stream",
     "text": [
      "Total* number of Apple Store apps: 7197\n",
      "*After checks for errors and duplicates\n"
     ]
    }
   ],
   "source": [
    "print(f\"Total* number of Apple Store apps: {len(ios)}\")\n",
    "print(\"*After checks for errors and duplicates\")"
   ]
  },
  {
   "cell_type": "markdown",
   "id": "a2fe7f1d",
   "metadata": {},
   "source": [
    "We now apply this same method of finding duplicates in the Google Play Store data."
   ]
  },
  {
   "cell_type": "code",
   "execution_count": 17,
   "id": "5237f215",
   "metadata": {},
   "outputs": [
    {
     "name": "stdout",
     "output_type": "stream",
     "text": [
      "['Box', 'BUSINESS', '4.2', '159872', 'Varies with device', '10,000,000+', 'Free', '0', 'Everyone', 'Business', 'July 31, 2018', 'Varies with device', 'Varies with device']\n"
     ]
    }
   ],
   "source": [
    "gplay_unique_apps = [] \n",
    "gplay_duplicate_apps = [] \n",
    "\n",
    "for app in gplay: \n",
    "    name = app[0] \n",
    "\n",
    "    if name not in gplay_unique_apps:\n",
    "        gplay_unique_apps.append(name)\n",
    "    else:\n",
    "        gplay_duplicate_apps.append(app)\n",
    "\n",
    "# Printing only first 5 rows        \n",
    "print(gplay_duplicate_apps[5])"
   ]
  },
  {
   "cell_type": "code",
   "execution_count": 18,
   "id": "95a6a893",
   "metadata": {},
   "outputs": [
    {
     "data": {
      "text/plain": [
       "1181"
      ]
     },
     "execution_count": 18,
     "metadata": {},
     "output_type": "execute_result"
    }
   ],
   "source": [
    "len(gplay_duplicate_apps)"
   ]
  },
  {
   "cell_type": "markdown",
   "id": "4c6a9b85",
   "metadata": {},
   "source": [
    "It appears that the Google Play Store data has `1,181` lines associated with duplicates. \n",
    "\n",
    "Taking the header row into account, we expect the total number of Google Play apps to be `9,659`."
   ]
  },
  {
   "cell_type": "code",
   "execution_count": 19,
   "id": "dd341085",
   "metadata": {},
   "outputs": [
    {
     "data": {
      "text/plain": [
       "9659"
      ]
     },
     "execution_count": 19,
     "metadata": {},
     "output_type": "execute_result"
    }
   ],
   "source": [
    "len(gplay)-len(gplay_duplicate_apps)"
   ]
  },
  {
   "cell_type": "markdown",
   "id": "3498ce2c",
   "metadata": {},
   "source": [
    "Isolating the first app in the comprehensive list of duplicates above, we see the app `Quick PDF Scanner + OCR FREE` listed three times. There is a slight difference in the 3rd listing with `80804` reviews instead of `80805` as shown in the first two listings."
   ]
  },
  {
   "cell_type": "code",
   "execution_count": 20,
   "id": "29c16bcf",
   "metadata": {},
   "outputs": [
    {
     "name": "stdout",
     "output_type": "stream",
     "text": [
      "['App', 'Category', 'Rating', 'Reviews', 'Size', 'Installs', 'Type', 'Price', 'Content Rating', 'Genres', 'Last Updated', 'Current Ver', 'Android Ver']\n",
      "\n",
      "\n",
      "['Quick PDF Scanner + OCR FREE', 'BUSINESS', '4.2', '80805', 'Varies with device', '5,000,000+', 'Free', '0', 'Everyone', 'Business', 'February 26, 2018', 'Varies with device', '4.0.3 and up']\n",
      "['Quick PDF Scanner + OCR FREE', 'BUSINESS', '4.2', '80805', 'Varies with device', '5,000,000+', 'Free', '0', 'Everyone', 'Business', 'February 26, 2018', 'Varies with device', '4.0.3 and up']\n",
      "['Quick PDF Scanner + OCR FREE', 'BUSINESS', '4.2', '80804', 'Varies with device', '5,000,000+', 'Free', '0', 'Everyone', 'Business', 'February 26, 2018', 'Varies with device', '4.0.3 and up']\n"
     ]
    }
   ],
   "source": [
    "print(gplay_header)\n",
    "print(\"\\n\")\n",
    "\n",
    "for app in gplay[1:]:\n",
    "    if app[0] == \"Quick PDF Scanner + OCR FREE\":\n",
    "        print(app)"
   ]
  },
  {
   "cell_type": "markdown",
   "id": "16fec8ef",
   "metadata": {},
   "source": [
    "We can assume the app listing with the highest number of reviews has spent the longest duration on the store. Therefore, we take the listing with the maximum number of reviews as the criteria for removing duplicates. We create a dictionary called `reviews_max` to house the maximum number of reviews for each app. As noted above, we should end up with `9,659` unique Google Play listings after removing duplicates."
   ]
  },
  {
   "cell_type": "code",
   "execution_count": 21,
   "id": "45ce58c5",
   "metadata": {},
   "outputs": [
    {
     "data": {
      "text/plain": [
       "9659"
      ]
     },
     "execution_count": 21,
     "metadata": {},
     "output_type": "execute_result"
    }
   ],
   "source": [
    "reviews_max = {}\n",
    "for app in gplay:\n",
    "    name = app[0]\n",
    "    n_reviews = float(app[3])\n",
    "    if name in reviews_max and reviews_max[name] < n_reviews:\n",
    "        reviews_max[name] = n_reviews\n",
    "    elif name not in reviews_max:\n",
    "        reviews_max[name] = n_reviews\n",
    "\n",
    "len(reviews_max)"
   ]
  },
  {
   "cell_type": "markdown",
   "id": "a0968cb8",
   "metadata": {},
   "source": [
    "Rather than removing duplicates, we build and store the unique Google Play Store apps into a new list called `android_clean`. Because the `for` loop will produce an error if including a header, we loop without it and then add the header as the first row in the new `android_clean` list. \n",
    "\n",
    "In the case where an app may have two listings with the same maximum number of reviews, we employ the `already_added` list so that once an app has been added, it is not added to the clean list.\n",
    "\n",
    "To retrieve the total number of apps, we take the length of the new list and subtract one to account for the header row."
   ]
  },
  {
   "cell_type": "code",
   "execution_count": 22,
   "id": "637674b1",
   "metadata": {
    "scrolled": false
   },
   "outputs": [
    {
     "name": "stdout",
     "output_type": "stream",
     "text": [
      "Total* number of Google Play apps: 9659\n",
      "*After checks for errors and duplicates\n"
     ]
    }
   ],
   "source": [
    "android_clean = []\n",
    "already_added = []\n",
    "\n",
    "for app in gplay:\n",
    "    name = app[0]\n",
    "    n_reviews = float(app[3])\n",
    "    if (n_reviews == reviews_max[name]) and (name not in already_added):\n",
    "        android_clean.append(app)\n",
    "        already_added.append(name)\n",
    "\n",
    "print(f\"Total* number of Google Play apps: {len(android_clean)}\")\n",
    "print(\"*After checks for errors and duplicates\")"
   ]
  },
  {
   "cell_type": "markdown",
   "id": "ab9cdd5b",
   "metadata": {},
   "source": [
    "## Remove non-English apps"
   ]
  },
  {
   "cell_type": "markdown",
   "id": "ea4bdc57",
   "metadata": {},
   "source": [
    "From the Dataquest lesson:\n",
    "`The numbers corresponding to the characters we commonly use in an English text are all in the range 0 to 127, according to the ASCII (American Standard Code for Information Interchange) system. Based on this number range, we can build a function that detects whether a character belongs to the set of common English characters or not. If the number is equal to or less than 127, then the character belongs to the set of common English characters.`"
   ]
  },
  {
   "cell_type": "markdown",
   "id": "aa020908",
   "metadata": {},
   "source": [
    "We create a function that passes in the app's name returns `False` if the corresponding number for any character in the name is outside the range 0 to 127 and `True` if within the range."
   ]
  },
  {
   "cell_type": "code",
   "execution_count": 23,
   "id": "c0400e86",
   "metadata": {},
   "outputs": [
    {
     "name": "stdout",
     "output_type": "stream",
     "text": [
      "True\n",
      "False\n",
      "True\n",
      "True\n"
     ]
    }
   ],
   "source": [
    "def is_english(string):\n",
    "    not_ascii = 0\n",
    "    for char in string:\n",
    "        if ord(char) > 127:\n",
    "            not_ascii += 1\n",
    "    if not_ascii > 3:\n",
    "        return False\n",
    "    else:\n",
    "        return True\n",
    "        \n",
    "# tests\n",
    "print(is_english('Instagram'))\n",
    "print(is_english('爱奇艺PPS -《欢乐颂2》电视剧热播'))\n",
    "print(is_english('Docs To Go™ Free Office Suite'))\n",
    "print(is_english('Instachat 😜'))"
   ]
  },
  {
   "cell_type": "markdown",
   "id": "d189933f",
   "metadata": {},
   "source": [
    "Applying this function to both the Apple Store and Google Play Store data sets to retrieve only the apps designed for English speakers."
   ]
  },
  {
   "cell_type": "code",
   "execution_count": 24,
   "id": "da4a69d4",
   "metadata": {},
   "outputs": [
    {
     "name": "stdout",
     "output_type": "stream",
     "text": [
      "Total* number of Apple Store apps: 6183\n",
      "Total* number of Google Play Store apps: 9614\n",
      "*After removal of errors, duplicates, and non-ASCII app names\n"
     ]
    }
   ],
   "source": [
    "ios_english = []\n",
    "for app in ios:\n",
    "    name = app[1]\n",
    "    if is_english(name) == True:\n",
    "        ios_english.append(app)\n",
    "\n",
    "gplay_english = []\n",
    "for app in android_clean:\n",
    "    name = app[0]\n",
    "    if is_english(name) == True:\n",
    "        gplay_english.append(app)\n",
    "        \n",
    "print(f\"Total* number of Apple Store apps: {len(ios_english)}\")\n",
    "print(f\"Total* number of Google Play Store apps: {len(gplay_english)}\")\n",
    "print(\"*After removal of errors, duplicates, and non-ASCII app names\")"
   ]
  },
  {
   "cell_type": "markdown",
   "id": "a0071cff",
   "metadata": {},
   "source": [
    "## Remove paid apps"
   ]
  },
  {
   "cell_type": "markdown",
   "id": "a6a54df9",
   "metadata": {},
   "source": [
    "We print the app headers again to view indices.\\\n",
    "The `price` is in index `4` for Apple and `7` for Google Play."
   ]
  },
  {
   "cell_type": "code",
   "execution_count": 25,
   "id": "f6881233",
   "metadata": {},
   "outputs": [
    {
     "name": "stdout",
     "output_type": "stream",
     "text": [
      "['id', 'track_name', 'size_bytes', 'currency', 'price', 'rating_count_tot', 'rating_count_ver', 'user_rating', 'user_rating_ver', 'ver', 'cont_rating', 'prime_genre', 'sup_devices.num', 'ipadSc_urls.num', 'lang.num', 'vpp_lic']\n",
      "\n",
      "\n",
      "['App', 'Category', 'Rating', 'Reviews', 'Size', 'Installs', 'Type', 'Price', 'Content Rating', 'Genres', 'Last Updated', 'Current Ver', 'Android Ver']\n"
     ]
    }
   ],
   "source": [
    "print(ios_header)\n",
    "print(\"\\n\")\n",
    "print(gplay_header)"
   ]
  },
  {
   "cell_type": "markdown",
   "id": "27e80346",
   "metadata": {},
   "source": [
    "We create new lists to pass in only apps with `price` = `0`. Both the Apple and Google Play prices come as strings so these are converted into `float` values. The Google Play app `price` has a leading `$` so this symbol is stripped using the `lstrip` function."
   ]
  },
  {
   "cell_type": "code",
   "execution_count": 26,
   "id": "3a674c39",
   "metadata": {},
   "outputs": [
    {
     "name": "stdout",
     "output_type": "stream",
     "text": [
      "Total* number of English Apple Store apps: 3222\n",
      "Total* number of English Google Play Store apps: 8864\n",
      "*After removal of errors, duplicates, non-ASCII app names, and paid apps\n"
     ]
    }
   ],
   "source": [
    "ios_free = []\n",
    "gplay_free = []\n",
    "\n",
    "for app in ios_english:\n",
    "    price = float(app[4])\n",
    "    if price == 0:\n",
    "        ios_free.append(app)\n",
    "\n",
    "for app in gplay_english:\n",
    "    price = float(app[7].lstrip(\"$\"))\n",
    "    if price == 0:\n",
    "        gplay_free.append(app)\n",
    "        \n",
    "print(f\"Total* number of English Apple Store apps: {len(ios_free)}\")\n",
    "print(f\"Total* number of English Google Play Store apps: {len(gplay_free)}\")\n",
    "print(\"*After removal of errors, duplicates, non-ASCII app names, and paid apps\")"
   ]
  },
  {
   "cell_type": "markdown",
   "id": "8ac14d49",
   "metadata": {},
   "source": [
    "## Most Common Apps by Genre"
   ]
  },
  {
   "cell_type": "code",
   "execution_count": null,
   "id": "51a88469",
   "metadata": {},
   "outputs": [],
   "source": []
  }
 ],
 "metadata": {
  "kernelspec": {
   "display_name": "Python 3 (ipykernel)",
   "language": "python",
   "name": "python3"
  },
  "language_info": {
   "codemirror_mode": {
    "name": "ipython",
    "version": 3
   },
   "file_extension": ".py",
   "mimetype": "text/x-python",
   "name": "python",
   "nbconvert_exporter": "python",
   "pygments_lexer": "ipython3",
   "version": "3.11.3"
  }
 },
 "nbformat": 4,
 "nbformat_minor": 5
}
