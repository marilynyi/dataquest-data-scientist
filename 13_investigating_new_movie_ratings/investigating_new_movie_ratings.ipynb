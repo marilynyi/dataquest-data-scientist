{
 "cells": [
  {
   "cell_type": "markdown",
   "id": "99ec73ca",
   "metadata": {},
   "source": [
    "# Investigating New Movie Ratings"
   ]
  },
  {
   "cell_type": "markdown",
   "id": "c2e26a99",
   "metadata": {},
   "source": [
    "### Scenario\n",
    "\n",
    "In lieu of the popular \"Investigating Fandango Movie Ratings\" project which uses data from 2015, we dive into a more recent exploration by:\n",
    "- scraping together our own dataset of ratings (`movie_ratings_07-30-2023.csv`), and \n",
    "- investigating ratings for new movies released in theaters\n",
    "\n",
    "from Metacritic, IMDb, Rotten Tomatoes, and Fandango. \n",
    "\n",
    "### Goal\n",
    "\n",
    "We explore any trends and determine if Fandango (or perhaps a different movie critic) is inflating ratings.\n",
    "\n",
    "### Result\n",
    "\n",
    "We started off by scraping together a list of new movies released in theaters from each of the four movie critic sites. Sometime in 2019, Fandango stopped using the 5-star rating system. Instead, they now use a [verified Audience Score](https://editorial.rottentomatoes.com/article/introducing-verified-audience-score/) powered by Rotten Tomatoes. We pulled this score directly from Rotten Tomatoes.\n",
    "\n",
    "To properly evaluate the ratings, we analyzed only movies that had all four critic ratings. It is evident that Fandango's ratings for new movie releases are still inflated (but in a different sense) when compared to the other critic sites. Unlike 2015 where they were rounding up ratings, the inflation today is due to the Audience Score they use which explicitly skews it towards favorable user ratings based on the definition: \n",
    "\n",
    "\"The percentage of users we've confirmed bought tickets for this movie who rated it 3.5 stars or higher.\"\n",
    "\n",
    "It is also shown that IMDb is slow to rate new releases compared to the other three critic sites. They have rated only 3% of the new movies when the other three have rated 97-100% of them. \n",
    "\n",
    "New movies released in theaters, on average, are rated with a score between 70-80 when rated by all four critics. When rated by at least two critics, the ratings are higher between 80-90. \n",
    "\n",
    "With the current batch of new releases, the top 5 movies are in the action/adventure and drama genres. The bottom 5 are comedy or horror movies. It remains true that Fandango rated both top 5 and bottom 5 movies higher than the other three critics.\n",
    "\n",
    "Overall, for new releases, Fandango rates movies 11 points higher than the average and Metacritic rates them 10 points lower than the average. If one could only choose one site to peruse for reliable movie ratings, I suggest Rotten Tomatoes as their ratings on average resemble the average of all four critic sites combined. Also, because they include both their own Tomatometer rating and Verified Audience Score rating for movies, the one-stop shop to compare official and user ratings makes Rotten Tomatoes the better choice."
   ]
  },
  {
   "cell_type": "markdown",
   "id": "f2d54377",
   "metadata": {},
   "source": [
    "# Table of Contents\n",
    "\n",
    "1. Import the libraries\n",
    "2. Scrape the data\n",
    "   - Instantiate HTTP headers to request data\n",
    "   - Metacritic: New Releases in Theaters\n",
    "   - IMDb: Feature Film (Sorted by Popularity Ascending)\n",
    "   - Rotten Tomatoes: New Movies in Theaters\n",
    "   - Fandango: From Rotten Tomatoes' Verified Audience Score\n",
    "3. Merge or import the data\n",
    "4. Clean the data\n",
    "   - Functions and definitions\n",
    "   - NaN values\n",
    "5. Explore the data\n",
    "   - Movies with no null ratings\n",
    "   - Movie ratings by number of critics\n",
    "   - Movie ratings by month\n",
    "   - Top 5 newly released movie ratings\n",
    "   - Bottom 5 newly released movie ratings\n",
    "   - Average ratings by movie critic"
   ]
  },
  {
   "cell_type": "markdown",
   "id": "099658d7",
   "metadata": {},
   "source": [
    "## Import the libraries"
   ]
  },
  {
   "cell_type": "code",
   "execution_count": 1,
   "id": "79215625",
   "metadata": {},
   "outputs": [],
   "source": [
    "import requests\n",
    "import logging\n",
    "import csv\n",
    "import re\n",
    "import numpy as np\n",
    "import pandas as pd\n",
    "import seaborn as sns\n",
    "import warnings\n",
    "import matplotlib.pyplot as plt\n",
    "import ipywidgets as widgets\n",
    "from datetime import datetime\n",
    "from bs4 import BeautifulSoup\n",
    "\n",
    "# Set to CRITICAL (remove +1) and Restart/Run All to show logging details\n",
    "logging.basicConfig(level=logging.CRITICAL+1)\n",
    "\n",
    "# Suppress low-level warnings\n",
    "warnings.filterwarnings(\"ignore\", category=FutureWarning)\n",
    "\n",
    "# Set chart defaults\n",
    "sns.set_theme(style=\"whitegrid\")\n",
    "sns.set_palette(\"muted\")\n",
    "plt.rcParams['font.family'] = 'arial'"
   ]
  },
  {
   "cell_type": "markdown",
   "id": "2578850e",
   "metadata": {},
   "source": [
    "## Scrape the data"
   ]
  },
  {
   "cell_type": "markdown",
   "id": "430b42b5",
   "metadata": {},
   "source": [
    "To build our own dataset, we turn to BeautifulSoup to web scrape ratings from:\n",
    "1. Metacritic\n",
    "2. IMDb\n",
    "3. Rotten Tomatoes\n",
    "\n",
    "Fandango uses the verified Audience Score from Rotten Tomatoes so we'll pull those ratings from there."
   ]
  },
  {
   "cell_type": "markdown",
   "id": "c2a73bf1",
   "metadata": {},
   "source": [
    "### Instantiate HTTP headers to request data"
   ]
  },
  {
   "cell_type": "code",
   "execution_count": 2,
   "id": "279ccd32",
   "metadata": {},
   "outputs": [],
   "source": [
    "headers = {\n",
    "    \"User-Agent\": \"Mozilla/5.0 (Windows NT 10.0; Win64; x64) AppleWebKit/537.36 (KHTML, like Gecko) Chrome/114.0.0.0 Safari/537.36\",\n",
    "    \"Accept-Language\": \"en-US,en;q=0.9\"\n",
    "}"
   ]
  },
  {
   "cell_type": "markdown",
   "id": "e0f4f3db",
   "metadata": {},
   "source": [
    "### Metacritic: New Releases in Theaters"
   ]
  },
  {
   "cell_type": "code",
   "execution_count": 3,
   "id": "dbe1f332",
   "metadata": {},
   "outputs": [
    {
     "name": "stdout",
     "output_type": "stream",
     "text": [
      "229\n"
     ]
    }
   ],
   "source": [
    "# Pull from all three pages\n",
    "metacritic_url1 = \"https://www.metacritic.com/browse/movies/release-date/theaters/date\"\n",
    "metacritic_url2 = \"https://www.metacritic.com/browse/movies/release-date/theaters/date?page=1\"\n",
    "metacritic_url3 = \"https://www.metacritic.com/browse/movies/release-date/theaters/date?page=2\"\n",
    "\n",
    "metacritic = {}\n",
    "\n",
    "for url in [metacritic_url1, metacritic_url2, metacritic_url3]:\n",
    "    response = requests.get(url, headers=headers)\n",
    "    website_html = response.text\n",
    "\n",
    "    soup = BeautifulSoup(website_html, \"html.parser\")\n",
    "\n",
    "    movie_links = soup.find_all(\"td\", class_=\"clamp-summary-wrap\")\n",
    "    \n",
    "    for link in movie_links:\n",
    "        try:\n",
    "            metacritic[link.find(\"h3\").get_text().strip().lower().replace(\"–\",\"-\").replace(\",\",\"\").replace(\"ii\",\"2\")] = float(link.find('div', class_=re.compile(r\"metascore_w large movie.*\")).get_text())\n",
    "        except ValueError:\n",
    "            metacritic[link.find(\"h3\").get_text().strip().lower().replace(\"–\",\"-\").replace(\",\",\"\").replace(\"ii\",\"2\")] = float(np.nan)\n",
    "                    \n",
    "logging.critical(metacritic)\n",
    "print(len(metacritic))\n"
   ]
  },
  {
   "cell_type": "markdown",
   "id": "8b705707",
   "metadata": {},
   "source": [
    "### IMDb: Feature Film (Sorted by Popularity Ascending)"
   ]
  },
  {
   "cell_type": "code",
   "execution_count": 4,
   "id": "cf17d375",
   "metadata": {},
   "outputs": [
    {
     "name": "stdout",
     "output_type": "stream",
     "text": [
      "459\n"
     ]
    }
   ],
   "source": [
    "imdb_urls = [\n",
    "    \"https://www.imdb.com/search/title/?title_type=feature\",\n",
    "    \"https://www.imdb.com/search/title/?title_type=feature&start=51&ref_=adv_nxt\",\n",
    "    \"https://www.imdb.com/search/title/?title_type=feature&start=101&ref_=adv_nxt\",\n",
    "    \"https://www.imdb.com/search/title/?title_type=feature&start=151&ref_=adv_nxt\",\n",
    "    \"https://www.imdb.com/search/title/?title_type=feature&start=201&ref_=adv_nxt\",\n",
    "    \"https://www.imdb.com/search/title/?title_type=feature&start=251&ref_=adv_nxt\",\n",
    "    \"https://www.imdb.com/search/title/?title_type=feature&start=301&ref_=adv_nxt\",\n",
    "    \"https://www.imdb.com/search/title/?title_type=feature&start=351&ref_=adv_nxt\",\n",
    "    \"https://www.imdb.com/search/title/?title_type=feature&start=401&ref_=adv_nxt\",\n",
    "    \"https://www.imdb.com/search/title/?title_type=feature&start=451&ref_=adv_nxt\",\n",
    "    ]\n",
    "\n",
    "imdb = {}\n",
    "\n",
    "for url in imdb_urls:\n",
    "\n",
    "    response = requests.get(url, headers=headers)\n",
    "    website_html = response.text\n",
    "\n",
    "    soup = BeautifulSoup(website_html, \"html.parser\")\n",
    "    \n",
    "    movie_items = soup.find_all(\"h3\", class_=\"lister-item-header\")\n",
    "    movie_rating_texts = soup.find_all(\"div\", attrs={\"name\":\"ir\"})\n",
    "    \n",
    "    # Multiply IMDb rating by 10 to convert to 100 pt scale similar to the other websites\n",
    "    for item, rating in zip(movie_items, movie_rating_texts):\n",
    "        imdb[item.a.text.strip().lower().replace(\"–\",\"-\").replace(\",\",\"\").replace(\"ii\",\"2\")] = float(rating.strong.text)*10\n",
    "\n",
    "logging.critical(imdb)\n",
    "print(len(imdb))"
   ]
  },
  {
   "cell_type": "markdown",
   "id": "8172bdea",
   "metadata": {},
   "source": [
    "### Rotten Tomatoes: New Movies in Theaters"
   ]
  },
  {
   "cell_type": "code",
   "execution_count": 5,
   "id": "37ac4338",
   "metadata": {},
   "outputs": [
    {
     "name": "stdout",
     "output_type": "stream",
     "text": [
      "101\n"
     ]
    }
   ],
   "source": [
    "rottentomatoes_url = \"https://www.rottentomatoes.com/browse/movies_in_theaters/sort:popular?page=5\"\n",
    "\n",
    "rottentomatoes = {}\n",
    "\n",
    "response = requests.get(rottentomatoes_url, headers=headers)\n",
    "website_html = response.text\n",
    "\n",
    "soup = BeautifulSoup(website_html, \"html.parser\")\n",
    "\n",
    "movie_title_texts = soup.find_all(\"span\", attrs={\"data-qa\":\"discovery-media-list-item-title\"})\n",
    "\n",
    "movie_rating_texts = soup.find_all(\"score-pairs\", attrs={\"criticsscore\": True})\n",
    "for item, rating in zip(movie_title_texts, movie_rating_texts):\n",
    "    if rating[\"criticsscore\"]==\"\":\n",
    "        rating[\"criticsscore\"] = np.nan\n",
    "    else:\n",
    "        rating[\"criticsscore\"] = int(rating[\"criticsscore\"])\n",
    "    rottentomatoes[item.text.strip().lower().replace(\"–\",\"-\").replace(\",\",\"\").replace(\"ii\",\"2\")] = rating[\"criticsscore\"]\n",
    "    \n",
    "dates = {}\n",
    "date_format = \"%b %d, %Y\"\n",
    "movie_open_dates = soup.find_all(\"span\", attrs={\"data-qa\":\"discovery-media-list-item-start-date\"})\n",
    "for item, date in zip(movie_title_texts, movie_open_dates):\n",
    "    if date.text.strip().startswith(\"Opened\"):\n",
    "        date_string = date.text.strip()[len(\"Opened \"):]\n",
    "    date_datetime = datetime.strptime(date_string, date_format)\n",
    "    date_formatted = date_datetime.strftime(\"%Y-%m-%d\")\n",
    "    dates[item.text.strip().lower().replace(\"–\",\"-\").replace(\",\",\"\").replace(\"ii\",\"2\")] = date_formatted\n",
    "    \n",
    "logging.critical(rottentomatoes)\n",
    "logging.critical(dates)\n",
    "print(len(rottentomatoes))"
   ]
  },
  {
   "cell_type": "markdown",
   "id": "1106ebdb",
   "metadata": {},
   "source": [
    "### Fandango: From Rotten Tomatoes' Verified Audience Score"
   ]
  },
  {
   "cell_type": "code",
   "execution_count": 6,
   "id": "3ac4a1ef",
   "metadata": {},
   "outputs": [
    {
     "name": "stdout",
     "output_type": "stream",
     "text": [
      "101\n"
     ]
    }
   ],
   "source": [
    "fandango = {}\n",
    "\n",
    "movie_rating_texts = soup.find_all(\"score-pairs\", attrs={\"audiencescore\": True})\n",
    "for item, rating in zip(movie_title_texts, movie_rating_texts):\n",
    "    if rating[\"audiencescore\"]==\"\":\n",
    "        rating[\"audiencescore\"] = np.nan\n",
    "    else:\n",
    "        rating[\"audiencescore\"] = int(rating[\"audiencescore\"])\n",
    "    fandango[item.text.strip().lower().replace(\"–\",\"-\").replace(\",\",\"\").replace(\"ii\",\"2\")] = rating[\"audiencescore\"]\n",
    "    \n",
    "logging.critical(fandango)\n",
    "print(len(fandango))"
   ]
  },
  {
   "cell_type": "markdown",
   "id": "74084f8e",
   "metadata": {},
   "source": [
    "## Merge or import the data"
   ]
  },
  {
   "cell_type": "code",
   "execution_count": 7,
   "id": "480fe823",
   "metadata": {},
   "outputs": [],
   "source": [
    "all_movies = set(list(metacritic.keys()) + list(imdb.keys()) + list(rottentomatoes.keys()) + list(fandango.keys()))\n",
    "all_movie_ratings = {}\n",
    "for movie in all_movies:\n",
    "    all_movie_ratings[movie] = [metacritic.get(movie, np.nan), imdb.get(movie, np.nan), rottentomatoes.get(movie, np.nan), fandango.get(movie, np.nan)]\n",
    "\n",
    "# Comment the following line out and uncomment the last line to follow the results in this project.\n",
    "filename = \"movie_ratings.csv\"\n",
    "\n",
    "# Write data to .csv file (one column per movie site)\n",
    "default_release_date = np.nan\n",
    "with open(filename, mode='w', newline='', encoding=\"utf-8-sig\") as file:\n",
    "    writer = csv.writer(file)\n",
    "    writer.writerow([\"Movie\", \"Release Date\", \"Metacritic\", \"IMDb\", \"Rotten Tomatoes\", \"Fandango\"])\n",
    "    for movie, rankings in all_movie_ratings.items():\n",
    "        # Use pop() method with default value to get the release date for each movie\n",
    "        release_date = dates.pop(movie, default_release_date)\n",
    "        writer.writerow([movie, release_date] + rankings)\n",
    "\n",
    "# In the case of a runtime error, one or more of the movie critic sites restructured their page(s).\n",
    "# Either \n",
    "#   (1) Hard mode: Update the pertaining web scraping code, or\n",
    "#   (2) Easy mode: Uncomment and use the following data snapshotted on July 30 instead:\n",
    "# filename = \"movie_ratings_07-30-2023.csv\""
   ]
  },
  {
   "cell_type": "markdown",
   "id": "c1928bc5",
   "metadata": {},
   "source": [
    "## Clean the data"
   ]
  },
  {
   "cell_type": "markdown",
   "id": "0274d424",
   "metadata": {},
   "source": [
    "### Functions and Definitions"
   ]
  },
  {
   "cell_type": "markdown",
   "id": "6fa8c974",
   "metadata": {},
   "source": [
    "We read the scraped data in to a dataframe:"
   ]
  },
  {
   "cell_type": "code",
   "execution_count": 8,
   "id": "befe0c11",
   "metadata": {},
   "outputs": [],
   "source": [
    "df = pd.read_csv(filename, encoding=\"UTF-8-sig\")"
   ]
  },
  {
   "cell_type": "markdown",
   "id": "3b336c84",
   "metadata": {},
   "source": [
    "To simplify many of the code blocks used in this project, we instantiate the list of movie critic sitees into a variable called `critics`:"
   ]
  },
  {
   "cell_type": "code",
   "execution_count": 9,
   "id": "3c3b03f7",
   "metadata": {},
   "outputs": [],
   "source": [
    "critics = [\"Metacritic\", \"IMDb\", \"Rotten Tomatoes\", \"Fandango\"]"
   ]
  },
  {
   "cell_type": "markdown",
   "id": "f41633f4",
   "metadata": {},
   "source": [
    "We define the following parameters to override the default settings when constructing charts:"
   ]
  },
  {
   "cell_type": "code",
   "execution_count": 10,
   "id": "a7264f8a",
   "metadata": {},
   "outputs": [],
   "source": [
    "def chart_theme():\n",
    "    sns.despine(top=True, bottom=True, left=True, right=True)\n",
    "    plt.grid(axis=\"y\", alpha=0.3)\n",
    "    plt.xlabel(\"\")\n",
    "    plt.ylabel(\"\")\n",
    "    plt.tick_params(axis=\"both\", length=0)\n",
    "    plt.tight_layout()"
   ]
  },
  {
   "cell_type": "markdown",
   "id": "2f11bca7",
   "metadata": {},
   "source": [
    "### NaN values"
   ]
  },
  {
   "cell_type": "markdown",
   "id": "db5f3285",
   "metadata": {},
   "source": [
    "We first check the number of NaNs for each movie critic."
   ]
  },
  {
   "cell_type": "code",
   "execution_count": 11,
   "id": "ace1a833",
   "metadata": {},
   "outputs": [
    {
     "name": "stdout",
     "output_type": "stream",
     "text": [
      "Number of movies with 0 NaN values: 26\n",
      "Number of movies with 1 NaN values: 28\n",
      "Number of movies with 2 NaN values: 16\n",
      "Number of movies with 3 NaN values: 19\n",
      "Number of movies with 4 NaN values: 501\n",
      "Total number of new movies: 679\n"
     ]
    }
   ],
   "source": [
    "for i in range(5):\n",
    "    count_four_nan = df[df.isnull().sum(axis=1) == i].shape[0]\n",
    "    print(f\"Number of movies with {i} NaN values:\", count_four_nan)\n",
    "\n",
    "print(f\"Total number of new movies: {len(df)}\")"
   ]
  },
  {
   "cell_type": "markdown",
   "id": "0bc35fb5",
   "metadata": {},
   "source": [
    "Having 4 NaN values essentially means no ratings were provided for that particular movie so we remove those rows:"
   ]
  },
  {
   "cell_type": "code",
   "execution_count": 12,
   "id": "a67734f6",
   "metadata": {},
   "outputs": [
    {
     "name": "stdout",
     "output_type": "stream",
     "text": [
      "Total number of new movies: 571\n"
     ]
    }
   ],
   "source": [
    "df.dropna(subset=critics, how=\"all\", inplace=True)\n",
    "print(f\"Total number of new movies: {len(df)}\")"
   ]
  },
  {
   "cell_type": "markdown",
   "id": "c3a248f7",
   "metadata": {},
   "source": [
    "We add a column to count the number of NaN values in each row:"
   ]
  },
  {
   "cell_type": "code",
   "execution_count": 13,
   "id": "1e42ed1d",
   "metadata": {},
   "outputs": [],
   "source": [
    "df[\"nan_count\"] = df[critics].isnull().sum(axis=1)"
   ]
  },
  {
   "cell_type": "markdown",
   "id": "02cdacfd",
   "metadata": {},
   "source": [
    "Since we pulled in a large number of IMDb movies to try and capture as many new releases as possible, we remove all movies that have only an IMDb rating. To avoid one-offs, we do the same for the other three critics by removing all rows that have only one rating (three NaN values):"
   ]
  },
  {
   "cell_type": "code",
   "execution_count": 14,
   "id": "d57b25f9",
   "metadata": {},
   "outputs": [
    {
     "name": "stdout",
     "output_type": "stream",
     "text": [
      "Total number of new movies: 78\n"
     ]
    }
   ],
   "source": [
    "df = df[df[\"nan_count\"] < 3]\n",
    "print(f\"Total number of new movies: {len(df)}\")"
   ]
  },
  {
   "cell_type": "markdown",
   "id": "d4d263db",
   "metadata": {},
   "source": [
    "This is now a manageable list of movies with two or more critic ratings. We add another column to calculate the average ratings among the movie critic sites:"
   ]
  },
  {
   "cell_type": "code",
   "execution_count": 15,
   "id": "78d48ece",
   "metadata": {},
   "outputs": [],
   "source": [
    "df['Average Score'] = df[critics].mean(axis=1)"
   ]
  },
  {
   "cell_type": "markdown",
   "id": "1961a264",
   "metadata": {},
   "source": [
    "A sample of the cleaned dataset is shown below:"
   ]
  },
  {
   "cell_type": "code",
   "execution_count": 16,
   "id": "2660b817",
   "metadata": {},
   "outputs": [
    {
     "data": {
      "text/html": [
       "<div>\n",
       "<style scoped>\n",
       "    .dataframe tbody tr th:only-of-type {\n",
       "        vertical-align: middle;\n",
       "    }\n",
       "\n",
       "    .dataframe tbody tr th {\n",
       "        vertical-align: top;\n",
       "    }\n",
       "\n",
       "    .dataframe thead th {\n",
       "        text-align: right;\n",
       "    }\n",
       "</style>\n",
       "<table border=\"1\" class=\"dataframe\">\n",
       "  <thead>\n",
       "    <tr style=\"text-align: right;\">\n",
       "      <th></th>\n",
       "      <th>Movie</th>\n",
       "      <th>Release Date</th>\n",
       "      <th>Metacritic</th>\n",
       "      <th>IMDb</th>\n",
       "      <th>Rotten Tomatoes</th>\n",
       "      <th>Fandango</th>\n",
       "      <th>nan_count</th>\n",
       "      <th>Average Score</th>\n",
       "    </tr>\n",
       "  </thead>\n",
       "  <tbody>\n",
       "    <tr>\n",
       "      <th>4</th>\n",
       "      <td>north circular</td>\n",
       "      <td>2023-07-28</td>\n",
       "      <td>75.0</td>\n",
       "      <td>NaN</td>\n",
       "      <td>100.0</td>\n",
       "      <td>NaN</td>\n",
       "      <td>2</td>\n",
       "      <td>87.500000</td>\n",
       "    </tr>\n",
       "    <tr>\n",
       "      <th>12</th>\n",
       "      <td>it ain't over</td>\n",
       "      <td>2023-05-12</td>\n",
       "      <td>79.0</td>\n",
       "      <td>NaN</td>\n",
       "      <td>98.0</td>\n",
       "      <td>96.0</td>\n",
       "      <td>1</td>\n",
       "      <td>91.000000</td>\n",
       "    </tr>\n",
       "    <tr>\n",
       "      <th>18</th>\n",
       "      <td>scarlet</td>\n",
       "      <td>2023-06-09</td>\n",
       "      <td>74.0</td>\n",
       "      <td>NaN</td>\n",
       "      <td>78.0</td>\n",
       "      <td>98.0</td>\n",
       "      <td>1</td>\n",
       "      <td>83.333333</td>\n",
       "    </tr>\n",
       "    <tr>\n",
       "      <th>22</th>\n",
       "      <td>theater camp</td>\n",
       "      <td>2023-07-14</td>\n",
       "      <td>68.0</td>\n",
       "      <td>70.0</td>\n",
       "      <td>83.0</td>\n",
       "      <td>77.0</td>\n",
       "      <td>0</td>\n",
       "      <td>74.500000</td>\n",
       "    </tr>\n",
       "    <tr>\n",
       "      <th>30</th>\n",
       "      <td>susie searches</td>\n",
       "      <td>2023-07-28</td>\n",
       "      <td>45.0</td>\n",
       "      <td>NaN</td>\n",
       "      <td>48.0</td>\n",
       "      <td>NaN</td>\n",
       "      <td>2</td>\n",
       "      <td>46.500000</td>\n",
       "    </tr>\n",
       "  </tbody>\n",
       "</table>\n",
       "</div>"
      ],
      "text/plain": [
       "             Movie Release Date  Metacritic  IMDb  Rotten Tomatoes  Fandango  \\\n",
       "4   north circular   2023-07-28        75.0   NaN            100.0       NaN   \n",
       "12   it ain't over   2023-05-12        79.0   NaN             98.0      96.0   \n",
       "18         scarlet   2023-06-09        74.0   NaN             78.0      98.0   \n",
       "22    theater camp   2023-07-14        68.0  70.0             83.0      77.0   \n",
       "30  susie searches   2023-07-28        45.0   NaN             48.0       NaN   \n",
       "\n",
       "    nan_count  Average Score  \n",
       "4           2      87.500000  \n",
       "12          1      91.000000  \n",
       "18          1      83.333333  \n",
       "22          0      74.500000  \n",
       "30          2      46.500000  "
      ]
     },
     "execution_count": 16,
     "metadata": {},
     "output_type": "execute_result"
    }
   ],
   "source": [
    "df.head()"
   ]
  },
  {
   "cell_type": "markdown",
   "id": "aebd481b",
   "metadata": {},
   "source": [
    "## Explore the data"
   ]
  },
  {
   "cell_type": "markdown",
   "id": "f96fafb1",
   "metadata": {},
   "source": [
    "### Movies with no null ratings"
   ]
  },
  {
   "cell_type": "markdown",
   "id": "c0965202",
   "metadata": {},
   "source": [
    "It will give us a better sense of the average ratings if we analyze movie releases that have ratings from all four movie critic sites. "
   ]
  },
  {
   "cell_type": "code",
   "execution_count": 17,
   "id": "3e056bb4",
   "metadata": {},
   "outputs": [
    {
     "data": {
      "text/html": [
       "<div>\n",
       "<style scoped>\n",
       "    .dataframe tbody tr th:only-of-type {\n",
       "        vertical-align: middle;\n",
       "    }\n",
       "\n",
       "    .dataframe tbody tr th {\n",
       "        vertical-align: top;\n",
       "    }\n",
       "\n",
       "    .dataframe thead th {\n",
       "        text-align: right;\n",
       "    }\n",
       "</style>\n",
       "<table border=\"1\" class=\"dataframe\">\n",
       "  <thead>\n",
       "    <tr style=\"text-align: right;\">\n",
       "      <th></th>\n",
       "      <th>Movie</th>\n",
       "      <th>Release Date</th>\n",
       "      <th>Metacritic</th>\n",
       "      <th>IMDb</th>\n",
       "      <th>Rotten Tomatoes</th>\n",
       "      <th>Fandango</th>\n",
       "      <th>nan_count</th>\n",
       "      <th>Average Score</th>\n",
       "    </tr>\n",
       "  </thead>\n",
       "  <tbody>\n",
       "    <tr>\n",
       "      <th>20</th>\n",
       "      <td>past lives</td>\n",
       "      <td>2023-06-30</td>\n",
       "      <td>94.0</td>\n",
       "      <td>84.0</td>\n",
       "      <td>98.0</td>\n",
       "      <td>94.0</td>\n",
       "      <td>0</td>\n",
       "      <td>92.50</td>\n",
       "    </tr>\n",
       "    <tr>\n",
       "      <th>1</th>\n",
       "      <td>oppenheimer</td>\n",
       "      <td>2023-07-21</td>\n",
       "      <td>88.0</td>\n",
       "      <td>87.0</td>\n",
       "      <td>94.0</td>\n",
       "      <td>92.0</td>\n",
       "      <td>0</td>\n",
       "      <td>90.25</td>\n",
       "    </tr>\n",
       "    <tr>\n",
       "      <th>22</th>\n",
       "      <td>mission: impossible - dead reckoning part one</td>\n",
       "      <td>2023-07-12</td>\n",
       "      <td>81.0</td>\n",
       "      <td>80.0</td>\n",
       "      <td>96.0</td>\n",
       "      <td>94.0</td>\n",
       "      <td>0</td>\n",
       "      <td>87.75</td>\n",
       "    </tr>\n",
       "    <tr>\n",
       "      <th>15</th>\n",
       "      <td>spider-man: across the spider-verse</td>\n",
       "      <td>2023-06-02</td>\n",
       "      <td>86.0</td>\n",
       "      <td>63.0</td>\n",
       "      <td>96.0</td>\n",
       "      <td>94.0</td>\n",
       "      <td>0</td>\n",
       "      <td>84.75</td>\n",
       "    </tr>\n",
       "    <tr>\n",
       "      <th>23</th>\n",
       "      <td>barbie</td>\n",
       "      <td>2023-07-21</td>\n",
       "      <td>80.0</td>\n",
       "      <td>75.0</td>\n",
       "      <td>89.0</td>\n",
       "      <td>86.0</td>\n",
       "      <td>0</td>\n",
       "      <td>82.50</td>\n",
       "    </tr>\n",
       "    <tr>\n",
       "      <th>9</th>\n",
       "      <td>guardians of the galaxy vol. 3</td>\n",
       "      <td>2023-05-05</td>\n",
       "      <td>64.0</td>\n",
       "      <td>81.0</td>\n",
       "      <td>82.0</td>\n",
       "      <td>94.0</td>\n",
       "      <td>0</td>\n",
       "      <td>80.25</td>\n",
       "    </tr>\n",
       "    <tr>\n",
       "      <th>16</th>\n",
       "      <td>the blackening</td>\n",
       "      <td>2023-06-16</td>\n",
       "      <td>69.0</td>\n",
       "      <td>77.0</td>\n",
       "      <td>87.0</td>\n",
       "      <td>85.0</td>\n",
       "      <td>0</td>\n",
       "      <td>79.50</td>\n",
       "    </tr>\n",
       "    <tr>\n",
       "      <th>13</th>\n",
       "      <td>joy ride</td>\n",
       "      <td>2023-07-07</td>\n",
       "      <td>75.0</td>\n",
       "      <td>61.0</td>\n",
       "      <td>91.0</td>\n",
       "      <td>81.0</td>\n",
       "      <td>0</td>\n",
       "      <td>77.00</td>\n",
       "    </tr>\n",
       "    <tr>\n",
       "      <th>24</th>\n",
       "      <td>elemental</td>\n",
       "      <td>2023-06-16</td>\n",
       "      <td>58.0</td>\n",
       "      <td>76.0</td>\n",
       "      <td>73.0</td>\n",
       "      <td>93.0</td>\n",
       "      <td>0</td>\n",
       "      <td>75.00</td>\n",
       "    </tr>\n",
       "    <tr>\n",
       "      <th>0</th>\n",
       "      <td>theater camp</td>\n",
       "      <td>2023-07-14</td>\n",
       "      <td>68.0</td>\n",
       "      <td>70.0</td>\n",
       "      <td>83.0</td>\n",
       "      <td>77.0</td>\n",
       "      <td>0</td>\n",
       "      <td>74.50</td>\n",
       "    </tr>\n",
       "    <tr>\n",
       "      <th>4</th>\n",
       "      <td>no hard feelings</td>\n",
       "      <td>2023-06-23</td>\n",
       "      <td>59.0</td>\n",
       "      <td>77.0</td>\n",
       "      <td>71.0</td>\n",
       "      <td>87.0</td>\n",
       "      <td>0</td>\n",
       "      <td>73.50</td>\n",
       "    </tr>\n",
       "    <tr>\n",
       "      <th>12</th>\n",
       "      <td>sound of freedom</td>\n",
       "      <td>2023-07-04</td>\n",
       "      <td>43.0</td>\n",
       "      <td>79.0</td>\n",
       "      <td>72.0</td>\n",
       "      <td>99.0</td>\n",
       "      <td>0</td>\n",
       "      <td>73.25</td>\n",
       "    </tr>\n",
       "    <tr>\n",
       "      <th>18</th>\n",
       "      <td>the little mermaid</td>\n",
       "      <td>2023-05-26</td>\n",
       "      <td>59.0</td>\n",
       "      <td>69.0</td>\n",
       "      <td>67.0</td>\n",
       "      <td>94.0</td>\n",
       "      <td>0</td>\n",
       "      <td>72.25</td>\n",
       "    </tr>\n",
       "    <tr>\n",
       "      <th>5</th>\n",
       "      <td>talk to me</td>\n",
       "      <td>2023-07-28</td>\n",
       "      <td>76.0</td>\n",
       "      <td>32.0</td>\n",
       "      <td>95.0</td>\n",
       "      <td>82.0</td>\n",
       "      <td>0</td>\n",
       "      <td>71.25</td>\n",
       "    </tr>\n",
       "    <tr>\n",
       "      <th>10</th>\n",
       "      <td>indiana jones and the dial of destiny</td>\n",
       "      <td>2023-06-30</td>\n",
       "      <td>58.0</td>\n",
       "      <td>68.0</td>\n",
       "      <td>69.0</td>\n",
       "      <td>88.0</td>\n",
       "      <td>0</td>\n",
       "      <td>70.75</td>\n",
       "    </tr>\n",
       "    <tr>\n",
       "      <th>3</th>\n",
       "      <td>fast x</td>\n",
       "      <td>2023-05-19</td>\n",
       "      <td>56.0</td>\n",
       "      <td>85.0</td>\n",
       "      <td>57.0</td>\n",
       "      <td>84.0</td>\n",
       "      <td>0</td>\n",
       "      <td>70.50</td>\n",
       "    </tr>\n",
       "    <tr>\n",
       "      <th>8</th>\n",
       "      <td>asteroid city</td>\n",
       "      <td>2023-06-23</td>\n",
       "      <td>74.0</td>\n",
       "      <td>68.0</td>\n",
       "      <td>74.0</td>\n",
       "      <td>62.0</td>\n",
       "      <td>0</td>\n",
       "      <td>69.50</td>\n",
       "    </tr>\n",
       "    <tr>\n",
       "      <th>7</th>\n",
       "      <td>the flash</td>\n",
       "      <td>2023-06-16</td>\n",
       "      <td>56.0</td>\n",
       "      <td>69.0</td>\n",
       "      <td>64.0</td>\n",
       "      <td>83.0</td>\n",
       "      <td>0</td>\n",
       "      <td>68.00</td>\n",
       "    </tr>\n",
       "    <tr>\n",
       "      <th>19</th>\n",
       "      <td>the miracle club</td>\n",
       "      <td>2023-07-14</td>\n",
       "      <td>51.0</td>\n",
       "      <td>66.0</td>\n",
       "      <td>70.0</td>\n",
       "      <td>85.0</td>\n",
       "      <td>0</td>\n",
       "      <td>68.00</td>\n",
       "    </tr>\n",
       "    <tr>\n",
       "      <th>17</th>\n",
       "      <td>the boogeyman</td>\n",
       "      <td>2023-06-02</td>\n",
       "      <td>55.0</td>\n",
       "      <td>81.0</td>\n",
       "      <td>62.0</td>\n",
       "      <td>66.0</td>\n",
       "      <td>0</td>\n",
       "      <td>66.00</td>\n",
       "    </tr>\n",
       "    <tr>\n",
       "      <th>6</th>\n",
       "      <td>cobweb</td>\n",
       "      <td>2023-07-21</td>\n",
       "      <td>50.0</td>\n",
       "      <td>74.0</td>\n",
       "      <td>61.0</td>\n",
       "      <td>74.0</td>\n",
       "      <td>0</td>\n",
       "      <td>64.75</td>\n",
       "    </tr>\n",
       "    <tr>\n",
       "      <th>25</th>\n",
       "      <td>ruby gillman teenage kraken</td>\n",
       "      <td>2023-06-30</td>\n",
       "      <td>50.0</td>\n",
       "      <td>57.0</td>\n",
       "      <td>66.0</td>\n",
       "      <td>81.0</td>\n",
       "      <td>0</td>\n",
       "      <td>63.50</td>\n",
       "    </tr>\n",
       "    <tr>\n",
       "      <th>14</th>\n",
       "      <td>transformers: rise of the beasts</td>\n",
       "      <td>2023-06-09</td>\n",
       "      <td>42.0</td>\n",
       "      <td>62.0</td>\n",
       "      <td>52.0</td>\n",
       "      <td>91.0</td>\n",
       "      <td>0</td>\n",
       "      <td>61.75</td>\n",
       "    </tr>\n",
       "    <tr>\n",
       "      <th>21</th>\n",
       "      <td>the beanie bubble</td>\n",
       "      <td>2023-07-21</td>\n",
       "      <td>50.0</td>\n",
       "      <td>78.0</td>\n",
       "      <td>54.0</td>\n",
       "      <td>62.0</td>\n",
       "      <td>0</td>\n",
       "      <td>61.00</td>\n",
       "    </tr>\n",
       "    <tr>\n",
       "      <th>2</th>\n",
       "      <td>haunted mansion</td>\n",
       "      <td>2023-07-28</td>\n",
       "      <td>48.0</td>\n",
       "      <td>60.0</td>\n",
       "      <td>41.0</td>\n",
       "      <td>85.0</td>\n",
       "      <td>0</td>\n",
       "      <td>58.50</td>\n",
       "    </tr>\n",
       "    <tr>\n",
       "      <th>11</th>\n",
       "      <td>insidious: the red door</td>\n",
       "      <td>2023-07-07</td>\n",
       "      <td>45.0</td>\n",
       "      <td>67.0</td>\n",
       "      <td>38.0</td>\n",
       "      <td>69.0</td>\n",
       "      <td>0</td>\n",
       "      <td>54.75</td>\n",
       "    </tr>\n",
       "  </tbody>\n",
       "</table>\n",
       "</div>"
      ],
      "text/plain": [
       "                                            Movie Release Date  Metacritic  \\\n",
       "20                                     past lives   2023-06-30        94.0   \n",
       "1                                     oppenheimer   2023-07-21        88.0   \n",
       "22  mission: impossible - dead reckoning part one   2023-07-12        81.0   \n",
       "15            spider-man: across the spider-verse   2023-06-02        86.0   \n",
       "23                                         barbie   2023-07-21        80.0   \n",
       "9                  guardians of the galaxy vol. 3   2023-05-05        64.0   \n",
       "16                                 the blackening   2023-06-16        69.0   \n",
       "13                                       joy ride   2023-07-07        75.0   \n",
       "24                                      elemental   2023-06-16        58.0   \n",
       "0                                    theater camp   2023-07-14        68.0   \n",
       "4                                no hard feelings   2023-06-23        59.0   \n",
       "12                               sound of freedom   2023-07-04        43.0   \n",
       "18                             the little mermaid   2023-05-26        59.0   \n",
       "5                                      talk to me   2023-07-28        76.0   \n",
       "10          indiana jones and the dial of destiny   2023-06-30        58.0   \n",
       "3                                          fast x   2023-05-19        56.0   \n",
       "8                                   asteroid city   2023-06-23        74.0   \n",
       "7                                       the flash   2023-06-16        56.0   \n",
       "19                               the miracle club   2023-07-14        51.0   \n",
       "17                                  the boogeyman   2023-06-02        55.0   \n",
       "6                                          cobweb   2023-07-21        50.0   \n",
       "25                    ruby gillman teenage kraken   2023-06-30        50.0   \n",
       "14               transformers: rise of the beasts   2023-06-09        42.0   \n",
       "21                              the beanie bubble   2023-07-21        50.0   \n",
       "2                                 haunted mansion   2023-07-28        48.0   \n",
       "11                        insidious: the red door   2023-07-07        45.0   \n",
       "\n",
       "    IMDb  Rotten Tomatoes  Fandango  nan_count  Average Score  \n",
       "20  84.0             98.0      94.0          0          92.50  \n",
       "1   87.0             94.0      92.0          0          90.25  \n",
       "22  80.0             96.0      94.0          0          87.75  \n",
       "15  63.0             96.0      94.0          0          84.75  \n",
       "23  75.0             89.0      86.0          0          82.50  \n",
       "9   81.0             82.0      94.0          0          80.25  \n",
       "16  77.0             87.0      85.0          0          79.50  \n",
       "13  61.0             91.0      81.0          0          77.00  \n",
       "24  76.0             73.0      93.0          0          75.00  \n",
       "0   70.0             83.0      77.0          0          74.50  \n",
       "4   77.0             71.0      87.0          0          73.50  \n",
       "12  79.0             72.0      99.0          0          73.25  \n",
       "18  69.0             67.0      94.0          0          72.25  \n",
       "5   32.0             95.0      82.0          0          71.25  \n",
       "10  68.0             69.0      88.0          0          70.75  \n",
       "3   85.0             57.0      84.0          0          70.50  \n",
       "8   68.0             74.0      62.0          0          69.50  \n",
       "7   69.0             64.0      83.0          0          68.00  \n",
       "19  66.0             70.0      85.0          0          68.00  \n",
       "17  81.0             62.0      66.0          0          66.00  \n",
       "6   74.0             61.0      74.0          0          64.75  \n",
       "25  57.0             66.0      81.0          0          63.50  \n",
       "14  62.0             52.0      91.0          0          61.75  \n",
       "21  78.0             54.0      62.0          0          61.00  \n",
       "2   60.0             41.0      85.0          0          58.50  \n",
       "11  67.0             38.0      69.0          0          54.75  "
      ]
     },
     "execution_count": 17,
     "metadata": {},
     "output_type": "execute_result"
    }
   ],
   "source": [
    "all_ratings = df[df[\"nan_count\"]==0].copy().reset_index(drop=True)\n",
    "all_ratings.sort_values(by=\"Average Score\", ascending=False)"
   ]
  },
  {
   "cell_type": "markdown",
   "id": "cdfe88d7",
   "metadata": {},
   "source": [
    "The average ratings for movies rated by all four critics are no higher than 92.5 and no lower than 54.75."
   ]
  },
  {
   "cell_type": "markdown",
   "id": "cbb95df6",
   "metadata": {},
   "source": [
    "### Movie ratings by number of critics"
   ]
  },
  {
   "cell_type": "code",
   "execution_count": 18,
   "id": "ab897c1e",
   "metadata": {},
   "outputs": [],
   "source": [
    "def boxplot(num_critics):\n",
    "    new_df = df[df[\"nan_count\"]==len(critics)-num_critics].copy()\n",
    "    variable_df = new_df.drop(columns=['Release Date','nan_count', 'Average Score'])\n",
    "    melted_df = variable_df.melt(id_vars='Movie', var_name='Critic', value_name='Rating')\n",
    "    plt.figure(figsize=(6, 3))\n",
    "    sns.boxplot(x='Critic', \n",
    "                y='Rating', \n",
    "                data=melted_df, \n",
    "                palette='muted')\n",
    "    plt.suptitle(\"Ratings by Critic for New Movie Releases\", fontsize=20, y=0.9)\n",
    "    plt.ylim(20,100)\n",
    "    spell_out_numbers = {1: \"One\", 2: \"Two\", 3: \"Three\", 4: \"Four\"}\n",
    "    if num_critics==1:\n",
    "        plt.title(f\"{len(new_df)} Movies Rated by One Critic\")\n",
    "    else:\n",
    "        plt.title(f\"{len(new_df)} Movies Rated by {spell_out_numbers[num_critics]} Critics\")    \n",
    "    chart_theme()\n",
    "    plt.ylim(20,100)\n",
    "    plt.show()\n",
    "    \n",
    "    print(f\"Number of critics: {num_critics}\")\n",
    "    for critic in critics:\n",
    "        print(f\"{critic}: {round(new_df[critic].notnull().sum()/len(new_df)*100)}%\")"
   ]
  },
  {
   "cell_type": "code",
   "execution_count": 19,
   "id": "dcd9dd6c",
   "metadata": {},
   "outputs": [
    {
     "data": {
      "application/vnd.jupyter.widget-view+json": {
       "model_id": "abce0ccdb27045d99cf67d2a8ccbd854",
       "version_major": 2,
       "version_minor": 0
      },
      "text/plain": [
       "interactive(children=(IntSlider(value=4, description='Number of Critics (2-4)', layout=Layout(width='35%'), ma…"
      ]
     },
     "execution_count": 19,
     "metadata": {},
     "output_type": "execute_result"
    }
   ],
   "source": [
    "# If the boxplot produces an error or doesn't update when using the slider, cut, run, repaste, and rerun this code cell.\n",
    "critics = [\"Metacritic\", \"IMDb\", \"Rotten Tomatoes\", \"Fandango\"]\n",
    "num_critics_slider = widgets.IntSlider(\n",
    "                                    value=4, min=2, max=4, \n",
    "                                    description=\"Number of Critics (2-4)\", \n",
    "                                    style={\"description_width\":\"initial\"},\n",
    "                                    continuous_update=True,\n",
    "                                    layout=widgets.Layout(width=\"35%\")\n",
    "                                    )\n",
    "\n",
    "widgets.interactive(boxplot, num_critics=num_critics_slider)"
   ]
  },
  {
   "cell_type": "markdown",
   "id": "931009f6",
   "metadata": {},
   "source": [
    ">Included images below if the widget above fails to load.\n",
    "\n",
    "<img src=\"demos/critics_two.png\" alt=\"showing ratings by critic for two critics\">\n",
    "\n",
    "<img src=\"demos/critics_three.png\" alt=\"showing ratings by critic for three critics\">\n",
    "\n",
    "<img src=\"demos/critics_four.png\" alt=\"showing ratings by critic for four critics\">"
   ]
  },
  {
   "cell_type": "markdown",
   "id": "52941f71",
   "metadata": {},
   "source": [
    "Fandango and Rotten Tomatoes rate new releases higher than Metacritic and IMDb. Recall Fandango uses Rotten Tomatoes' verified Audience Score powered by actual movie watchers. This makes sense as users are more likely to rate movies more quickly than movie critics. It may be that early raters score based solely on whether they liked the film or not which may be why the ratings are higher. Late raters may be influenced by opinions that may have formed prior to watching the movie, making a more informed decision. \n",
    "\n",
    "We also see that IMDb is slow to provide official movie ratings. For movies that were rated by three critics, only 7% of them were rated by IMDb whereas they were rated by Metacritic, Rotten Tomatoes, and Fandango 93%, 100%, and 100% of the time. \n",
    "\n",
    "We explore average ratings of new releases by month and average age of movies on each site to see if we can discern any trends."
   ]
  },
  {
   "cell_type": "markdown",
   "id": "9ffdcf61",
   "metadata": {},
   "source": [
    "### Movie ratings by month"
   ]
  },
  {
   "cell_type": "code",
   "execution_count": 20,
   "id": "26ea960a",
   "metadata": {},
   "outputs": [
    {
     "data": {
      "image/png": "[encoded data removed]",
      "text/plain": [
       "<Figure size 800x400 with 1 Axes>"
      ]
     },
     "metadata": {},
     "output_type": "display_data"
    }
   ],
   "source": [
    "all_ratings.sort_values(by='Release Date', inplace=True)\n",
    "\n",
    "plt.figure(figsize=(8, 4))\n",
    "for critic in critics:\n",
    "    plt.scatter(all_ratings['Release Date'], all_ratings[critic], label=critic)\n",
    "plt.title(\"Scores by Movie Critic for New Movie Releases\", fontsize=20)\n",
    "plt.xlabel(\"Release Date\", fontsize=12)\n",
    "plt.ylabel(\"Scores\", fontsize=12)\n",
    "plt.xticks(rotation=45, ha=\"right\", fontsize=10)\n",
    "plt.legend()\n",
    "chart_theme()\n",
    "plt.ylim(20,100)\n",
    "plt.show()"
   ]
  },
  {
   "cell_type": "markdown",
   "id": "2983e74b",
   "metadata": {},
   "source": [
    "For movies with ratings from all four movie critic sites, there doesn't seem to be a discernable trend in ratings over time. What is clear however is the highest ratings typically come from Fandango or Rotten Tomatoes and the lowest ratings come from Metacritic or Rotten Tomatoes."
   ]
  },
  {
   "cell_type": "markdown",
   "id": "0506505a",
   "metadata": {},
   "source": [
    "### Top 5 newly released movie ratings"
   ]
  },
  {
   "cell_type": "code",
   "execution_count": 21,
   "id": "877af38f",
   "metadata": {},
   "outputs": [
    {
     "data": {
      "text/html": [
       "<div>\n",
       "<style scoped>\n",
       "    .dataframe tbody tr th:only-of-type {\n",
       "        vertical-align: middle;\n",
       "    }\n",
       "\n",
       "    .dataframe tbody tr th {\n",
       "        vertical-align: top;\n",
       "    }\n",
       "\n",
       "    .dataframe thead th {\n",
       "        text-align: right;\n",
       "    }\n",
       "</style>\n",
       "<table border=\"1\" class=\"dataframe\">\n",
       "  <thead>\n",
       "    <tr style=\"text-align: right;\">\n",
       "      <th></th>\n",
       "      <th>Movie</th>\n",
       "      <th>Release Date</th>\n",
       "      <th>Metacritic</th>\n",
       "      <th>IMDb</th>\n",
       "      <th>Rotten Tomatoes</th>\n",
       "      <th>Fandango</th>\n",
       "      <th>nan_count</th>\n",
       "      <th>Average Score</th>\n",
       "    </tr>\n",
       "  </thead>\n",
       "  <tbody>\n",
       "    <tr>\n",
       "      <th>20</th>\n",
       "      <td>past lives</td>\n",
       "      <td>2023-06-30</td>\n",
       "      <td>94.0</td>\n",
       "      <td>84.0</td>\n",
       "      <td>98.0</td>\n",
       "      <td>94.0</td>\n",
       "      <td>0</td>\n",
       "      <td>92.50</td>\n",
       "    </tr>\n",
       "    <tr>\n",
       "      <th>1</th>\n",
       "      <td>oppenheimer</td>\n",
       "      <td>2023-07-21</td>\n",
       "      <td>88.0</td>\n",
       "      <td>87.0</td>\n",
       "      <td>94.0</td>\n",
       "      <td>92.0</td>\n",
       "      <td>0</td>\n",
       "      <td>90.25</td>\n",
       "    </tr>\n",
       "    <tr>\n",
       "      <th>22</th>\n",
       "      <td>mission: impossible - dead reckoning part one</td>\n",
       "      <td>2023-07-12</td>\n",
       "      <td>81.0</td>\n",
       "      <td>80.0</td>\n",
       "      <td>96.0</td>\n",
       "      <td>94.0</td>\n",
       "      <td>0</td>\n",
       "      <td>87.75</td>\n",
       "    </tr>\n",
       "    <tr>\n",
       "      <th>15</th>\n",
       "      <td>spider-man: across the spider-verse</td>\n",
       "      <td>2023-06-02</td>\n",
       "      <td>86.0</td>\n",
       "      <td>63.0</td>\n",
       "      <td>96.0</td>\n",
       "      <td>94.0</td>\n",
       "      <td>0</td>\n",
       "      <td>84.75</td>\n",
       "    </tr>\n",
       "    <tr>\n",
       "      <th>23</th>\n",
       "      <td>barbie</td>\n",
       "      <td>2023-07-21</td>\n",
       "      <td>80.0</td>\n",
       "      <td>75.0</td>\n",
       "      <td>89.0</td>\n",
       "      <td>86.0</td>\n",
       "      <td>0</td>\n",
       "      <td>82.50</td>\n",
       "    </tr>\n",
       "  </tbody>\n",
       "</table>\n",
       "</div>"
      ],
      "text/plain": [
       "                                            Movie Release Date  Metacritic  \\\n",
       "20                                     past lives   2023-06-30        94.0   \n",
       "1                                     oppenheimer   2023-07-21        88.0   \n",
       "22  mission: impossible - dead reckoning part one   2023-07-12        81.0   \n",
       "15            spider-man: across the spider-verse   2023-06-02        86.0   \n",
       "23                                         barbie   2023-07-21        80.0   \n",
       "\n",
       "    IMDb  Rotten Tomatoes  Fandango  nan_count  Average Score  \n",
       "20  84.0             98.0      94.0          0          92.50  \n",
       "1   87.0             94.0      92.0          0          90.25  \n",
       "22  80.0             96.0      94.0          0          87.75  \n",
       "15  63.0             96.0      94.0          0          84.75  \n",
       "23  75.0             89.0      86.0          0          82.50  "
      ]
     },
     "execution_count": 21,
     "metadata": {},
     "output_type": "execute_result"
    }
   ],
   "source": [
    "top_five = all_ratings.sort_values(by=\"Average Score\", ascending=False).head()\n",
    "top_five"
   ]
  },
  {
   "cell_type": "markdown",
   "id": "98da00d8",
   "metadata": {},
   "source": [
    "Listed above are the top 5 movies in descending order by average score. "
   ]
  },
  {
   "cell_type": "code",
   "execution_count": 22,
   "id": "a99e3b1a",
   "metadata": {},
   "outputs": [
    {
     "data": {
      "image/png": "[encoded data removed]",
      "text/plain": [
       "<Figure size 1000x700 with 5 Axes>"
      ]
     },
     "metadata": {},
     "output_type": "display_data"
    }
   ],
   "source": [
    "fig, axes = plt.subplots(nrows=3, ncols=2, figsize=(10, 7), sharex=True)\n",
    "\n",
    "for i, (index, row) in enumerate(top_five.iterrows()):\n",
    "    row_idx = i // 2\n",
    "    col_idx = i % 2\n",
    "    movie_name = row['Movie']\n",
    "    ratings = row[['Metacritic', 'IMDb', 'Rotten Tomatoes', 'Fandango', 'Average Score']]\n",
    "    scores = ratings.index.tolist()\n",
    "    \n",
    "    axes[row_idx, col_idx].bar(scores, ratings, alpha=0.9)\n",
    "    axes[row_idx, col_idx].set_title(f\"{movie_name.title()}\", fontsize=14)\n",
    "    if col_idx == 0:\n",
    "        axes[row_idx, col_idx].set_ylim(0,100)\n",
    "    else:\n",
    "        axes[row_idx, col_idx].set_yticklabels([])\n",
    "\n",
    "for i in range(len(top_five), 3*2):\n",
    "    row_idx = i // 2\n",
    "    col_idx = i % 2\n",
    "    fig.delaxes(axes[row_idx, col_idx])\n",
    "    \n",
    "plt.xticks(rotation=45)\n",
    "chart_theme()\n",
    "plt.show()"
   ]
  },
  {
   "cell_type": "markdown",
   "id": "2665da18",
   "metadata": {},
   "source": [
    "Two of the top 5 are action/adventure movies: \n",
    "1. Mission: Impossible - Dead Reckoning Part One, and \n",
    "2. Spider-Man: Across the Spider-Verse. \n",
    "\n",
    "Three are partially drama movies:\n",
    "1. Past Lives (Romance/Drama)\n",
    "2. Oppenheimer (Drama/Thriller)\n",
    "3. Barbie (Comedy/Drama)\n",
    "\n",
    "It appears that the most popular new releases for late Spring to early Summer 2023 are action/adventure or drama movies.\n",
    "\n",
    "For the top 5 newly released movies, Rotten Tomatoes and Fandango consistently had the highest rankings while IMDb had the lowest rankings. At a glance, Metacritic seems to resemble the average of all four critic sites.\n",
    "\n",
    "We see if this holds true for the lowest ranked movies."
   ]
  },
  {
   "cell_type": "markdown",
   "id": "082e6f2d",
   "metadata": {},
   "source": [
    "### Bottom 5 newly released movie ratings"
   ]
  },
  {
   "cell_type": "code",
   "execution_count": 23,
   "id": "ee85d375",
   "metadata": {},
   "outputs": [
    {
     "data": {
      "text/html": [
       "<div>\n",
       "<style scoped>\n",
       "    .dataframe tbody tr th:only-of-type {\n",
       "        vertical-align: middle;\n",
       "    }\n",
       "\n",
       "    .dataframe tbody tr th {\n",
       "        vertical-align: top;\n",
       "    }\n",
       "\n",
       "    .dataframe thead th {\n",
       "        text-align: right;\n",
       "    }\n",
       "</style>\n",
       "<table border=\"1\" class=\"dataframe\">\n",
       "  <thead>\n",
       "    <tr style=\"text-align: right;\">\n",
       "      <th></th>\n",
       "      <th>Movie</th>\n",
       "      <th>Release Date</th>\n",
       "      <th>Metacritic</th>\n",
       "      <th>IMDb</th>\n",
       "      <th>Rotten Tomatoes</th>\n",
       "      <th>Fandango</th>\n",
       "      <th>nan_count</th>\n",
       "      <th>Average Score</th>\n",
       "    </tr>\n",
       "  </thead>\n",
       "  <tbody>\n",
       "    <tr>\n",
       "      <th>11</th>\n",
       "      <td>insidious: the red door</td>\n",
       "      <td>2023-07-07</td>\n",
       "      <td>45.0</td>\n",
       "      <td>67.0</td>\n",
       "      <td>38.0</td>\n",
       "      <td>69.0</td>\n",
       "      <td>0</td>\n",
       "      <td>54.75</td>\n",
       "    </tr>\n",
       "    <tr>\n",
       "      <th>2</th>\n",
       "      <td>haunted mansion</td>\n",
       "      <td>2023-07-28</td>\n",
       "      <td>48.0</td>\n",
       "      <td>60.0</td>\n",
       "      <td>41.0</td>\n",
       "      <td>85.0</td>\n",
       "      <td>0</td>\n",
       "      <td>58.50</td>\n",
       "    </tr>\n",
       "    <tr>\n",
       "      <th>21</th>\n",
       "      <td>the beanie bubble</td>\n",
       "      <td>2023-07-21</td>\n",
       "      <td>50.0</td>\n",
       "      <td>78.0</td>\n",
       "      <td>54.0</td>\n",
       "      <td>62.0</td>\n",
       "      <td>0</td>\n",
       "      <td>61.00</td>\n",
       "    </tr>\n",
       "    <tr>\n",
       "      <th>14</th>\n",
       "      <td>transformers: rise of the beasts</td>\n",
       "      <td>2023-06-09</td>\n",
       "      <td>42.0</td>\n",
       "      <td>62.0</td>\n",
       "      <td>52.0</td>\n",
       "      <td>91.0</td>\n",
       "      <td>0</td>\n",
       "      <td>61.75</td>\n",
       "    </tr>\n",
       "    <tr>\n",
       "      <th>25</th>\n",
       "      <td>ruby gillman teenage kraken</td>\n",
       "      <td>2023-06-30</td>\n",
       "      <td>50.0</td>\n",
       "      <td>57.0</td>\n",
       "      <td>66.0</td>\n",
       "      <td>81.0</td>\n",
       "      <td>0</td>\n",
       "      <td>63.50</td>\n",
       "    </tr>\n",
       "  </tbody>\n",
       "</table>\n",
       "</div>"
      ],
      "text/plain": [
       "                               Movie Release Date  Metacritic  IMDb  \\\n",
       "11           insidious: the red door   2023-07-07        45.0  67.0   \n",
       "2                    haunted mansion   2023-07-28        48.0  60.0   \n",
       "21                 the beanie bubble   2023-07-21        50.0  78.0   \n",
       "14  transformers: rise of the beasts   2023-06-09        42.0  62.0   \n",
       "25       ruby gillman teenage kraken   2023-06-30        50.0  57.0   \n",
       "\n",
       "    Rotten Tomatoes  Fandango  nan_count  Average Score  \n",
       "11             38.0      69.0          0          54.75  \n",
       "2              41.0      85.0          0          58.50  \n",
       "21             54.0      62.0          0          61.00  \n",
       "14             52.0      91.0          0          61.75  \n",
       "25             66.0      81.0          0          63.50  "
      ]
     },
     "execution_count": 23,
     "metadata": {},
     "output_type": "execute_result"
    }
   ],
   "source": [
    "bottom_five = all_ratings.sort_values(by=\"Average Score\", ascending=True).head()\n",
    "bottom_five"
   ]
  },
  {
   "cell_type": "code",
   "execution_count": 24,
   "id": "7e291353",
   "metadata": {},
   "outputs": [
    {
     "data": {
      "image/png": "[encoded data removed]",
      "text/plain": [
       "<Figure size 1000x700 with 5 Axes>"
      ]
     },
     "metadata": {},
     "output_type": "display_data"
    }
   ],
   "source": [
    "fig, axes = plt.subplots(nrows=3, ncols=2, figsize=(10, 7), sharex=True)\n",
    "\n",
    "for i, (index, row) in enumerate(bottom_five.iterrows()):\n",
    "    row_idx = i // 2\n",
    "    col_idx = i % 2\n",
    "    movie_name = row['Movie']\n",
    "    ratings = row[['Metacritic', 'IMDb', 'Rotten Tomatoes', 'Fandango', 'Average Score']]\n",
    "    scores = ratings.index.tolist()\n",
    "    \n",
    "    axes[row_idx, col_idx].bar(scores, ratings, alpha=0.9)\n",
    "    axes[row_idx, col_idx].set_title(f\"{movie_name.title()}\", fontsize=14)\n",
    "    if col_idx == 0:\n",
    "        axes[row_idx, col_idx].set_ylim(0,100)\n",
    "    else:\n",
    "        axes[row_idx, col_idx].set_yticklabels([])\n",
    "\n",
    "for i in range(len(bottom_five), 3*2):\n",
    "    row_idx = i // 2\n",
    "    col_idx = i % 2\n",
    "    fig.delaxes(axes[row_idx, col_idx])\n",
    "    \n",
    "plt.xticks(rotation=45)\n",
    "chart_theme()\n",
    "plt.show()"
   ]
  },
  {
   "cell_type": "markdown",
   "id": "f90939c0",
   "metadata": {},
   "source": [
    "Fandango continues to rate movies highly, even for those in the bottom 5 with the exception of The Beanie Bubble. \n",
    "\n",
    "Insidious: The Red Door (Horror/Mystery)\n",
    "Haunted Mansion (Fantasy/Comedy)\n",
    "The Beanie Bubble (Comedy)\n",
    "Transformers: Rise of the Beasts (Action/Sci-fi)\n",
    "Ruby Gillman, Teenage Kraken (Action/Comedy)\n",
    "\n",
    "Interesting, three of the bottom 5 movies are comedies. It is also worth noting that while Haunted Mansion is labeled a fantasy/comedy, the title may lead those who don't know anything about the film to believe it is a horror movie. \n",
    "\n",
    "In short, it appears that comedy and horror movies are the least popular for this batch of new releases in theaters.\n"
   ]
  },
  {
   "cell_type": "markdown",
   "id": "79e02514",
   "metadata": {},
   "source": [
    "### Average ratings by movie critic"
   ]
  },
  {
   "cell_type": "code",
   "execution_count": 25,
   "id": "f53d01c7",
   "metadata": {},
   "outputs": [
    {
     "name": "stdout",
     "output_type": "stream",
     "text": [
      "Fandango           84.0\n",
      "Rotten Tomatoes    73.0\n",
      "Average Score      73.0\n",
      "IMDb               71.0\n",
      "Metacritic         63.0\n",
      "dtype: float64\n"
     ]
    },
    {
     "data": {
      "image/png": "[encoded data removed]",
      "text/plain": [
       "<Figure size 700x400 with 1 Axes>"
      ]
     },
     "metadata": {},
     "output_type": "display_data"
    }
   ],
   "source": [
    "average_scores = all_ratings[['Metacritic', 'IMDb', 'Rotten Tomatoes', 'Fandango', 'Average Score']].mean()\n",
    "print(round(average_scores.sort_values(ascending=False)))\n",
    "\n",
    "plt.figure(figsize=(7, 4))\n",
    "average_scores.plot(kind='bar', alpha=0.9)\n",
    "\n",
    "plt.title(\"Average Score for Each Movie Critic Site\", fontsize=20)\n",
    "plt.xticks(rotation=0)\n",
    "plt.ylim(0, 100) \n",
    "chart_theme()\n",
    "plt.show()"
   ]
  },
  {
   "cell_type": "markdown",
   "id": "b50eb05d",
   "metadata": {},
   "source": [
    "It is clear that Fandango has higher than average movie ratings for new releases. While their score is based on user ratings, we see that they have the following disclaimer for the verified Audience Score they use.\n",
    "\n",
    "<img src=\"demos/fandango_barbie.png\" alt=\"verified audience score info\">"
   ]
  },
  {
   "cell_type": "markdown",
   "id": "c95a179a",
   "metadata": {},
   "source": [
    "The above contains recent ratings for the new Barbie movie, some tagged as Verified and others not. The Audience Score implies that unverified ratings are not included. To be able to provide a Verified rating, the user not only needs to have a Rotten Tomatoes account but also verify they bought a ticket for that movie:\n",
    "\n",
    "<img src=\"demos/rotten_tomatoes_audience_score.png\" alt=\"audience score definition\">"
   ]
  },
  {
   "cell_type": "code",
   "execution_count": 26,
   "id": "5fa8e89c",
   "metadata": {},
   "outputs": [
    {
     "data": {
      "image/png": "[encoded data removed]",
      "text/plain": [
       "<Figure size 800x400 with 1 Axes>"
      ]
     },
     "metadata": {},
     "output_type": "display_data"
    }
   ],
   "source": [
    "plt.figure(figsize=(8, 4))\n",
    "bins = range(0, 101, 10)\n",
    "plt.hist(all_ratings['Average Score'], bins=bins, alpha=0.7)\n",
    "plt.suptitle(\"Histogram of Average Ratings\", fontsize=20, y=.93)\n",
    "plt.title(f\"For {len(all_ratings)} New Releases Rated by All 4 Movie Critics\")\n",
    "plt.xticks(bins)\n",
    "chart_theme()\n",
    "plt.show()"
   ]
  },
  {
   "cell_type": "markdown",
   "id": "1e1f12f7",
   "metadata": {},
   "source": [
    "It is clear across all movie critic sites that the majority of new releases rated by all four movie critics are rated more highly than poorly, most of them between a rating of 70-80."
   ]
  },
  {
   "cell_type": "code",
   "execution_count": 27,
   "id": "acd9e789",
   "metadata": {},
   "outputs": [
    {
     "data": {
      "image/png": "[encoded data removed]",
      "text/plain": [
       "<Figure size 800x400 with 1 Axes>"
      ]
     },
     "metadata": {},
     "output_type": "display_data"
    }
   ],
   "source": [
    "plt.figure(figsize=(8, 4))\n",
    "bins = range(0, 101, 10)\n",
    "plt.hist(df['Average Score'], bins=bins, alpha=0.7)\n",
    "plt.suptitle(\"Histogram of Average Ratings\", fontsize=20, y=.93)\n",
    "plt.title(f\"For {len(df)} New Movie Releases in Theaters\")\n",
    "plt.xticks(bins)\n",
    "chart_theme()\n",
    "plt.show()"
   ]
  },
  {
   "cell_type": "markdown",
   "id": "5681b7ef",
   "metadata": {},
   "source": [
    "We demonstrate why we performed our analysis using movies that were rated by all four movie critics with the chart above. For new releases in general, the plot is skewed heavily to the left as the counts represent the number of movies with at least two or more critic ratings."
   ]
  }
 ],
 "metadata": {
  "kernelspec": {
   "display_name": "Python 3 (ipykernel)",
   "language": "python",
   "name": "python3"
  },
  "language_info": {
   "codemirror_mode": {
    "name": "ipython",
    "version": 3
   },
   "file_extension": ".py",
   "mimetype": "text/x-python",
   "name": "python",
   "nbconvert_exporter": "python",
   "pygments_lexer": "ipython3",
   "version": "3.11.3"
  }
 },
 "nbformat": 4,
 "nbformat_minor": 5
}
